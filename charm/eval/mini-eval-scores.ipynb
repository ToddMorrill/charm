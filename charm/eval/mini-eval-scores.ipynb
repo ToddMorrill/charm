{
 "cells": [
  {
   "cell_type": "code",
   "execution_count": 1,
   "id": "b554d073-bd60-4f5b-af65-315f056e6ee5",
   "metadata": {},
   "outputs": [],
   "source": [
    "import os\n",
    "\n",
    "import pandas as pd"
   ]
  },
  {
   "cell_type": "code",
   "execution_count": 7,
   "id": "6f37b4b4-c39d-4796-b57b-3f8b3803900c",
   "metadata": {},
   "outputs": [],
   "source": [
    "score_dir = '/home/iron-man/Documents/data/charm/transformed/scores'\n",
    "\n",
    "scores_df = pd.DataFrame()\n",
    "for submission in os.listdir(score_dir):\n",
    "    submission_dir = os.path.join(score_dir, submission)\n",
    "    if not os.path.isdir(submission_dir):\n",
    "        continue\n",
    "    temp_df = pd.read_csv(os.path.join(submission_dir, 'scores_by_class.tab'), delimiter='\\t')\n",
    "    temp_df['submission'] = submission\n",
    "    scores_df = pd.concat((scores_df, temp_df))"
   ]
  },
  {
   "cell_type": "code",
   "execution_count": 14,
   "id": "797dda4c-8ba0-45dc-8fb4-23d54039243e",
   "metadata": {},
   "outputs": [],
   "source": [
    "scores_df = scores_df.pivot(index='submission', columns='genre', values='value')"
   ]
  },
  {
   "cell_type": "code",
   "execution_count": 17,
   "id": "794f3ba7-cdc9-44af-94e7-8b25868c6762",
   "metadata": {},
   "outputs": [],
   "source": [
    "scores_df = scores_df.reset_index()"
   ]
  },
  {
   "cell_type": "code",
   "execution_count": 18,
   "id": "5771fb4f-8744-4a4f-898d-e1bea9fbb106",
   "metadata": {},
   "outputs": [
    {
     "data": {
      "text/html": [
       "<div>\n",
       "<style scoped>\n",
       "    .dataframe tbody tr th:only-of-type {\n",
       "        vertical-align: middle;\n",
       "    }\n",
       "\n",
       "    .dataframe tbody tr th {\n",
       "        vertical-align: top;\n",
       "    }\n",
       "\n",
       "    .dataframe thead th {\n",
       "        text-align: right;\n",
       "    }\n",
       "</style>\n",
       "<table border=\"1\" class=\"dataframe\">\n",
       "  <thead>\n",
       "    <tr style=\"text-align: right;\">\n",
       "      <th>genre</th>\n",
       "      <th>submission</th>\n",
       "      <th>audio</th>\n",
       "      <th>text</th>\n",
       "      <th>video</th>\n",
       "    </tr>\n",
       "  </thead>\n",
       "  <tbody>\n",
       "    <tr>\n",
       "      <th>0</th>\n",
       "      <td>CCU_P1_TA1_CD_COL_LDC2022E22-V1_20221121_124602</td>\n",
       "      <td>0.025017</td>\n",
       "      <td>0.102782</td>\n",
       "      <td>0.028940</td>\n",
       "    </tr>\n",
       "    <tr>\n",
       "      <th>1</th>\n",
       "      <td>CCU_P1_TA1_CD_COL_LDC2022E22-V1_20221121_124808</td>\n",
       "      <td>0.038248</td>\n",
       "      <td>0.113577</td>\n",
       "      <td>0.029749</td>\n",
       "    </tr>\n",
       "    <tr>\n",
       "      <th>2</th>\n",
       "      <td>CCU_P1_TA1_CD_COL_LDC2022E22-V1_20221121_124911</td>\n",
       "      <td>0.035704</td>\n",
       "      <td>0.110131</td>\n",
       "      <td>0.029372</td>\n",
       "    </tr>\n",
       "    <tr>\n",
       "      <th>3</th>\n",
       "      <td>CCU_P1_TA1_CD_COL_LDC2022E22-V1_20221121_125014</td>\n",
       "      <td>0.027745</td>\n",
       "      <td>0.122646</td>\n",
       "      <td>0.033062</td>\n",
       "    </tr>\n",
       "    <tr>\n",
       "      <th>4</th>\n",
       "      <td>CCU_P1_TA1_CD_COL_LDC2022E22-V1_20221128_114320</td>\n",
       "      <td>0.031283</td>\n",
       "      <td>0.149939</td>\n",
       "      <td>0.034377</td>\n",
       "    </tr>\n",
       "    <tr>\n",
       "      <th>5</th>\n",
       "      <td>CCU_P1_TA1_CD_COL_LDC2022E22-V1_20221128_150559</td>\n",
       "      <td>0.031283</td>\n",
       "      <td>0.149939</td>\n",
       "      <td>0.034379</td>\n",
       "    </tr>\n",
       "  </tbody>\n",
       "</table>\n",
       "</div>"
      ],
      "text/plain": [
       "genre                                       submission     audio      text  \\\n",
       "0      CCU_P1_TA1_CD_COL_LDC2022E22-V1_20221121_124602  0.025017  0.102782   \n",
       "1      CCU_P1_TA1_CD_COL_LDC2022E22-V1_20221121_124808  0.038248  0.113577   \n",
       "2      CCU_P1_TA1_CD_COL_LDC2022E22-V1_20221121_124911  0.035704  0.110131   \n",
       "3      CCU_P1_TA1_CD_COL_LDC2022E22-V1_20221121_125014  0.027745  0.122646   \n",
       "4      CCU_P1_TA1_CD_COL_LDC2022E22-V1_20221128_114320  0.031283  0.149939   \n",
       "5      CCU_P1_TA1_CD_COL_LDC2022E22-V1_20221128_150559  0.031283  0.149939   \n",
       "\n",
       "genre     video  \n",
       "0      0.028940  \n",
       "1      0.029749  \n",
       "2      0.029372  \n",
       "3      0.033062  \n",
       "4      0.034377  \n",
       "5      0.034379  "
      ]
     },
     "execution_count": 18,
     "metadata": {},
     "output_type": "execute_result"
    }
   ],
   "source": [
    "scores_df"
   ]
  },
  {
   "cell_type": "code",
   "execution_count": 20,
   "id": "80bb6dae-0fc8-4fcd-a696-3c3b511232ea",
   "metadata": {},
   "outputs": [
    {
     "data": {
      "text/plain": [
       "'CCU_P1_TA1_CD_COL_LDC2022E22-V1_20221121_124911'"
      ]
     },
     "execution_count": 20,
     "metadata": {},
     "output_type": "execute_result"
    }
   ],
   "source": [
    "scores_df.loc[2]['submission']"
   ]
  },
  {
   "cell_type": "code",
   "execution_count": 22,
   "id": "486b835c-c18c-4980-a6de-461e973bf6b6",
   "metadata": {},
   "outputs": [],
   "source": [
    "system_map = {'CCU_P1_TA1_CD_COL_LDC2022E22-V1_20221121_124602': 'entrainment-entrainment_mandarin-4-0.06', \n",
    "              'CCU_P1_TA1_CD_COL_LDC2022E22-V1_20221121_124808': 'entrainment-entrainment_mandarin-4-0.07',\n",
    "              'CCU_P1_TA1_CD_COL_LDC2022E22-V1_20221121_124911': 'entrainment_emotion_disgust-entrainment_mandarin-4-0.05', \n",
    "              'CCU_P1_TA1_CD_COL_LDC2022E22-V1_20221121_125014': 'entrainment_emotion_disgust_fear-entrainment_mandarin-4-0.04'}\n",
    "scores_df['system'] = scores_df['submission'].apply(lambda x: system_map[x] if x in system_map else x)"
   ]
  },
  {
   "cell_type": "code",
   "execution_count": 24,
   "id": "e3bed6b4-0886-485e-a5c9-1e1cc054c4fe",
   "metadata": {},
   "outputs": [],
   "source": [
    "scores_df = scores_df[['system', 'audio', 'video', 'text', 'submission']]"
   ]
  },
  {
   "cell_type": "code",
   "execution_count": 27,
   "id": "83892c7a-da80-429a-896b-b055076a1f72",
   "metadata": {},
   "outputs": [],
   "source": [
    "scores_df = scores_df.sort_values(by='video')"
   ]
  },
  {
   "cell_type": "code",
   "execution_count": 29,
   "id": "4ec29145-3388-44c0-90ac-9ba7b24bba41",
   "metadata": {},
   "outputs": [],
   "source": [
    "# save back to scores dir\n",
    "scores_df.to_csv(os.path.join(score_dir, 'mini_eval_cd_scores.csv'), index=False)"
   ]
  },
  {
   "cell_type": "code",
   "execution_count": null,
   "id": "08cd845c-eb15-40a3-878e-54e0cb27efb1",
   "metadata": {},
   "outputs": [],
   "source": []
  }
 ],
 "metadata": {
  "kernelspec": {
   "display_name": "Python (CHARM)",
   "language": "python",
   "name": "charm"
  },
  "language_info": {
   "codemirror_mode": {
    "name": "ipython",
    "version": 3
   },
   "file_extension": ".py",
   "mimetype": "text/x-python",
   "name": "python",
   "nbconvert_exporter": "python",
   "pygments_lexer": "ipython3",
   "version": "3.10.6"
  }
 },
 "nbformat": 4,
 "nbformat_minor": 5
}
