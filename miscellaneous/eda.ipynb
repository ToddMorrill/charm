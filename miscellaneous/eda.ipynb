{
 "cells": [
  {
   "cell_type": "markdown",
   "id": "52d70db5-2545-4ee9-8162-a0743985da5d",
   "metadata": {},
   "source": [
    "# Prepare a sample from the BOLT text message corpus for Amazon Mechanical Turk labeling"
   ]
  },
  {
   "cell_type": "code",
   "execution_count": 1,
   "id": "3302a994-d1e0-4e29-b055-df1f997b932f",
   "metadata": {},
   "outputs": [],
   "source": [
    "import os\n",
    "\n",
    "import pandas as pd\n",
    "import xmltodict"
   ]
  },
  {
   "cell_type": "code",
   "execution_count": 2,
   "id": "64ab0f71-66c1-4e5a-8fc8-0493bbf10393",
   "metadata": {},
   "outputs": [],
   "source": [
    "ltf_dir = '/Users/tmorrill002/Documents/datasets/charm/raw/ltf'\n",
    "psm_dir = '/Users/tmorrill002/Documents/datasets/charm/raw/psm'"
   ]
  },
  {
   "cell_type": "code",
   "execution_count": 3,
   "id": "dd1dcd42-3b6a-439a-af5c-d9966277c5ab",
   "metadata": {},
   "outputs": [],
   "source": [
    "def load_conversation(ltf_file, psm_file, ltf_dir, psm_dir):\n",
    "    ltf_file = os.path.join(ltf_dir, ltf_file)\n",
    "    psm_file = os.path.join(psm_dir, psm_file)\n",
    "    with open(ltf_file, 'r') as f:\n",
    "        ltf_content = f.read()\n",
    "    \n",
    "    try:\n",
    "        with open(psm_file, 'r') as f:\n",
    "            psm_content = f.read()\n",
    "    except FileNotFoundError:\n",
    "        psm_content = False\n",
    "    return ltf_content, psm_content\n",
    "\n",
    "def unpack_attributes(attribute):\n",
    "    attr_dict = {}\n",
    "    for attr in attribute:\n",
    "        attr_dict[attr['@name']] = attr['@value']\n",
    "    return attr_dict\n",
    "\n",
    "def merge_metadata(ltf_content, psm_content):\n",
    "    ltf = xmltodict.parse(ltf_content)\n",
    "    psm = xmltodict.parse(psm_content)\n",
    "    \n",
    "    # filter psm list to message attributes\n",
    "    message_attr = []\n",
    "    for d in psm['psm']['string']:\n",
    "        if d['@type'] == 'message':\n",
    "            message_attr.append(d)\n",
    "    \n",
    "    # unpack the message attributes\n",
    "    psm_df = pd.DataFrame(message_attr)\n",
    "    psm_attr_df = pd.DataFrame(psm_df['attribute'].apply(unpack_attributes).values.tolist())\n",
    "    \n",
    "    psm_df = pd.concat((psm_df.drop(columns=['attribute']), psm_attr_df), axis=1)\n",
    "    \n",
    "    ltf_df = pd.DataFrame(ltf['LCTL_TEXT']['DOC']['TEXT']['SEG'])\n",
    "    \n",
    "    # join ltf and psm on start_char\n",
    "    df = pd.merge(ltf_df, psm_df, left_on='@start_char', right_on='@begin_offset', how='left')\n",
    "    \n",
    "    # filter out messages where content length is 0 for a clean inner join\n",
    "    df = df[df['@char_length'] != '0'].reset_index(drop=True)\n",
    "    assert (len(df) == len(ltf_df))\n",
    "    # may still be missing attributes for each message\n",
    "    return df"
   ]
  },
  {
   "cell_type": "code",
   "execution_count": 4,
   "id": "a3931d4c-9323-40df-bafb-1cbfa817e09f",
   "metadata": {},
   "outputs": [],
   "source": [
    "ltf_files = [f for f in os.listdir(ltf_dir) if f != '.DS_Store']\n",
    "psm_files = [f for f in os.listdir(psm_dir) if f != '.DS_Store']"
   ]
  },
  {
   "cell_type": "code",
   "execution_count": 5,
   "id": "e8a58915-3b9c-4aca-a987-7364d4b8db61",
   "metadata": {},
   "outputs": [
    {
     "data": {
      "text/plain": [
       "976"
      ]
     },
     "execution_count": 5,
     "metadata": {},
     "output_type": "execute_result"
    }
   ],
   "source": [
    "len(ltf_files)"
   ]
  },
  {
   "cell_type": "code",
   "execution_count": 6,
   "id": "ae1aa947-b5db-4d46-beef-cb937e421b9e",
   "metadata": {},
   "outputs": [
    {
     "data": {
      "text/plain": [
       "976"
      ]
     },
     "execution_count": 6,
     "metadata": {},
     "output_type": "execute_result"
    }
   ],
   "source": [
    "len(psm_files)"
   ]
  },
  {
   "cell_type": "code",
   "execution_count": 7,
   "id": "1ce5d1c6-16bc-404d-861d-717847cb377d",
   "metadata": {},
   "outputs": [],
   "source": [
    "dfs = []\n",
    "errors = []\n",
    "for ltf_file in ltf_files:\n",
    "    psm_file = ltf_file.replace('ltf', 'psm')\n",
    "    ltf_content, psm_content = load_conversation(ltf_file, psm_file, ltf_dir, psm_dir)\n",
    "    if psm_content == False:\n",
    "        errors.append((ltf_file, psm_file, 'PSM file not found'))\n",
    "        continue\n",
    "    df = merge_metadata(ltf_content, psm_content)\n",
    "    \n",
    "    if len(df[df['participant'].isna()]) > 0:\n",
    "        errors.append((ltf_file, psm_file, 'Attributes missing'))\n",
    "        continue\n",
    "    \n",
    "    # retain filename\n",
    "    df.insert(0, 'filename', ltf_file)\n",
    "    dfs.append(df)"
   ]
  },
  {
   "cell_type": "code",
   "execution_count": 8,
   "id": "522f4128-41a4-4cce-bb40-5d2713c3172a",
   "metadata": {},
   "outputs": [],
   "source": [
    "error_df = pd.DataFrame(errors, columns=['ltf_file', 'psm_file', 'error'])"
   ]
  },
  {
   "cell_type": "code",
   "execution_count": 9,
   "id": "085dd5ad-21cc-49a1-aca4-2d100b450537",
   "metadata": {},
   "outputs": [
    {
     "data": {
      "text/plain": [
       "Attributes missing    2\n",
       "Name: error, dtype: int64"
      ]
     },
     "execution_count": 9,
     "metadata": {},
     "output_type": "execute_result"
    }
   ],
   "source": [
    "error_df['error'].value_counts()"
   ]
  },
  {
   "cell_type": "code",
   "execution_count": 10,
   "id": "95cc4e5e-0abe-41af-ba5e-9f097895c336",
   "metadata": {},
   "outputs": [
    {
     "data": {
      "text/plain": [
       "974"
      ]
     },
     "execution_count": 10,
     "metadata": {},
     "output_type": "execute_result"
    }
   ],
   "source": [
    "len(dfs)"
   ]
  },
  {
   "cell_type": "markdown",
   "id": "004c345b-67a8-4010-a4cb-635d0a1bd023",
   "metadata": {},
   "source": [
    "### Descriptive statistics\n",
    "- distribution of conversation length\n",
    "- distribution of utterance length\n",
    "- distribution of conversation duration (could be useful for breaking conversations up)\n",
    "- number of speakers\n",
    "- dist of number of speakers per convo\n",
    "- dist of number of turns per speaker per convo"
   ]
  },
  {
   "cell_type": "code",
   "execution_count": 11,
   "id": "0354dbe1-9400-4446-ae84-e1c2d841731f",
   "metadata": {},
   "outputs": [],
   "source": [
    "df = pd.concat(dfs)\n",
    "df = df.reset_index(drop=True)"
   ]
  },
  {
   "cell_type": "code",
   "execution_count": 12,
   "id": "e7db9a93-582f-4737-98c9-077c8817ca93",
   "metadata": {},
   "outputs": [
    {
     "data": {
      "text/plain": [
       "974"
      ]
     },
     "execution_count": 12,
     "metadata": {},
     "output_type": "execute_result"
    }
   ],
   "source": [
    "# number of conversations\n",
    "df['filename'].nunique()"
   ]
  },
  {
   "cell_type": "code",
   "execution_count": 13,
   "id": "20f1ead5-5df7-452c-be7d-0682561d7080",
   "metadata": {},
   "outputs": [],
   "source": [
    "# distribution of conversation length\n",
    "turn_counts = df.groupby('filename').agg(**{'turn_count':('@id', 'count')})"
   ]
  },
  {
   "cell_type": "code",
   "execution_count": 14,
   "id": "ba5b5abf-691a-4d10-95f7-46fd694c1d6c",
   "metadata": {},
   "outputs": [
    {
     "data": {
      "text/html": [
       "<div>\n",
       "<style scoped>\n",
       "    .dataframe tbody tr th:only-of-type {\n",
       "        vertical-align: middle;\n",
       "    }\n",
       "\n",
       "    .dataframe tbody tr th {\n",
       "        vertical-align: top;\n",
       "    }\n",
       "\n",
       "    .dataframe thead th {\n",
       "        text-align: right;\n",
       "    }\n",
       "</style>\n",
       "<table border=\"1\" class=\"dataframe\">\n",
       "  <thead>\n",
       "    <tr style=\"text-align: right;\">\n",
       "      <th></th>\n",
       "      <th>turn_count</th>\n",
       "    </tr>\n",
       "  </thead>\n",
       "  <tbody>\n",
       "    <tr>\n",
       "      <th>count</th>\n",
       "      <td>974.000000</td>\n",
       "    </tr>\n",
       "    <tr>\n",
       "      <th>mean</th>\n",
       "      <td>106.039014</td>\n",
       "    </tr>\n",
       "    <tr>\n",
       "      <th>std</th>\n",
       "      <td>81.991555</td>\n",
       "    </tr>\n",
       "    <tr>\n",
       "      <th>min</th>\n",
       "      <td>7.000000</td>\n",
       "    </tr>\n",
       "    <tr>\n",
       "      <th>25%</th>\n",
       "      <td>58.000000</td>\n",
       "    </tr>\n",
       "    <tr>\n",
       "      <th>50%</th>\n",
       "      <td>80.000000</td>\n",
       "    </tr>\n",
       "    <tr>\n",
       "      <th>75%</th>\n",
       "      <td>125.000000</td>\n",
       "    </tr>\n",
       "    <tr>\n",
       "      <th>max</th>\n",
       "      <td>753.000000</td>\n",
       "    </tr>\n",
       "  </tbody>\n",
       "</table>\n",
       "</div>"
      ],
      "text/plain": [
       "       turn_count\n",
       "count  974.000000\n",
       "mean   106.039014\n",
       "std     81.991555\n",
       "min      7.000000\n",
       "25%     58.000000\n",
       "50%     80.000000\n",
       "75%    125.000000\n",
       "max    753.000000"
      ]
     },
     "execution_count": 14,
     "metadata": {},
     "output_type": "execute_result"
    }
   ],
   "source": [
    "# most conversations are about 82 turns\n",
    "turn_counts.describe()"
   ]
  },
  {
   "cell_type": "code",
   "execution_count": 15,
   "id": "0c7529e0-599c-4ae3-9deb-c16e8d013b5c",
   "metadata": {},
   "outputs": [
    {
     "data": {
      "text/html": [
       "<div>\n",
       "<style scoped>\n",
       "    .dataframe tbody tr th:only-of-type {\n",
       "        vertical-align: middle;\n",
       "    }\n",
       "\n",
       "    .dataframe tbody tr th {\n",
       "        vertical-align: top;\n",
       "    }\n",
       "\n",
       "    .dataframe thead th {\n",
       "        text-align: right;\n",
       "    }\n",
       "</style>\n",
       "<table border=\"1\" class=\"dataframe\">\n",
       "  <thead>\n",
       "    <tr style=\"text-align: right;\">\n",
       "      <th></th>\n",
       "      <th>ORIGINAL_TEXT</th>\n",
       "    </tr>\n",
       "  </thead>\n",
       "  <tbody>\n",
       "    <tr>\n",
       "      <th>count</th>\n",
       "      <td>103282.000000</td>\n",
       "    </tr>\n",
       "    <tr>\n",
       "      <th>mean</th>\n",
       "      <td>10.374867</td>\n",
       "    </tr>\n",
       "    <tr>\n",
       "      <th>std</th>\n",
       "      <td>10.796316</td>\n",
       "    </tr>\n",
       "    <tr>\n",
       "      <th>min</th>\n",
       "      <td>1.000000</td>\n",
       "    </tr>\n",
       "    <tr>\n",
       "      <th>25%</th>\n",
       "      <td>4.000000</td>\n",
       "    </tr>\n",
       "    <tr>\n",
       "      <th>50%</th>\n",
       "      <td>8.000000</td>\n",
       "    </tr>\n",
       "    <tr>\n",
       "      <th>75%</th>\n",
       "      <td>13.000000</td>\n",
       "    </tr>\n",
       "    <tr>\n",
       "      <th>max</th>\n",
       "      <td>666.000000</td>\n",
       "    </tr>\n",
       "  </tbody>\n",
       "</table>\n",
       "</div>"
      ],
      "text/plain": [
       "       ORIGINAL_TEXT\n",
       "count  103282.000000\n",
       "mean       10.374867\n",
       "std        10.796316\n",
       "min         1.000000\n",
       "25%         4.000000\n",
       "50%         8.000000\n",
       "75%        13.000000\n",
       "max       666.000000"
      ]
     },
     "execution_count": 15,
     "metadata": {},
     "output_type": "execute_result"
    }
   ],
   "source": [
    "# most utterances are about 8 characters\n",
    "df['ORIGINAL_TEXT'].apply(len).to_frame().describe()"
   ]
  },
  {
   "cell_type": "code",
   "execution_count": 16,
   "id": "10531d64-dcd2-4e46-9b72-e87a914cc8fe",
   "metadata": {},
   "outputs": [
    {
     "data": {
      "text/plain": [
       "count     974.000000\n",
       "mean      451.410181\n",
       "std       512.702620\n",
       "min         0.000000\n",
       "25%        50.287500\n",
       "50%       174.150000\n",
       "75%       813.462500\n",
       "max      1439.983333\n",
       "Name: minutes, dtype: float64"
      ]
     },
     "execution_count": 16,
     "metadata": {},
     "output_type": "execute_result"
    }
   ],
   "source": [
    "# conversation duration typically about 3 hours\n",
    "df['time'] = pd.to_datetime(df['time'])\n",
    "duration_df = df.groupby('filename').agg(**{'start_time': ('time', 'min'), 'end_time': ('time', 'max')})\n",
    "\n",
    "duration_df['diff'] = duration_df['end_time'] - duration_df['start_time']\n",
    "duration_df['minutes'] = duration_df['diff'].apply(lambda x: x.seconds / 60)\n",
    "\n",
    "duration_df['minutes'].describe()"
   ]
  },
  {
   "cell_type": "code",
   "execution_count": 17,
   "id": "7e5fd5ef-8312-45a2-ba3f-546f47c66dd5",
   "metadata": {},
   "outputs": [],
   "source": [
    "# TODO: investigate natural split points in the conversation for notions of\n",
    "# intra/inter conversational communcation change points"
   ]
  },
  {
   "cell_type": "code",
   "execution_count": 18,
   "id": "892d0467-c7d9-4b2e-a821-36b03b6aab86",
   "metadata": {},
   "outputs": [
    {
     "data": {
      "text/plain": [
       "528"
      ]
     },
     "execution_count": 18,
     "metadata": {},
     "output_type": "execute_result"
    }
   ],
   "source": [
    "# fewer speakers than conversations\n",
    "df['participant'].nunique()"
   ]
  },
  {
   "cell_type": "code",
   "execution_count": 19,
   "id": "9a2930a3-5cd8-4c72-86a7-17fe472e5981",
   "metadata": {},
   "outputs": [
    {
     "data": {
      "text/html": [
       "<div>\n",
       "<style scoped>\n",
       "    .dataframe tbody tr th:only-of-type {\n",
       "        vertical-align: middle;\n",
       "    }\n",
       "\n",
       "    .dataframe tbody tr th {\n",
       "        vertical-align: top;\n",
       "    }\n",
       "\n",
       "    .dataframe thead th {\n",
       "        text-align: right;\n",
       "    }\n",
       "</style>\n",
       "<table border=\"1\" class=\"dataframe\">\n",
       "  <thead>\n",
       "    <tr style=\"text-align: right;\">\n",
       "      <th></th>\n",
       "      <th>participant_count</th>\n",
       "    </tr>\n",
       "  </thead>\n",
       "  <tbody>\n",
       "    <tr>\n",
       "      <th>count</th>\n",
       "      <td>974.000000</td>\n",
       "    </tr>\n",
       "    <tr>\n",
       "      <th>mean</th>\n",
       "      <td>2.006160</td>\n",
       "    </tr>\n",
       "    <tr>\n",
       "      <th>std</th>\n",
       "      <td>0.192252</td>\n",
       "    </tr>\n",
       "    <tr>\n",
       "      <th>min</th>\n",
       "      <td>2.000000</td>\n",
       "    </tr>\n",
       "    <tr>\n",
       "      <th>25%</th>\n",
       "      <td>2.000000</td>\n",
       "    </tr>\n",
       "    <tr>\n",
       "      <th>50%</th>\n",
       "      <td>2.000000</td>\n",
       "    </tr>\n",
       "    <tr>\n",
       "      <th>75%</th>\n",
       "      <td>2.000000</td>\n",
       "    </tr>\n",
       "    <tr>\n",
       "      <th>max</th>\n",
       "      <td>8.000000</td>\n",
       "    </tr>\n",
       "  </tbody>\n",
       "</table>\n",
       "</div>"
      ],
      "text/plain": [
       "       participant_count\n",
       "count         974.000000\n",
       "mean            2.006160\n",
       "std             0.192252\n",
       "min             2.000000\n",
       "25%             2.000000\n",
       "50%             2.000000\n",
       "75%             2.000000\n",
       "max             8.000000"
      ]
     },
     "execution_count": 19,
     "metadata": {},
     "output_type": "execute_result"
    }
   ],
   "source": [
    "# 2 speakers per convo\n",
    "participants_df = df.groupby('filename').agg(**{'participant_count': ('participant', 'nunique')})\n",
    "participants_df.describe()"
   ]
  },
  {
   "cell_type": "code",
   "execution_count": 20,
   "id": "12d3b202-5346-4f16-99f9-2190a1bcb8ff",
   "metadata": {},
   "outputs": [
    {
     "data": {
      "text/html": [
       "<div>\n",
       "<style scoped>\n",
       "    .dataframe tbody tr th:only-of-type {\n",
       "        vertical-align: middle;\n",
       "    }\n",
       "\n",
       "    .dataframe tbody tr th {\n",
       "        vertical-align: top;\n",
       "    }\n",
       "\n",
       "    .dataframe thead th {\n",
       "        text-align: right;\n",
       "    }\n",
       "</style>\n",
       "<table border=\"1\" class=\"dataframe\">\n",
       "  <thead>\n",
       "    <tr style=\"text-align: right;\">\n",
       "      <th></th>\n",
       "      <th>participant_count</th>\n",
       "    </tr>\n",
       "    <tr>\n",
       "      <th>filename</th>\n",
       "      <th></th>\n",
       "    </tr>\n",
       "  </thead>\n",
       "  <tbody>\n",
       "    <tr>\n",
       "      <th>M01000GNK.ltf.xml</th>\n",
       "      <td>8</td>\n",
       "    </tr>\n",
       "  </tbody>\n",
       "</table>\n",
       "</div>"
      ],
      "text/plain": [
       "                   participant_count\n",
       "filename                            \n",
       "M01000GNK.ltf.xml                  8"
      ]
     },
     "execution_count": 20,
     "metadata": {},
     "output_type": "execute_result"
    }
   ],
   "source": [
    "# one conversation with 8 participants\n",
    "participants_df[participants_df['participant_count'].apply(lambda x: x>2)]"
   ]
  },
  {
   "cell_type": "code",
   "execution_count": 21,
   "id": "2b566710-7528-4a9c-a5d9-a19e0f863d36",
   "metadata": {},
   "outputs": [],
   "source": [
    "# number of turns per speaker per convo\n",
    "turn_df = df.groupby(['filename', 'participant']).agg(**{'turn_count': ('participant', 'count')})"
   ]
  },
  {
   "cell_type": "code",
   "execution_count": 22,
   "id": "7a17737b-7543-46eb-912e-722df59699e6",
   "metadata": {},
   "outputs": [],
   "source": [
    "turn_df = turn_df.groupby('filename').agg(**{'turn_counts':('turn_count', list)})"
   ]
  },
  {
   "cell_type": "code",
   "execution_count": 23,
   "id": "73abbcf2-8a9b-4c56-96a6-499b8ceff777",
   "metadata": {},
   "outputs": [],
   "source": [
    "# remove convos with more than 2 participants\n",
    "turn_df = turn_df[turn_df['turn_counts'].apply(lambda x: len(x) == 2)]"
   ]
  },
  {
   "cell_type": "code",
   "execution_count": 24,
   "id": "abc67134-68e6-4594-b999-6b0852555edf",
   "metadata": {},
   "outputs": [],
   "source": [
    "turn_df['max_pct'] = turn_df['turn_counts'].apply(lambda x: max(x) / sum(x))"
   ]
  },
  {
   "cell_type": "code",
   "execution_count": 25,
   "id": "2f7f9920-87c8-4b07-9bc3-71940b5fa5e6",
   "metadata": {},
   "outputs": [],
   "source": [
    "turn_df['min_pct'] = 1 - turn_df['max_pct']"
   ]
  },
  {
   "cell_type": "code",
   "execution_count": 26,
   "id": "9738d045-d64f-4ee3-ab55-8aec6040310f",
   "metadata": {},
   "outputs": [
    {
     "data": {
      "text/html": [
       "<div>\n",
       "<style scoped>\n",
       "    .dataframe tbody tr th:only-of-type {\n",
       "        vertical-align: middle;\n",
       "    }\n",
       "\n",
       "    .dataframe tbody tr th {\n",
       "        vertical-align: top;\n",
       "    }\n",
       "\n",
       "    .dataframe thead th {\n",
       "        text-align: right;\n",
       "    }\n",
       "</style>\n",
       "<table border=\"1\" class=\"dataframe\">\n",
       "  <thead>\n",
       "    <tr style=\"text-align: right;\">\n",
       "      <th></th>\n",
       "      <th>max_pct</th>\n",
       "      <th>min_pct</th>\n",
       "    </tr>\n",
       "  </thead>\n",
       "  <tbody>\n",
       "    <tr>\n",
       "      <th>count</th>\n",
       "      <td>973.000000</td>\n",
       "      <td>973.000000</td>\n",
       "    </tr>\n",
       "    <tr>\n",
       "      <th>mean</th>\n",
       "      <td>0.579276</td>\n",
       "      <td>0.420724</td>\n",
       "    </tr>\n",
       "    <tr>\n",
       "      <th>std</th>\n",
       "      <td>0.066457</td>\n",
       "      <td>0.066457</td>\n",
       "    </tr>\n",
       "    <tr>\n",
       "      <th>min</th>\n",
       "      <td>0.500000</td>\n",
       "      <td>0.017544</td>\n",
       "    </tr>\n",
       "    <tr>\n",
       "      <th>25%</th>\n",
       "      <td>0.529851</td>\n",
       "      <td>0.390071</td>\n",
       "    </tr>\n",
       "    <tr>\n",
       "      <th>50%</th>\n",
       "      <td>0.567568</td>\n",
       "      <td>0.432432</td>\n",
       "    </tr>\n",
       "    <tr>\n",
       "      <th>75%</th>\n",
       "      <td>0.609929</td>\n",
       "      <td>0.470149</td>\n",
       "    </tr>\n",
       "    <tr>\n",
       "      <th>max</th>\n",
       "      <td>0.982456</td>\n",
       "      <td>0.500000</td>\n",
       "    </tr>\n",
       "  </tbody>\n",
       "</table>\n",
       "</div>"
      ],
      "text/plain": [
       "          max_pct     min_pct\n",
       "count  973.000000  973.000000\n",
       "mean     0.579276    0.420724\n",
       "std      0.066457    0.066457\n",
       "min      0.500000    0.017544\n",
       "25%      0.529851    0.390071\n",
       "50%      0.567568    0.432432\n",
       "75%      0.609929    0.470149\n",
       "max      0.982456    0.500000"
      ]
     },
     "execution_count": 26,
     "metadata": {},
     "output_type": "execute_result"
    }
   ],
   "source": [
    "# typically one speaker does more of the talking\n",
    "turn_df.describe()"
   ]
  },
  {
   "cell_type": "markdown",
   "id": "fdfb7510-f8a9-4c90-80e1-63f2a0a0d726",
   "metadata": {},
   "source": [
    "### Select a representative conversation for annotation"
   ]
  },
  {
   "cell_type": "code",
   "execution_count": 27,
   "id": "eb841671-e562-4613-b58c-3751c31a684b",
   "metadata": {},
   "outputs": [
    {
     "data": {
      "text/html": [
       "<div>\n",
       "<style scoped>\n",
       "    .dataframe tbody tr th:only-of-type {\n",
       "        vertical-align: middle;\n",
       "    }\n",
       "\n",
       "    .dataframe tbody tr th {\n",
       "        vertical-align: top;\n",
       "    }\n",
       "\n",
       "    .dataframe thead th {\n",
       "        text-align: right;\n",
       "    }\n",
       "</style>\n",
       "<table border=\"1\" class=\"dataframe\">\n",
       "  <thead>\n",
       "    <tr style=\"text-align: right;\">\n",
       "      <th></th>\n",
       "      <th>turn_count</th>\n",
       "    </tr>\n",
       "    <tr>\n",
       "      <th>filename</th>\n",
       "      <th></th>\n",
       "    </tr>\n",
       "  </thead>\n",
       "  <tbody>\n",
       "    <tr>\n",
       "      <th>M01000GE6.ltf.xml</th>\n",
       "      <td>82</td>\n",
       "    </tr>\n",
       "    <tr>\n",
       "      <th>M01000GEW.ltf.xml</th>\n",
       "      <td>82</td>\n",
       "    </tr>\n",
       "    <tr>\n",
       "      <th>M01000GFQ.ltf.xml</th>\n",
       "      <td>82</td>\n",
       "    </tr>\n",
       "    <tr>\n",
       "      <th>M01000GH1.ltf.xml</th>\n",
       "      <td>82</td>\n",
       "    </tr>\n",
       "    <tr>\n",
       "      <th>M01000GIF.ltf.xml</th>\n",
       "      <td>82</td>\n",
       "    </tr>\n",
       "    <tr>\n",
       "      <th>M01000GK0.ltf.xml</th>\n",
       "      <td>82</td>\n",
       "    </tr>\n",
       "    <tr>\n",
       "      <th>M01000GOY.ltf.xml</th>\n",
       "      <td>82</td>\n",
       "    </tr>\n",
       "    <tr>\n",
       "      <th>M01000GP9.ltf.xml</th>\n",
       "      <td>82</td>\n",
       "    </tr>\n",
       "    <tr>\n",
       "      <th>M01000GQK.ltf.xml</th>\n",
       "      <td>82</td>\n",
       "    </tr>\n",
       "    <tr>\n",
       "      <th>M01000GSZ.ltf.xml</th>\n",
       "      <td>82</td>\n",
       "    </tr>\n",
       "  </tbody>\n",
       "</table>\n",
       "</div>"
      ],
      "text/plain": [
       "                   turn_count\n",
       "filename                     \n",
       "M01000GE6.ltf.xml          82\n",
       "M01000GEW.ltf.xml          82\n",
       "M01000GFQ.ltf.xml          82\n",
       "M01000GH1.ltf.xml          82\n",
       "M01000GIF.ltf.xml          82\n",
       "M01000GK0.ltf.xml          82\n",
       "M01000GOY.ltf.xml          82\n",
       "M01000GP9.ltf.xml          82\n",
       "M01000GQK.ltf.xml          82\n",
       "M01000GSZ.ltf.xml          82"
      ]
     },
     "execution_count": 27,
     "metadata": {},
     "output_type": "execute_result"
    }
   ],
   "source": [
    "turn_counts[turn_counts['turn_count'] == 82]"
   ]
  },
  {
   "cell_type": "code",
   "execution_count": 28,
   "id": "6b98e7e3-0c0a-4b01-b64e-5807677909cb",
   "metadata": {},
   "outputs": [],
   "source": [
    "sample_df = df[df['filename'] == 'M01000GEW.ltf.xml']"
   ]
  },
  {
   "cell_type": "code",
   "execution_count": 29,
   "id": "79e0d119-9e30-4e46-bb5b-af6584c27868",
   "metadata": {},
   "outputs": [],
   "source": [
    "sample_df = sample_df[['ORIGINAL_TEXT', 'time', 'participant']]"
   ]
  },
  {
   "cell_type": "code",
   "execution_count": 30,
   "id": "f99b49bd-deff-4c6f-9cac-60b0fc7a21ac",
   "metadata": {},
   "outputs": [],
   "source": [
    "sample_df = sample_df.rename(columns={'ORIGINAL_TEXT':'Original Text', 'time': 'Time', 'participant': 'Participant'})"
   ]
  },
  {
   "cell_type": "code",
   "execution_count": 31,
   "id": "568bb9c7-73cd-4d1e-beea-f6a2bdbbf24d",
   "metadata": {},
   "outputs": [],
   "source": [
    "sample_df['Participant'] = sample_df['Participant'].apply(lambda x: {'135882': 'A', '138485': 'B'}[x])"
   ]
  },
  {
   "cell_type": "code",
   "execution_count": 32,
   "id": "2355a8eb-bbf2-4aeb-9805-a76a55d751d6",
   "metadata": {},
   "outputs": [],
   "source": [
    "# ValueError: Excel does not support datetimes with timezones. Please ensure that datetimes are timezone unaware before writing to Excel.\n",
    "sample_df['Time'] = sample_df['Time'].dt.tz_localize(None)"
   ]
  },
  {
   "cell_type": "code",
   "execution_count": 33,
   "id": "9c3b9264-f3f2-4b31-b6db-47e28afee959",
   "metadata": {},
   "outputs": [],
   "source": [
    "sample_df.to_excel('/Users/tmorrill002/Documents/datasets/charm/transformed/sample_M01000GEW.xlsx', index=False)"
   ]
  },
  {
   "cell_type": "markdown",
   "id": "d8d5186d-14d9-418e-99b9-00a1b4fdd133",
   "metadata": {},
   "source": [
    "### Save complete dataset"
   ]
  },
  {
   "cell_type": "code",
   "execution_count": 35,
   "id": "b53e2905-14f1-4eb4-8db1-e28d5b1d2ac1",
   "metadata": {},
   "outputs": [],
   "source": [
    "df.to_csv('/Users/tmorrill002/Documents/datasets/charm/transformed/BOLT_dev_conversations.csv')"
   ]
  },
  {
   "cell_type": "code",
   "execution_count": null,
   "id": "92dce5fc-f8ce-4b9c-81e2-256305edb4ab",
   "metadata": {},
   "outputs": [],
   "source": []
  }
 ],
 "metadata": {
  "kernelspec": {
   "display_name": "Python (CHARM)",
   "language": "python",
   "name": "charm"
  },
  "language_info": {
   "codemirror_mode": {
    "name": "ipython",
    "version": 3
   },
   "file_extension": ".py",
   "mimetype": "text/x-python",
   "name": "python",
   "nbconvert_exporter": "python",
   "pygments_lexer": "ipython3",
   "version": "3.10.6"
  }
 },
 "nbformat": 4,
 "nbformat_minor": 5
}
