{
 "cells": [
  {
   "cell_type": "code",
   "execution_count": 1,
   "id": "0ff0493b-2351-42c5-a4d2-40ed446828bc",
   "metadata": {},
   "outputs": [],
   "source": [
    "import os\n",
    "import pandas as pd\n",
    "from datetime import datetime\n",
    "from tqdm import tqdm"
   ]
  },
  {
   "cell_type": "code",
   "execution_count": 2,
   "id": "a2edc829-86da-464f-bd09-33105fe18eeb",
   "metadata": {},
   "outputs": [],
   "source": [
    "phase = \"P1\"\n",
    "technical_area = \"TA1\"\n",
    "task = \"CD\" #### MAKE SURE THIS IS YOUR TASK!!! ND, ED, CD, etc.\n",
    "team = \"COL\"\n",
    "dataset = \"LDC2022E22-V1\"\n",
    "\n",
    "system_output_cols = [\"file_id\",\"is_processed\",\"message\",\"file_path\"]\n",
    "submission_root = \"./unprocessed\"\n",
    "\n",
    "if task == \"CD\":\n",
    "    doc_cols = [\"file_id\", \"timestamp\", \"llr\"]\n",
    "# elif task == \"YOUR_TASK\":\n",
    "#     doc_cols = [\"COLUMNS\", \"FOR\", \"YOUR\", \"TASK\"]"
   ]
  },
  {
   "cell_type": "code",
   "execution_count": 4,
   "id": "7764fa05-6f81-41ba-baad-89cbf9dcbe2b",
   "metadata": {},
   "outputs": [
    {
     "name": "stdout",
     "output_type": "stream",
     "text": [
      "root folder: ./unprocessed/entrainment_emotion_disgust-entrainment_mandarin-4-0.05\n",
      "checking...\n"
     ]
    },
    {
     "name": "stderr",
     "output_type": "stream",
     "text": [
      "100%|████████████████████████████████████████████████████████████████| 2097/2097 [00:01<00:00, 1158.73it/s]\n"
     ]
    },
    {
     "name": "stdout",
     "output_type": "stream",
     "text": [
      "tests passed!\n",
      "Name this submission CCU_P1_TA1_CD_COL_LDC2022E22-V1_20221121_123817 \n",
      "\n",
      "root folder: ./unprocessed/entrainment-entrainment_mandarin-4-0.06\n",
      "checking...\n"
     ]
    },
    {
     "name": "stderr",
     "output_type": "stream",
     "text": [
      "100%|████████████████████████████████████████████████████████████████| 2097/2097 [00:01<00:00, 1245.59it/s]\n"
     ]
    },
    {
     "name": "stdout",
     "output_type": "stream",
     "text": [
      "tests passed!\n",
      "Name this submission CCU_P1_TA1_CD_COL_LDC2022E22-V1_20221121_123818 \n",
      "\n",
      "root folder: ./unprocessed/entrainment-entrainment_mandarin-4-0.07\n",
      "checking...\n"
     ]
    },
    {
     "name": "stderr",
     "output_type": "stream",
     "text": [
      "100%|█████████████████████████████████████████████████████████████████| 2097/2097 [00:03<00:00, 620.73it/s]\n"
     ]
    },
    {
     "name": "stdout",
     "output_type": "stream",
     "text": [
      "tests passed!\n",
      "Name this submission CCU_P1_TA1_CD_COL_LDC2022E22-V1_20221121_123822 \n",
      "\n",
      "root folder: ./unprocessed/entrainment_emotion_disgust_fear-entrainment_mandarin-4-0.04\n",
      "checking...\n"
     ]
    },
    {
     "name": "stderr",
     "output_type": "stream",
     "text": [
      "100%|█████████████████████████████████████████████████████████████████| 2097/2097 [00:04<00:00, 478.66it/s]\n"
     ]
    },
    {
     "name": "stdout",
     "output_type": "stream",
     "text": [
      "tests passed!\n",
      "Name this submission CCU_P1_TA1_CD_COL_LDC2022E22-V1_20221121_123826 \n",
      "\n",
      "root folder: ./unprocessed/entrainment_emotion_disgust-entrainment_mandarin-4-0.04\n",
      "checking...\n"
     ]
    },
    {
     "name": "stderr",
     "output_type": "stream",
     "text": [
      "100%|█████████████████████████████████████████████████████████████████| 2097/2097 [00:04<00:00, 471.38it/s]"
     ]
    },
    {
     "name": "stdout",
     "output_type": "stream",
     "text": [
      "tests passed!\n",
      "Name this submission CCU_P1_TA1_CD_COL_LDC2022E22-V1_20221121_123831 \n",
      "\n"
     ]
    },
    {
     "name": "stderr",
     "output_type": "stream",
     "text": [
      "\n"
     ]
    }
   ],
   "source": [
    "folders = [ f.path for f in os.scandir(submission_root) if f.is_dir() ]\n",
    "\n",
    "for folder in folders:\n",
    "    \n",
    "    try:\n",
    "        print(\"root folder:\", folder)\n",
    "\n",
    "        files = [ f.path for f in os.scandir(folder) ]\n",
    "        assert len(files) == 2098, \"submission folder should have exactly 2098 files\"\n",
    "        \n",
    "        doc_files = []\n",
    "        for file in files:\n",
    "            if \"system_output.index\" not in file:\n",
    "                doc_files.append(file.split(\"/\")[-1].split(\".\")[-2])\n",
    "        assert len(doc_files) == 2097, \"submission folder should have exactly 2097 document output files\"\n",
    "        \n",
    "        system_output_file = \"{}/system_output.index.tab\".format(folder)\n",
    "        system_output_df = pd.read_csv(system_output_file, sep=\"\\t\")\n",
    "        assert system_output_df.columns.tolist() == system_output_cols, \"system output file must have columns {}\".format(system_output_cols)\n",
    "        assert system_output_df.shape[0] == 2097, \"system output file must have 2097 rows\"\n",
    "\n",
    "        doc_files.sort()\n",
    "        assert doc_files == system_output_df.sort_values([\"file_id\"])[\"file_id\"].tolist(), \"file_ids should be the same\"\n",
    "\n",
    "        print(\"checking...\")\n",
    "        for i in tqdm(range(system_output_df.shape[0])):\n",
    "            row = system_output_df.iloc[i]\n",
    "            assert row[\"file_id\"]+\".tab\" == row[\"file_path\"], \"file paths should be FILEID.tab\" \n",
    "            assert row[\"is_processed\"] == True, \"is_processed must be set to TRUE\"\n",
    "            doc_df = pd.read_csv(\"{}/{}\".format(folder,row[\"file_path\"]), sep=\"\\t\")\n",
    "            assert doc_df.columns.tolist() == doc_cols, \"document output file must have columns {}\".format(doc_cols)\n",
    "        print(\"tests passed!\")\n",
    "        \n",
    "        submission_name = \"CCU_{}_{}_{}_{}_{}_{}\".format(\n",
    "            phase,\n",
    "            technical_area,\n",
    "            task,\n",
    "            team,\n",
    "            dataset,\n",
    "            datetime.now().strftime(\"%Y%m%d_%H%M%S\")\n",
    "        )\n",
    "        print(\"Name this submission\", submission_name, \"\\n\") \n",
    "    except Exception as e:\n",
    "        print(\"failed:\", e, \"\\n\")"
   ]
  },
  {
   "cell_type": "code",
   "execution_count": null,
   "id": "e073b980-535b-49e4-9e98-330f8443d4e9",
   "metadata": {},
   "outputs": [],
   "source": []
  },
  {
   "cell_type": "code",
   "execution_count": null,
   "id": "1a3146bd-85ec-4e41-8330-da6badb09322",
   "metadata": {},
   "outputs": [],
   "source": []
  },
  {
   "cell_type": "code",
   "execution_count": null,
   "id": "1642534b-2c61-4a25-b0eb-e7508e91fd04",
   "metadata": {},
   "outputs": [],
   "source": []
  }
 ],
 "metadata": {
  "kernelspec": {
   "display_name": "Python 3 (ipykernel)",
   "language": "python",
   "name": "python3"
  },
  "language_info": {
   "codemirror_mode": {
    "name": "ipython",
    "version": 3
   },
   "file_extension": ".py",
   "mimetype": "text/x-python",
   "name": "python",
   "nbconvert_exporter": "python",
   "pygments_lexer": "ipython3",
   "version": "3.10.6"
  }
 },
 "nbformat": 4,
 "nbformat_minor": 5
}
