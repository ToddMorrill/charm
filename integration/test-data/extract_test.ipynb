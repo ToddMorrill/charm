{
 "cells": [
  {
   "cell_type": "code",
   "execution_count": 2,
   "metadata": {},
   "outputs": [],
   "source": [
    "import json\n",
    "import os"
   ]
  },
  {
   "cell_type": "code",
   "execution_count": 3,
   "metadata": {},
   "outputs": [],
   "source": [
    "with open(\"CompleteSample1.jsonl\", \"r\") as f:\n",
    "    complete_data = list(f)\n",
    "\n",
    "with open(\"InputsOnlySample1.jsonl\", \"r\") as f:\n",
    "    input_data = list(f)"
   ]
  },
  {
   "cell_type": "code",
   "execution_count": 4,
   "metadata": {},
   "outputs": [],
   "source": [
    "def get_turn_text_translation_zh_en(message, debug=False):\n",
    "    \"\"\"\n",
    "        Validates messages from the translation RESULT queue,\n",
    "        only works for en (source) -> zh (target)\n",
    "\n",
    "        :param message: json: \n",
    "        :param debug: bool:\n",
    "        :returns: str:\n",
    "    \"\"\"\n",
    "    if \"translation\" not in message:\n",
    "        if debug:\n",
    "            print(\"Warning: Translation message does not have a `translation` field\")\n",
    "        return None\n",
    "    elif \"asr_type\" not in message:\n",
    "        if debug:\n",
    "            print(\"Warning: Translation message contains no `asr_type` field\")\n",
    "        return None\n",
    "    elif message[\"asr_type\"] != \"TURN\":\n",
    "        if debug:\n",
    "            print(\"Warning: Wrong message type\", message['asr_type'])\n",
    "    elif \"source_language_code\" not in message:\n",
    "        if debug:\n",
    "            print(\"Warning: Translation message does not have a `source_language` field.\")\n",
    "    elif message[\"source_language_code\"] != \"en\":\n",
    "        if debug:\n",
    "            print(\"Warning: Looking at the wrong source language:\", message['source_language_code'])\n",
    "        return None\n",
    "    elif \"target_language_code\" not in message:\n",
    "        if debug:\n",
    "            print(\"Warning: Translation message does not have a `target_language` field.\")\n",
    "    elif message['target_language_code'] != \"zh\":\n",
    "        if debug:\n",
    "            print(\"Warning: Looking at the wrong target language:\", message['target_language_code'])\n",
    "        return None\n",
    "    \n",
    "    turn_text = message['translation']\n",
    "    \n",
    "    if not type(turn_text) == str:\n",
    "        if debug:\n",
    "            print(\"Warning: Text field in translation message has type - \",\n",
    "                  type(turn_text))\n",
    "        return None\n",
    "    if \"@reject@\" in turn_text:\n",
    "        turn_text = turn_text.replace(\"@reject@\", \"\")\n",
    "    \n",
    "    turn_text = turn_text.rstrip().lstrip()\n",
    "    \n",
    "    if turn_text == None or turn_text == '':\n",
    "        if debug:\n",
    "            print(\"Warning: Text field in ASR message is empty or None\")\n",
    "        return None\n",
    "\n",
    "    return turn_text"
   ]
  },
  {
   "cell_type": "code",
   "execution_count": 5,
   "metadata": {},
   "outputs": [
    {
     "name": "stdout",
     "output_type": "stream",
     "text": [
      "Warning: Looking at the wrong source language: zh\n",
      "Warning: Looking at the wrong source language: zh\n",
      "Warning: Looking at the wrong source language: zh\n",
      "Warning: Looking at the wrong source language: zh\n",
      "Warning: Looking at the wrong source language: zh\n",
      "Warning: Looking at the wrong source language: zh\n",
      "Warning: Looking at the wrong source language: zh\n",
      "Warning: Looking at the wrong source language: zh\n",
      "Warning: Looking at the wrong source language: zh\n",
      "Warning: Looking at the wrong source language: zh\n",
      "Warning: Looking at the wrong source language: zh\n",
      "Warning: Looking at the wrong source language: zh\n",
      "Warning: Looking at the wrong source language: zh\n",
      "Warning: Looking at the wrong source language: zh\n",
      "Warning: Looking at the wrong source language: zh\n"
     ]
    }
   ],
   "source": [
    "## Complete data\n",
    "count = 0\n",
    "\n",
    "for json_str in complete_data[1:]:\n",
    "    result = json.loads(json_str)\n",
    "    if result['queue'] == 'RESULT':\n",
    "        message = result['message']\n",
    "        if 'type' in message and message['type'] == 'translation':\n",
    "            text = get_turn_text_translation_zh_en(message, True)\n",
    "\n"
   ]
  },
  {
   "cell_type": "code",
   "execution_count": 6,
   "metadata": {},
   "outputs": [],
   "source": [
    "def get_turn_text_asr_result_zh(message, debug=False):\n",
    "    \"\"\"Validates and returns incoming message if it passes checks.\"\"\"\n",
    "    if 'asr_text' not in message:\n",
    "        if debug:\n",
    "            print(\"Warning: ASR message contains no text field\")\n",
    "        return None\n",
    "    elif 'asr_type' not in message:\n",
    "        if debug:\n",
    "            print(\"Warning: ASR message contains no type field\")\n",
    "        return None\n",
    "    elif message['asr_type'] != \"TURN\":\n",
    "        if debug:\n",
    "            print(\"Wrong message type\", message['asr_type'])\n",
    "        return None\n",
    "    elif 'asr_language_code' not in message:\n",
    "        return None\n",
    "    elif message['asr_language_code'] != 'zh':\n",
    "        return None\n",
    "    \n",
    "    turn_text = message['asr_text']\n",
    "\n",
    "    if not type(turn_text) == str:\n",
    "        if debug:\n",
    "            print(\"Warning: Text field in ASR message has type - \",\n",
    "                  type(turn_text))\n",
    "        return None\n",
    "    if \"@reject@\" in turn_text:\n",
    "        turn_text = turn_text.replace(\"@reject@\", \"\")\n",
    "    turn_text = turn_text.rstrip().lstrip()\n",
    "    if turn_text == None or turn_text == '':\n",
    "        if debug:\n",
    "            print(\"Warning: Text field in ASR message is empty or None\")\n",
    "        return None\n",
    "\n",
    "    return turn_text"
   ]
  },
  {
   "attachments": {},
   "cell_type": "markdown",
   "metadata": {},
   "source": [
    "Let's see the dialogue"
   ]
  },
  {
   "cell_type": "code",
   "execution_count": 7,
   "metadata": {},
   "outputs": [
    {
     "name": "stdout",
     "output_type": "stream",
     "text": [
      "From: 142.08191990852356 to 145.35201907157898\n",
      "English (translate): 我们需要谈谈你的团队处理垃圾的方式\n",
      "From: 158.33351707458496 to 161.35685634613037\n",
      "Chinese: 好吧,您好。\n",
      "From: 169.746084690094 to 174.81492519378662\n",
      "English (translate): 对不起我忘了我的礼貌。你好李先生。你今天好吗？\n",
      "From: 188.55391645431519 to 192.9584197998047\n",
      "Chinese: 我很好,谢谢,您怎么样?\n",
      "From: 206.53500533103943 to 209.5392620563507\n",
      "English (translate): 我的健康状况很好所以我不能抱怨。\n",
      "From: 221.2496690750122 to 227.57230234146118\n",
      "Chinese: I'm glad to hear that. Are you here to talk about garbage?\n",
      "From: 242.73591995239258 to 249.49627494812012\n",
      "English (translate): 是的你的团队又把垃圾丢在河边了。你得跟他们谈谈。\n",
      "From: 265.8182649612427 to 270.25758361816406\n",
      "Chinese: 你到我的家里来提出要求。\n",
      "From: 291.1044890880585 to 297.13668990135193\n",
      "Chinese: I can't believe you would do this. You came to my house to make a request.\n",
      "From: 314.9832181930542 to 318.94423270225525\n",
      "Chinese: 你到我的家里来提出要求。\n",
      "From: 346.5063889026642 to 350.4387912750244\n",
      "Chinese: 你真的到我的家里来提出要求?\n",
      "From: 375.22095918655396 to 378.8630485534668\n",
      "Chinese: 你到我的家里提出要求。\n",
      "From: 404.8216528892517 to 406.12539172172546\n",
      "English (translate): 这必须改变。\n",
      "From: 417.6055703163147 to 419.7939033508301\n",
      "Chinese: 这是对的!\n",
      "From: 448.21298837661743 to 450.4757399559021\n",
      "Chinese: 这是对的。\n",
      "From: 499.8381071090698 to 506.3182809352875\n",
      "Chinese: 这是对的,我接受你的道歉,我也有做得不对的地方。\n",
      "From: 545.9416935443878 to 553.5962896347046\n",
      "English (translate): 我担心垃圾会再次毒害饮用水我们最终会和一群生病的工人在一起否则。\n",
      "From: 571.5128650665283 to 575.1226246356964\n",
      "Chinese: 你是对的,就会很可怕。\n",
      "From: 673.5677628517151 to 682.327155828476\n",
      "English (translate): 我担心垃圾会再次毒害饮用水我们最终会和一群生病的工人在一起否则就错了。\n",
      "From: 742.1676182746887 to 745.8532540798187\n",
      "Chinese: 你是对的,那就会很可怕。\n",
      "From: 763.9956078529358 to 769.5162696838379\n",
      "Chinese: 你是对的,那就会是非常可怕。\n",
      "From: 791.9216349124908 to 796.6914796829224\n",
      "Chinese: 你是对的,这对城镇很可怕。\n",
      "From: 846.6508655548096 to 855.057991027832\n",
      "English (translate): 我担心垃圾会再次毒害饮用水我们最终会遇到很多病人。\n",
      "From: 874.617381811142 to 880.2687089443207\n",
      "English (translate): 这将是除了有垃圾的烂摊子无处不在。\n",
      "From: 934.8706977367401 to 946.5337607860565\n",
      "English (translate): 我担心垃圾会再次毒害饮用水。我们最终会有一群生病的工人。这将是在我们已经有的混乱之上。\n",
      "From: 1016.3041305541992 to 1026.8835456371307\n",
      "English (translate): 我担心垃圾会再次毒害饮用水。工人们会生病的。这将是除了所有其他的问题我们有。\n",
      "From: 1133.3997964859009 to 1142.976595401764\n",
      "English (translate): 我担心垃圾会再次毒害饮用水。除了我们所有的问题我们还会有一群生病的工人。\n",
      "From: 1180.1353957653046 to 1182.1903009414673\n",
      "English (translate): 好吧再见。\n"
     ]
    }
   ],
   "source": [
    "text_asr = None\n",
    "text_translation = None\n",
    "\n",
    "for json_str in complete_data[1:]:\n",
    "    result = json.loads(json_str)\n",
    "\n",
    "    if result['queue'] == 'RESULT':\n",
    "        message = result['message']\n",
    "        if 'type' in message and message['type'] == 'asr_result':\n",
    "            text_asr = get_turn_text_asr_result_zh(message, debug=False)\n",
    "\n",
    "            if text_asr:\n",
    "                print(f\"From: {message['start_seconds']} to {message['end_seconds']}\")\n",
    "                print(f\"Chinese: {text_asr}\")\n",
    "        if 'type' in message and message['type'] == 'translation':\n",
    "            text_translation = get_turn_text_translation_zh_en(message, debug=False)\n",
    "\n",
    "            if text_translation:\n",
    "                print(f\"From: {message['start_seconds']} to {message['end_seconds']}\")\n",
    "                print(f\"English (translate): {text_translation}\")\n"
   ]
  },
  {
   "cell_type": "code",
   "execution_count": 8,
   "metadata": {},
   "outputs": [
    {
     "name": "stdout",
     "output_type": "stream",
     "text": [
      "From: 142.08191990852356 to 145.35201907157898\n",
      "English (translate): 我们需要谈谈你的团队处理垃圾的方式\n",
      "From: 158.33351707458496 to 161.35685634613037\n",
      "Chinese: 好吧,您好。\n",
      "From: 169.746084690094 to 174.81492519378662\n",
      "English (translate): 对不起我忘了我的礼貌。你好李先生。你今天好吗？\n",
      "From: 188.55391645431519 to 192.9584197998047\n",
      "Chinese: 我很好,谢谢,您怎么样?\n",
      "From: 206.53500533103943 to 209.5392620563507\n",
      "English (translate): 我的健康状况很好所以我不能抱怨。\n",
      "From: 221.2496690750122 to 227.57230234146118\n",
      "Chinese: I'm glad to hear that. Are you here to talk about garbage?\n",
      "From: 242.73591995239258 to 249.49627494812012\n",
      "English (translate): 是的你的团队又把垃圾丢在河边了。你得跟他们谈谈。\n",
      "From: 265.8182649612427 to 270.25758361816406\n",
      "Chinese: 你到我的家里来提出要求。\n",
      "From: 291.1044890880585 to 297.13668990135193\n",
      "Chinese: I can't believe you would do this. You came to my house to make a request.\n",
      "From: 314.9832181930542 to 318.94423270225525\n",
      "Chinese: 你到我的家里来提出要求。\n",
      "From: 346.5063889026642 to 350.4387912750244\n",
      "Chinese: 你真的到我的家里来提出要求?\n",
      "From: 375.22095918655396 to 378.8630485534668\n",
      "Chinese: 你到我的家里提出要求。\n",
      "From: 404.8216528892517 to 406.12539172172546\n",
      "English (translate): 这必须改变。\n",
      "From: 417.6055703163147 to 419.7939033508301\n",
      "Chinese: 这是对的!\n",
      "From: 448.21298837661743 to 450.4757399559021\n",
      "Chinese: 这是对的。\n",
      "From: 499.8381071090698 to 506.3182809352875\n",
      "Chinese: 这是对的,我接受你的道歉,我也有做得不对的地方。\n",
      "From: 545.9416935443878 to 553.5962896347046\n",
      "English (translate): 我担心垃圾会再次毒害饮用水我们最终会和一群生病的工人在一起否则。\n",
      "From: 571.5128650665283 to 575.1226246356964\n",
      "Chinese: 你是对的,就会很可怕。\n",
      "From: 673.5677628517151 to 682.327155828476\n",
      "English (translate): 我担心垃圾会再次毒害饮用水我们最终会和一群生病的工人在一起否则就错了。\n",
      "From: 742.1676182746887 to 745.8532540798187\n",
      "Chinese: 你是对的,那就会很可怕。\n",
      "From: 763.9956078529358 to 769.5162696838379\n",
      "Chinese: 你是对的,那就会是非常可怕。\n",
      "From: 791.9216349124908 to 796.6914796829224\n",
      "Chinese: 你是对的,这对城镇很可怕。\n",
      "From: 846.6508655548096 to 855.057991027832\n",
      "English (translate): 我担心垃圾会再次毒害饮用水我们最终会遇到很多病人。\n",
      "From: 874.617381811142 to 880.2687089443207\n",
      "English (translate): 这将是除了有垃圾的烂摊子无处不在。\n",
      "From: 934.8706977367401 to 946.5337607860565\n",
      "English (translate): 我担心垃圾会再次毒害饮用水。我们最终会有一群生病的工人。这将是在我们已经有的混乱之上。\n",
      "From: 1016.3041305541992 to 1026.8835456371307\n",
      "English (translate): 我担心垃圾会再次毒害饮用水。工人们会生病的。这将是除了所有其他的问题我们有。\n",
      "From: 1133.3997964859009 to 1142.976595401764\n",
      "English (translate): 我担心垃圾会再次毒害饮用水。除了我们所有的问题我们还会有一群生病的工人。\n",
      "From: 1180.1353957653046 to 1182.1903009414673\n",
      "English (translate): 好吧再见。\n"
     ]
    }
   ],
   "source": [
    "text_asr = None\n",
    "text_translation = None\n",
    "\n",
    "total_count = 0\n",
    "acted_upon_asr_results = 0\n",
    "acted_upon_tran_results = 0\n",
    "asr_results=0\n",
    "tran_results=0\n",
    "\n",
    "for json_str in input_data:\n",
    "    result = json.loads(json_str)\n",
    "    total_count += 1\n",
    "\n",
    "    if result['queue'] == 'RESULT':\n",
    "        message = result['message']\n",
    "        if 'type' in message and message['type'] == 'asr_result':\n",
    "            text_asr = get_turn_text_asr_result_zh(message, debug=False)\n",
    "            acted_upon_asr_results+= 1\n",
    "\n",
    "            if text_asr:\n",
    "                print(f\"From: {message['start_seconds']} to {message['end_seconds']}\")\n",
    "                print(f\"Chinese: {text_asr}\")\n",
    "                asr_results += 1\n",
    "\n",
    "        elif 'type' in message and message['type'] == 'translation':\n",
    "            text_translation = get_turn_text_translation_zh_en(message, debug=False)\n",
    "            acted_upon_tran_results+= 1\n",
    "\n",
    "            if text_translation:\n",
    "                print(f\"From: {message['start_seconds']} to {message['end_seconds']}\")\n",
    "                print(f\"English (translate): {text_translation}\")\n",
    "                tran_results+= 1"
   ]
  },
  {
   "cell_type": "code",
   "execution_count": 9,
   "metadata": {},
   "outputs": [
    {
     "data": {
      "text/plain": [
       "'好吧再见。'"
      ]
     },
     "execution_count": 9,
     "metadata": {},
     "output_type": "execute_result"
    }
   ],
   "source": [
    "text_translation"
   ]
  },
  {
   "cell_type": "code",
   "execution_count": 10,
   "metadata": {},
   "outputs": [
    {
     "name": "stdout",
     "output_type": "stream",
     "text": [
      "Total lines: 8296\n",
      "ASR Matches: 28\n",
      "Actual valid ASR Results: 15\n",
      "Translation Matches: 28\n",
      "Actual valid Translation Results: 13\n"
     ]
    }
   ],
   "source": [
    "print(f\"Total lines: {total_count}\")\n",
    "print(f\"ASR Matches: {acted_upon_asr_results}\")\n",
    "print(f\"Actual valid ASR Results: {asr_results}\")\n",
    "print(f\"Translation Matches: {acted_upon_tran_results}\")\n",
    "print(f\"Actual valid Translation Results: {tran_results}\")"
   ]
  },
  {
   "cell_type": "code",
   "execution_count": 11,
   "metadata": {},
   "outputs": [],
   "source": [
    "import requests\n",
    "\n",
    "ip = '3.225.204.208'\n",
    "port = 8000\n",
    "data = {'text':[\"我喜欢下雨。\", \"我讨厌他.\"]}\n",
    "url = f'http://{ip}:{port}/predict'\n",
    "response = requests.post(url, json=data)"
   ]
  },
  {
   "cell_type": "code",
   "execution_count": 12,
   "metadata": {},
   "outputs": [
    {
     "data": {
      "text/plain": [
       "200"
      ]
     },
     "execution_count": 12,
     "metadata": {},
     "output_type": "execute_result"
    }
   ],
   "source": [
    "response.status_code"
   ]
  },
  {
   "cell_type": "code",
   "execution_count": 13,
   "metadata": {},
   "outputs": [],
   "source": [
    "with open(\"../test-data/InputsOnlySample1.jsonl\", \"r\") as f:\n",
    "    input_data = list(f)\n",
    "\n",
    "json_data = []\n",
    "\n",
    "for json_str in input_data:\n",
    "    json_single = json.loads(json_str)\n",
    "    if json_single['message']['type'] != 'image_start' and \\\n",
    "        json_single['message']['type'] != 'audio_turn':\n",
    "\n",
    "        if json_single['message']['type'] == 'asr_result':\n",
    "            json_single['message']['asr_json'] = \"NA\"\n",
    "\n",
    "        json_data.append(json_single)\n",
    "\n",
    "file_name = 'sample_input.jsonl'\n",
    "filepath = os.path.join('../transcripts', file_name)\n",
    "\n",
    "with open(filepath, 'w') as out:\n",
    "    for test_lines in json_data:\n",
    "        # print(test_lines)\n",
    "        jout = json.dumps(test_lines, ensure_ascii=False) + '\\n'\n",
    "        out.write(jout)"
   ]
  },
  {
   "cell_type": "code",
   "execution_count": 15,
   "metadata": {},
   "outputs": [
    {
     "data": {
      "text/plain": [
       "{'time_seconds': 83.233847,\n",
       " 'queue': 'VIDEO_MAIN',\n",
       " 'message': {'type': 'webcam',\n",
       "  'timestamp': 4.669998,\n",
       "  'datetime': '2023-03-07 22:20:48.002156',\n",
       "  'uuid': 'd47a2ce6-75be-4fde-bc7f-979662ff81bc',\n",
       "  'width': 896,\n",
       "  'height': 504,\n",
       "  'depth': 3,\n",
       "  'format': 'jpg',\n",
       "  'start_seconds': 0.0,\n",
       "  'end_seconds': 0.0,\n",
       "  'image': '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',\n",
       "  'container_name': 'hololens'}}"
      ]
     },
     "execution_count": 15,
     "metadata": {},
     "output_type": "execute_result"
    }
   ],
   "source": [
    "json_data[0]"
   ]
  },
  {
   "cell_type": "code",
   "execution_count": 13,
   "metadata": {},
   "outputs": [
    {
     "ename": "NameError",
     "evalue": "name 'transcripts' is not defined",
     "output_type": "error",
     "traceback": [
      "\u001b[0;31m---------------------------------------------------------------------------\u001b[0m",
      "\u001b[0;31mNameError\u001b[0m                                 Traceback (most recent call last)",
      "\u001b[1;32m/Users/idewa/Documents/CCU/integration/charm/integration/test-data/extract_test.ipynb Cell 14\u001b[0m in \u001b[0;36m1\n\u001b[0;32m----> <a href='vscode-notebook-cell:/Users/idewa/Documents/CCU/integration/charm/integration/test-data/extract_test.ipynb#X22sZmlsZQ%3D%3D?line=0'>1</a>\u001b[0m \u001b[39mfor\u001b[39;00m modality \u001b[39min\u001b[39;00m transcripts:\n\u001b[1;32m      <a href='vscode-notebook-cell:/Users/idewa/Documents/CCU/integration/charm/integration/test-data/extract_test.ipynb#X22sZmlsZQ%3D%3D?line=1'>2</a>\u001b[0m     file_name \u001b[39m=\u001b[39m \u001b[39mf\u001b[39m\u001b[39m'\u001b[39m\u001b[39m{\u001b[39;00mmodality\u001b[39m}\u001b[39;00m\u001b[39m_\u001b[39m\u001b[39m{\u001b[39;00mfile_id_map[modality]\u001b[39m}\u001b[39;00m\u001b[39m_input.jsonl\u001b[39m\u001b[39m'\u001b[39m\n\u001b[1;32m      <a href='vscode-notebook-cell:/Users/idewa/Documents/CCU/integration/charm/integration/test-data/extract_test.ipynb#X22sZmlsZQ%3D%3D?line=2'>3</a>\u001b[0m     filepath \u001b[39m=\u001b[39m os\u001b[39m.\u001b[39mpath\u001b[39m.\u001b[39mjoin(\u001b[39m'\u001b[39m\u001b[39m./transcripts\u001b[39m\u001b[39m'\u001b[39m, file_name)\n",
      "\u001b[0;31mNameError\u001b[0m: name 'transcripts' is not defined"
     ]
    }
   ],
   "source": [
    "for modality in transcripts:\n",
    "    file_name = f'{modality}_{file_id_map[modality]}_input.jsonl'\n",
    "    filepath = os.path.join('./transcripts', file_name)\n",
    "    # write jsonl format\n",
    "    with open(filepath, 'w') as out:\n",
    "        for message in transcripts[modality]:\n",
    "            jout = json.dumps(message, ensure_ascii=False) + '\\n'\n",
    "            out.write(jout)"
   ]
  }
 ],
 "metadata": {
  "kernelspec": {
   "display_name": "Python 3",
   "language": "python",
   "name": "python3"
  },
  "language_info": {
   "codemirror_mode": {
    "name": "ipython",
    "version": 3
   },
   "file_extension": ".py",
   "mimetype": "text/x-python",
   "name": "python",
   "nbconvert_exporter": "python",
   "pygments_lexer": "ipython3",
   "version": "3.9.13"
  },
  "orig_nbformat": 4
 },
 "nbformat": 4,
 "nbformat_minor": 2
}
