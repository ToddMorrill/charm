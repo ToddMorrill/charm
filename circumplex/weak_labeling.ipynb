{
 "cells": [
  {
   "cell_type": "markdown",
   "id": "d882b638-6728-4928-ad3d-a78918eb4bfb",
   "metadata": {},
   "source": [
    "# Use Circumplex Theory dictionaries to apply weak labels to utterances"
   ]
  },
  {
   "cell_type": "markdown",
   "id": "f2495abd-e4e5-45c7-a83b-7968ee9a5d30",
   "metadata": {},
   "source": [
    "## Load data"
   ]
  },
  {
   "cell_type": "markdown",
   "id": "cf6d9353-395f-4cf6-b13f-e774b34ebb76",
   "metadata": {},
   "source": [
    "## Load dictionaries"
   ]
  },
  {
   "cell_type": "code",
   "execution_count": null,
   "id": "2cc558be-a704-489e-9a2a-ab5d04267cf4",
   "metadata": {},
   "outputs": [],
   "source": []
  }
 ],
 "metadata": {
  "kernelspec": {
   "display_name": "Python (CHARM)",
   "language": "python",
   "name": "charm"
  },
  "language_info": {
   "codemirror_mode": {
    "name": "ipython",
    "version": 3
   },
   "file_extension": ".py",
   "mimetype": "text/x-python",
   "name": "python",
   "nbconvert_exporter": "python",
   "pygments_lexer": "ipython3",
   "version": "3.10.6"
  }
 },
 "nbformat": 4,
 "nbformat_minor": 5
}
