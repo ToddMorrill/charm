{
 "cells": [
  {
   "cell_type": "markdown",
   "id": "d882b638-6728-4928-ad3d-a78918eb4bfb",
   "metadata": {},
   "source": [
    "# Identify videos for manual labeling and evaluate results"
   ]
  },
  {
   "cell_type": "code",
   "execution_count": 1,
   "id": "2cc558be-a704-489e-9a2a-ab5d04267cf4",
   "metadata": {},
   "outputs": [],
   "source": [
    "import os\n",
    "import json\n",
    "\n",
    "import pandas as pd\n",
    "import numpy as np\n",
    "\n",
    "from charm.data import utils\n",
    "\n",
    "%load_ext autoreload\n",
    "%autoreload 2"
   ]
  },
  {
   "cell_type": "markdown",
   "id": "f2495abd-e4e5-45c7-a83b-7968ee9a5d30",
   "metadata": {},
   "source": [
    "## Load data"
   ]
  },
  {
   "cell_type": "code",
   "execution_count": 2,
   "id": "dfa0fe23-7090-4e3d-bc76-460f46535ea6",
   "metadata": {},
   "outputs": [],
   "source": [
    "home_dir = os.path.expanduser('~')\n",
    "raw_data_dir = os.path.join(home_dir, 'Documents/data/charm/raw')\n",
    "anno_dfs = utils.load_ldc_annotations(raw_data_dir,)\n",
    "\n",
    "transformed_dir = os.path.join(home_dir, 'Documents/data/charm/transformed')\n",
    "meta_df = pd.read_csv(os.path.join(transformed_dir, 'metadata.csv'))"
   ]
  },
  {
   "cell_type": "code",
   "execution_count": 3,
   "id": "e1da7ff1-0b65-4250-a8e9-5cdfb099348d",
   "metadata": {},
   "outputs": [],
   "source": [
    "changepoint_df = pd.concat({k: anno_dfs[k]['anno_dfs']['changepoint.tab']\n",
    "                             for k in anno_dfs},\n",
    "                            ignore_index=True)"
   ]
  },
  {
   "cell_type": "code",
   "execution_count": 4,
   "id": "57857fb3-a9e1-48d9-947e-3bd172f67d29",
   "metadata": {},
   "outputs": [
    {
     "data": {
      "text/plain": [
       "3    378\n",
       "4    280\n",
       "2    193\n",
       "5     59\n",
       "1     25\n",
       "Name: impact_scalar, dtype: int64"
      ]
     },
     "execution_count": 4,
     "metadata": {},
     "output_type": "execute_result"
    }
   ],
   "source": [
    "changepoint_df['impact_scalar'].value_counts()"
   ]
  },
  {
   "cell_type": "code",
   "execution_count": 5,
   "id": "0ef5abb0-e7d2-41da-b3f2-8d6d4ac4c1ea",
   "metadata": {},
   "outputs": [
    {
     "data": {
      "text/html": [
       "<div>\n",
       "<style scoped>\n",
       "    .dataframe tbody tr th:only-of-type {\n",
       "        vertical-align: middle;\n",
       "    }\n",
       "\n",
       "    .dataframe tbody tr th {\n",
       "        vertical-align: top;\n",
       "    }\n",
       "\n",
       "    .dataframe thead th {\n",
       "        text-align: right;\n",
       "    }\n",
       "</style>\n",
       "<table border=\"1\" class=\"dataframe\">\n",
       "  <thead>\n",
       "    <tr style=\"text-align: right;\">\n",
       "      <th></th>\n",
       "      <th>user_id</th>\n",
       "      <th>file_id</th>\n",
       "      <th>timestamp</th>\n",
       "      <th>impact_scalar</th>\n",
       "      <th>comment</th>\n",
       "    </tr>\n",
       "  </thead>\n",
       "  <tbody>\n",
       "    <tr>\n",
       "      <th>0</th>\n",
       "      <td>212</td>\n",
       "      <td>M01000FT6</td>\n",
       "      <td>287.0</td>\n",
       "      <td>5</td>\n",
       "      <td>Pre-change: Host talked about patterns of dirt...</td>\n",
       "    </tr>\n",
       "    <tr>\n",
       "      <th>1</th>\n",
       "      <td>212</td>\n",
       "      <td>M01000FT6</td>\n",
       "      <td>353.0</td>\n",
       "      <td>2</td>\n",
       "      <td>Pre-change: Host questioned why the male guest...</td>\n",
       "    </tr>\n",
       "    <tr>\n",
       "      <th>2</th>\n",
       "      <td>212</td>\n",
       "      <td>M01003MTK</td>\n",
       "      <td>64.0</td>\n",
       "      <td>5</td>\n",
       "      <td>Pre-change: female introduced the male to her ...</td>\n",
       "    </tr>\n",
       "    <tr>\n",
       "      <th>3</th>\n",
       "      <td>212</td>\n",
       "      <td>M01003MTK</td>\n",
       "      <td>239.0</td>\n",
       "      <td>1</td>\n",
       "      <td>Pre-change: The female and male speakers were ...</td>\n",
       "    </tr>\n",
       "    <tr>\n",
       "      <th>4</th>\n",
       "      <td>212</td>\n",
       "      <td>M01003MTK</td>\n",
       "      <td>267.0</td>\n",
       "      <td>5</td>\n",
       "      <td>Pre-change: The group chit-chat with the male ...</td>\n",
       "    </tr>\n",
       "  </tbody>\n",
       "</table>\n",
       "</div>"
      ],
      "text/plain": [
       "   user_id    file_id  timestamp  impact_scalar  \\\n",
       "0      212  M01000FT6      287.0              5   \n",
       "1      212  M01000FT6      353.0              2   \n",
       "2      212  M01003MTK       64.0              5   \n",
       "3      212  M01003MTK      239.0              1   \n",
       "4      212  M01003MTK      267.0              5   \n",
       "\n",
       "                                             comment  \n",
       "0  Pre-change: Host talked about patterns of dirt...  \n",
       "1  Pre-change: Host questioned why the male guest...  \n",
       "2  Pre-change: female introduced the male to her ...  \n",
       "3  Pre-change: The female and male speakers were ...  \n",
       "4  Pre-change: The group chit-chat with the male ...  "
      ]
     },
     "execution_count": 5,
     "metadata": {},
     "output_type": "execute_result"
    }
   ],
   "source": [
    "changepoint_df.head()"
   ]
  },
  {
   "cell_type": "code",
   "execution_count": 6,
   "id": "ad3022c0-1ddc-4564-ab9d-b46cadaa11f8",
   "metadata": {},
   "outputs": [],
   "source": [
    "versions_df = pd.concat({k: anno_dfs[k]['versions_df']\n",
    "                             for k in anno_dfs},\n",
    "                            ignore_index=True)"
   ]
  },
  {
   "cell_type": "code",
   "execution_count": 7,
   "id": "363c7955-7b2e-44cf-8a82-a6897ee41474",
   "metadata": {},
   "outputs": [],
   "source": [
    "change_anno_files = set(versions_df[versions_df['changepoint_count'] > 0]['file_id'].unique())\n",
    "change_pos_anno_files = set(changepoint_df['file_id'].unique())\n",
    "change_neg_anno_files = change_anno_files - change_pos_anno_files"
   ]
  },
  {
   "cell_type": "code",
   "execution_count": 8,
   "id": "2266b372-5d50-461b-8207-35703c937aea",
   "metadata": {},
   "outputs": [
    {
     "data": {
      "text/plain": [
       "628"
      ]
     },
     "execution_count": 8,
     "metadata": {},
     "output_type": "execute_result"
    }
   ],
   "source": [
    "len(change_pos_anno_files)"
   ]
  },
  {
   "cell_type": "code",
   "execution_count": 9,
   "id": "0070c3f3-70ba-4339-8e4d-4fd20d2bfef7",
   "metadata": {},
   "outputs": [
    {
     "data": {
      "text/plain": [
       "406"
      ]
     },
     "execution_count": 9,
     "metadata": {},
     "output_type": "execute_result"
    }
   ],
   "source": [
    "len(change_neg_anno_files)"
   ]
  },
  {
   "cell_type": "markdown",
   "id": "040c7f98-127b-4df4-b4e0-e9cd8958d631",
   "metadata": {},
   "source": [
    "## Identify 2 median length videos for annotation"
   ]
  },
  {
   "cell_type": "code",
   "execution_count": 10,
   "id": "0ea96560-ef2e-4de8-a965-a77b5b692178",
   "metadata": {},
   "outputs": [],
   "source": [
    "# identify 2 videos that are median length that we have a high number of changepoint annotations for"
   ]
  },
  {
   "cell_type": "code",
   "execution_count": 11,
   "id": "e68bbf6e-8166-413c-bd95-c72ddf8d48a1",
   "metadata": {},
   "outputs": [],
   "source": [
    "changepoint_files = changepoint_df['file_id'].value_counts().to_frame()"
   ]
  },
  {
   "cell_type": "code",
   "execution_count": 12,
   "id": "6183e8b6-1869-4d08-9849-f56104c54098",
   "metadata": {},
   "outputs": [],
   "source": [
    "changepoint_counts_df = changepoint_files.reset_index().rename(columns={'index':'file_uid', 'file_id':'changepoint_anno_count'})"
   ]
  },
  {
   "cell_type": "code",
   "execution_count": 13,
   "id": "b3455988-9223-4ece-92c0-ad47f5b297db",
   "metadata": {},
   "outputs": [],
   "source": [
    "merged_df = pd.merge(meta_df, changepoint_counts_df, how='inner', on='file_uid')"
   ]
  },
  {
   "cell_type": "code",
   "execution_count": 14,
   "id": "81cef6ff-beb1-4aba-ad3a-c4ed1858c337",
   "metadata": {},
   "outputs": [
    {
     "data": {
      "text/plain": [
       "count     541.000000\n",
       "mean      200.639556\n",
       "std       161.036634\n",
       "min        31.000000\n",
       "25%       103.000000\n",
       "50%       156.000000\n",
       "75%       229.000000\n",
       "max      1378.000000\n",
       "Name: utterance_count, dtype: float64"
      ]
     },
     "execution_count": 14,
     "metadata": {},
     "output_type": "execute_result"
    }
   ],
   "source": [
    "# identify median length of conversations\n",
    "merged_df['utterance_count'].describe()"
   ]
  },
  {
   "cell_type": "code",
   "execution_count": 19,
   "id": "907e65c7-5a1e-4d8d-8542-edfedab3921b",
   "metadata": {},
   "outputs": [
    {
     "data": {
      "text/plain": [
       "R3           6684\n",
       "R2           4914\n",
       "Mini-Eval    2481\n",
       "R1           2119\n",
       "Name: release, dtype: int64"
      ]
     },
     "execution_count": 19,
     "metadata": {},
     "output_type": "execute_result"
    }
   ],
   "source": [
    "meta_df['release'].value_counts()"
   ]
  },
  {
   "cell_type": "code",
   "execution_count": 17,
   "id": "819b60f0-488b-4207-b623-2d54c39ae2e4",
   "metadata": {},
   "outputs": [
    {
     "data": {
      "text/html": [
       "<div>\n",
       "<style scoped>\n",
       "    .dataframe tbody tr th:only-of-type {\n",
       "        vertical-align: middle;\n",
       "    }\n",
       "\n",
       "    .dataframe tbody tr th {\n",
       "        vertical-align: top;\n",
       "    }\n",
       "\n",
       "    .dataframe thead th {\n",
       "        text-align: right;\n",
       "    }\n",
       "</style>\n",
       "<table border=\"1\" class=\"dataframe\">\n",
       "  <thead>\n",
       "    <tr style=\"text-align: right;\">\n",
       "      <th></th>\n",
       "      <th>release</th>\n",
       "      <th>catalog_id</th>\n",
       "      <th>file_uid</th>\n",
       "      <th>url</th>\n",
       "      <th>modality</th>\n",
       "      <th>start</th>\n",
       "      <th>end</th>\n",
       "      <th>transcribed</th>\n",
       "      <th>utterance_count</th>\n",
       "      <th>emotion_count</th>\n",
       "      <th>...</th>\n",
       "      <th>download_date</th>\n",
       "      <th>content_date</th>\n",
       "      <th>status_in_corpus</th>\n",
       "      <th>legacy_catalog_id</th>\n",
       "      <th>original_file_id</th>\n",
       "      <th>type</th>\n",
       "      <th>file_path</th>\n",
       "      <th>length</th>\n",
       "      <th>version</th>\n",
       "      <th>changepoint_anno_count</th>\n",
       "    </tr>\n",
       "  </thead>\n",
       "  <tbody>\n",
       "    <tr>\n",
       "      <th>25</th>\n",
       "      <td>R2</td>\n",
       "      <td>LDC2022E19_R2</td>\n",
       "      <td>M01003M18</td>\n",
       "      <td>http://vd2.bdstatic.com/mda-nh4bibyv4v3ns4s0/c...</td>\n",
       "      <td>video</td>\n",
       "      <td>51.5</td>\n",
       "      <td>351.5</td>\n",
       "      <td>True</td>\n",
       "      <td>107.0</td>\n",
       "      <td>3.0</td>\n",
       "      <td>...</td>\n",
       "      <td>2022-09-14</td>\n",
       "      <td>na</td>\n",
       "      <td>present</td>\n",
       "      <td>NaN</td>\n",
       "      <td>NaN</td>\n",
       "      <td>NaN</td>\n",
       "      <td>NaN</td>\n",
       "      <td>NaN</td>\n",
       "      <td>V1.0</td>\n",
       "      <td>4</td>\n",
       "    </tr>\n",
       "    <tr>\n",
       "      <th>21</th>\n",
       "      <td>R2</td>\n",
       "      <td>LDC2022E19_R2</td>\n",
       "      <td>M01003JLO</td>\n",
       "      <td>http://vd2.bdstatic.com/mda-ngt14pajd86dszc9/c...</td>\n",
       "      <td>video</td>\n",
       "      <td>9.0</td>\n",
       "      <td>309.0</td>\n",
       "      <td>True</td>\n",
       "      <td>101.0</td>\n",
       "      <td>3.0</td>\n",
       "      <td>...</td>\n",
       "      <td>2022-09-13</td>\n",
       "      <td>na</td>\n",
       "      <td>present</td>\n",
       "      <td>NaN</td>\n",
       "      <td>NaN</td>\n",
       "      <td>NaN</td>\n",
       "      <td>NaN</td>\n",
       "      <td>NaN</td>\n",
       "      <td>V1.0</td>\n",
       "      <td>2</td>\n",
       "    </tr>\n",
       "    <tr>\n",
       "      <th>34</th>\n",
       "      <td>R2</td>\n",
       "      <td>LDC2022E19_R2</td>\n",
       "      <td>M01003S1K</td>\n",
       "      <td>https://www.bilibili.com/video/BV1kt4y1Q796</td>\n",
       "      <td>video</td>\n",
       "      <td>432.0</td>\n",
       "      <td>732.0</td>\n",
       "      <td>True</td>\n",
       "      <td>147.0</td>\n",
       "      <td>3.0</td>\n",
       "      <td>...</td>\n",
       "      <td>2022-09-17</td>\n",
       "      <td>na</td>\n",
       "      <td>present</td>\n",
       "      <td>NaN</td>\n",
       "      <td>NaN</td>\n",
       "      <td>NaN</td>\n",
       "      <td>NaN</td>\n",
       "      <td>NaN</td>\n",
       "      <td>V2.0</td>\n",
       "      <td>2</td>\n",
       "    </tr>\n",
       "    <tr>\n",
       "      <th>39</th>\n",
       "      <td>R2</td>\n",
       "      <td>LDC2022E19_R2</td>\n",
       "      <td>M01003VPM</td>\n",
       "      <td>https://www.bilibili.com/video/BV1yS4y1d7S8</td>\n",
       "      <td>video</td>\n",
       "      <td>73.5</td>\n",
       "      <td>373.5</td>\n",
       "      <td>True</td>\n",
       "      <td>119.0</td>\n",
       "      <td>3.0</td>\n",
       "      <td>...</td>\n",
       "      <td>2022-09-21</td>\n",
       "      <td>na</td>\n",
       "      <td>present</td>\n",
       "      <td>NaN</td>\n",
       "      <td>NaN</td>\n",
       "      <td>NaN</td>\n",
       "      <td>NaN</td>\n",
       "      <td>NaN</td>\n",
       "      <td>V1.0</td>\n",
       "      <td>2</td>\n",
       "    </tr>\n",
       "    <tr>\n",
       "      <th>41</th>\n",
       "      <td>R2</td>\n",
       "      <td>LDC2022E19_R2</td>\n",
       "      <td>M01003VVI</td>\n",
       "      <td>https://www.bilibili.com/video/BV1KP4y1A7AY</td>\n",
       "      <td>video</td>\n",
       "      <td>237.0</td>\n",
       "      <td>537.0</td>\n",
       "      <td>True</td>\n",
       "      <td>170.0</td>\n",
       "      <td>3.0</td>\n",
       "      <td>...</td>\n",
       "      <td>2022-09-21</td>\n",
       "      <td>na</td>\n",
       "      <td>present</td>\n",
       "      <td>NaN</td>\n",
       "      <td>NaN</td>\n",
       "      <td>NaN</td>\n",
       "      <td>NaN</td>\n",
       "      <td>NaN</td>\n",
       "      <td>V2.0</td>\n",
       "      <td>2</td>\n",
       "    </tr>\n",
       "    <tr>\n",
       "      <th>29</th>\n",
       "      <td>R2</td>\n",
       "      <td>LDC2022E19_R2</td>\n",
       "      <td>M01003M2H</td>\n",
       "      <td>http://vd4.bdstatic.com/mda-nh5h99ac43uhqi6j/c...</td>\n",
       "      <td>video</td>\n",
       "      <td>55.5</td>\n",
       "      <td>355.5</td>\n",
       "      <td>True</td>\n",
       "      <td>117.0</td>\n",
       "      <td>3.0</td>\n",
       "      <td>...</td>\n",
       "      <td>2022-09-14</td>\n",
       "      <td>na</td>\n",
       "      <td>present</td>\n",
       "      <td>NaN</td>\n",
       "      <td>NaN</td>\n",
       "      <td>NaN</td>\n",
       "      <td>NaN</td>\n",
       "      <td>NaN</td>\n",
       "      <td>V1.0</td>\n",
       "      <td>1</td>\n",
       "    </tr>\n",
       "    <tr>\n",
       "      <th>35</th>\n",
       "      <td>R2</td>\n",
       "      <td>LDC2022E19_R2</td>\n",
       "      <td>M01003T1X</td>\n",
       "      <td>https://www.bilibili.com/video/BV1Gi4y137hZ</td>\n",
       "      <td>video</td>\n",
       "      <td>200.0</td>\n",
       "      <td>500.0</td>\n",
       "      <td>True</td>\n",
       "      <td>106.0</td>\n",
       "      <td>3.0</td>\n",
       "      <td>...</td>\n",
       "      <td>2022-09-20</td>\n",
       "      <td>na</td>\n",
       "      <td>present</td>\n",
       "      <td>NaN</td>\n",
       "      <td>NaN</td>\n",
       "      <td>NaN</td>\n",
       "      <td>NaN</td>\n",
       "      <td>NaN</td>\n",
       "      <td>V2.0</td>\n",
       "      <td>1</td>\n",
       "    </tr>\n",
       "    <tr>\n",
       "      <th>36</th>\n",
       "      <td>R2</td>\n",
       "      <td>LDC2022E19_R2</td>\n",
       "      <td>M01003VMI</td>\n",
       "      <td>http://vd2.bdstatic.com/mda-nhj1f2mb3byn9axg/c...</td>\n",
       "      <td>video</td>\n",
       "      <td>293.0</td>\n",
       "      <td>593.0</td>\n",
       "      <td>True</td>\n",
       "      <td>107.0</td>\n",
       "      <td>2.0</td>\n",
       "      <td>...</td>\n",
       "      <td>2022-09-21</td>\n",
       "      <td>na</td>\n",
       "      <td>present</td>\n",
       "      <td>NaN</td>\n",
       "      <td>NaN</td>\n",
       "      <td>NaN</td>\n",
       "      <td>NaN</td>\n",
       "      <td>NaN</td>\n",
       "      <td>V1.0</td>\n",
       "      <td>1</td>\n",
       "    </tr>\n",
       "    <tr>\n",
       "      <th>37</th>\n",
       "      <td>R2</td>\n",
       "      <td>LDC2022E19_R2</td>\n",
       "      <td>M01003VNR</td>\n",
       "      <td>https://www.bilibili.com/video/BV1x44y1G7ZM</td>\n",
       "      <td>video</td>\n",
       "      <td>288.0</td>\n",
       "      <td>588.0</td>\n",
       "      <td>True</td>\n",
       "      <td>154.0</td>\n",
       "      <td>3.0</td>\n",
       "      <td>...</td>\n",
       "      <td>2022-09-21</td>\n",
       "      <td>na</td>\n",
       "      <td>present</td>\n",
       "      <td>NaN</td>\n",
       "      <td>NaN</td>\n",
       "      <td>NaN</td>\n",
       "      <td>NaN</td>\n",
       "      <td>NaN</td>\n",
       "      <td>V2.0</td>\n",
       "      <td>1</td>\n",
       "    </tr>\n",
       "  </tbody>\n",
       "</table>\n",
       "<p>9 rows × 28 columns</p>\n",
       "</div>"
      ],
      "text/plain": [
       "   release     catalog_id   file_uid  \\\n",
       "25      R2  LDC2022E19_R2  M01003M18   \n",
       "21      R2  LDC2022E19_R2  M01003JLO   \n",
       "34      R2  LDC2022E19_R2  M01003S1K   \n",
       "39      R2  LDC2022E19_R2  M01003VPM   \n",
       "41      R2  LDC2022E19_R2  M01003VVI   \n",
       "29      R2  LDC2022E19_R2  M01003M2H   \n",
       "35      R2  LDC2022E19_R2  M01003T1X   \n",
       "36      R2  LDC2022E19_R2  M01003VMI   \n",
       "37      R2  LDC2022E19_R2  M01003VNR   \n",
       "\n",
       "                                                  url modality  start    end  \\\n",
       "25  http://vd2.bdstatic.com/mda-nh4bibyv4v3ns4s0/c...    video   51.5  351.5   \n",
       "21  http://vd2.bdstatic.com/mda-ngt14pajd86dszc9/c...    video    9.0  309.0   \n",
       "34        https://www.bilibili.com/video/BV1kt4y1Q796    video  432.0  732.0   \n",
       "39        https://www.bilibili.com/video/BV1yS4y1d7S8    video   73.5  373.5   \n",
       "41        https://www.bilibili.com/video/BV1KP4y1A7AY    video  237.0  537.0   \n",
       "29  http://vd4.bdstatic.com/mda-nh5h99ac43uhqi6j/c...    video   55.5  355.5   \n",
       "35        https://www.bilibili.com/video/BV1Gi4y137hZ    video  200.0  500.0   \n",
       "36  http://vd2.bdstatic.com/mda-nhj1f2mb3byn9axg/c...    video  293.0  593.0   \n",
       "37        https://www.bilibili.com/video/BV1x44y1G7ZM    video  288.0  588.0   \n",
       "\n",
       "   transcribed  utterance_count  emotion_count  ...  download_date  \\\n",
       "25        True            107.0            3.0  ...     2022-09-14   \n",
       "21        True            101.0            3.0  ...     2022-09-13   \n",
       "34        True            147.0            3.0  ...     2022-09-17   \n",
       "39        True            119.0            3.0  ...     2022-09-21   \n",
       "41        True            170.0            3.0  ...     2022-09-21   \n",
       "29        True            117.0            3.0  ...     2022-09-14   \n",
       "35        True            106.0            3.0  ...     2022-09-20   \n",
       "36        True            107.0            2.0  ...     2022-09-21   \n",
       "37        True            154.0            3.0  ...     2022-09-21   \n",
       "\n",
       "    content_date  status_in_corpus  legacy_catalog_id original_file_id type  \\\n",
       "25            na           present                NaN              NaN  NaN   \n",
       "21            na           present                NaN              NaN  NaN   \n",
       "34            na           present                NaN              NaN  NaN   \n",
       "39            na           present                NaN              NaN  NaN   \n",
       "41            na           present                NaN              NaN  NaN   \n",
       "29            na           present                NaN              NaN  NaN   \n",
       "35            na           present                NaN              NaN  NaN   \n",
       "36            na           present                NaN              NaN  NaN   \n",
       "37            na           present                NaN              NaN  NaN   \n",
       "\n",
       "   file_path length version changepoint_anno_count  \n",
       "25       NaN    NaN    V1.0                      4  \n",
       "21       NaN    NaN    V1.0                      2  \n",
       "34       NaN    NaN    V2.0                      2  \n",
       "39       NaN    NaN    V1.0                      2  \n",
       "41       NaN    NaN    V2.0                      2  \n",
       "29       NaN    NaN    V1.0                      1  \n",
       "35       NaN    NaN    V2.0                      1  \n",
       "36       NaN    NaN    V1.0                      1  \n",
       "37       NaN    NaN    V2.0                      1  \n",
       "\n",
       "[9 rows x 28 columns]"
      ]
     },
     "execution_count": 17,
     "metadata": {},
     "output_type": "execute_result"
    }
   ],
   "source": [
    "length_filter = (merged_df['utterance_count'] >= 100) & (merged_df['utterance_count'] <= 200)\n",
    "merged_df[length_filter & (merged_df['url'] != 'na')].sort_values(by=['changepoint_anno_count'], ascending=False)# [['file_uid', 'url', 'changepoint_anno_count']].values"
   ]
  },
  {
   "cell_type": "markdown",
   "id": "b058a5e4-499c-482d-b7fc-f5e0fa48b727",
   "metadata": {},
   "source": [
    "## Evaluation"
   ]
  },
  {
   "cell_type": "code",
   "execution_count": 33,
   "id": "ec601437-4654-462f-8885-20a35b660d33",
   "metadata": {},
   "outputs": [
    {
     "data": {
      "text/html": [
       "<div>\n",
       "<style scoped>\n",
       "    .dataframe tbody tr th:only-of-type {\n",
       "        vertical-align: middle;\n",
       "    }\n",
       "\n",
       "    .dataframe tbody tr th {\n",
       "        vertical-align: top;\n",
       "    }\n",
       "\n",
       "    .dataframe thead th {\n",
       "        text-align: right;\n",
       "    }\n",
       "</style>\n",
       "<table border=\"1\" class=\"dataframe\">\n",
       "  <thead>\n",
       "    <tr style=\"text-align: right;\">\n",
       "      <th></th>\n",
       "      <th>user_id</th>\n",
       "      <th>file_id</th>\n",
       "      <th>timestamp</th>\n",
       "      <th>impact_scalar</th>\n",
       "      <th>comment</th>\n",
       "      <th>binary_impact_scalar</th>\n",
       "      <th>changepoint_occurred</th>\n",
       "    </tr>\n",
       "  </thead>\n",
       "  <tbody>\n",
       "    <tr>\n",
       "      <th>2</th>\n",
       "      <td>212</td>\n",
       "      <td>M01003MTK</td>\n",
       "      <td>64</td>\n",
       "      <td>5</td>\n",
       "      <td>Pre-change: female introduced the male to her ...</td>\n",
       "      <td>1</td>\n",
       "      <td>True</td>\n",
       "    </tr>\n",
       "    <tr>\n",
       "      <th>3</th>\n",
       "      <td>212</td>\n",
       "      <td>M01003MTK</td>\n",
       "      <td>239</td>\n",
       "      <td>1</td>\n",
       "      <td>Pre-change: The female and male speakers were ...</td>\n",
       "      <td>0</td>\n",
       "      <td>True</td>\n",
       "    </tr>\n",
       "    <tr>\n",
       "      <th>4</th>\n",
       "      <td>212</td>\n",
       "      <td>M01003MTK</td>\n",
       "      <td>267</td>\n",
       "      <td>5</td>\n",
       "      <td>Pre-change: The group chit-chat with the male ...</td>\n",
       "      <td>1</td>\n",
       "      <td>True</td>\n",
       "    </tr>\n",
       "  </tbody>\n",
       "</table>\n",
       "</div>"
      ],
      "text/plain": [
       "   user_id    file_id  timestamp  impact_scalar  \\\n",
       "2      212  M01003MTK         64              5   \n",
       "3      212  M01003MTK        239              1   \n",
       "4      212  M01003MTK        267              5   \n",
       "\n",
       "                                             comment  binary_impact_scalar  \\\n",
       "2  Pre-change: female introduced the male to her ...                     1   \n",
       "3  Pre-change: The female and male speakers were ...                     0   \n",
       "4  Pre-change: The group chit-chat with the male ...                     1   \n",
       "\n",
       "   changepoint_occurred  \n",
       "2                  True  \n",
       "3                  True  \n",
       "4                  True  "
      ]
     },
     "execution_count": 33,
     "metadata": {},
     "output_type": "execute_result"
    }
   ],
   "source": [
    "changepoint_df[changepoint_df['file_id'] == 'M01003MTK']"
   ]
  },
  {
   "cell_type": "code",
   "execution_count": 28,
   "id": "4e67a0c1-adcd-4bf2-864e-770cad75f721",
   "metadata": {},
   "outputs": [],
   "source": [
    "# 0: good to bad, 1: bad to good\n",
    "binary_map = {1: 0, 2: 0, 3: 0, 4: 1, 5: 1}"
   ]
  },
  {
   "cell_type": "code",
   "execution_count": 29,
   "id": "31f7d825-b21d-4d47-8f54-c7f26d477911",
   "metadata": {},
   "outputs": [],
   "source": [
    "changepoint_df['binary_impact_scalar'] = changepoint_df['impact_scalar'].apply(lambda x: binary_map[x])"
   ]
  },
  {
   "cell_type": "code",
   "execution_count": 30,
   "id": "46949491-d927-462f-9b86-4c5d79e24744",
   "metadata": {},
   "outputs": [],
   "source": [
    "# binary changepoint flag\n",
    "changepoint_df['changepoint_occurred'] = True"
   ]
  },
  {
   "cell_type": "code",
   "execution_count": 31,
   "id": "f47ccdcf-25bc-4560-82b7-9a1b9d0d1da5",
   "metadata": {},
   "outputs": [],
   "source": [
    "yanda_anno_file_df = changepoint_df[changepoint_df['file_id'] == 'M01003MTK'].copy()\n",
    "yukun_anno_file_df = changepoint_df[changepoint_df['file_id'] == 'M01003MTK'].copy()"
   ]
  },
  {
   "cell_type": "code",
   "execution_count": 32,
   "id": "50f86f47-345b-4e72-8714-0fbe61dac280",
   "metadata": {},
   "outputs": [],
   "source": [
    "# load manual annotations\n",
    "yanda_filepath = os.path.join(home_dir, 'Documents/datasets/charm/transformed/annotations/Circumplex Theory Annotations - Yanda - Sheet1.csv')\n",
    "yukun_filepath = os.path.join(home_dir, 'Documents/datasets/charm/transformed/annotations/Circumplex Theory Annotations - Yukun - Sheet1.csv')"
   ]
  },
  {
   "cell_type": "code",
   "execution_count": 34,
   "id": "72ae3720-6d74-429a-82e8-9545138b8f60",
   "metadata": {},
   "outputs": [],
   "source": [
    "def convert_to_seconds(timestamp):\n",
    "    mins, secs = timestamp.split(':')\n",
    "    return int(mins)*60 + int(secs)"
   ]
  },
  {
   "cell_type": "code",
   "execution_count": 35,
   "id": "208eecf0-f503-4400-a0b1-17a9cdfead23",
   "metadata": {},
   "outputs": [],
   "source": [
    "def load_manual_annotation(filepath):\n",
    "    df = pd.read_csv(filepath, skiprows=1)\n",
    "    # drop first col\n",
    "    df = df[df.columns[1:]]\n",
    "\n",
    "    # binary impact scalar (are these correct? - especially aloof-introverted, unassured-submissive, assured-dominant)\n",
    "    tag_mapping = {'Gregarious-Extraverted': 1, 'Warm-Agreeable': 1, 'Arrogant-Calculating': 0, \n",
    "                   'Unassured-Submissive': 1, 'Cold': 0, 'Unassuming-Ingenuous': 1, \n",
    "                   'Aloof-Introverted': 0, 'Assured-Dominant': 0}\n",
    "\n",
    "    df['timestamp_seconds'] = df['Timestamp'].apply(convert_to_seconds)\n",
    "    df['binary_impact_scalar'] = df['Tag'].apply(lambda x: tag_mapping[x]).astype(float)\n",
    "    df['matched'] = False\n",
    "    return df"
   ]
  },
  {
   "cell_type": "code",
   "execution_count": 36,
   "id": "ab4621df-5bb8-43f2-bd0c-84665015fc81",
   "metadata": {},
   "outputs": [],
   "source": [
    "yanda_df = load_manual_annotation(yanda_filepath)\n",
    "yukun_df = load_manual_annotation(yukun_filepath)"
   ]
  },
  {
   "cell_type": "code",
   "execution_count": 37,
   "id": "8d0a542b-cb51-423a-97ff-f1dc3bee42f4",
   "metadata": {},
   "outputs": [],
   "source": [
    "# TODO: generalize this\n",
    "# filter Yukun's preds\n",
    "yukun_df = yukun_df[yukun_df['File ID'] == 'M01003MTK']"
   ]
  },
  {
   "cell_type": "code",
   "execution_count": 38,
   "id": "d9024eb0-27ec-43c8-aaf5-52cf66bb334d",
   "metadata": {},
   "outputs": [],
   "source": [
    "def find_matches(anno_df, label_df, window_size=10):\n",
    "    # for each ground-truth search +/- 10 seconds for a label\n",
    "    # pull in any unmatched\n",
    "    match_indicator = [] # true/false\n",
    "    binary_pred = []\n",
    "    for idx, row in anno_df.iterrows():\n",
    "        start = row['timestamp'] - window_size\n",
    "        end = row['timestamp'] + window_size\n",
    "        filt_df = label_df[(label_df['timestamp_seconds'] >= start) & (label_df['timestamp_seconds'] <= end)]\n",
    "        if len(filt_df) > 0:\n",
    "            match_indicator.append(True)\n",
    "            binary_pred.append(filt_df.iloc[0]['binary_impact_scalar'])\n",
    "            # mark which ones we matched\n",
    "            label_df.loc[filt_df.index, 'matched'] = [True] + [False]*(len(filt_df) - 1)\n",
    "        else:\n",
    "            match_indicator.append(False)\n",
    "            binary_pred.append(-1)\n",
    "    \n",
    "    anno_df['matched'] = match_indicator\n",
    "    anno_df['binary_pred'] = binary_pred\n",
    "    return anno_df, label_df"
   ]
  },
  {
   "cell_type": "code",
   "execution_count": 39,
   "id": "49ee1f8f-e273-4083-b611-bd8b70cc4206",
   "metadata": {},
   "outputs": [],
   "source": [
    "yanda_anno_file_df, yanda_df = find_matches(yanda_anno_file_df, yanda_df)\n",
    "yukun_anno_file_df, yukun_df = find_matches(yukun_anno_file_df, yukun_df)"
   ]
  },
  {
   "cell_type": "code",
   "execution_count": 40,
   "id": "d8dea356-1598-40d1-a1f3-446df07ac188",
   "metadata": {},
   "outputs": [],
   "source": [
    "def complete_predictions(anno_df, label_df):\n",
    "    # extra preds\n",
    "    extra_impact_scalar = label_df[~label_df['matched']]['binary_impact_scalar'].astype(float).values.tolist()\n",
    "    changepoint_occurred = [True]*len(extra_impact_scalar)\n",
    "\n",
    "    # complete preds\n",
    "    changepoint_preds = anno_df['matched'].values.tolist() + changepoint_occurred\n",
    "    binary_preds = anno_df['binary_pred'].values.tolist() + extra_impact_scalar\n",
    "\n",
    "    # complete ground truth\n",
    "    changepoint_ground_truth = anno_df['changepoint_occurred'].values.tolist() + [False]*len(changepoint_occurred)\n",
    "    binary_ground_truth = anno_df['binary_impact_scalar'].values.tolist() + [-1]*len(changepoint_occurred)\n",
    "    \n",
    "    return {'changepoint_ground_truth': changepoint_ground_truth, 'changepoint_preds':changepoint_preds, \n",
    "            'binary_ground_truth': binary_ground_truth, 'binary_preds': binary_preds}"
   ]
  },
  {
   "cell_type": "code",
   "execution_count": 41,
   "id": "e0542d39-2bf9-4995-a9cb-3c1d0e7aa388",
   "metadata": {},
   "outputs": [],
   "source": [
    "yanda_results = complete_predictions(yanda_anno_file_df, yanda_df)\n",
    "yukun_results = complete_predictions(yukun_anno_file_df, yukun_df)"
   ]
  },
  {
   "cell_type": "code",
   "execution_count": 42,
   "id": "d275d328-4cf1-4467-9b2c-5210d72818b4",
   "metadata": {},
   "outputs": [
    {
     "data": {
      "text/plain": [
       "{'changepoint_ground_truth': [True,\n",
       "  True,\n",
       "  True,\n",
       "  False,\n",
       "  False,\n",
       "  False,\n",
       "  False,\n",
       "  False],\n",
       " 'changepoint_preds': [False, True, False, True, True, True, True, True],\n",
       " 'binary_ground_truth': [1, 0, 1, -1, -1, -1, -1, -1],\n",
       " 'binary_preds': [-1.0, 1.0, -1.0, 1.0, 1.0, 1.0, 1.0, 1.0]}"
      ]
     },
     "execution_count": 42,
     "metadata": {},
     "output_type": "execute_result"
    }
   ],
   "source": [
    "yanda_results"
   ]
  },
  {
   "cell_type": "code",
   "execution_count": 43,
   "id": "874170b2-93f3-4684-ba76-2302b1af23c4",
   "metadata": {},
   "outputs": [
    {
     "data": {
      "text/plain": [
       "{'changepoint_ground_truth': [True, True, True, False, False, False],\n",
       " 'changepoint_preds': [True, True, True, True, True, True],\n",
       " 'binary_ground_truth': [1, 0, 1, -1, -1, -1],\n",
       " 'binary_preds': [1.0, 0.0, 1.0, 0.0, 0.0, 1.0]}"
      ]
     },
     "execution_count": 43,
     "metadata": {},
     "output_type": "execute_result"
    }
   ],
   "source": [
    "yukun_results"
   ]
  },
  {
   "cell_type": "code",
   "execution_count": 44,
   "id": "3b1773c6-5806-4811-9bb8-5eaee89e8a6f",
   "metadata": {},
   "outputs": [],
   "source": [
    "from sklearn.metrics import classification_report"
   ]
  },
  {
   "cell_type": "code",
   "execution_count": 45,
   "id": "204735d2-8afc-4e13-96b1-231c7544bad6",
   "metadata": {},
   "outputs": [
    {
     "name": "stdout",
     "output_type": "stream",
     "text": [
      "              precision    recall  f1-score   support\n",
      "\n",
      "       False       0.00      0.00      0.00         5\n",
      "        True       0.17      0.33      0.22         3\n",
      "\n",
      "    accuracy                           0.12         8\n",
      "   macro avg       0.08      0.17      0.11         8\n",
      "weighted avg       0.06      0.12      0.08         8\n",
      "\n"
     ]
    }
   ],
   "source": [
    "# Yanda changepoint preds\n",
    "print(classification_report(y_true=yanda_results['changepoint_ground_truth'], y_pred=yanda_results['changepoint_preds']))"
   ]
  },
  {
   "cell_type": "code",
   "execution_count": 53,
   "id": "c5d8241c-3dcc-43a7-a236-0b72868241da",
   "metadata": {},
   "outputs": [
    {
     "name": "stdout",
     "output_type": "stream",
     "text": [
      "              precision    recall  f1-score   support\n",
      "\n",
      "          -1       0.00      0.00      0.00       5.0\n",
      "           0       0.00      0.00      0.00       1.0\n",
      "           1       0.00      0.00      0.00       2.0\n",
      "\n",
      "    accuracy                           0.00       8.0\n",
      "   macro avg       0.00      0.00      0.00       8.0\n",
      "weighted avg       0.00      0.00      0.00       8.0\n",
      "\n"
     ]
    }
   ],
   "source": [
    "# Yanda binary preds\n",
    "print(classification_report(y_true=yanda_results['binary_ground_truth'], y_pred=yanda_results['binary_preds'], zero_division=0))"
   ]
  },
  {
   "cell_type": "code",
   "execution_count": 54,
   "id": "e485b8f3-8d80-4ee2-8d28-2edbcc1dbf1d",
   "metadata": {},
   "outputs": [
    {
     "name": "stdout",
     "output_type": "stream",
     "text": [
      "              precision    recall  f1-score   support\n",
      "\n",
      "       False       0.00      0.00      0.00         3\n",
      "        True       0.50      1.00      0.67         3\n",
      "\n",
      "    accuracy                           0.50         6\n",
      "   macro avg       0.25      0.50      0.33         6\n",
      "weighted avg       0.25      0.50      0.33         6\n",
      "\n"
     ]
    }
   ],
   "source": [
    "# Yukun changepoint preds\n",
    "print(classification_report(y_true=yukun_results['changepoint_ground_truth'], y_pred=yukun_results['changepoint_preds'], zero_division=0))"
   ]
  },
  {
   "cell_type": "code",
   "execution_count": 55,
   "id": "47994320-5354-4fee-a004-8af73d81eeea",
   "metadata": {},
   "outputs": [
    {
     "name": "stdout",
     "output_type": "stream",
     "text": [
      "              precision    recall  f1-score   support\n",
      "\n",
      "          -1       0.00      0.00      0.00         3\n",
      "           0       0.33      1.00      0.50         1\n",
      "           1       0.67      1.00      0.80         2\n",
      "\n",
      "    accuracy                           0.50         6\n",
      "   macro avg       0.33      0.67      0.43         6\n",
      "weighted avg       0.28      0.50      0.35         6\n",
      "\n"
     ]
    }
   ],
   "source": [
    "# Yukun binary preds\n",
    "print(classification_report(y_true=yukun_results['binary_ground_truth'], y_pred=yukun_results['binary_preds'], zero_division=0))"
   ]
  },
  {
   "cell_type": "code",
   "execution_count": null,
   "id": "ab7438ba-4e38-4f19-82d3-ed76303cde67",
   "metadata": {},
   "outputs": [],
   "source": []
  }
 ],
 "metadata": {
  "kernelspec": {
   "display_name": "Python (CHARM)",
   "language": "python",
   "name": "charm"
  },
  "language_info": {
   "codemirror_mode": {
    "name": "ipython",
    "version": 3
   },
   "file_extension": ".py",
   "mimetype": "text/x-python",
   "name": "python",
   "nbconvert_exporter": "python",
   "pygments_lexer": "ipython3",
   "version": "3.10.6"
  }
 },
 "nbformat": 4,
 "nbformat_minor": 5
}
