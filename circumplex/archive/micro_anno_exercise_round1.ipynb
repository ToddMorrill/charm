{
 "cells": [
  {
   "cell_type": "code",
   "execution_count": 95,
   "id": "a70a71ec-6b6e-4071-a437-793002505bda",
   "metadata": {},
   "outputs": [],
   "source": [
    "import os\n",
    "import hashlib\n",
    "import yaml\n",
    "\n",
    "import pandas as pd\n",
    "import numpy as np\n",
    "\n",
    "from charm.eval.eval import mapping, categorize_pairs, precision, recall, load_data\n",
    "from charm.data import utils"
   ]
  },
  {
   "cell_type": "code",
   "execution_count": 2,
   "id": "cfc8d933-3bbd-4255-ab83-aeeab8ac0a61",
   "metadata": {},
   "outputs": [],
   "source": [
    "raw_dir = '/home/iron-man/Documents/data/charm/raw'\n",
    "transformed_dir = '/home/iron-man/Documents/data/charm/transformed'\n",
    "r2 = 'LDC2022E19_CCU_TA1_Mandarin_Chinese_Development_Source_Data_R2_V2.0'\n",
    "r2_dir = os.path.join(raw_dir, r2)"
   ]
  },
  {
   "cell_type": "code",
   "execution_count": 3,
   "id": "594a1427-8c72-4326-b0e4-eb5749139eb6",
   "metadata": {},
   "outputs": [],
   "source": [
    "# load predictions\n",
    "annotations_dir = '/home/iron-man/Documents/data/charm/transformed/annotations'\n",
    "genglin = os.path.join(annotations_dir, 'Circumplex Theory Annotations - Genglin - Sheet1.csv')\n",
    "jialiang = os.path.join(annotations_dir, 'Circumplex Theory Annotations - Jialiang - Sheet1.csv')\n",
    "yukun = os.path.join(annotations_dir, 'Circumplex Theory Annotations - Yukun - Sheet1.csv')\n",
    "\n",
    "genglin_df = pd.read_csv(genglin, skiprows=1, usecols=range(1, 9))\n",
    "jialiang_df = pd.read_csv(jialiang, skiprows=1, usecols=range(1, 9))\n",
    "yukun_df = pd.read_csv(yukun, skiprows=1, usecols=range(1, 9))"
   ]
  },
  {
   "cell_type": "code",
   "execution_count": 4,
   "id": "9403fa0b-851e-4d0c-a214-6e1d180fb1f9",
   "metadata": {},
   "outputs": [],
   "source": [
    "# load ground truth\n",
    "anno_dir = '/home/iron-man/Documents/data/charm/raw/LDC2022E18_CCU_TA1_Mandarin_Chinese_Development_Annotation_V5.0/'\n",
    "anno_dfs, segment_df, version_df = utils.load_ldc_annotation(anno_dir)"
   ]
  },
  {
   "cell_type": "code",
   "execution_count": 5,
   "id": "922fa93e-08e2-46ca-a18d-845837b4e4a6",
   "metadata": {},
   "outputs": [],
   "source": [
    "# load metadata\n",
    "meta_filepath = '/home/iron-man/Documents/data/charm/transformed/metadata.csv'\n",
    "meta_df = pd.read_csv(meta_filepath)"
   ]
  },
  {
   "cell_type": "code",
   "execution_count": 6,
   "id": "aace0f8c-6068-4825-9a69-cb119e0c4020",
   "metadata": {},
   "outputs": [],
   "source": [
    "modality_df = anno_dfs['changepoint.tab']"
   ]
  },
  {
   "cell_type": "code",
   "execution_count": 7,
   "id": "21980a59-bb1c-4b83-8096-d7326c375a15",
   "metadata": {},
   "outputs": [],
   "source": [
    "# set thresholds\n",
    "delta = 10\n",
    "llr_threshold = 0"
   ]
  },
  {
   "cell_type": "code",
   "execution_count": 8,
   "id": "0b450d62-60c7-42b3-812d-9c44cff76b36",
   "metadata": {},
   "outputs": [],
   "source": [
    "def convert_to_seconds(timestamp):\n",
    "    mins, secs = timestamp.split(':')\n",
    "    return int(mins)*60 + int(secs)"
   ]
  },
  {
   "cell_type": "code",
   "execution_count": 9,
   "id": "25154456-3544-4eaa-a59a-9f6c99317b81",
   "metadata": {},
   "outputs": [],
   "source": [
    "def clean_df(df):\n",
    "    # drop rows where timestamp is empty\n",
    "    df = df[df['Timestamp'].notnull()].reset_index(drop=True)\n",
    "    df['llr'] = 1.0\n",
    "    df = df.rename(columns={'File ID': 'file_id', 'Timestamp': 'timestamp', 'Annotator Notes': 'annotator_notes', 'Tag': 'tag', 'Speaker Descriptor (if needed)': 'speaker'}, errors='ignore')\n",
    "    cols = ['file_id', 'timestamp', 'llr', 'tag', 'speaker', 'annotator_notes', 'URL']\n",
    "    df = df[cols]\n",
    "    df['timestamp'] = df['timestamp'].apply(convert_to_seconds)\n",
    "    return df"
   ]
  },
  {
   "cell_type": "code",
   "execution_count": 10,
   "id": "0a2f08dc-1e8b-4c14-87b1-7daf756cfd1c",
   "metadata": {},
   "outputs": [],
   "source": [
    "genglin_df = clean_df(genglin_df)\n",
    "jialiang_df = clean_df(jialiang_df)\n",
    "yukun_df = clean_df(yukun_df)"
   ]
  },
  {
   "cell_type": "markdown",
   "id": "58147359-4897-4d4e-ab35-87e596ce19f7",
   "metadata": {},
   "source": [
    "### Approach 1: assume all annotated points are change points"
   ]
  },
  {
   "cell_type": "code",
   "execution_count": 11,
   "id": "bfbd8eb0-e940-43fd-9209-5a2a91e10f9e",
   "metadata": {},
   "outputs": [],
   "source": [
    "# genglin_df['file_id'].unique()\n",
    "# yukun_df['file_id'].unique()\n",
    "# modality_df[modality_df['file_id'].isin(yukun_df['file_id'].unique())]['file_id'].unique()"
   ]
  },
  {
   "cell_type": "code",
   "execution_count": 12,
   "id": "28f846b2-5b1b-429b-bd4b-51125d6a6a05",
   "metadata": {},
   "outputs": [],
   "source": [
    "# verify all file_ids have annotations\n",
    "file_ids = genglin_df['file_id'].unique().tolist() + yukun_df['file_id'].unique().tolist()"
   ]
  },
  {
   "cell_type": "code",
   "execution_count": 123,
   "id": "3ee19755-33fb-41fa-9b7b-343c9bc2d248",
   "metadata": {},
   "outputs": [
    {
     "data": {
      "text/plain": [
       "{'M01003JLO', 'M01003M18', 'M01003S1K', 'M01003VVI'}"
      ]
     },
     "execution_count": 123,
     "metadata": {},
     "output_type": "execute_result"
    }
   ],
   "source": [
    "genglin_set = set(genglin_df['file_id'].unique().tolist())\n",
    "genglin_set"
   ]
  },
  {
   "cell_type": "code",
   "execution_count": 124,
   "id": "94dbc78e-8cd5-40c8-8518-475c4f7de8fc",
   "metadata": {},
   "outputs": [
    {
     "data": {
      "text/plain": [
       "{'M01003JQV', 'M01003M18', 'M01003M20', 'M01003MTK', 'M01003YN6'}"
      ]
     },
     "execution_count": 124,
     "metadata": {},
     "output_type": "execute_result"
    }
   ],
   "source": [
    "yukun_set = set(yukun_df['file_id'].unique().tolist())\n",
    "yukun_set"
   ]
  },
  {
   "cell_type": "code",
   "execution_count": 122,
   "id": "a42e7087-58b0-4907-beff-48f18cbf22a3",
   "metadata": {},
   "outputs": [
    {
     "data": {
      "text/plain": [
       "{'M01003M18'}"
      ]
     },
     "execution_count": 122,
     "metadata": {},
     "output_type": "execute_result"
    }
   ],
   "source": [
    "genglin_set.intersection(yukun_set)"
   ]
  },
  {
   "cell_type": "code",
   "execution_count": 13,
   "id": "af733ce4-6872-4d81-98f0-596cbe68450b",
   "metadata": {},
   "outputs": [],
   "source": [
    "# assert that changepoint annotations exist for these files\n",
    "assert (version_df[version_df['file_id'].isin(file_ids)]['changepoint_count'] >= 1).all()"
   ]
  },
  {
   "cell_type": "code",
   "execution_count": 14,
   "id": "3b4915bf-1dab-4753-a25e-fb45d903ec22",
   "metadata": {},
   "outputs": [
    {
     "data": {
      "text/plain": [
       "['M01003S1K',\n",
       " 'M01003M18',\n",
       " 'M01003VVI',\n",
       " 'M01003JLO',\n",
       " 'M01003M18',\n",
       " 'M01003YN6',\n",
       " 'M01003M20',\n",
       " 'M01003JQV',\n",
       " 'M01003MTK']"
      ]
     },
     "execution_count": 14,
     "metadata": {},
     "output_type": "execute_result"
    }
   ],
   "source": [
    "file_ids"
   ]
  },
  {
   "cell_type": "code",
   "execution_count": 15,
   "id": "1b29bff4-8c50-4cfe-9411-7ac0de0c9e67",
   "metadata": {},
   "outputs": [],
   "source": [
    "file_id = 'M01003JLO'"
   ]
  },
  {
   "cell_type": "code",
   "execution_count": 16,
   "id": "542dde3f-2fb2-4a65-8a56-1af768e83466",
   "metadata": {},
   "outputs": [
    {
     "data": {
      "text/html": [
       "<div>\n",
       "<style scoped>\n",
       "    .dataframe tbody tr th:only-of-type {\n",
       "        vertical-align: middle;\n",
       "    }\n",
       "\n",
       "    .dataframe tbody tr th {\n",
       "        vertical-align: top;\n",
       "    }\n",
       "\n",
       "    .dataframe thead th {\n",
       "        text-align: right;\n",
       "    }\n",
       "</style>\n",
       "<table border=\"1\" class=\"dataframe\">\n",
       "  <thead>\n",
       "    <tr style=\"text-align: right;\">\n",
       "      <th></th>\n",
       "      <th>release</th>\n",
       "      <th>catalog_id</th>\n",
       "      <th>file_uid</th>\n",
       "      <th>url</th>\n",
       "      <th>modality</th>\n",
       "      <th>start</th>\n",
       "      <th>end</th>\n",
       "      <th>transcribed</th>\n",
       "      <th>utterance_count</th>\n",
       "      <th>valence_arousal_count</th>\n",
       "      <th>...</th>\n",
       "      <th>unwrapped_md5</th>\n",
       "      <th>download_date</th>\n",
       "      <th>content_date</th>\n",
       "      <th>status_in_corpus</th>\n",
       "      <th>legacy_catalog_id</th>\n",
       "      <th>original_file_id</th>\n",
       "      <th>type</th>\n",
       "      <th>file_path</th>\n",
       "      <th>length</th>\n",
       "      <th>version</th>\n",
       "    </tr>\n",
       "  </thead>\n",
       "  <tbody>\n",
       "    <tr>\n",
       "      <th>2127</th>\n",
       "      <td>R2</td>\n",
       "      <td>LDC2022E19_R2</td>\n",
       "      <td>M01003JLO</td>\n",
       "      <td>http://vd2.bdstatic.com/mda-ngt14pajd86dszc9/c...</td>\n",
       "      <td>video</td>\n",
       "      <td>9.0</td>\n",
       "      <td>309.0</td>\n",
       "      <td>True</td>\n",
       "      <td>101.0</td>\n",
       "      <td>3.0</td>\n",
       "      <td>...</td>\n",
       "      <td>ba2106e462cd9d8c7634b79c8bd453aa</td>\n",
       "      <td>2022-09-13</td>\n",
       "      <td>na</td>\n",
       "      <td>present</td>\n",
       "      <td>NaN</td>\n",
       "      <td>NaN</td>\n",
       "      <td>NaN</td>\n",
       "      <td>NaN</td>\n",
       "      <td>NaN</td>\n",
       "      <td>V1.0</td>\n",
       "    </tr>\n",
       "  </tbody>\n",
       "</table>\n",
       "<p>1 rows × 26 columns</p>\n",
       "</div>"
      ],
      "text/plain": [
       "     release     catalog_id   file_uid  \\\n",
       "2127      R2  LDC2022E19_R2  M01003JLO   \n",
       "\n",
       "                                                    url modality  start  \\\n",
       "2127  http://vd2.bdstatic.com/mda-ngt14pajd86dszc9/c...    video    9.0   \n",
       "\n",
       "        end transcribed  utterance_count  valence_arousal_count  ...  \\\n",
       "2127  309.0        True            101.0                    3.0  ...   \n",
       "\n",
       "                         unwrapped_md5  download_date  content_date  \\\n",
       "2127  ba2106e462cd9d8c7634b79c8bd453aa     2022-09-13            na   \n",
       "\n",
       "     status_in_corpus legacy_catalog_id original_file_id type file_path  \\\n",
       "2127          present               NaN              NaN  NaN       NaN   \n",
       "\n",
       "     length version  \n",
       "2127    NaN    V1.0  \n",
       "\n",
       "[1 rows x 26 columns]"
      ]
     },
     "execution_count": 16,
     "metadata": {},
     "output_type": "execute_result"
    }
   ],
   "source": [
    "meta_df[meta_df['file_uid'] == 'M01003JLO']"
   ]
  },
  {
   "cell_type": "code",
   "execution_count": 17,
   "id": "d09b7ed0-bd0e-4990-8896-dd00c6b92ce2",
   "metadata": {},
   "outputs": [],
   "source": [
    "# load release 2 file_info.tab\n",
    "uid_list_filepath = '/home/iron-man/Documents/data/charm/raw/LDC2022E19_CCU_TA1_Mandarin_Chinese_Development_Source_Data_R2_V2.0/docs/uid_list.tab'\n",
    "uid_list_df = pd.read_csv(uid_list_filepath, delimiter='\\t')\n",
    "\n",
    "# save this to the dl_tool folder\n",
    "dl_tool_dir = '/home/iron-man/Documents/data/charm/raw/LDC2022E19_CCU_TA1_Mandarin_Chinese_Development_Source_Data_R2_V2.0/tools/dl_tool/'\n",
    "uid_filepath = os.path.join(dl_tool_dir, 'uid_sublist.tab')\n",
    "uid_sublist_df = uid_list_df[uid_list_df['file_uid'] == 'M01003JLO']\n",
    "uid_sublist_df.to_csv(uid_filepath, sep='\\t', index=False)"
   ]
  },
  {
   "cell_type": "code",
   "execution_count": 19,
   "id": "5f2fcc2a-d4ad-4cc7-9fae-0a939e292439",
   "metadata": {},
   "outputs": [],
   "source": [
    "# in dl_tool folder run\n",
    "# ./get_urls.sh uid_sublist.tab"
   ]
  },
  {
   "cell_type": "code",
   "execution_count": 20,
   "id": "67fb0977-4a73-40e4-8dbd-82d96295b9c4",
   "metadata": {},
   "outputs": [],
   "source": [
    "# transcribe this file with whisper\n",
    "input_filepath = os.path.join(r2_dir, f'tools/dl_tool/out/{file_id}.mp4.ldcc')"
   ]
  },
  {
   "cell_type": "code",
   "execution_count": 21,
   "id": "d6fbf333-6d97-4d8f-b70e-1961cad91c54",
   "metadata": {},
   "outputs": [],
   "source": [
    "# read first 16 bytes and determine the size of the header\n",
    "with open(input_filepath, 'rb') as f:\n",
    "    first_bytes = f.read(16).decode()\n",
    "\n",
    "header_size = int(first_bytes.split('\\n')[1].strip())\n",
    "\n",
    "# read header size bytes, strip off first 16 bytes and last 8 bytes and pass remainder to a YAML parser\n",
    "with open(input_filepath, 'rb') as f:\n",
    "    header = f.read(header_size).decode()\n",
    "    complete_content = f.read()\n",
    "\n",
    "header_dict = yaml.safe_load(header[16:-8])\n",
    "\n",
    "assert hashlib.md5(complete_content).hexdigest() == header_dict['data_md5']"
   ]
  },
  {
   "cell_type": "code",
   "execution_count": 22,
   "id": "2496e55c-86d6-449e-a63f-19659da0a9cb",
   "metadata": {},
   "outputs": [
    {
     "name": "stdout",
     "output_type": "stream",
     "text": [
      "---\n",
      "source_uid: S0C\n",
      "parent_uid: na\n",
      "has_siblings: 'false'\n",
      "root_uid: na\n",
      "data_bytes: 24573458\n",
      "data_md5: ba2106e462cd9d8c7634b79c8bd453aa\n",
      "data_type: mp4\n",
      "data_url: http://vd2.bdstatic.com/mda-ngt14pajd86dszc9/cae_h264/1658970258963454944/mda-ngt14pajd86dszc9.mp4\n",
      "data_uid: M01003JLO\n",
      "                                                                                                                                                                                                                                                                                                                                                                                                                                                                                                                                                                                                                                                                                                                                                 \n",
      "\n"
     ]
    }
   ],
   "source": [
    "print(header[16:-8])"
   ]
  },
  {
   "cell_type": "code",
   "execution_count": 23,
   "id": "989348c5-d451-443f-9061-77ad2841932b",
   "metadata": {},
   "outputs": [],
   "source": [
    "# save the mp4 file to disk and remove the ldcc file to save disk space\n",
    "# create data/video directory\n",
    "data_dir = os.path.join(r2_dir, 'data/video')\n",
    "os.makedirs(data_dir, exist_ok=True)\n",
    "output_filepath = os.path.join(data_dir, f'{file_id}.mp4')\n",
    "with open(output_filepath, 'wb') as f:\n",
    "    f.write(complete_content)"
   ]
  },
  {
   "cell_type": "code",
   "execution_count": 24,
   "id": "524351c8-8b0e-4d24-bf98-822db117efe8",
   "metadata": {},
   "outputs": [],
   "source": [
    "# create translations folder per data release\n",
    "translation_dir = os.path.join(transformed_dir, 'translations', r2, 'video')\n",
    "os.makedirs(translation_dir, exist_ok=True)"
   ]
  },
  {
   "cell_type": "code",
   "execution_count": 34,
   "id": "5d1ce2f4-be5f-4350-beff-3e00673517d6",
   "metadata": {},
   "outputs": [],
   "source": [
    "translation_filepath = os.path.join(translation_dir, f'{file_id}.json')\n",
    "result = utils.transcribe(output_filepath, translation_filepath, task='translate', strip_ldc=False)"
   ]
  },
  {
   "cell_type": "code",
   "execution_count": 35,
   "id": "9a40caea-f68f-48e2-974e-a75e8e166150",
   "metadata": {
    "collapsed": true,
    "jupyter": {
     "outputs_hidden": true
    },
    "tags": []
   },
   "outputs": [
    {
     "ename": "FileNotFoundError",
     "evalue": "[Errno 2] No such file or directory: '/home/iron-man/Documents/data/charm/raw/LDC2022E19_CCU_TA1_Mandarin_Chinese_Development_Source_Data_R2_V2.0/tools/dl_tool/out/M01003JLO.mp4.ldcc'",
     "output_type": "error",
     "traceback": [
      "\u001b[0;31m---------------------------------------------------------------------------\u001b[0m",
      "\u001b[0;31mFileNotFoundError\u001b[0m                         Traceback (most recent call last)",
      "Cell \u001b[0;32mIn[35], line 2\u001b[0m\n\u001b[1;32m      1\u001b[0m \u001b[38;5;66;03m# remove the LDCC file to save disk space\u001b[39;00m\n\u001b[0;32m----> 2\u001b[0m \u001b[43mos\u001b[49m\u001b[38;5;241;43m.\u001b[39;49m\u001b[43mremove\u001b[49m\u001b[43m(\u001b[49m\u001b[43minput_filepath\u001b[49m\u001b[43m)\u001b[49m\n",
      "\u001b[0;31mFileNotFoundError\u001b[0m: [Errno 2] No such file or directory: '/home/iron-man/Documents/data/charm/raw/LDC2022E19_CCU_TA1_Mandarin_Chinese_Development_Source_Data_R2_V2.0/tools/dl_tool/out/M01003JLO.mp4.ldcc'"
     ]
    }
   ],
   "source": [
    "# remove the LDCC file to save disk space\n",
    "os.remove(input_filepath)"
   ]
  },
  {
   "cell_type": "code",
   "execution_count": 33,
   "id": "3e051478-9200-4447-8fea-ff2a51d92e13",
   "metadata": {
    "tags": []
   },
   "outputs": [],
   "source": [
    "# for seg in result['segments']:\n",
    "#     print(f\"start: {seg['start']}, end: {seg['end']}, \\t {seg['text']}\")"
   ]
  },
  {
   "cell_type": "code",
   "execution_count": 77,
   "id": "ced8e56f-6c42-4c60-8339-bbd1a8d8d842",
   "metadata": {},
   "outputs": [
    {
     "data": {
      "text/plain": [
       "array(['M01003JLO', 60, 1.0, 'Arrogant-Calculating',\n",
       "       'woman in pink shirt',\n",
       "       'She is being very dismissive and aggressive to the male, snaps at him',\n",
       "       'http://vd2.bdstatic.com/mda-ngt14pajd86dszc9/cae_h264/1658970258963454944/mda-ngt14pajd86dszc9.mp4'],\n",
       "      dtype=object)"
      ]
     },
     "execution_count": 77,
     "metadata": {},
     "output_type": "execute_result"
    }
   ],
   "source": [
    "genglin_df[genglin_df['file_id'] == file_id].loc[18].values"
   ]
  },
  {
   "cell_type": "code",
   "execution_count": 70,
   "id": "8759afbe-56a0-42ca-84a6-b4d1ff358d00",
   "metadata": {},
   "outputs": [
    {
     "data": {
      "text/html": [
       "<div>\n",
       "<style scoped>\n",
       "    .dataframe tbody tr th:only-of-type {\n",
       "        vertical-align: middle;\n",
       "    }\n",
       "\n",
       "    .dataframe tbody tr th {\n",
       "        vertical-align: top;\n",
       "    }\n",
       "\n",
       "    .dataframe thead th {\n",
       "        text-align: right;\n",
       "    }\n",
       "</style>\n",
       "<table border=\"1\" class=\"dataframe\">\n",
       "  <thead>\n",
       "    <tr style=\"text-align: right;\">\n",
       "      <th></th>\n",
       "      <th>user_id</th>\n",
       "      <th>file_id</th>\n",
       "      <th>timestamp</th>\n",
       "      <th>impact_scalar</th>\n",
       "      <th>comment</th>\n",
       "    </tr>\n",
       "  </thead>\n",
       "  <tbody>\n",
       "    <tr>\n",
       "      <th>23</th>\n",
       "      <td>212</td>\n",
       "      <td>M01003JLO</td>\n",
       "      <td>150</td>\n",
       "      <td>4</td>\n",
       "      <td>Pre-change: The female was very upset with the...</td>\n",
       "    </tr>\n",
       "    <tr>\n",
       "      <th>24</th>\n",
       "      <td>212</td>\n",
       "      <td>M01003JLO</td>\n",
       "      <td>298</td>\n",
       "      <td>1</td>\n",
       "      <td>Pre-change: The speakers discussed ways to sol...</td>\n",
       "    </tr>\n",
       "  </tbody>\n",
       "</table>\n",
       "</div>"
      ],
      "text/plain": [
       "    user_id    file_id  timestamp  impact_scalar  \\\n",
       "23      212  M01003JLO        150              4   \n",
       "24      212  M01003JLO        298              1   \n",
       "\n",
       "                                              comment  \n",
       "23  Pre-change: The female was very upset with the...  \n",
       "24  Pre-change: The speakers discussed ways to sol...  "
      ]
     },
     "execution_count": 70,
     "metadata": {},
     "output_type": "execute_result"
    }
   ],
   "source": [
    "modality_df[modality_df['file_id'] == file_id]"
   ]
  },
  {
   "cell_type": "code",
   "execution_count": 71,
   "id": "65c3d6e2-347b-4001-aba2-d739244a2745",
   "metadata": {},
   "outputs": [
    {
     "data": {
      "text/html": [
       "<div>\n",
       "<style scoped>\n",
       "    .dataframe tbody tr th:only-of-type {\n",
       "        vertical-align: middle;\n",
       "    }\n",
       "\n",
       "    .dataframe tbody tr th {\n",
       "        vertical-align: top;\n",
       "    }\n",
       "\n",
       "    .dataframe thead th {\n",
       "        text-align: right;\n",
       "    }\n",
       "</style>\n",
       "<table border=\"1\" class=\"dataframe\">\n",
       "  <thead>\n",
       "    <tr style=\"text-align: right;\">\n",
       "      <th></th>\n",
       "      <th>file_id</th>\n",
       "      <th>segment_id</th>\n",
       "      <th>start</th>\n",
       "      <th>end</th>\n",
       "    </tr>\n",
       "  </thead>\n",
       "  <tbody>\n",
       "    <tr>\n",
       "      <th>25759</th>\n",
       "      <td>M01003JLO</td>\n",
       "      <td>M01003JLO_0001</td>\n",
       "      <td>9.0</td>\n",
       "      <td>24.0</td>\n",
       "    </tr>\n",
       "    <tr>\n",
       "      <th>25760</th>\n",
       "      <td>M01003JLO</td>\n",
       "      <td>M01003JLO_0002</td>\n",
       "      <td>24.0</td>\n",
       "      <td>39.0</td>\n",
       "    </tr>\n",
       "    <tr>\n",
       "      <th>25761</th>\n",
       "      <td>M01003JLO</td>\n",
       "      <td>M01003JLO_0003</td>\n",
       "      <td>39.0</td>\n",
       "      <td>54.0</td>\n",
       "    </tr>\n",
       "    <tr>\n",
       "      <th>25762</th>\n",
       "      <td>M01003JLO</td>\n",
       "      <td>M01003JLO_0004</td>\n",
       "      <td>54.0</td>\n",
       "      <td>69.0</td>\n",
       "    </tr>\n",
       "    <tr>\n",
       "      <th>25763</th>\n",
       "      <td>M01003JLO</td>\n",
       "      <td>M01003JLO_0005</td>\n",
       "      <td>69.0</td>\n",
       "      <td>84.0</td>\n",
       "    </tr>\n",
       "    <tr>\n",
       "      <th>25764</th>\n",
       "      <td>M01003JLO</td>\n",
       "      <td>M01003JLO_0006</td>\n",
       "      <td>84.0</td>\n",
       "      <td>99.0</td>\n",
       "    </tr>\n",
       "    <tr>\n",
       "      <th>25765</th>\n",
       "      <td>M01003JLO</td>\n",
       "      <td>M01003JLO_0007</td>\n",
       "      <td>99.0</td>\n",
       "      <td>114.0</td>\n",
       "    </tr>\n",
       "    <tr>\n",
       "      <th>25766</th>\n",
       "      <td>M01003JLO</td>\n",
       "      <td>M01003JLO_0008</td>\n",
       "      <td>114.0</td>\n",
       "      <td>129.0</td>\n",
       "    </tr>\n",
       "    <tr>\n",
       "      <th>25767</th>\n",
       "      <td>M01003JLO</td>\n",
       "      <td>M01003JLO_0009</td>\n",
       "      <td>129.0</td>\n",
       "      <td>144.0</td>\n",
       "    </tr>\n",
       "    <tr>\n",
       "      <th>25768</th>\n",
       "      <td>M01003JLO</td>\n",
       "      <td>M01003JLO_0010</td>\n",
       "      <td>144.0</td>\n",
       "      <td>159.0</td>\n",
       "    </tr>\n",
       "    <tr>\n",
       "      <th>25769</th>\n",
       "      <td>M01003JLO</td>\n",
       "      <td>M01003JLO_0011</td>\n",
       "      <td>159.0</td>\n",
       "      <td>174.0</td>\n",
       "    </tr>\n",
       "    <tr>\n",
       "      <th>25770</th>\n",
       "      <td>M01003JLO</td>\n",
       "      <td>M01003JLO_0012</td>\n",
       "      <td>174.0</td>\n",
       "      <td>189.0</td>\n",
       "    </tr>\n",
       "    <tr>\n",
       "      <th>25771</th>\n",
       "      <td>M01003JLO</td>\n",
       "      <td>M01003JLO_0013</td>\n",
       "      <td>189.0</td>\n",
       "      <td>204.0</td>\n",
       "    </tr>\n",
       "    <tr>\n",
       "      <th>25772</th>\n",
       "      <td>M01003JLO</td>\n",
       "      <td>M01003JLO_0014</td>\n",
       "      <td>204.0</td>\n",
       "      <td>219.0</td>\n",
       "    </tr>\n",
       "    <tr>\n",
       "      <th>25773</th>\n",
       "      <td>M01003JLO</td>\n",
       "      <td>M01003JLO_0015</td>\n",
       "      <td>219.0</td>\n",
       "      <td>234.0</td>\n",
       "    </tr>\n",
       "    <tr>\n",
       "      <th>25774</th>\n",
       "      <td>M01003JLO</td>\n",
       "      <td>M01003JLO_0016</td>\n",
       "      <td>234.0</td>\n",
       "      <td>249.0</td>\n",
       "    </tr>\n",
       "    <tr>\n",
       "      <th>25775</th>\n",
       "      <td>M01003JLO</td>\n",
       "      <td>M01003JLO_0017</td>\n",
       "      <td>249.0</td>\n",
       "      <td>264.0</td>\n",
       "    </tr>\n",
       "    <tr>\n",
       "      <th>25776</th>\n",
       "      <td>M01003JLO</td>\n",
       "      <td>M01003JLO_0018</td>\n",
       "      <td>264.0</td>\n",
       "      <td>279.0</td>\n",
       "    </tr>\n",
       "    <tr>\n",
       "      <th>25777</th>\n",
       "      <td>M01003JLO</td>\n",
       "      <td>M01003JLO_0019</td>\n",
       "      <td>279.0</td>\n",
       "      <td>294.0</td>\n",
       "    </tr>\n",
       "    <tr>\n",
       "      <th>25778</th>\n",
       "      <td>M01003JLO</td>\n",
       "      <td>M01003JLO_0020</td>\n",
       "      <td>294.0</td>\n",
       "      <td>309.0</td>\n",
       "    </tr>\n",
       "  </tbody>\n",
       "</table>\n",
       "</div>"
      ],
      "text/plain": [
       "         file_id      segment_id  start    end\n",
       "25759  M01003JLO  M01003JLO_0001    9.0   24.0\n",
       "25760  M01003JLO  M01003JLO_0002   24.0   39.0\n",
       "25761  M01003JLO  M01003JLO_0003   39.0   54.0\n",
       "25762  M01003JLO  M01003JLO_0004   54.0   69.0\n",
       "25763  M01003JLO  M01003JLO_0005   69.0   84.0\n",
       "25764  M01003JLO  M01003JLO_0006   84.0   99.0\n",
       "25765  M01003JLO  M01003JLO_0007   99.0  114.0\n",
       "25766  M01003JLO  M01003JLO_0008  114.0  129.0\n",
       "25767  M01003JLO  M01003JLO_0009  129.0  144.0\n",
       "25768  M01003JLO  M01003JLO_0010  144.0  159.0\n",
       "25769  M01003JLO  M01003JLO_0011  159.0  174.0\n",
       "25770  M01003JLO  M01003JLO_0012  174.0  189.0\n",
       "25771  M01003JLO  M01003JLO_0013  189.0  204.0\n",
       "25772  M01003JLO  M01003JLO_0014  204.0  219.0\n",
       "25773  M01003JLO  M01003JLO_0015  219.0  234.0\n",
       "25774  M01003JLO  M01003JLO_0016  234.0  249.0\n",
       "25775  M01003JLO  M01003JLO_0017  249.0  264.0\n",
       "25776  M01003JLO  M01003JLO_0018  264.0  279.0\n",
       "25777  M01003JLO  M01003JLO_0019  279.0  294.0\n",
       "25778  M01003JLO  M01003JLO_0020  294.0  309.0"
      ]
     },
     "execution_count": 71,
     "metadata": {},
     "output_type": "execute_result"
    }
   ],
   "source": [
    "segment_df[segment_df['file_id'] == file_id]"
   ]
  },
  {
   "cell_type": "code",
   "execution_count": 48,
   "id": "97c340d5-3af6-4c17-9045-9f3b3ee8464f",
   "metadata": {},
   "outputs": [],
   "source": [
    "# break predictions apart by file_id\n",
    "pred_df = genglin_df\n",
    "def breakdown_pred_df(pred_df):\n",
    "    \"\"\"Breaks a single df into one df per file_id.\"\"\"\n",
    "    preds_dfs = {}\n",
    "    for file_id in pred_df['file_id'].unique():\n",
    "        preds_dfs[file_id] = pred_df[pred_df['file_id'] == file_id].reset_index(drop=True)\n",
    "    return preds_dfs"
   ]
  },
  {
   "cell_type": "code",
   "execution_count": 49,
   "id": "c320ff73-4e4c-445a-ab05-460171396b7b",
   "metadata": {},
   "outputs": [],
   "source": [
    "genglin_preds_dfs = breakdown_pred_df(genglin_df)\n",
    "jialiang_preds_dfs = breakdown_pred_df(jialiang_df)\n",
    "yukun_preds_dfs = breakdown_pred_df(yukun_df)"
   ]
  },
  {
   "cell_type": "code",
   "execution_count": 72,
   "id": "0b99d43c-3cbe-4ff7-bbc7-e7faf205d973",
   "metadata": {},
   "outputs": [],
   "source": [
    "def filter_predictions(preds_dfs, segment_df):\n",
    "    \"\"\"Filter system predictions to only regions that were annotated.\"\"\"\n",
    "    # filter system_predictions down to annotated regions\n",
    "    # TODO: this can probably be optimized\n",
    "    preds_filt_dfs = {}\n",
    "    for file_id in preds_dfs:\n",
    "        preds_df = preds_dfs[file_id]\n",
    "        preds_df['start'] = np.nan\n",
    "        preds_df['end'] = np.nan\n",
    "        file_id = preds_df['file_id'].unique()[0]\n",
    "        segments = segment_df[segment_df['file_id'] == file_id][['start', 'end']]\n",
    "        for i, row in preds_df.iterrows():\n",
    "            for _, segment in segments.iterrows():\n",
    "                if row['timestamp'] >= segment['start'] and row['timestamp'] <= segment['end']:\n",
    "                    preds_df.loc[i, 'start'] = segment['start']\n",
    "                    preds_df.loc[i, 'end'] = segment['end']\n",
    "                    break\n",
    "        preds_df = preds_df[preds_df['start'].notna()].reset_index(drop=True)\n",
    "        preds_filt_dfs[file_id] = preds_df\n",
    "    return preds_filt_dfs"
   ]
  },
  {
   "cell_type": "code",
   "execution_count": 78,
   "id": "06a05b0d-0813-49d6-8221-856d492b3ff5",
   "metadata": {},
   "outputs": [],
   "source": [
    "# filter all predictions\n",
    "genglin_preds_filt_dfs = filter_predictions(genglin_preds_dfs, segment_df)\n",
    "jialiang_preds_filt_dfs = filter_predictions(jialiang_preds_dfs, segment_df)\n",
    "yukun_preds_filt_dfs = filter_predictions(yukun_preds_dfs, segment_df)"
   ]
  },
  {
   "cell_type": "code",
   "execution_count": 81,
   "id": "ba329804-405e-45e1-ac18-cf910648d17a",
   "metadata": {},
   "outputs": [],
   "source": [
    "def evaluate(dfs, modality_df, delta=10, llr_threshold=0):\n",
    "    mappings = {}\n",
    "    file_counts = {}\n",
    "    threshold_counts = {\n",
    "        'correct': 0,\n",
    "        'false_positive': 0,\n",
    "        'false_negative': 0,\n",
    "    }\n",
    "    for file_id in dfs:\n",
    "        df = dfs[file_id]\n",
    "        system_dict = df.to_dict('records')\n",
    "        reference_dict = modality_df[modality_df['file_id'] ==\n",
    "                                     file_id].to_dict('records')\n",
    "\n",
    "        correct_pairs, system_misses, reference_misses = mapping(\n",
    "            system_dict, reference_dict, delta)\n",
    "        mappings[file_id] = {\n",
    "            'correct_pairs': correct_pairs,\n",
    "            'system_misses': system_misses,\n",
    "            'reference_misses': reference_misses,\n",
    "        }\n",
    "\n",
    "        file_counts_ = categorize_pairs(**mappings[file_id], threshold=llr_threshold)\n",
    "        file_counts[file_id] = file_counts_\n",
    "        # add file counts to threshold counts\n",
    "        for key in threshold_counts:\n",
    "            threshold_counts[key] += file_counts_[key]\n",
    "\n",
    "    return precision(threshold_counts), recall(threshold_counts), mappings"
   ]
  },
  {
   "cell_type": "code",
   "execution_count": 91,
   "id": "90a9b1ef-01b6-4197-9860-07bccd3ae103",
   "metadata": {},
   "outputs": [],
   "source": [
    "genglin_precision, genglin_recall, genglin_mappings = evaluate(genglin_preds_filt_dfs, modality_df, delta=delta, llr_threshold=llr_threshold)\n",
    "jialiang_precision, jialiang_recall, jialiang_mappings = evaluate(jialiang_preds_filt_dfs, modality_df, delta=delta, llr_threshold=llr_threshold)\n",
    "yukun_precision, yukun_recall, yukun_mappings = evaluate(yukun_preds_filt_dfs, modality_df, delta=delta, llr_threshold=llr_threshold)"
   ]
  },
  {
   "cell_type": "code",
   "execution_count": 94,
   "id": "1578690a-5e0a-41ce-a0c0-244dbf3724d0",
   "metadata": {},
   "outputs": [
    {
     "name": "stdout",
     "output_type": "stream",
     "text": [
      "Yukun - Precision: 0.53, Recall: 0.47\n",
      "Genglin - Precision: 0.29, Recall: 0.20\n",
      "Jialiang - Precision: 0.50, Recall: 0.20\n"
     ]
    }
   ],
   "source": [
    "print(f'Yukun - Precision: {yukun_precision:.2f}, Recall: {yukun_recall:.2f}')\n",
    "print(f'Genglin - Precision: {genglin_precision:.2f}, Recall: {genglin_recall:.2f}')\n",
    "print(f'Jialiang - Precision: {jialiang_precision:.2f}, Recall: {jialiang_recall:.2f}')"
   ]
  },
  {
   "cell_type": "code",
   "execution_count": 89,
   "id": "a9bd97bb-667e-4172-8ea1-b0ace36a82fa",
   "metadata": {},
   "outputs": [
    {
     "name": "stdout",
     "output_type": "stream",
     "text": [
      "M01003S1K\n",
      "[]\n",
      "\n",
      "M01003M18\n",
      "[{'file_id': 'M01003M18', 'timestamp': 100, 'llr': 1.0, 'tag': 'Unassuming-Ingenuous', 'speaker': 'bald guy in blue shirt', 'annotator_notes': \"He's introducing a job to her\", 'URL': 'http://vd2.bdstatic.com/mda-nh4bibyv4v3ns4s0/cae_h264/1659758632534327528/mda-nh4bibyv4v3ns4s0.mp4', 'start': 96.5, 'end': 111.5}]\n",
      "\n",
      "M01003VVI\n",
      "[{'file_id': 'M01003VVI', 'timestamp': 360, 'llr': 1.0, 'tag': 'Warm-Agreeable', 'speaker': 'white guy in colorful coat', 'annotator_notes': 'They are discussing the food at the restaurant and the white guy is agreeing that the food is good', 'URL': 'https://www.bilibili.com/video/BV1KP4y1A7AY', 'start': 357.0, 'end': 372.0}]\n",
      "\n",
      "M01003JLO\n",
      "[{'file_id': 'M01003JLO', 'timestamp': 130, 'llr': 1.0, 'tag': 'Unassured-Submissive', 'speaker': 'Man in white shirt', 'annotator_notes': 'we finally got to see the second speaker but the tag doesnt change', 'URL': 'http://vd2.bdstatic.com/mda-ngt14pajd86dszc9/cae_h264/1658970258963454944/mda-ngt14pajd86dszc9.mp4', 'start': 129.0, 'end': 144.0}, {'file_id': 'M01003JLO', 'timestamp': 60, 'llr': 1.0, 'tag': 'Arrogant-Calculating', 'speaker': 'woman in pink shirt', 'annotator_notes': 'She is being very dismissive and aggressive to the male, snaps at him', 'URL': 'http://vd2.bdstatic.com/mda-ngt14pajd86dszc9/cae_h264/1658970258963454944/mda-ngt14pajd86dszc9.mp4', 'start': 54.0, 'end': 69.0}, {'file_id': 'M01003JLO', 'timestamp': 200, 'llr': 1.0, 'tag': 'Arrogant-Calculating', 'speaker': 'woman in pink shirt', 'annotator_notes': 'Now the woman is asking the guy to give her 13000 rmb to help her brother, \"if he wants another shot to be with her\"', 'URL': 'http://vd2.bdstatic.com/mda-ngt14pajd86dszc9/cae_h264/1658970258963454944/mda-ngt14pajd86dszc9.mp4', 'start': 189.0, 'end': 204.0}]\n",
      "\n"
     ]
    },
    {
     "data": {
      "text/plain": [
       "5"
      ]
     },
     "execution_count": 89,
     "metadata": {},
     "output_type": "execute_result"
    }
   ],
   "source": [
    "fps = 0\n",
    "for key in genglin_mappings.keys():\n",
    "    print(key)\n",
    "    fps += len(genglin_mappings[key]['system_misses'])\n",
    "    print(genglin_mappings[key]['system_misses'])\n",
    "    print()\n",
    "fps"
   ]
  },
  {
   "cell_type": "markdown",
   "id": "ff909019-bc81-4c34-9b90-1f78f496f845",
   "metadata": {},
   "source": [
    "### Evaluate best performing system"
   ]
  },
  {
   "cell_type": "code",
   "execution_count": 96,
   "id": "bc73c3e2-3264-46f3-b4b7-3e7dcfc54563",
   "metadata": {},
   "outputs": [],
   "source": [
    "best_submission_dir = os.path.join(transformed_dir, 'predictions/CCU_P1_TA1_CD_COL_LDC2022E22-V1_20221121_125014')\n",
    "reference_dir = os.path.join(raw_dir, 'LDC2023E01_CCU_TA1_Mandarin_Chinese_Mini_Evaluation_Annotation_Unsequestered')\n",
    "system_predictions, anno_dfs, segment_df, versions_df = load_data(best_submission_dir, reference_dir)"
   ]
  },
  {
   "cell_type": "code",
   "execution_count": 98,
   "id": "b56f7de0-e9c2-4157-b640-1c861a2d5a1c",
   "metadata": {},
   "outputs": [],
   "source": [
    "# filter predictions to labeled segments\n",
    "system_predictions_filt = filter_predictions(system_predictions, segment_df)"
   ]
  },
  {
   "cell_type": "code",
   "execution_count": 105,
   "id": "95be7955-4125-401b-9119-581215dc7ad8",
   "metadata": {},
   "outputs": [],
   "source": [
    "modality_filter = meta_df['modality'] == 'video'\n",
    "release_filter = meta_df['release'] == 'Mini-Eval'\n",
    "file_ids = meta_df[modality_filter & release_filter]['file_uid'].unique()\n",
    "# get file_ids from versions_df\n",
    "labeled_file_ids = versions_df[versions_df['changepoint_count'] > 0]['file_id'].unique()\n",
    "file_ids = list(set(file_ids).intersection(set(labeled_file_ids)))"
   ]
  },
  {
   "cell_type": "code",
   "execution_count": 107,
   "id": "06aff2d3-6710-487f-9046-2ae40596cad3",
   "metadata": {},
   "outputs": [],
   "source": [
    "change_point_df = anno_dfs['changepoint.tab']"
   ]
  },
  {
   "cell_type": "code",
   "execution_count": 108,
   "id": "edb9472c-388d-4885-9db8-2d90b9a2e5d1",
   "metadata": {},
   "outputs": [],
   "source": [
    "# filter change point (label) df to only include labeled modality files\n",
    "modality_df = change_point_df[change_point_df['file_id'].isin(file_ids)]"
   ]
  },
  {
   "cell_type": "code",
   "execution_count": 110,
   "id": "71ad0b04-f6bb-4135-86a9-41951c1a8fec",
   "metadata": {},
   "outputs": [],
   "source": [
    "# filter to labeled file_ids\n",
    "system_predictions_filt = {k: v for k, v in system_predictions_filt.items() if k in file_ids}"
   ]
  },
  {
   "cell_type": "code",
   "execution_count": 114,
   "id": "b521ac25-2cc5-497d-b728-10693cde8baa",
   "metadata": {},
   "outputs": [],
   "source": [
    "system_precision, system_recall, system_mappings = evaluate(system_predictions_filt, modality_df, delta=delta, llr_threshold=llr_threshold)"
   ]
  },
  {
   "cell_type": "code",
   "execution_count": 115,
   "id": "d7da7f19-bad5-4ed1-845e-edf9be411bea",
   "metadata": {},
   "outputs": [
    {
     "name": "stdout",
     "output_type": "stream",
     "text": [
      "System - Precision: 0.05, Recall: 0.77\n"
     ]
    }
   ],
   "source": [
    "print(f'System - Precision: {system_precision:.2f}, Recall: {system_recall:.2f}')"
   ]
  },
  {
   "cell_type": "code",
   "execution_count": null,
   "id": "3e1ae74e-5aa0-4585-9dfd-794473c49ce5",
   "metadata": {},
   "outputs": [],
   "source": []
  }
 ],
 "metadata": {
  "kernelspec": {
   "display_name": "Python (CHARM)",
   "language": "python",
   "name": "charm"
  },
  "language_info": {
   "codemirror_mode": {
    "name": "ipython",
    "version": 3
   },
   "file_extension": ".py",
   "mimetype": "text/x-python",
   "name": "python",
   "nbconvert_exporter": "python",
   "pygments_lexer": "ipython3",
   "version": "3.10.6"
  }
 },
 "nbformat": 4,
 "nbformat_minor": 5
}
