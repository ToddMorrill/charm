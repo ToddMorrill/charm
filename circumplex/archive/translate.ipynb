{
 "cells": [
  {
   "cell_type": "markdown",
   "metadata": {},
   "source": [
    "# Translate ASR Transcriptions from Chinese to English "
   ]
  },
  {
   "cell_type": "code",
   "execution_count": 1,
   "metadata": {},
   "outputs": [],
   "source": [
    "from collections import defaultdict\n",
    "import os\n",
    "import json\n",
    "import queue\n",
    "import time\n",
    "\n",
    "from googletrans import Translator\n",
    "import googletrans\n",
    "import pandas as pd\n",
    "import numpy as np"
   ]
  },
  {
   "cell_type": "markdown",
   "metadata": {},
   "source": [
    "## Load translation queue"
   ]
  },
  {
   "cell_type": "code",
   "execution_count": 2,
   "metadata": {},
   "outputs": [],
   "source": [
    "home_dir = os.path.expanduser('~')"
   ]
  },
  {
   "cell_type": "code",
   "execution_count": 3,
   "metadata": {},
   "outputs": [],
   "source": [
    "output_dir = os.path.join(home_dir, 'Documents/datasets/charm/transformed/translations')"
   ]
  },
  {
   "cell_type": "code",
   "execution_count": 4,
   "metadata": {},
   "outputs": [],
   "source": [
    "data = {}\n",
    "data_dfs = {}\n",
    "translation_files = []\n",
    "for x in os.listdir(output_dir):\n",
    "    if x.endswith('.json'):\n",
    "        filepath = os.path.join(output_dir, x)\n",
    "        translation_files.append(filepath)\n",
    "        file_id = x.split('.')[0]\n",
    "        with open(filepath, 'r', encoding='utf-8') as fp:\n",
    "            data[file_id] = json.load(fp)\n",
    "        data_dfs[file_id] = pd.DataFrame(data[file_id]['asr_turn_lvl'])"
   ]
  },
  {
   "cell_type": "code",
   "execution_count": 5,
   "metadata": {},
   "outputs": [
    {
     "data": {
      "text/html": [
       "<div>\n",
       "<style scoped>\n",
       "    .dataframe tbody tr th:only-of-type {\n",
       "        vertical-align: middle;\n",
       "    }\n",
       "\n",
       "    .dataframe tbody tr th {\n",
       "        vertical-align: top;\n",
       "    }\n",
       "\n",
       "    .dataframe thead th {\n",
       "        text-align: right;\n",
       "    }\n",
       "</style>\n",
       "<table border=\"1\" class=\"dataframe\">\n",
       "  <thead>\n",
       "    <tr style=\"text-align: right;\">\n",
       "      <th></th>\n",
       "      <th>start_time</th>\n",
       "      <th>end_time</th>\n",
       "      <th>transcript</th>\n",
       "      <th>speaker_id</th>\n",
       "      <th>transcript_en</th>\n",
       "    </tr>\n",
       "  </thead>\n",
       "  <tbody>\n",
       "    <tr>\n",
       "      <th>0</th>\n",
       "      <td>0.00</td>\n",
       "      <td>6.38</td>\n",
       "      <td>@reject@ 梅洛</td>\n",
       "      <td>No Speaker Found to Attribute!</td>\n",
       "      <td>@Reject@</td>\n",
       "    </tr>\n",
       "    <tr>\n",
       "      <th>1</th>\n",
       "      <td>6.44</td>\n",
       "      <td>8.99</td>\n",
       "      <td>大 的 探 班 日记</td>\n",
       "      <td>unknownspk00</td>\n",
       "      <td>Big Exploring Diary</td>\n",
       "    </tr>\n",
       "    <tr>\n",
       "      <th>2</th>\n",
       "      <td>10.16</td>\n",
       "      <td>11.81</td>\n",
       "      <td>@reject@ @reject@ 积极</td>\n",
       "      <td>No Speaker Found to Attribute!</td>\n",
       "      <td>@Reject @@ Reject@</td>\n",
       "    </tr>\n",
       "    <tr>\n",
       "      <th>3</th>\n",
       "      <td>12.53</td>\n",
       "      <td>15.56</td>\n",
       "      <td>参加 就是 在家 分 分 的 潜艇 电影</td>\n",
       "      <td>unknownspk00</td>\n",
       "      <td>Participating is a submarine movie at home</td>\n",
       "    </tr>\n",
       "    <tr>\n",
       "      <th>4</th>\n",
       "      <td>23.85</td>\n",
       "      <td>24.75</td>\n",
       "      <td>嗯</td>\n",
       "      <td>No Speaker Found to Attribute!</td>\n",
       "      <td>Um</td>\n",
       "    </tr>\n",
       "  </tbody>\n",
       "</table>\n",
       "</div>"
      ],
      "text/plain": [
       "   start_time  end_time            transcript                      speaker_id  \\\n",
       "0        0.00      6.38           @reject@ 梅洛  No Speaker Found to Attribute!   \n",
       "1        6.44      8.99            大 的 探 班 日记                    unknownspk00   \n",
       "2       10.16     11.81  @reject@ @reject@ 积极  No Speaker Found to Attribute!   \n",
       "3       12.53     15.56  参加 就是 在家 分 分 的 潜艇 电影                    unknownspk00   \n",
       "4       23.85     24.75                     嗯  No Speaker Found to Attribute!   \n",
       "\n",
       "                                transcript_en  \n",
       "0                                    @Reject@  \n",
       "1                         Big Exploring Diary  \n",
       "2                          @Reject @@ Reject@  \n",
       "3  Participating is a submarine movie at home  \n",
       "4                                          Um  "
      ]
     },
     "execution_count": 5,
     "metadata": {},
     "output_type": "execute_result"
    }
   ],
   "source": [
    "data_dfs['M01003R3K'].head()"
   ]
  },
  {
   "cell_type": "code",
   "execution_count": 6,
   "metadata": {},
   "outputs": [
    {
     "data": {
      "text/plain": [
       "96"
      ]
     },
     "execution_count": 6,
     "metadata": {},
     "output_type": "execute_result"
    }
   ],
   "source": [
    "len(data_dfs)"
   ]
  },
  {
   "cell_type": "markdown",
   "metadata": {},
   "source": [
    "## Perform translation"
   ]
  },
  {
   "cell_type": "code",
   "execution_count": 7,
   "metadata": {},
   "outputs": [
    {
     "name": "stdout",
     "output_type": "stream",
     "text": [
      "Supported languages: {'af': 'afrikaans', 'sq': 'albanian', 'am': 'amharic', 'ar': 'arabic', 'hy': 'armenian', 'az': 'azerbaijani', 'eu': 'basque', 'be': 'belarusian', 'bn': 'bengali', 'bs': 'bosnian', 'bg': 'bulgarian', 'ca': 'catalan', 'ceb': 'cebuano', 'ny': 'chichewa', 'zh-cn': 'chinese (simplified)', 'zh-tw': 'chinese (traditional)', 'co': 'corsican', 'hr': 'croatian', 'cs': 'czech', 'da': 'danish', 'nl': 'dutch', 'en': 'english', 'eo': 'esperanto', 'et': 'estonian', 'tl': 'filipino', 'fi': 'finnish', 'fr': 'french', 'fy': 'frisian', 'gl': 'galician', 'ka': 'georgian', 'de': 'german', 'el': 'greek', 'gu': 'gujarati', 'ht': 'haitian creole', 'ha': 'hausa', 'haw': 'hawaiian', 'iw': 'hebrew', 'he': 'hebrew', 'hi': 'hindi', 'hmn': 'hmong', 'hu': 'hungarian', 'is': 'icelandic', 'ig': 'igbo', 'id': 'indonesian', 'ga': 'irish', 'it': 'italian', 'ja': 'japanese', 'jw': 'javanese', 'kn': 'kannada', 'kk': 'kazakh', 'km': 'khmer', 'ko': 'korean', 'ku': 'kurdish (kurmanji)', 'ky': 'kyrgyz', 'lo': 'lao', 'la': 'latin', 'lv': 'latvian', 'lt': 'lithuanian', 'lb': 'luxembourgish', 'mk': 'macedonian', 'mg': 'malagasy', 'ms': 'malay', 'ml': 'malayalam', 'mt': 'maltese', 'mi': 'maori', 'mr': 'marathi', 'mn': 'mongolian', 'my': 'myanmar (burmese)', 'ne': 'nepali', 'no': 'norwegian', 'or': 'odia', 'ps': 'pashto', 'fa': 'persian', 'pl': 'polish', 'pt': 'portuguese', 'pa': 'punjabi', 'ro': 'romanian', 'ru': 'russian', 'sm': 'samoan', 'gd': 'scots gaelic', 'sr': 'serbian', 'st': 'sesotho', 'sn': 'shona', 'sd': 'sindhi', 'si': 'sinhala', 'sk': 'slovak', 'sl': 'slovenian', 'so': 'somali', 'es': 'spanish', 'su': 'sundanese', 'sw': 'swahili', 'sv': 'swedish', 'tg': 'tajik', 'ta': 'tamil', 'te': 'telugu', 'th': 'thai', 'tr': 'turkish', 'uk': 'ukrainian', 'ur': 'urdu', 'ug': 'uyghur', 'uz': 'uzbek', 'vi': 'vietnamese', 'cy': 'welsh', 'xh': 'xhosa', 'yi': 'yiddish', 'yo': 'yoruba', 'zu': 'zulu'}\n"
     ]
    }
   ],
   "source": [
    "print(\"Supported languages:\", googletrans.LANGUAGES)"
   ]
  },
  {
   "cell_type": "code",
   "execution_count": 8,
   "metadata": {},
   "outputs": [],
   "source": [
    "class GoogleTranslator(object):\n",
    "    def __init__(self, src='zh-cn', dest='en'):\n",
    "        self.translator = Translator()\n",
    "        self.src = src\n",
    "        self.dest = dest\n",
    "        \n",
    "    def translate(self, input_texts):\n",
    "        if not isinstance(input_texts,list):\n",
    "            input_texts = [input_texts]\n",
    "        \n",
    "        target_texts = []\n",
    "        for text in input_texts:\n",
    "            translation = self.translator.translate(text, src=self.src, dest=self.dest)\n",
    "            target_texts.append(translation.text)\n",
    "        return target_texts"
   ]
  },
  {
   "cell_type": "code",
   "execution_count": 9,
   "metadata": {},
   "outputs": [],
   "source": [
    "q = queue.Queue()\n",
    "err_q = queue.Queue()\n",
    "\n",
    "# put all work items in the queue\n",
    "for f in data_dfs:\n",
    "    q.put((f, data_dfs[f]))\n",
    "\n",
    "# sentinel\n",
    "q.put(None)"
   ]
  },
  {
   "cell_type": "code",
   "execution_count": 10,
   "metadata": {},
   "outputs": [
    {
     "data": {
      "text/plain": [
       "97"
      ]
     },
     "execution_count": 10,
     "metadata": {},
     "output_type": "execute_result"
    }
   ],
   "source": [
    "q.unfinished_tasks"
   ]
  },
  {
   "cell_type": "code",
   "execution_count": 11,
   "metadata": {},
   "outputs": [],
   "source": [
    "translator = Translator()"
   ]
  },
  {
   "cell_type": "code",
   "execution_count": 12,
   "metadata": {},
   "outputs": [
    {
     "name": "stdout",
     "output_type": "stream",
     "text": [
      "Translating: M01003R3K\n",
      "Time taken to translate 100 utterances, with average length 40.17: 0.00 seconds\n",
      "Time per translation:  0.00\n",
      "Translating: M01003XJU\n",
      "Time taken to translate 217 utterances, with average length 21.56: 0.00 seconds\n",
      "Time per translation:  0.00\n",
      "Translating: M01000545\n",
      "Time taken to translate 295 utterances, with average length 19.36: 0.00 seconds\n",
      "Time per translation:  0.00\n",
      "Translating: M01000AJ9\n",
      "Time taken to translate 78 utterances, with average length 10.27: 0.00 seconds\n",
      "Time per translation:  0.00\n",
      "Translating: M01003Y73\n",
      "Time taken to translate 90 utterances, with average length 43.28: 0.00 seconds\n",
      "Time per translation:  0.00\n",
      "Translating: M0100054N\n",
      "Time taken to translate 224 utterances, with average length 23.73: 0.00 seconds\n",
      "Time per translation:  0.00\n",
      "Translating: M0100053I\n",
      "Time taken to translate 267 utterances, with average length 21.64: 0.00 seconds\n",
      "Time per translation:  0.00\n",
      "Translating: M01003LEP\n",
      "Time taken to translate 60 utterances, with average length 13.68: 0.00 seconds\n",
      "Time per translation:  0.00\n",
      "Translating: M010040JE\n",
      "Time taken to translate 159 utterances, with average length 23.48: 0.00 seconds\n",
      "Time per translation:  0.00\n",
      "Translating: M01000549\n",
      "Time taken to translate 429 utterances, with average length 24.75: 0.01 seconds\n",
      "Time per translation:  0.00\n",
      "Translating: M010041HY\n",
      "Time taken to translate 173 utterances, with average length 16.05: 0.00 seconds\n",
      "Time per translation:  0.00\n",
      "Translating: M0100054C\n",
      "Time taken to translate 225 utterances, with average length 24.84: 0.00 seconds\n",
      "Time per translation:  0.00\n",
      "Translating: M01000FO1\n",
      "Time taken to translate 105 utterances, with average length 18.12: 0.00 seconds\n",
      "Time per translation:  0.00\n",
      "Translating: M01003WT8\n",
      "Time taken to translate 181 utterances, with average length 18.89: 0.00 seconds\n",
      "Time per translation:  0.00\n",
      "Translating: M01004053\n",
      "Time taken to translate 110 utterances, with average length 14.56: 0.00 seconds\n",
      "Time per translation:  0.00\n",
      "Translating: M01004ONT\n",
      "Time taken to translate 463 utterances, with average length 49.31: 0.01 seconds\n",
      "Time per translation:  0.00\n",
      "Translating: M010040TO\n",
      "Time taken to translate 270 utterances, with average length 23.07: 0.00 seconds\n",
      "Time per translation:  0.00\n",
      "Translating: M01003XPG\n",
      "Time taken to translate 108 utterances, with average length 39.06: 0.00 seconds\n",
      "Time per translation:  0.00\n",
      "Translating: M01003VUT\n",
      "Time taken to translate 327 utterances, with average length 24.35: 0.00 seconds\n",
      "Time per translation:  0.00\n",
      "Translating: M01003ZSG\n",
      "Time taken to translate 59 utterances, with average length 22.02: 0.00 seconds\n",
      "Time per translation:  0.00\n",
      "Translating: M01003VOY\n",
      "Time taken to translate 1104 utterances, with average length 19.88: 45.56 seconds\n",
      "Time per translation:  0.04\n",
      "Translating: M01000FT6\n",
      "Time taken to translate 174 utterances, with average length 61.07: 0.00 seconds\n",
      "Time per translation:  0.00\n",
      "Translating: M01003PLU\n",
      "Time taken to translate 388 utterances, with average length 24.51: 0.01 seconds\n",
      "Time per translation:  0.00\n",
      "Translating: M01003WUN\n",
      "Time taken to translate 335 utterances, with average length 23.18: 0.01 seconds\n",
      "Time per translation:  0.00\n",
      "Translating: M01003VPM\n",
      "Time taken to translate 119 utterances, with average length 31.47: 0.00 seconds\n",
      "Time per translation:  0.00\n",
      "Translating: M01003JKF\n",
      "Time taken to translate 80 utterances, with average length 34.74: 0.00 seconds\n",
      "Time per translation:  0.00\n",
      "Translating: M01003R61\n",
      "Time taken to translate 725 utterances, with average length 24.85: 0.01 seconds\n",
      "Time per translation:  0.00\n",
      "Translating: M01003M1V\n",
      "Time taken to translate 107 utterances, with average length 21.58: 0.00 seconds\n",
      "Time per translation:  0.00\n",
      "Translating: M01003M18\n",
      "Time taken to translate 107 utterances, with average length 26.60: 0.00 seconds\n",
      "Time per translation:  0.00\n",
      "Translating: M01003PLL\n",
      "Time taken to translate 481 utterances, with average length 112.68: 0.01 seconds\n",
      "Time per translation:  0.00\n",
      "Translating: M01003JUU\n",
      "Time taken to translate 494 utterances, with average length 27.37: 0.01 seconds\n",
      "Time per translation:  0.00\n",
      "Translating: M01003XTU\n",
      "Time taken to translate 106 utterances, with average length 31.92: 0.00 seconds\n",
      "Time per translation:  0.00\n",
      "Translating: M01003M2H\n",
      "Time taken to translate 117 utterances, with average length 17.26: 0.00 seconds\n",
      "Time per translation:  0.00\n",
      "Translating: M01003ZHJ\n",
      "Time taken to translate 239 utterances, with average length 26.22: 0.00 seconds\n",
      "Time per translation:  0.00\n",
      "Translating: M0100054E\n",
      "Time taken to translate 291 utterances, with average length 19.71: 0.00 seconds\n",
      "Time per translation:  0.00\n",
      "Translating: M01003M1N\n",
      "Time taken to translate 67 utterances, with average length 22.37: 0.00 seconds\n",
      "Time per translation:  0.00\n",
      "Translating: M0100404D\n",
      "Time taken to translate 77 utterances, with average length 23.74: 0.00 seconds\n",
      "Time per translation:  0.00\n",
      "Translating: M01003JU7\n",
      "Time taken to translate 80 utterances, with average length 26.02: 0.00 seconds\n",
      "Time per translation:  0.00\n",
      "Translating: M01003VWQ\n",
      "Time taken to translate 110 utterances, with average length 33.77: 0.00 seconds\n",
      "Time per translation:  0.00\n",
      "Translating: M01003MTK\n",
      "Time taken to translate 93 utterances, with average length 27.26: 0.00 seconds\n",
      "Time per translation:  0.00\n",
      "Translating: M01003YIF\n",
      "Time taken to translate 147 utterances, with average length 23.54: 0.00 seconds\n",
      "Time per translation:  0.00\n",
      "Translating: M01003XFK\n",
      "Time taken to translate 83 utterances, with average length 23.00: 0.00 seconds\n",
      "Time per translation:  0.00\n",
      "Translating: M01003YN6\n",
      "Time taken to translate 60 utterances, with average length 25.08: 0.00 seconds\n",
      "Time per translation:  0.00\n",
      "Translating: M01004ONH\n",
      "Time taken to translate 28 utterances, with average length 118.25: 0.00 seconds\n",
      "Time per translation:  0.00\n",
      "Translating: M01003WEQ\n",
      "Time taken to translate 164 utterances, with average length 34.73: 0.00 seconds\n",
      "Time per translation:  0.00\n",
      "Translating: M01003WCP\n",
      "Time taken to translate 866 utterances, with average length 25.10: 0.01 seconds\n",
      "Time per translation:  0.00\n",
      "Translating: M01003JLO\n",
      "Time taken to translate 101 utterances, with average length 21.52: 0.00 seconds\n",
      "Time per translation:  0.00\n",
      "Translating: M01003VYR\n",
      "Time taken to translate 179 utterances, with average length 23.61: 0.00 seconds\n",
      "Time per translation:  0.00\n",
      "Translating: M01003ZKV\n",
      "Time taken to translate 82 utterances, with average length 15.17: 0.00 seconds\n",
      "Time per translation:  0.00\n",
      "Translating: M01003M20\n",
      "Time taken to translate 65 utterances, with average length 15.26: 0.00 seconds\n",
      "Time per translation:  0.00\n",
      "Translating: M01003M77\n",
      "Time taken to translate 80 utterances, with average length 18.88: 0.00 seconds\n",
      "Time per translation:  0.00\n",
      "Translating: M010040LA\n",
      "Time taken to translate 109 utterances, with average length 23.69: 0.00 seconds\n",
      "Time per translation:  0.00\n",
      "Translating: M01000FT9\n",
      "Time taken to translate 291 utterances, with average length 51.09: 0.00 seconds\n",
      "Time per translation:  0.00\n",
      "Translating: M01003WL6\n",
      "Time taken to translate 257 utterances, with average length 21.35: 0.00 seconds\n",
      "Time per translation:  0.00\n",
      "Translating: M01003JQV\n",
      "Time taken to translate 73 utterances, with average length 23.96: 0.00 seconds\n",
      "Time per translation:  0.00\n",
      "Translating: M01003NEX\n",
      "Time taken to translate 68 utterances, with average length 39.03: 0.00 seconds\n",
      "Time per translation:  0.00\n",
      "Translating: M01003ZMZ\n",
      "Time taken to translate 240 utterances, with average length 21.20: 0.00 seconds\n",
      "Time per translation:  0.00\n",
      "Translating: M010042XP\n",
      "Time taken to translate 338 utterances, with average length 22.45: 0.01 seconds\n",
      "Time per translation:  0.00\n",
      "Translating: M010009BC\n",
      "Time taken to translate 90 utterances, with average length 18.69: 0.00 seconds\n",
      "Time per translation:  0.00\n",
      "Translating: M0100053L\n",
      "Time taken to translate 257 utterances, with average length 22.53: 0.00 seconds\n",
      "Time per translation:  0.00\n",
      "Translating: M01003WKJ\n",
      "Time taken to translate 181 utterances, with average length 43.69: 0.00 seconds\n",
      "Time per translation:  0.00\n",
      "Translating: M01003WK1\n",
      "Time taken to translate 113 utterances, with average length 22.93: 0.00 seconds\n",
      "Time per translation:  0.00\n",
      "Translating: M01003ZU2\n",
      "Time taken to translate 72 utterances, with average length 22.53: 0.00 seconds\n",
      "Time per translation:  0.00\n",
      "Translating: M01003WXV\n",
      "Time taken to translate 159 utterances, with average length 27.43: 0.00 seconds\n",
      "Time per translation:  0.00\n",
      "Translating: M010040LS\n",
      "Time taken to translate 251 utterances, with average length 21.25: 0.00 seconds\n",
      "Time per translation:  0.00\n",
      "Translating: M0100053R\n",
      "Time taken to translate 269 utterances, with average length 24.10: 0.00 seconds\n",
      "Time per translation:  0.00\n",
      "Translating: M01003LLO\n",
      "Time taken to translate 43 utterances, with average length 37.91: 0.00 seconds\n",
      "Time per translation:  0.00\n",
      "Translating: M01003XQB\n",
      "Time taken to translate 101 utterances, with average length 47.65: 0.00 seconds\n",
      "Time per translation:  0.00\n",
      "Translating: M01003Z1W\n",
      "Time taken to translate 101 utterances, with average length 23.39: 0.00 seconds\n",
      "Time per translation:  0.00\n",
      "Translating: M01003W6M\n",
      "Time taken to translate 565 utterances, with average length 20.70: 0.01 seconds\n",
      "Time per translation:  0.00\n",
      "Translating: M01000FN8\n",
      "Time taken to translate 106 utterances, with average length 21.35: 0.00 seconds\n",
      "Time per translation:  0.00\n",
      "Translating: M010040UF\n",
      "Time taken to translate 289 utterances, with average length 25.17: 0.00 seconds\n",
      "Time per translation:  0.00\n",
      "Translating: M01003Z9Y\n",
      "Time taken to translate 283 utterances, with average length 23.00: 0.00 seconds\n",
      "Time per translation:  0.00\n",
      "Translating: M01000AJ7\n",
      "Time taken to translate 105 utterances, with average length 8.47: 0.00 seconds\n",
      "Time per translation:  0.00\n",
      "Translating: M010040QR\n",
      "Time taken to translate 161 utterances, with average length 43.16: 0.00 seconds\n",
      "Time per translation:  0.00\n",
      "Translating: M01003WEW\n",
      "Time taken to translate 176 utterances, with average length 19.95: 0.00 seconds\n",
      "Time per translation:  0.00\n",
      "Translating: M01003M7F\n",
      "Time taken to translate 481 utterances, with average length 23.17: 0.01 seconds\n",
      "Time per translation:  0.00\n",
      "Translating: M01003ZFL\n",
      "Time taken to translate 307 utterances, with average length 18.68: 0.01 seconds\n",
      "Time per translation:  0.00\n",
      "Translating: M01003K17\n",
      "Time taken to translate 69 utterances, with average length 10.30: 0.00 seconds\n",
      "Time per translation:  0.00\n",
      "Translating: M010040G8\n",
      "Time taken to translate 211 utterances, with average length 19.67: 0.00 seconds\n",
      "Time per translation:  0.00\n",
      "Translating: M01003Y07\n",
      "Time taken to translate 151 utterances, with average length 43.62: 0.00 seconds\n",
      "Time per translation:  0.00\n",
      "Translating: M01003YN1\n",
      "Time taken to translate 118 utterances, with average length 24.92: 0.00 seconds\n",
      "Time per translation:  0.00\n",
      "Translating: M0100053J\n",
      "Time taken to translate 278 utterances, with average length 23.93: 0.00 seconds\n",
      "Time per translation:  0.00\n",
      "Translating: M01003P53\n",
      "Time taken to translate 521 utterances, with average length 29.66: 0.01 seconds\n",
      "Time per translation:  0.00\n",
      "Translating: M01003YPX\n",
      "Time taken to translate 96 utterances, with average length 24.52: 0.00 seconds\n",
      "Time per translation:  0.00\n",
      "Translating: M01003VVP\n",
      "Time taken to translate 252 utterances, with average length 24.75: 0.00 seconds\n",
      "Time per translation:  0.00\n",
      "Translating: M01003QBW\n",
      "Time taken to translate 127 utterances, with average length 44.39: 0.00 seconds\n",
      "Time per translation:  0.00\n",
      "Translating: M01003WH1\n",
      "Time taken to translate 371 utterances, with average length 22.44: 0.01 seconds\n",
      "Time per translation:  0.00\n",
      "Translating: M01003WG8\n",
      "Time taken to translate 266 utterances, with average length 29.59: 0.00 seconds\n",
      "Time per translation:  0.00\n",
      "Translating: M01003WI7\n",
      "Time taken to translate 539 utterances, with average length 23.45: 0.01 seconds\n",
      "Time per translation:  0.00\n",
      "Translating: M01003VMI\n",
      "Time taken to translate 107 utterances, with average length 27.05: 0.00 seconds\n",
      "Time per translation:  0.00\n",
      "Translating: M010040DE\n",
      "Time taken to translate 68 utterances, with average length 23.15: 0.00 seconds\n",
      "Time per translation:  0.00\n",
      "Translating: M01000AJA\n",
      "Time taken to translate 288 utterances, with average length 15.27: 0.00 seconds\n",
      "Time per translation:  0.00\n",
      "Translating: M01003PKW\n",
      "Time taken to translate 210 utterances, with average length 22.54: 0.00 seconds\n",
      "Time per translation:  0.00\n",
      "Translating: M01000546\n",
      "Time taken to translate 251 utterances, with average length 25.14: 0.00 seconds\n",
      "Time per translation:  0.00\n",
      "Translating: M01003XYA\n",
      "Time taken to translate 707 utterances, with average length 26.42: 0.01 seconds\n",
      "Time per translation:  0.00\n"
     ]
    }
   ],
   "source": [
    "completed = []\n",
    "errors = [] # keep track of errors\n",
    "error_count = 0 # if error count exceeds 100, stop the program and inspect\n",
    "# get a file from the queue, translate utterance by utterance, checking if translation column has text in it or not\n",
    "for job in iter(q.get, None): # iterate until we get the sentinel of None\n",
    "    f, df = job\n",
    "    start = time.time()\n",
    "    print(f'Translating: {f}')\n",
    "    for idx, row in df.iterrows():\n",
    "        # if text already present in the transcript_en column, move on to the next row, already translated\n",
    "        if isinstance(row['transcript_en'], str):\n",
    "            continue    \n",
    "\n",
    "        # otherwise, attempt to translate\n",
    "        chinese = row['transcript']\n",
    "        # remove extra spacing - unclear how this will affect performance\n",
    "        chinese = chinese.replace(' ', '')\n",
    "        try:\n",
    "            translation = translator.translate(text=chinese, src='zh-cn', dest='en')\n",
    "            df.loc[idx, 'transcript_en'] = translation.text\n",
    "        except Exception as e:\n",
    "            error = (f, idx, e)\n",
    "            print(error)\n",
    "            errors.append((f, idx, e))\n",
    "            error_count += 1\n",
    "            ## check on the program at this point, something might be majorly wrong\n",
    "            if error_count > 1000:\n",
    "                break\n",
    "    completed.append(f)\n",
    "    end = time.time()\n",
    "    duration = end - start\n",
    "    print(f\"Time taken to translate {len(df)} utterances, with average length {df['transcript'].apply(lambda x: len(x)).mean():.2f}: {duration:.2f} seconds\")\n",
    "    print(f'Time per translation: {duration / len(df): .2f}')\n",
    "    \n",
    "    # write partial results to disk for each file so we don't lose progress\n",
    "    asr_turn_lvl = df.to_dict(orient='records')\n",
    "    \n",
    "    # update the key in the data dict\n",
    "    data[f]['asr_turn_lvl'] = asr_turn_lvl\n",
    "\n",
    "    filepath = os.path.join(output_dir, f'{f}.json')\n",
    "    with open(filepath, 'w', encoding='utf-8') as fh:\n",
    "        json.dump(data[f], fh)"
   ]
  },
  {
   "cell_type": "code",
   "execution_count": 13,
   "metadata": {},
   "outputs": [
    {
     "data": {
      "text/plain": [
       "4.535513888888889"
      ]
     },
     "execution_count": 13,
     "metadata": {},
     "output_type": "execute_result"
    }
   ],
   "source": [
    "# estimated time to make all API calls\n",
    "(21205 * 0.77) / 60 / 60"
   ]
  },
  {
   "cell_type": "code",
   "execution_count": 16,
   "metadata": {},
   "outputs": [],
   "source": [
    "# save a sample conversation to csv for easy viewing\n",
    "transcription_len = []\n",
    "for f in data_dfs:\n",
    "    transcription_len.append((f, len(data_dfs[f])))"
   ]
  },
  {
   "cell_type": "code",
   "execution_count": 19,
   "metadata": {},
   "outputs": [],
   "source": [
    "len_df = pd.DataFrame(transcription_len, columns=['file_id', 'transcription_len'])"
   ]
  },
  {
   "cell_type": "code",
   "execution_count": 21,
   "metadata": {},
   "outputs": [
    {
     "data": {
      "text/plain": [
       "count      96.000000\n",
       "mean      220.885417\n",
       "std       185.040187\n",
       "min        28.000000\n",
       "25%       100.750000\n",
       "50%       162.500000\n",
       "75%       279.250000\n",
       "max      1104.000000\n",
       "Name: transcription_len, dtype: float64"
      ]
     },
     "execution_count": 21,
     "metadata": {},
     "output_type": "execute_result"
    }
   ],
   "source": [
    "len_df['transcription_len'].describe()"
   ]
  },
  {
   "cell_type": "code",
   "execution_count": 22,
   "metadata": {},
   "outputs": [
    {
     "data": {
      "text/html": [
       "<div>\n",
       "<style scoped>\n",
       "    .dataframe tbody tr th:only-of-type {\n",
       "        vertical-align: middle;\n",
       "    }\n",
       "\n",
       "    .dataframe tbody tr th {\n",
       "        vertical-align: top;\n",
       "    }\n",
       "\n",
       "    .dataframe thead th {\n",
       "        text-align: right;\n",
       "    }\n",
       "</style>\n",
       "<table border=\"1\" class=\"dataframe\">\n",
       "  <thead>\n",
       "    <tr style=\"text-align: right;\">\n",
       "      <th></th>\n",
       "      <th>file_id</th>\n",
       "      <th>transcription_len</th>\n",
       "    </tr>\n",
       "  </thead>\n",
       "  <tbody>\n",
       "    <tr>\n",
       "      <th>8</th>\n",
       "      <td>M010040JE</td>\n",
       "      <td>159</td>\n",
       "    </tr>\n",
       "    <tr>\n",
       "      <th>44</th>\n",
       "      <td>M01003WEQ</td>\n",
       "      <td>164</td>\n",
       "    </tr>\n",
       "    <tr>\n",
       "      <th>63</th>\n",
       "      <td>M01003WXV</td>\n",
       "      <td>159</td>\n",
       "    </tr>\n",
       "    <tr>\n",
       "      <th>74</th>\n",
       "      <td>M010040QR</td>\n",
       "      <td>161</td>\n",
       "    </tr>\n",
       "    <tr>\n",
       "      <th>80</th>\n",
       "      <td>M01003Y07</td>\n",
       "      <td>151</td>\n",
       "    </tr>\n",
       "  </tbody>\n",
       "</table>\n",
       "</div>"
      ],
      "text/plain": [
       "      file_id  transcription_len\n",
       "8   M010040JE                159\n",
       "44  M01003WEQ                164\n",
       "63  M01003WXV                159\n",
       "74  M010040QR                161\n",
       "80  M01003Y07                151"
      ]
     },
     "execution_count": 22,
     "metadata": {},
     "output_type": "execute_result"
    }
   ],
   "source": [
    "# find a median length conversation\n",
    "len_df[(len_df['transcription_len'] > 150) & (len_df['transcription_len'] < 170)]"
   ]
  },
  {
   "cell_type": "code",
   "execution_count": 24,
   "metadata": {},
   "outputs": [],
   "source": [
    "# save sample: https://www.bilibili.com/video/BV1TK4y1D7M4/\n",
    "sample_df = data_dfs['M010040QR']"
   ]
  },
  {
   "cell_type": "code",
   "execution_count": 26,
   "metadata": {},
   "outputs": [],
   "source": [
    "sample_filepath = os.path.join(home_dir, 'Documents/datasets/charm/transformed/M010040QR_transcription.xlsx')\n",
    "sample_df.to_excel(sample_filepath, index=False)"
   ]
  },
  {
   "cell_type": "code",
   "execution_count": null,
   "metadata": {},
   "outputs": [],
   "source": [
    "\n"
   ]
  }
 ],
 "metadata": {
  "kernelspec": {
   "display_name": "Python 3 (ipykernel)",
   "language": "python",
   "name": "python3"
  },
  "language_info": {
   "codemirror_mode": {
    "name": "ipython",
    "version": 3
   },
   "file_extension": ".py",
   "mimetype": "text/x-python",
   "name": "python",
   "nbconvert_exporter": "python",
   "pygments_lexer": "ipython3",
   "version": "3.10.6"
  }
 },
 "nbformat": 4,
 "nbformat_minor": 4
}
