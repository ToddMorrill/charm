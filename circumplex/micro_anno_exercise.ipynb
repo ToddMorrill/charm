{
 "cells": [
  {
   "cell_type": "code",
   "execution_count": 1,
   "id": "a70a71ec-6b6e-4071-a437-793002505bda",
   "metadata": {},
   "outputs": [],
   "source": [
    "import os\n",
    "\n",
    "import pandas as pd\n",
    "\n",
    "from charm.eval.eval import mapping, categorize_pairs, precision, recall\n",
    "from charm.data import utils"
   ]
  },
  {
   "cell_type": "code",
   "execution_count": 25,
   "id": "594a1427-8c72-4326-b0e4-eb5749139eb6",
   "metadata": {},
   "outputs": [],
   "source": [
    "# load predictions\n",
    "annotations_dir = '/home/iron-man/Documents/data/charm/transformed/annotations'\n",
    "genglin = os.path.join(annotations_dir, 'Circumplex Theory Annotations - Genglin - Sheet1.csv')\n",
    "jialiang = os.path.join(annotations_dir, 'Circumplex Theory Annotations - Jialiang - Sheet1.csv')\n",
    "yukun = os.path.join(annotations_dir, 'Circumplex Theory Annotations - Yukun - Sheet1.csv')\n",
    "\n",
    "genglin_df = pd.read_csv(genglin, skiprows=1, usecols=range(1, 9))\n",
    "jialiang_df = pd.read_csv(jialiang, skiprows=1, usecols=range(1, 9))\n",
    "yukun_df = pd.read_csv(yukun, skiprows=1, usecols=range(1, 9))"
   ]
  },
  {
   "cell_type": "code",
   "execution_count": 26,
   "id": "9403fa0b-851e-4d0c-a214-6e1d180fb1f9",
   "metadata": {},
   "outputs": [],
   "source": [
    "# load ground truth\n",
    "anno_dir = '/home/iron-man/Documents/data/charm/raw/LDC2022E18_CCU_TA1_Mandarin_Chinese_Development_Annotation_V3.0'\n",
    "anno_dfs, segment_df, version_df = utils.load_ldc_annotation(anno_dir)"
   ]
  },
  {
   "cell_type": "code",
   "execution_count": 27,
   "id": "aace0f8c-6068-4825-9a69-cb119e0c4020",
   "metadata": {},
   "outputs": [],
   "source": [
    "modality_df = anno_dfs['changepoint.tab']"
   ]
  },
  {
   "cell_type": "code",
   "execution_count": 28,
   "id": "21980a59-bb1c-4b83-8096-d7326c375a15",
   "metadata": {},
   "outputs": [],
   "source": [
    "# set thresholds\n",
    "delta = 10\n",
    "llr_threshold = 0"
   ]
  },
  {
   "cell_type": "code",
   "execution_count": 29,
   "id": "0b450d62-60c7-42b3-812d-9c44cff76b36",
   "metadata": {},
   "outputs": [],
   "source": [
    "def convert_to_seconds(timestamp):\n",
    "    mins, secs = timestamp.split(':')\n",
    "    return int(mins)*60 + int(secs)"
   ]
  },
  {
   "cell_type": "code",
   "execution_count": 30,
   "id": "25154456-3544-4eaa-a59a-9f6c99317b81",
   "metadata": {},
   "outputs": [],
   "source": [
    "def clean_df(df):\n",
    "    # drop rows where timestamp is empty\n",
    "    df = df[df['Timestamp'].notnull()].reset_index(drop=True)\n",
    "    df['llr'] = 1.0\n",
    "    df = df.rename(columns={'File ID': 'file_id', 'Timestamp': 'timestamp', 'Annotator Notes': 'annotator_notes', 'Tag': 'tag'}, errors='ignore')\n",
    "    cols = ['file_id', 'timestamp', 'llr', 'tag', 'annotator_notes', 'URL']\n",
    "    df = df[cols]\n",
    "    df['timestamp'] = df['timestamp'].apply(convert_to_seconds)\n",
    "    return df"
   ]
  },
  {
   "cell_type": "code",
   "execution_count": 31,
   "id": "0a2f08dc-1e8b-4c14-87b1-7daf756cfd1c",
   "metadata": {},
   "outputs": [],
   "source": [
    "genglin_df = clean_df(genglin_df)\n",
    "jialiang_df = clean_df(jialiang_df)\n",
    "yukun_df = clean_df(yukun_df)"
   ]
  },
  {
   "cell_type": "markdown",
   "id": "58147359-4897-4d4e-ab35-87e596ce19f7",
   "metadata": {},
   "source": [
    "### Approach 1: assume all annotated points are change points"
   ]
  },
  {
   "cell_type": "code",
   "execution_count": 32,
   "id": "bfbd8eb0-e940-43fd-9209-5a2a91e10f9e",
   "metadata": {},
   "outputs": [],
   "source": [
    "# genglin_df['file_id'].unique()\n",
    "# yukun_df['file_id'].unique()\n",
    "# modality_df[modality_df['file_id'].isin(yukun_df['file_id'].unique())]['file_id'].unique()"
   ]
  },
  {
   "cell_type": "code",
   "execution_count": 33,
   "id": "ba329804-405e-45e1-ac18-cf910648d17a",
   "metadata": {},
   "outputs": [],
   "source": [
    "def evaluate(df, modality_df, delta=10, llr_threshold=0):\n",
    "    mappings = {}\n",
    "    file_counts = {}\n",
    "    threshold_counts = {\n",
    "        'correct': 0,\n",
    "        'false_positive': 0,\n",
    "        'false_negative': 0,\n",
    "    }\n",
    "    for file_id in df['file_id'].unique():\n",
    "        system_dict = df[df['file_id'] == file_id].to_dict('records')\n",
    "        reference_dict = modality_df[modality_df['file_id'] ==\n",
    "                                     file_id].to_dict('records')\n",
    "\n",
    "        correct_pairs, system_misses, reference_misses = mapping(\n",
    "            system_dict, reference_dict, delta)\n",
    "        mappings[file_id] = {\n",
    "            'correct_pairs': correct_pairs,\n",
    "            'system_misses': system_misses,\n",
    "            'reference_misses': reference_misses,\n",
    "        }\n",
    "        print(correct_pairs)\n",
    "\n",
    "        file_counts_ = categorize_pairs(**mappings[file_id], threshold=llr_threshold)\n",
    "        file_counts[file_id] = file_counts_\n",
    "        # add file counts to threshold counts\n",
    "        for key in threshold_counts:\n",
    "            threshold_counts[key] += file_counts_[key]\n",
    "\n",
    "    return precision(threshold_counts), recall(threshold_counts), mappings"
   ]
  },
  {
   "cell_type": "code",
   "execution_count": 34,
   "id": "90a9b1ef-01b6-4197-9860-07bccd3ae103",
   "metadata": {},
   "outputs": [
    {
     "name": "stdout",
     "output_type": "stream",
     "text": [
      "[]\n",
      "[({'file_id': 'M01003M18', 'timestamp': 305, 'llr': 1.0, 'tag': 'Arrogant-Calculating', 'annotator_notes': 'Now he is also accusing the female for being lazy and started using stronger words ', 'URL': 'http://vd2.bdstatic.com/mda-nh4bibyv4v3ns4s0/cae_h264/1659758632534327528/mda-nh4bibyv4v3ns4s0.mp4'}, {'user_id': 212, 'file_id': 'M01003M18', 'timestamp': 308, 'impact_scalar': 1, 'comment': 'Pre-change: The husband kept trying calmly to persuade the wife while wife was busy with her cleaning, not reacting much to the husband, until the husband complained that the wife was too lazy. Shift: The wife became angry and stopped what she was doing and argued with the husband. Evidence: The wife looked at the husband angrily and raised her voice while stopped her cleaning and started talking back.'}), ({'file_id': 'M01003M18', 'timestamp': 315, 'llr': 1.0, 'tag': 'Assured-Dominant', 'annotator_notes': 'She is very assertive and insists that she is not going to take the job', 'URL': 'http://vd2.bdstatic.com/mda-nh4bibyv4v3ns4s0/cae_h264/1659758632534327528/mda-nh4bibyv4v3ns4s0.mp4'}, {'user_id': 212, 'file_id': 'M01003M18', 'timestamp': 325, 'impact_scalar': 1, 'comment': 'Pre-change: The husband pointed out the age of the wife while the wife kept doing cleaning, not interacting with the husband. Shift: The wife stopped cleaning and looked at the husband intensely to correct the husband about her age. She looked very upset. Evidence: She raised her voice, waved her hand, and used rhetoric question.'})]\n",
      "[]\n",
      "[]\n"
     ]
    }
   ],
   "source": [
    "genglin_precision, genglin_recall, genglin_mappings = evaluate(genglin_df, modality_df, delta=delta, llr_threshold=llr_threshold)"
   ]
  },
  {
   "cell_type": "code",
   "execution_count": 45,
   "id": "a9bd97bb-667e-4172-8ea1-b0ace36a82fa",
   "metadata": {},
   "outputs": [
    {
     "data": {
      "text/plain": [
       "19"
      ]
     },
     "execution_count": 45,
     "metadata": {},
     "output_type": "execute_result"
    }
   ],
   "source": [
    "fps = 0\n",
    "for key in genglin_mappings.keys():\n",
    "    fps += len(genglin_mappings[key]['system_misses'])\n",
    "fps"
   ]
  },
  {
   "cell_type": "code",
   "execution_count": 43,
   "id": "83932e4e-2e5d-4dc8-a801-ae25cbf23a92",
   "metadata": {},
   "outputs": [],
   "source": [
    "# possible change points\n",
    "possible = [\n",
    "  {'file_id': 'M01003S1K',\n",
    "  'timestamp': 17,\n",
    "  'llr': 1.0,\n",
    "  'tag': 'nan',\n",
    "  'annotator_notes': \"I'd say none of the tags really capture their tone (angry for girl, shock/awkward for boy),playful flirt, etc\",\n",
    "  'URL': 'https://www.bilibili.com/video/BV1kt4y1Q796'},\n",
    "  {'file_id': 'M01003M18',\n",
    "  'timestamp': 11,\n",
    "  'llr': 1.0,\n",
    "  'tag': 'Arrogant-Calculating',\n",
    "  'annotator_notes': 'As soon as she appears in the camera she starts speaking aggressively',\n",
    "  'URL': 'http://vd2.bdstatic.com/mda-nh4bibyv4v3ns4s0/cae_h264/1659758632534327528/mda-nh4bibyv4v3ns4s0.mp4'},\n",
    "  {'file_id': 'M01003JLO',\n",
    "  'timestamp': 60,\n",
    "  'llr': 1.0,\n",
    "  'tag': 'Arrogant-Calculating',\n",
    "  'annotator_notes': 'She is being very dismissive and aggressive to the male, snaps at him',\n",
    "  'URL': 'http://vd2.bdstatic.com/mda-ngt14pajd86dszc9/cae_h264/1658970258963454944/mda-ngt14pajd86dszc9.mp4'},\n",
    " {'file_id': 'M01003JLO',\n",
    "  'timestamp': 200,\n",
    "  'llr': 1.0,\n",
    "  'tag': 'Arrogant-Calculating',\n",
    "  'annotator_notes': 'Now the woman is asking the guy to give her 13000 rmb to help her brother, \"if he wants another shot to be with her\"',\n",
    "  'URL': 'http://vd2.bdstatic.com/mda-ngt14pajd86dszc9/cae_h264/1658970258963454944/mda-ngt14pajd86dszc9.mp4'},\n",
    " {'file_id': 'M01003JLO',\n",
    "  'timestamp': 2,\n",
    "  'llr': 1.0,\n",
    "  'tag': 'Cold',\n",
    "  'annotator_notes': 'She is very impatient from the second she appears and asks the guy not to \"come in\" to the apartment',\n",
    "  'URL': 'http://vd2.bdstatic.com/mda-ngt14pajd86dszc9/cae_h264/1658970258963454944/mda-ngt14pajd86dszc9.mp4'}\n",
    "]"
   ]
  },
  {
   "cell_type": "code",
   "execution_count": null,
   "id": "097cafc3-e331-496b-b4bb-8a249051f3cb",
   "metadata": {},
   "outputs": [
    {
     "name": "stdout",
     "output_type": "stream",
     "text": [
      "[]\n",
      "[({'file_id': 'M01003M18', 'timestamp': 136, 'llr': 1.0, 'annotator_notes': \"The woman rejected the man's proposal in a cold way, and continued to complain about the job being tiring.\"}, {'user_id': 212, 'file_id': 'M01003M18', 'timestamp': 144, 'impact_scalar': 1, 'comment': 'Pre-change: The wife was not happy, but she was still quite controlled. Shift: The wife became much irritated and looked very angry. She started ranting. It looked like \"I had enough and can\\'t hold the anger anymore\".  Evidence: The wife had a long pause, then put her hand on her waist and sighed. She also sneered and raised her voice.'}), ({'file_id': 'M01003M18', 'timestamp': 314, 'llr': 1.0, 'annotator_notes': 'She took issue with the man\\'s proposals in a more aggressive way. She even took all the charges of being \"lazy\" and \"not willing to work\" from the man just to show her rejection of the job.'}, {'user_id': 212, 'file_id': 'M01003M18', 'timestamp': 308, 'impact_scalar': 1, 'comment': 'Pre-change: The husband kept trying calmly to persuade the wife while wife was busy with her cleaning, not reacting much to the husband, until the husband complained that the wife was too lazy. Shift: The wife became angry and stopped what she was doing and argued with the husband. Evidence: The wife looked at the husband angrily and raised her voice while stopped her cleaning and started talking back.'})]\n",
      "[]\n",
      "[]\n"
     ]
    },
    {
     "data": {
      "text/plain": [
       "(0.125, 0.2)"
      ]
     },
     "execution_count": 12,
     "metadata": {},
     "output_type": "execute_result"
    }
   ],
   "source": [
    "evaluate(jialiang_df, modality_df, delta=delta, llr_threshold=llr_threshold)"
   ]
  },
  {
   "cell_type": "code",
   "execution_count": 13,
   "id": "7a14a242-b535-4243-8e15-858295cae607",
   "metadata": {},
   "outputs": [
    {
     "name": "stdout",
     "output_type": "stream",
     "text": [
      "[]\n",
      "[({'file_id': 'M01003YN6', 'timestamp': 40, 'llr': 1.0, 'annotator_notes': 'Woman and man are arguing'}, {'user_id': 212, 'file_id': 'M01003YN6', 'timestamp': 38, 'impact_scalar': 1, 'comment': 'Pre-change: The female served the male fruit to mend their relationship. The male was a bit upset, but still controlled. The mood was a bit down, but still calm. Shift: The male started complaining, and the mood became more intense. Evidence: Male pointed at the female and raised his voice when talking back to the female.'}), ({'file_id': 'M01003YN6', 'timestamp': 120, 'llr': 1.0, 'annotator_notes': 'Not sure'}, {'user_id': 212, 'file_id': 'M01003YN6', 'timestamp': 119, 'impact_scalar': 4, 'comment': \"Pre-change: The male and female complained about each other's bad behavior, and the mood was quite intense. Shift: The female took a seat by the male and they shared the fruit together. The mood was much relaxed as their relationship improved. Evidence: The female sat beside the male and the male fed the female fruits. The female also hold the male's arm and laughed a bit.\"})]\n",
      "[({'file_id': 'M01003M20', 'timestamp': 21, 'llr': 1.0, 'annotator_notes': 'The man just came back home from a business trip and offerred  to peel fruits for his wife'}, {'user_id': 212, 'file_id': 'M01003M20', 'timestamp': 31, 'impact_scalar': 1, 'comment': 'Pre-change: The couple got home and started tidying up things. Both speakers were relaxed. Shift: The wife asked the husband whether he missed her and got negative response. Wife was upset and the mood in the room became a bit intense. Evidence: Wife raised her voice and looked at the husband scoldingly.'}), ({'file_id': 'M01003M20', 'timestamp': 70, 'llr': 1.0, 'annotator_notes': 'Hearing the man lost money, the women became angry'}, {'user_id': 212, 'file_id': 'M01003M20', 'timestamp': 71, 'impact_scalar': 1, 'comment': \"Pre-change: The couple were talking about the husband's business. The wife was disappointed that the husband didn't share enough. Both stayed calm. Shift: The husband told the wife that he lost money and the wife was very surprised and became angry. Evidence: The wife raised her voice and smile disappeared from her face. She was not happy with the husband.\"}), ({'file_id': 'M01003M20', 'timestamp': 224, 'llr': 1.0, 'annotator_notes': \"Hearing the man's difficulty, the woman stop blaming the man\"}, {'user_id': 212, 'file_id': 'M01003M20', 'timestamp': 216, 'impact_scalar': 5, 'comment': 'Pre-change: The wife was not happy that the husband lost money while the husband explained what went wrong. The mood in the room was very down, with both speakers felt upset. Shift: The wife comforted the husband and wanted to put it behind. The mood became more upbeat. Evidence: Wife patted on the back of the husband and said \"it is OK\". She also smiled and encouraged her husband.'})]\n",
      "[]\n",
      "[({'file_id': 'M01003MTK', 'timestamp': 70, 'llr': 1.0, 'annotator_notes': 'Everytime the woman asked a question, he gave an answer but he didn\\'t bring up topic on his own topic, he \"takes things as they come\"'}, {'user_id': 212, 'file_id': 'M01003MTK', 'timestamp': 64, 'impact_scalar': 5, 'comment': 'Pre-change: female introduced the male to her audience and both speakers are upbeat. Shift: Female started interviewing the male and the mood became much more calm. Both speakers became serious. Evidence: Female started to ask the male questions. Female removed her sun-glasses. Both speakers lowered their voice and stopped smiling.'}), ({'file_id': 'M01003MTK', 'timestamp': 240, 'llr': 1.0, 'annotator_notes': 'Talks to a lot of different people'}, {'user_id': 212, 'file_id': 'M01003MTK', 'timestamp': 239, 'impact_scalar': 1, 'comment': 'Pre-change: The female and male speakers were having a calm conversation. Shift: A group of males walked by and they started greeting each other and talked over each other. The female and male speakers stopped the conversation between them and started to talk to the group. Evidence: People talked over each other, with multiple speakers raised their voices. Some speakers were waving and gesturing.'}), ({'file_id': 'M01003MTK', 'timestamp': 269, 'llr': 1.0, 'annotator_notes': 'The man walked straight to the camera and wanted to be interviewed'}, {'user_id': 212, 'file_id': 'M01003MTK', 'timestamp': 267, 'impact_scalar': 5, 'comment': 'Pre-change: The group chit-chat with the male and female speakers. Shift: A male from the group walked closer to the male and female and female started interviewing the male from the group. The conversation became less chaotic. Evidence: The other people from the group walked away. The conversation is between the female and the male from the group. They were not shouting and used their normal voice in the conversation.'})]\n"
     ]
    },
    {
     "data": {
      "text/plain": [
       "(0.38095238095238093, 0.47058823529411764)"
      ]
     },
     "execution_count": 13,
     "metadata": {},
     "output_type": "execute_result"
    }
   ],
   "source": [
    "evaluate(yukun_df, modality_df, delta=delta, llr_threshold=llr_threshold)"
   ]
  },
  {
   "cell_type": "code",
   "execution_count": 14,
   "id": "6652c4f5-7309-401a-8521-346213e30a9e",
   "metadata": {},
   "outputs": [
    {
     "name": "stdout",
     "output_type": "stream",
     "text": [
      "[]\n",
      "[({'file_id': 'M01003M18', 'timestamp': 305, 'llr': 1.0, 'annotator_notes': 'Now he is also accusing the female for being lazy and started using stronger words '}, {'user_id': 212, 'file_id': 'M01003M18', 'timestamp': 308, 'impact_scalar': 1, 'comment': 'Pre-change: The husband kept trying calmly to persuade the wife while wife was busy with her cleaning, not reacting much to the husband, until the husband complained that the wife was too lazy. Shift: The wife became angry and stopped what she was doing and argued with the husband. Evidence: The wife looked at the husband angrily and raised her voice while stopped her cleaning and started talking back.'}), ({'file_id': 'M01003M18', 'timestamp': 315, 'llr': 1.0, 'annotator_notes': 'She is very assertive and insists that she is not going to take the job'}, {'user_id': 212, 'file_id': 'M01003M18', 'timestamp': 325, 'impact_scalar': 1, 'comment': 'Pre-change: The husband pointed out the age of the wife while the wife kept doing cleaning, not interacting with the husband. Shift: The wife stopped cleaning and looked at the husband intensely to correct the husband about her age. She looked very upset. Evidence: She raised her voice, waved her hand, and used rhetoric question.'})]\n",
      "[]\n",
      "[]\n",
      "10 (0.09523809523809523, 0.2)\n",
      "[]\n",
      "[({'file_id': 'M01003M18', 'timestamp': 305, 'llr': 1.0, 'annotator_notes': 'Now he is also accusing the female for being lazy and started using stronger words '}, {'user_id': 212, 'file_id': 'M01003M18', 'timestamp': 308, 'impact_scalar': 1, 'comment': 'Pre-change: The husband kept trying calmly to persuade the wife while wife was busy with her cleaning, not reacting much to the husband, until the husband complained that the wife was too lazy. Shift: The wife became angry and stopped what she was doing and argued with the husband. Evidence: The wife looked at the husband angrily and raised her voice while stopped her cleaning and started talking back.'}), ({'file_id': 'M01003M18', 'timestamp': 315, 'llr': 1.0, 'annotator_notes': 'She is very assertive and insists that she is not going to take the job'}, {'user_id': 212, 'file_id': 'M01003M18', 'timestamp': 325, 'impact_scalar': 1, 'comment': 'Pre-change: The husband pointed out the age of the wife while the wife kept doing cleaning, not interacting with the husband. Shift: The wife stopped cleaning and looked at the husband intensely to correct the husband about her age. She looked very upset. Evidence: She raised her voice, waved her hand, and used rhetoric question.'})]\n",
      "[]\n",
      "[]\n",
      "11 (0.09523809523809523, 0.2)\n",
      "[]\n",
      "[({'file_id': 'M01003M18', 'timestamp': 305, 'llr': 1.0, 'annotator_notes': 'Now he is also accusing the female for being lazy and started using stronger words '}, {'user_id': 212, 'file_id': 'M01003M18', 'timestamp': 308, 'impact_scalar': 1, 'comment': 'Pre-change: The husband kept trying calmly to persuade the wife while wife was busy with her cleaning, not reacting much to the husband, until the husband complained that the wife was too lazy. Shift: The wife became angry and stopped what she was doing and argued with the husband. Evidence: The wife looked at the husband angrily and raised her voice while stopped her cleaning and started talking back.'}), ({'file_id': 'M01003M18', 'timestamp': 315, 'llr': 1.0, 'annotator_notes': 'She is very assertive and insists that she is not going to take the job'}, {'user_id': 212, 'file_id': 'M01003M18', 'timestamp': 325, 'impact_scalar': 1, 'comment': 'Pre-change: The husband pointed out the age of the wife while the wife kept doing cleaning, not interacting with the husband. Shift: The wife stopped cleaning and looked at the husband intensely to correct the husband about her age. She looked very upset. Evidence: She raised her voice, waved her hand, and used rhetoric question.'})]\n",
      "[]\n",
      "[]\n",
      "12 (0.09523809523809523, 0.2)\n",
      "[]\n",
      "[({'file_id': 'M01003M18', 'timestamp': 305, 'llr': 1.0, 'annotator_notes': 'Now he is also accusing the female for being lazy and started using stronger words '}, {'user_id': 212, 'file_id': 'M01003M18', 'timestamp': 308, 'impact_scalar': 1, 'comment': 'Pre-change: The husband kept trying calmly to persuade the wife while wife was busy with her cleaning, not reacting much to the husband, until the husband complained that the wife was too lazy. Shift: The wife became angry and stopped what she was doing and argued with the husband. Evidence: The wife looked at the husband angrily and raised her voice while stopped her cleaning and started talking back.'}), ({'file_id': 'M01003M18', 'timestamp': 315, 'llr': 1.0, 'annotator_notes': 'She is very assertive and insists that she is not going to take the job'}, {'user_id': 212, 'file_id': 'M01003M18', 'timestamp': 325, 'impact_scalar': 1, 'comment': 'Pre-change: The husband pointed out the age of the wife while the wife kept doing cleaning, not interacting with the husband. Shift: The wife stopped cleaning and looked at the husband intensely to correct the husband about her age. She looked very upset. Evidence: She raised her voice, waved her hand, and used rhetoric question.'})]\n",
      "[]\n",
      "[]\n",
      "13 (0.09523809523809523, 0.2)\n",
      "[]\n",
      "[({'file_id': 'M01003M18', 'timestamp': 305, 'llr': 1.0, 'annotator_notes': 'Now he is also accusing the female for being lazy and started using stronger words '}, {'user_id': 212, 'file_id': 'M01003M18', 'timestamp': 308, 'impact_scalar': 1, 'comment': 'Pre-change: The husband kept trying calmly to persuade the wife while wife was busy with her cleaning, not reacting much to the husband, until the husband complained that the wife was too lazy. Shift: The wife became angry and stopped what she was doing and argued with the husband. Evidence: The wife looked at the husband angrily and raised her voice while stopped her cleaning and started talking back.'}), ({'file_id': 'M01003M18', 'timestamp': 315, 'llr': 1.0, 'annotator_notes': 'She is very assertive and insists that she is not going to take the job'}, {'user_id': 212, 'file_id': 'M01003M18', 'timestamp': 325, 'impact_scalar': 1, 'comment': 'Pre-change: The husband pointed out the age of the wife while the wife kept doing cleaning, not interacting with the husband. Shift: The wife stopped cleaning and looked at the husband intensely to correct the husband about her age. She looked very upset. Evidence: She raised her voice, waved her hand, and used rhetoric question.'})]\n",
      "[]\n",
      "[]\n",
      "14 (0.09523809523809523, 0.2)\n",
      "[]\n",
      "[({'file_id': 'M01003M18', 'timestamp': 305, 'llr': 1.0, 'annotator_notes': 'Now he is also accusing the female for being lazy and started using stronger words '}, {'user_id': 212, 'file_id': 'M01003M18', 'timestamp': 308, 'impact_scalar': 1, 'comment': 'Pre-change: The husband kept trying calmly to persuade the wife while wife was busy with her cleaning, not reacting much to the husband, until the husband complained that the wife was too lazy. Shift: The wife became angry and stopped what she was doing and argued with the husband. Evidence: The wife looked at the husband angrily and raised her voice while stopped her cleaning and started talking back.'}), ({'file_id': 'M01003M18', 'timestamp': 315, 'llr': 1.0, 'annotator_notes': 'She is very assertive and insists that she is not going to take the job'}, {'user_id': 212, 'file_id': 'M01003M18', 'timestamp': 325, 'impact_scalar': 1, 'comment': 'Pre-change: The husband pointed out the age of the wife while the wife kept doing cleaning, not interacting with the husband. Shift: The wife stopped cleaning and looked at the husband intensely to correct the husband about her age. She looked very upset. Evidence: She raised her voice, waved her hand, and used rhetoric question.'})]\n",
      "[]\n",
      "[]\n",
      "15 (0.09523809523809523, 0.2)\n",
      "[]\n",
      "[({'file_id': 'M01003M18', 'timestamp': 305, 'llr': 1.0, 'annotator_notes': 'Now he is also accusing the female for being lazy and started using stronger words '}, {'user_id': 212, 'file_id': 'M01003M18', 'timestamp': 308, 'impact_scalar': 1, 'comment': 'Pre-change: The husband kept trying calmly to persuade the wife while wife was busy with her cleaning, not reacting much to the husband, until the husband complained that the wife was too lazy. Shift: The wife became angry and stopped what she was doing and argued with the husband. Evidence: The wife looked at the husband angrily and raised her voice while stopped her cleaning and started talking back.'}), ({'file_id': 'M01003M18', 'timestamp': 315, 'llr': 1.0, 'annotator_notes': 'She is very assertive and insists that she is not going to take the job'}, {'user_id': 212, 'file_id': 'M01003M18', 'timestamp': 325, 'impact_scalar': 1, 'comment': 'Pre-change: The husband pointed out the age of the wife while the wife kept doing cleaning, not interacting with the husband. Shift: The wife stopped cleaning and looked at the husband intensely to correct the husband about her age. She looked very upset. Evidence: She raised her voice, waved her hand, and used rhetoric question.'})]\n",
      "[]\n",
      "[]\n",
      "16 (0.09523809523809523, 0.2)\n",
      "[]\n",
      "[({'file_id': 'M01003M18', 'timestamp': 305, 'llr': 1.0, 'annotator_notes': 'Now he is also accusing the female for being lazy and started using stronger words '}, {'user_id': 212, 'file_id': 'M01003M18', 'timestamp': 308, 'impact_scalar': 1, 'comment': 'Pre-change: The husband kept trying calmly to persuade the wife while wife was busy with her cleaning, not reacting much to the husband, until the husband complained that the wife was too lazy. Shift: The wife became angry and stopped what she was doing and argued with the husband. Evidence: The wife looked at the husband angrily and raised her voice while stopped her cleaning and started talking back.'}), ({'file_id': 'M01003M18', 'timestamp': 315, 'llr': 1.0, 'annotator_notes': 'She is very assertive and insists that she is not going to take the job'}, {'user_id': 212, 'file_id': 'M01003M18', 'timestamp': 325, 'impact_scalar': 1, 'comment': 'Pre-change: The husband pointed out the age of the wife while the wife kept doing cleaning, not interacting with the husband. Shift: The wife stopped cleaning and looked at the husband intensely to correct the husband about her age. She looked very upset. Evidence: She raised her voice, waved her hand, and used rhetoric question.'})]\n",
      "[]\n",
      "[]\n",
      "17 (0.09523809523809523, 0.2)\n",
      "[]\n",
      "[({'file_id': 'M01003M18', 'timestamp': 305, 'llr': 1.0, 'annotator_notes': 'Now he is also accusing the female for being lazy and started using stronger words '}, {'user_id': 212, 'file_id': 'M01003M18', 'timestamp': 308, 'impact_scalar': 1, 'comment': 'Pre-change: The husband kept trying calmly to persuade the wife while wife was busy with her cleaning, not reacting much to the husband, until the husband complained that the wife was too lazy. Shift: The wife became angry and stopped what she was doing and argued with the husband. Evidence: The wife looked at the husband angrily and raised her voice while stopped her cleaning and started talking back.'}), ({'file_id': 'M01003M18', 'timestamp': 315, 'llr': 1.0, 'annotator_notes': 'She is very assertive and insists that she is not going to take the job'}, {'user_id': 212, 'file_id': 'M01003M18', 'timestamp': 325, 'impact_scalar': 1, 'comment': 'Pre-change: The husband pointed out the age of the wife while the wife kept doing cleaning, not interacting with the husband. Shift: The wife stopped cleaning and looked at the husband intensely to correct the husband about her age. She looked very upset. Evidence: She raised her voice, waved her hand, and used rhetoric question.'})]\n",
      "[]\n",
      "[]\n",
      "18 (0.09523809523809523, 0.2)\n",
      "[]\n",
      "[({'file_id': 'M01003M18', 'timestamp': 305, 'llr': 1.0, 'annotator_notes': 'Now he is also accusing the female for being lazy and started using stronger words '}, {'user_id': 212, 'file_id': 'M01003M18', 'timestamp': 308, 'impact_scalar': 1, 'comment': 'Pre-change: The husband kept trying calmly to persuade the wife while wife was busy with her cleaning, not reacting much to the husband, until the husband complained that the wife was too lazy. Shift: The wife became angry and stopped what she was doing and argued with the husband. Evidence: The wife looked at the husband angrily and raised her voice while stopped her cleaning and started talking back.'}), ({'file_id': 'M01003M18', 'timestamp': 315, 'llr': 1.0, 'annotator_notes': 'She is very assertive and insists that she is not going to take the job'}, {'user_id': 212, 'file_id': 'M01003M18', 'timestamp': 325, 'impact_scalar': 1, 'comment': 'Pre-change: The husband pointed out the age of the wife while the wife kept doing cleaning, not interacting with the husband. Shift: The wife stopped cleaning and looked at the husband intensely to correct the husband about her age. She looked very upset. Evidence: She raised her voice, waved her hand, and used rhetoric question.'})]\n",
      "[]\n",
      "[]\n",
      "19 (0.09523809523809523, 0.2)\n",
      "[]\n",
      "[({'file_id': 'M01003M18', 'timestamp': 305, 'llr': 1.0, 'annotator_notes': 'Now he is also accusing the female for being lazy and started using stronger words '}, {'user_id': 212, 'file_id': 'M01003M18', 'timestamp': 308, 'impact_scalar': 1, 'comment': 'Pre-change: The husband kept trying calmly to persuade the wife while wife was busy with her cleaning, not reacting much to the husband, until the husband complained that the wife was too lazy. Shift: The wife became angry and stopped what she was doing and argued with the husband. Evidence: The wife looked at the husband angrily and raised her voice while stopped her cleaning and started talking back.'}), ({'file_id': 'M01003M18', 'timestamp': 315, 'llr': 1.0, 'annotator_notes': 'She is very assertive and insists that she is not going to take the job'}, {'user_id': 212, 'file_id': 'M01003M18', 'timestamp': 325, 'impact_scalar': 1, 'comment': 'Pre-change: The husband pointed out the age of the wife while the wife kept doing cleaning, not interacting with the husband. Shift: The wife stopped cleaning and looked at the husband intensely to correct the husband about her age. She looked very upset. Evidence: She raised her voice, waved her hand, and used rhetoric question.'})]\n",
      "[]\n",
      "[({'file_id': 'M01003JLO', 'timestamp': 130, 'llr': 1.0, 'annotator_notes': 'we finally got to see the second speaker but the tag doesnt change'}, {'user_id': 212, 'file_id': 'M01003JLO', 'timestamp': 150, 'impact_scalar': 4, 'comment': 'Pre-change: The female was very upset with the male and she has refused all requests/persuasion from the male. Shift: The female softened her tone and provided her request and was ready to discuss the issues with the male. Evidence: The female paused, tidied up a hair, and started her request by \"how about ...\".'})]\n",
      "20 (0.14285714285714285, 0.3)\n",
      "[]\n",
      "[({'file_id': 'M01003M18', 'timestamp': 305, 'llr': 1.0, 'annotator_notes': 'Now he is also accusing the female for being lazy and started using stronger words '}, {'user_id': 212, 'file_id': 'M01003M18', 'timestamp': 308, 'impact_scalar': 1, 'comment': 'Pre-change: The husband kept trying calmly to persuade the wife while wife was busy with her cleaning, not reacting much to the husband, until the husband complained that the wife was too lazy. Shift: The wife became angry and stopped what she was doing and argued with the husband. Evidence: The wife looked at the husband angrily and raised her voice while stopped her cleaning and started talking back.'}), ({'file_id': 'M01003M18', 'timestamp': 315, 'llr': 1.0, 'annotator_notes': 'She is very assertive and insists that she is not going to take the job'}, {'user_id': 212, 'file_id': 'M01003M18', 'timestamp': 325, 'impact_scalar': 1, 'comment': 'Pre-change: The husband pointed out the age of the wife while the wife kept doing cleaning, not interacting with the husband. Shift: The wife stopped cleaning and looked at the husband intensely to correct the husband about her age. She looked very upset. Evidence: She raised her voice, waved her hand, and used rhetoric question.'})]\n",
      "[]\n",
      "[({'file_id': 'M01003JLO', 'timestamp': 130, 'llr': 1.0, 'annotator_notes': 'we finally got to see the second speaker but the tag doesnt change'}, {'user_id': 212, 'file_id': 'M01003JLO', 'timestamp': 150, 'impact_scalar': 4, 'comment': 'Pre-change: The female was very upset with the male and she has refused all requests/persuasion from the male. Shift: The female softened her tone and provided her request and was ready to discuss the issues with the male. Evidence: The female paused, tidied up a hair, and started her request by \"how about ...\".'})]\n",
      "21 (0.14285714285714285, 0.3)\n",
      "[]\n",
      "[({'file_id': 'M01003M18', 'timestamp': 305, 'llr': 1.0, 'annotator_notes': 'Now he is also accusing the female for being lazy and started using stronger words '}, {'user_id': 212, 'file_id': 'M01003M18', 'timestamp': 308, 'impact_scalar': 1, 'comment': 'Pre-change: The husband kept trying calmly to persuade the wife while wife was busy with her cleaning, not reacting much to the husband, until the husband complained that the wife was too lazy. Shift: The wife became angry and stopped what she was doing and argued with the husband. Evidence: The wife looked at the husband angrily and raised her voice while stopped her cleaning and started talking back.'}), ({'file_id': 'M01003M18', 'timestamp': 315, 'llr': 1.0, 'annotator_notes': 'She is very assertive and insists that she is not going to take the job'}, {'user_id': 212, 'file_id': 'M01003M18', 'timestamp': 325, 'impact_scalar': 1, 'comment': 'Pre-change: The husband pointed out the age of the wife while the wife kept doing cleaning, not interacting with the husband. Shift: The wife stopped cleaning and looked at the husband intensely to correct the husband about her age. She looked very upset. Evidence: She raised her voice, waved her hand, and used rhetoric question.'})]\n",
      "[]\n",
      "[({'file_id': 'M01003JLO', 'timestamp': 130, 'llr': 1.0, 'annotator_notes': 'we finally got to see the second speaker but the tag doesnt change'}, {'user_id': 212, 'file_id': 'M01003JLO', 'timestamp': 150, 'impact_scalar': 4, 'comment': 'Pre-change: The female was very upset with the male and she has refused all requests/persuasion from the male. Shift: The female softened her tone and provided her request and was ready to discuss the issues with the male. Evidence: The female paused, tidied up a hair, and started her request by \"how about ...\".'})]\n",
      "22 (0.14285714285714285, 0.3)\n",
      "[]\n",
      "[({'file_id': 'M01003M18', 'timestamp': 305, 'llr': 1.0, 'annotator_notes': 'Now he is also accusing the female for being lazy and started using stronger words '}, {'user_id': 212, 'file_id': 'M01003M18', 'timestamp': 308, 'impact_scalar': 1, 'comment': 'Pre-change: The husband kept trying calmly to persuade the wife while wife was busy with her cleaning, not reacting much to the husband, until the husband complained that the wife was too lazy. Shift: The wife became angry and stopped what she was doing and argued with the husband. Evidence: The wife looked at the husband angrily and raised her voice while stopped her cleaning and started talking back.'}), ({'file_id': 'M01003M18', 'timestamp': 315, 'llr': 1.0, 'annotator_notes': 'She is very assertive and insists that she is not going to take the job'}, {'user_id': 212, 'file_id': 'M01003M18', 'timestamp': 325, 'impact_scalar': 1, 'comment': 'Pre-change: The husband pointed out the age of the wife while the wife kept doing cleaning, not interacting with the husband. Shift: The wife stopped cleaning and looked at the husband intensely to correct the husband about her age. She looked very upset. Evidence: She raised her voice, waved her hand, and used rhetoric question.'})]\n",
      "[]\n",
      "[({'file_id': 'M01003JLO', 'timestamp': 130, 'llr': 1.0, 'annotator_notes': 'we finally got to see the second speaker but the tag doesnt change'}, {'user_id': 212, 'file_id': 'M01003JLO', 'timestamp': 150, 'impact_scalar': 4, 'comment': 'Pre-change: The female was very upset with the male and she has refused all requests/persuasion from the male. Shift: The female softened her tone and provided her request and was ready to discuss the issues with the male. Evidence: The female paused, tidied up a hair, and started her request by \"how about ...\".'})]\n",
      "23 (0.14285714285714285, 0.3)\n",
      "[]\n",
      "[({'file_id': 'M01003M18', 'timestamp': 305, 'llr': 1.0, 'annotator_notes': 'Now he is also accusing the female for being lazy and started using stronger words '}, {'user_id': 212, 'file_id': 'M01003M18', 'timestamp': 308, 'impact_scalar': 1, 'comment': 'Pre-change: The husband kept trying calmly to persuade the wife while wife was busy with her cleaning, not reacting much to the husband, until the husband complained that the wife was too lazy. Shift: The wife became angry and stopped what she was doing and argued with the husband. Evidence: The wife looked at the husband angrily and raised her voice while stopped her cleaning and started talking back.'}), ({'file_id': 'M01003M18', 'timestamp': 315, 'llr': 1.0, 'annotator_notes': 'She is very assertive and insists that she is not going to take the job'}, {'user_id': 212, 'file_id': 'M01003M18', 'timestamp': 325, 'impact_scalar': 1, 'comment': 'Pre-change: The husband pointed out the age of the wife while the wife kept doing cleaning, not interacting with the husband. Shift: The wife stopped cleaning and looked at the husband intensely to correct the husband about her age. She looked very upset. Evidence: She raised her voice, waved her hand, and used rhetoric question.'})]\n",
      "[]\n",
      "[({'file_id': 'M01003JLO', 'timestamp': 130, 'llr': 1.0, 'annotator_notes': 'we finally got to see the second speaker but the tag doesnt change'}, {'user_id': 212, 'file_id': 'M01003JLO', 'timestamp': 150, 'impact_scalar': 4, 'comment': 'Pre-change: The female was very upset with the male and she has refused all requests/persuasion from the male. Shift: The female softened her tone and provided her request and was ready to discuss the issues with the male. Evidence: The female paused, tidied up a hair, and started her request by \"how about ...\".'})]\n",
      "24 (0.14285714285714285, 0.3)\n",
      "[]\n",
      "[({'file_id': 'M01003M18', 'timestamp': 305, 'llr': 1.0, 'annotator_notes': 'Now he is also accusing the female for being lazy and started using stronger words '}, {'user_id': 212, 'file_id': 'M01003M18', 'timestamp': 308, 'impact_scalar': 1, 'comment': 'Pre-change: The husband kept trying calmly to persuade the wife while wife was busy with her cleaning, not reacting much to the husband, until the husband complained that the wife was too lazy. Shift: The wife became angry and stopped what she was doing and argued with the husband. Evidence: The wife looked at the husband angrily and raised her voice while stopped her cleaning and started talking back.'}), ({'file_id': 'M01003M18', 'timestamp': 315, 'llr': 1.0, 'annotator_notes': 'She is very assertive and insists that she is not going to take the job'}, {'user_id': 212, 'file_id': 'M01003M18', 'timestamp': 325, 'impact_scalar': 1, 'comment': 'Pre-change: The husband pointed out the age of the wife while the wife kept doing cleaning, not interacting with the husband. Shift: The wife stopped cleaning and looked at the husband intensely to correct the husband about her age. She looked very upset. Evidence: She raised her voice, waved her hand, and used rhetoric question.'})]\n",
      "[]\n",
      "[({'file_id': 'M01003JLO', 'timestamp': 130, 'llr': 1.0, 'annotator_notes': 'we finally got to see the second speaker but the tag doesnt change'}, {'user_id': 212, 'file_id': 'M01003JLO', 'timestamp': 150, 'impact_scalar': 4, 'comment': 'Pre-change: The female was very upset with the male and she has refused all requests/persuasion from the male. Shift: The female softened her tone and provided her request and was ready to discuss the issues with the male. Evidence: The female paused, tidied up a hair, and started her request by \"how about ...\".'})]\n",
      "25 (0.14285714285714285, 0.3)\n",
      "[]\n",
      "[({'file_id': 'M01003M18', 'timestamp': 305, 'llr': 1.0, 'annotator_notes': 'Now he is also accusing the female for being lazy and started using stronger words '}, {'user_id': 212, 'file_id': 'M01003M18', 'timestamp': 308, 'impact_scalar': 1, 'comment': 'Pre-change: The husband kept trying calmly to persuade the wife while wife was busy with her cleaning, not reacting much to the husband, until the husband complained that the wife was too lazy. Shift: The wife became angry and stopped what she was doing and argued with the husband. Evidence: The wife looked at the husband angrily and raised her voice while stopped her cleaning and started talking back.'}), ({'file_id': 'M01003M18', 'timestamp': 315, 'llr': 1.0, 'annotator_notes': 'She is very assertive and insists that she is not going to take the job'}, {'user_id': 212, 'file_id': 'M01003M18', 'timestamp': 325, 'impact_scalar': 1, 'comment': 'Pre-change: The husband pointed out the age of the wife while the wife kept doing cleaning, not interacting with the husband. Shift: The wife stopped cleaning and looked at the husband intensely to correct the husband about her age. She looked very upset. Evidence: She raised her voice, waved her hand, and used rhetoric question.'})]\n",
      "[]\n",
      "[({'file_id': 'M01003JLO', 'timestamp': 130, 'llr': 1.0, 'annotator_notes': 'we finally got to see the second speaker but the tag doesnt change'}, {'user_id': 212, 'file_id': 'M01003JLO', 'timestamp': 150, 'impact_scalar': 4, 'comment': 'Pre-change: The female was very upset with the male and she has refused all requests/persuasion from the male. Shift: The female softened her tone and provided her request and was ready to discuss the issues with the male. Evidence: The female paused, tidied up a hair, and started her request by \"how about ...\".'})]\n",
      "26 (0.14285714285714285, 0.3)\n",
      "[]\n",
      "[({'file_id': 'M01003M18', 'timestamp': 305, 'llr': 1.0, 'annotator_notes': 'Now he is also accusing the female for being lazy and started using stronger words '}, {'user_id': 212, 'file_id': 'M01003M18', 'timestamp': 308, 'impact_scalar': 1, 'comment': 'Pre-change: The husband kept trying calmly to persuade the wife while wife was busy with her cleaning, not reacting much to the husband, until the husband complained that the wife was too lazy. Shift: The wife became angry and stopped what she was doing and argued with the husband. Evidence: The wife looked at the husband angrily and raised her voice while stopped her cleaning and started talking back.'}), ({'file_id': 'M01003M18', 'timestamp': 315, 'llr': 1.0, 'annotator_notes': 'She is very assertive and insists that she is not going to take the job'}, {'user_id': 212, 'file_id': 'M01003M18', 'timestamp': 325, 'impact_scalar': 1, 'comment': 'Pre-change: The husband pointed out the age of the wife while the wife kept doing cleaning, not interacting with the husband. Shift: The wife stopped cleaning and looked at the husband intensely to correct the husband about her age. She looked very upset. Evidence: She raised her voice, waved her hand, and used rhetoric question.'})]\n",
      "[]\n",
      "[({'file_id': 'M01003JLO', 'timestamp': 130, 'llr': 1.0, 'annotator_notes': 'we finally got to see the second speaker but the tag doesnt change'}, {'user_id': 212, 'file_id': 'M01003JLO', 'timestamp': 150, 'impact_scalar': 4, 'comment': 'Pre-change: The female was very upset with the male and she has refused all requests/persuasion from the male. Shift: The female softened her tone and provided her request and was ready to discuss the issues with the male. Evidence: The female paused, tidied up a hair, and started her request by \"how about ...\".'})]\n",
      "27 (0.14285714285714285, 0.3)\n",
      "[]\n",
      "[({'file_id': 'M01003M18', 'timestamp': 305, 'llr': 1.0, 'annotator_notes': 'Now he is also accusing the female for being lazy and started using stronger words '}, {'user_id': 212, 'file_id': 'M01003M18', 'timestamp': 308, 'impact_scalar': 1, 'comment': 'Pre-change: The husband kept trying calmly to persuade the wife while wife was busy with her cleaning, not reacting much to the husband, until the husband complained that the wife was too lazy. Shift: The wife became angry and stopped what she was doing and argued with the husband. Evidence: The wife looked at the husband angrily and raised her voice while stopped her cleaning and started talking back.'}), ({'file_id': 'M01003M18', 'timestamp': 315, 'llr': 1.0, 'annotator_notes': 'She is very assertive and insists that she is not going to take the job'}, {'user_id': 212, 'file_id': 'M01003M18', 'timestamp': 325, 'impact_scalar': 1, 'comment': 'Pre-change: The husband pointed out the age of the wife while the wife kept doing cleaning, not interacting with the husband. Shift: The wife stopped cleaning and looked at the husband intensely to correct the husband about her age. She looked very upset. Evidence: She raised her voice, waved her hand, and used rhetoric question.'})]\n",
      "[]\n",
      "[({'file_id': 'M01003JLO', 'timestamp': 130, 'llr': 1.0, 'annotator_notes': 'we finally got to see the second speaker but the tag doesnt change'}, {'user_id': 212, 'file_id': 'M01003JLO', 'timestamp': 150, 'impact_scalar': 4, 'comment': 'Pre-change: The female was very upset with the male and she has refused all requests/persuasion from the male. Shift: The female softened her tone and provided her request and was ready to discuss the issues with the male. Evidence: The female paused, tidied up a hair, and started her request by \"how about ...\".'})]\n",
      "28 (0.14285714285714285, 0.3)\n",
      "[]\n",
      "[({'file_id': 'M01003M18', 'timestamp': 305, 'llr': 1.0, 'annotator_notes': 'Now he is also accusing the female for being lazy and started using stronger words '}, {'user_id': 212, 'file_id': 'M01003M18', 'timestamp': 308, 'impact_scalar': 1, 'comment': 'Pre-change: The husband kept trying calmly to persuade the wife while wife was busy with her cleaning, not reacting much to the husband, until the husband complained that the wife was too lazy. Shift: The wife became angry and stopped what she was doing and argued with the husband. Evidence: The wife looked at the husband angrily and raised her voice while stopped her cleaning and started talking back.'}), ({'file_id': 'M01003M18', 'timestamp': 315, 'llr': 1.0, 'annotator_notes': 'She is very assertive and insists that she is not going to take the job'}, {'user_id': 212, 'file_id': 'M01003M18', 'timestamp': 325, 'impact_scalar': 1, 'comment': 'Pre-change: The husband pointed out the age of the wife while the wife kept doing cleaning, not interacting with the husband. Shift: The wife stopped cleaning and looked at the husband intensely to correct the husband about her age. She looked very upset. Evidence: She raised her voice, waved her hand, and used rhetoric question.'})]\n",
      "[]\n",
      "[({'file_id': 'M01003JLO', 'timestamp': 130, 'llr': 1.0, 'annotator_notes': 'we finally got to see the second speaker but the tag doesnt change'}, {'user_id': 212, 'file_id': 'M01003JLO', 'timestamp': 150, 'impact_scalar': 4, 'comment': 'Pre-change: The female was very upset with the male and she has refused all requests/persuasion from the male. Shift: The female softened her tone and provided her request and was ready to discuss the issues with the male. Evidence: The female paused, tidied up a hair, and started her request by \"how about ...\".'})]\n",
      "29 (0.14285714285714285, 0.3)\n"
     ]
    }
   ],
   "source": [
    "for delta in range(10, 30):\n",
    "    print(delta, evaluate(genglin_df, modality_df, delta=delta, llr_threshold=llr_threshold))"
   ]
  },
  {
   "cell_type": "code",
   "execution_count": null,
   "id": "64c4b31c-a6c4-4efc-9949-715867b8aa7e",
   "metadata": {},
   "outputs": [],
   "source": []
  },
  {
   "cell_type": "code",
   "execution_count": 87,
   "id": "2f157839-ebd3-457f-b2da-43c39c98d759",
   "metadata": {},
   "outputs": [
    {
     "name": "stdout",
     "output_type": "stream",
     "text": [
      "10 (0.13333333333333333, 0.2)\n",
      "11 (0.13333333333333333, 0.2)\n",
      "12 (0.13333333333333333, 0.2)\n",
      "13 (0.13333333333333333, 0.2)\n",
      "14 (0.13333333333333333, 0.2)\n",
      "15 (0.13333333333333333, 0.2)\n",
      "16 (0.13333333333333333, 0.2)\n",
      "17 (0.13333333333333333, 0.2)\n",
      "18 (0.13333333333333333, 0.2)\n",
      "19 (0.13333333333333333, 0.2)\n",
      "20 (0.13333333333333333, 0.2)\n",
      "21 (0.13333333333333333, 0.2)\n",
      "22 (0.13333333333333333, 0.2)\n",
      "23 (0.13333333333333333, 0.2)\n",
      "24 (0.13333333333333333, 0.2)\n",
      "25 (0.13333333333333333, 0.2)\n",
      "26 (0.13333333333333333, 0.2)\n",
      "27 (0.13333333333333333, 0.2)\n",
      "28 (0.13333333333333333, 0.2)\n",
      "29 (0.13333333333333333, 0.2)\n"
     ]
    }
   ],
   "source": [
    "for delta in range(10, 30):\n",
    "    print(delta, evaluate(jialiang_df, modality_df, delta=delta, llr_threshold=llr_threshold))"
   ]
  },
  {
   "cell_type": "code",
   "execution_count": null,
   "id": "ed0f420a-6e70-4b37-95ce-22374fc5c5c9",
   "metadata": {},
   "outputs": [],
   "source": []
  }
 ],
 "metadata": {
  "kernelspec": {
   "display_name": "Python (CHARM)",
   "language": "python",
   "name": "charm"
  },
  "language_info": {
   "codemirror_mode": {
    "name": "ipython",
    "version": 3
   },
   "file_extension": ".py",
   "mimetype": "text/x-python",
   "name": "python",
   "nbconvert_exporter": "python",
   "pygments_lexer": "ipython3",
   "version": "3.10.6"
  }
 },
 "nbformat": 4,
 "nbformat_minor": 5
}
