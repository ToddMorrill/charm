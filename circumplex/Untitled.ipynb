{
 "cells": [
  {
   "cell_type": "code",
   "execution_count": 17,
   "id": "2fe9711a-d1a7-4b59-9d27-73cae51d6d6c",
   "metadata": {},
   "outputs": [],
   "source": [
    "from transformers import XLMRobertaTokenizer, XLMRobertaForSequenceClassification, AutoTokenizer, DataCollatorWithPadding"
   ]
  },
  {
   "cell_type": "code",
   "execution_count": 39,
   "id": "d6065de4-c15f-4b40-a5fa-5d664f41841a",
   "metadata": {},
   "outputs": [
    {
     "name": "stderr",
     "output_type": "stream",
     "text": [
      "Some weights of the model checkpoint at xlm-roberta-base were not used when initializing XLMRobertaForSequenceClassification: ['lm_head.bias', 'lm_head.decoder.weight', 'lm_head.dense.bias', 'lm_head.layer_norm.weight', 'lm_head.dense.weight', 'roberta.pooler.dense.bias', 'roberta.pooler.dense.weight', 'lm_head.layer_norm.bias']\n",
      "- This IS expected if you are initializing XLMRobertaForSequenceClassification from the checkpoint of a model trained on another task or with another architecture (e.g. initializing a BertForSequenceClassification model from a BertForPreTraining model).\n",
      "- This IS NOT expected if you are initializing XLMRobertaForSequenceClassification from the checkpoint of a model that you expect to be exactly identical (initializing a BertForSequenceClassification model from a BertForSequenceClassification model).\n",
      "Some weights of XLMRobertaForSequenceClassification were not initialized from the model checkpoint at xlm-roberta-base and are newly initialized: ['classifier.dense.bias', 'classifier.out_proj.weight', 'classifier.dense.weight', 'classifier.out_proj.bias']\n",
      "You should probably TRAIN this model on a down-stream task to be able to use it for predictions and inference.\n"
     ]
    }
   ],
   "source": [
    "model = 'xlm-roberta-base'\n",
    "tokenizer = AutoTokenizer.from_pretrained(model)\n",
    "# tokenizer = XLMRobertaTokenizer.from_pretrained(model)\n",
    "model = XLMRobertaForSequenceClassification.from_pretrained(model)"
   ]
  },
  {
   "cell_type": "code",
   "execution_count": 40,
   "id": "f9ae9a16-d923-44b2-a74b-c4819ad7e285",
   "metadata": {},
   "outputs": [],
   "source": [
    "collator = DataCollatorWithPadding(tokenizer, )"
   ]
  },
  {
   "cell_type": "code",
   "execution_count": 41,
   "id": "1d7b3b4a-33ca-40bb-92cf-335fe28182d4",
   "metadata": {},
   "outputs": [],
   "source": [
    "output_1 = tokenizer('The quick brown', add_special_tokens=False, return_attention_mask=False)\n",
    "output_2 = tokenizer('The quick brown fox', add_special_tokens=False, return_attention_mask=False)\n",
    "# outputs_2 = tokenizer(['The quick brown', 'The quick brown'], add_special_tokens=False, return_attention_mask=False)#['input_ids']"
   ]
  },
  {
   "cell_type": "code",
   "execution_count": 45,
   "id": "846edd7e-3db1-4696-a193-edbe4aa8c68d",
   "metadata": {},
   "outputs": [],
   "source": [
    "batch = collator([output_1, output_2], )"
   ]
  },
  {
   "cell_type": "code",
   "execution_count": 48,
   "id": "54a7a305-ee20-4fe3-ba87-43b756cb321f",
   "metadata": {},
   "outputs": [
    {
     "data": {
      "text/plain": [
       "[581, 63773, 119455]"
      ]
     },
     "execution_count": 48,
     "metadata": {},
     "output_type": "execute_result"
    }
   ],
   "source": [
    "# merge a sequence of utterances\n",
    "output_1['input_ids']"
   ]
  },
  {
   "cell_type": "code",
   "execution_count": 71,
   "id": "0207d76c-fa45-442a-868a-00fa7dfa33d2",
   "metadata": {},
   "outputs": [
    {
     "data": {
      "text/plain": [
       "[0, 581, 63773, 119455, 2]"
      ]
     },
     "execution_count": 71,
     "metadata": {},
     "output_type": "execute_result"
    }
   ],
   "source": [
    "tokenizer.build_inputs_with_special_tokens(output_1['input_ids'])"
   ]
  },
  {
   "cell_type": "code",
   "execution_count": 69,
   "id": "332c00dd-d882-4a8f-8af2-e4147901a341",
   "metadata": {},
   "outputs": [
    {
     "data": {
      "text/plain": [
       "{'input_ids': [581, 63773, 119455]}"
      ]
     },
     "execution_count": 69,
     "metadata": {},
     "output_type": "execute_result"
    }
   ],
   "source": [
    "output_1"
   ]
  },
  {
   "cell_type": "code",
   "execution_count": 60,
   "id": "f39fb2b2-99c3-437c-ac18-bd4180bb897b",
   "metadata": {},
   "outputs": [
    {
     "data": {
      "text/plain": [
       "{'input_ids': [[0, 581, 63773, 119455, 2, 2, 581, 63773, 119455, 6, 147797, 2]], 'attention_mask': [[1, 1, 1, 1, 1, 1, 1, 1, 1, 1, 1, 1]]}"
      ]
     },
     "execution_count": 60,
     "metadata": {},
     "output_type": "execute_result"
    }
   ],
   "source": [
    "# try to mirror behavior of tokenizer by default\n",
    "tokenizer([['The quick brown', 'The quick brown fox']])"
   ]
  },
  {
   "cell_type": "code",
   "execution_count": 63,
   "id": "6e7b6d72-7512-479f-88b9-8fd3494fa86c",
   "metadata": {},
   "outputs": [],
   "source": [
    "encoded_utterance = [tokenizer.bos_token_id] + output_1['input_ids'] + [tokenizer.eos_token_id, tokenizer.sep_token_id] + output_2['input_ids'] + [tokenizer.eos_token_id]"
   ]
  },
  {
   "cell_type": "code",
   "execution_count": 67,
   "id": "e18f2d54-4e96-41eb-a178-2ce663e61c18",
   "metadata": {},
   "outputs": [],
   "source": [
    "utterances = [{'input_ids': encoded_utterance}, {'input_ids': encoded_utterance}]"
   ]
  },
  {
   "cell_type": "code",
   "execution_count": 68,
   "id": "dbbcb0b5-0cbb-4a9a-937f-93f5999ee286",
   "metadata": {},
   "outputs": [
    {
     "data": {
      "text/plain": [
       "{'input_ids': tensor([[     0,    581,  63773, 119455,      2,      2,    581,  63773, 119455,\n",
       "              6, 147797,      2],\n",
       "        [     0,    581,  63773, 119455,      2,      2,    581,  63773, 119455,\n",
       "              6, 147797,      2]]), 'attention_mask': tensor([[1, 1, 1, 1, 1, 1, 1, 1, 1, 1, 1, 1],\n",
       "        [1, 1, 1, 1, 1, 1, 1, 1, 1, 1, 1, 1]])}"
      ]
     },
     "execution_count": 68,
     "metadata": {},
     "output_type": "execute_result"
    }
   ],
   "source": [
    "collator(utterances)"
   ]
  },
  {
   "cell_type": "code",
   "execution_count": null,
   "id": "02bcaaab-33a2-4a91-a10f-ca93dcb1a952",
   "metadata": {},
   "outputs": [],
   "source": []
  }
 ],
 "metadata": {
  "kernelspec": {
   "display_name": "Python (CHARM)",
   "language": "python",
   "name": "charm"
  },
  "language_info": {
   "codemirror_mode": {
    "name": "ipython",
    "version": 3
   },
   "file_extension": ".py",
   "mimetype": "text/x-python",
   "name": "python",
   "nbconvert_exporter": "python",
   "pygments_lexer": "ipython3",
   "version": "3.10.6"
  }
 },
 "nbformat": 4,
 "nbformat_minor": 5
}
