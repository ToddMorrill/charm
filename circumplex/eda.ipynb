{
 "cells": [
  {
   "cell_type": "markdown",
   "id": "48d3703d-75c1-4aca-ab9e-2ba41f1c71b3",
   "metadata": {},
   "source": [
    "# Labeled Data EDA"
   ]
  },
  {
   "cell_type": "code",
   "execution_count": 1,
   "id": "209e2bea-bec3-49b3-9d98-9b1fb732d694",
   "metadata": {},
   "outputs": [],
   "source": [
    "import os\n",
    "import pandas as pd\n",
    "import numpy as np\n",
    "from IPython.display import display"
   ]
  },
  {
   "cell_type": "markdown",
   "id": "fcb0866e-c0c2-4a91-993b-54478b2efe22",
   "metadata": {},
   "source": [
    "## Load the annotations from LDC"
   ]
  },
  {
   "cell_type": "code",
   "execution_count": 2,
   "id": "ac653231-fd00-40e0-8275-140aaa79501c",
   "metadata": {},
   "outputs": [],
   "source": [
    "home_dir = os.path.expanduser('~')"
   ]
  },
  {
   "cell_type": "code",
   "execution_count": 3,
   "id": "0c66d12d-1670-49ff-b0e8-20f4a0eb0071",
   "metadata": {},
   "outputs": [],
   "source": [
    "# source: https://drive.google.com/drive/folders/1aL7bcLWQmUskR3dmj3K1jdXQsb_nIcv2\n",
    "anno_dir = os.path.join(home_dir, 'Documents/datasets/charm/raw/LDC2022E18_CCU_TA1_Mandarin_Chinese_Development_Annotation_V1.0/data')\n",
    "anno_files = [os.path.join(anno_dir, x) for x in os.listdir(anno_dir) if x not in ['.DS_Store']]"
   ]
  },
  {
   "cell_type": "code",
   "execution_count": 4,
   "id": "b45efcb3-7aaf-4e99-86fb-d60b294cb40c",
   "metadata": {},
   "outputs": [
    {
     "name": "stdout",
     "output_type": "stream",
     "text": [
      "valence_arousal.tab\n",
      "changepoint.tab\n",
      "norms.tab\n",
      "emotions.tab\n"
     ]
    }
   ],
   "source": [
    "# annotation files\n",
    "for f in anno_files:\n",
    "    print(os.path.split(f)[-1])"
   ]
  },
  {
   "cell_type": "code",
   "execution_count": 5,
   "id": "913501d5-169b-4170-92b4-e133f20700bc",
   "metadata": {},
   "outputs": [],
   "source": [
    "anno_dfs = {}\n",
    "for f in anno_files:\n",
    "    filename = os.path.split(f)[-1]\n",
    "    anno_dfs[filename] = pd.read_csv(f, sep='\\t')"
   ]
  },
  {
   "cell_type": "code",
   "execution_count": 6,
   "id": "4d2329a7-9297-4d48-9ddb-70e6ae0d105c",
   "metadata": {},
   "outputs": [
    {
     "name": "stdout",
     "output_type": "stream",
     "text": [
      "valence_arousal.tab\n"
     ]
    },
    {
     "data": {
      "text/html": [
       "<div>\n",
       "<style scoped>\n",
       "    .dataframe tbody tr th:only-of-type {\n",
       "        vertical-align: middle;\n",
       "    }\n",
       "\n",
       "    .dataframe tbody tr th {\n",
       "        vertical-align: top;\n",
       "    }\n",
       "\n",
       "    .dataframe thead th {\n",
       "        text-align: right;\n",
       "    }\n",
       "</style>\n",
       "<table border=\"1\" class=\"dataframe\">\n",
       "  <thead>\n",
       "    <tr style=\"text-align: right;\">\n",
       "      <th></th>\n",
       "      <th>user_id</th>\n",
       "      <th>file_id</th>\n",
       "      <th>segment_id</th>\n",
       "      <th>valence_continuous</th>\n",
       "      <th>valence_binned</th>\n",
       "      <th>arousal_continuous</th>\n",
       "      <th>arousal_binned</th>\n",
       "    </tr>\n",
       "  </thead>\n",
       "  <tbody>\n",
       "    <tr>\n",
       "      <th>0</th>\n",
       "      <td>212</td>\n",
       "      <td>M0100053I</td>\n",
       "      <td>M0100053I_0001</td>\n",
       "      <td>403</td>\n",
       "      <td>3</td>\n",
       "      <td>330</td>\n",
       "      <td>2</td>\n",
       "    </tr>\n",
       "    <tr>\n",
       "      <th>1</th>\n",
       "      <td>212</td>\n",
       "      <td>M0100053I</td>\n",
       "      <td>M0100053I_0002</td>\n",
       "      <td>623</td>\n",
       "      <td>4</td>\n",
       "      <td>596</td>\n",
       "      <td>3</td>\n",
       "    </tr>\n",
       "  </tbody>\n",
       "</table>\n",
       "</div>"
      ],
      "text/plain": [
       "   user_id    file_id      segment_id valence_continuous valence_binned  \\\n",
       "0      212  M0100053I  M0100053I_0001                403              3   \n",
       "1      212  M0100053I  M0100053I_0002                623              4   \n",
       "\n",
       "  arousal_continuous arousal_binned  \n",
       "0                330              2  \n",
       "1                596              3  "
      ]
     },
     "metadata": {},
     "output_type": "display_data"
    },
    {
     "name": "stdout",
     "output_type": "stream",
     "text": [
      "\n",
      "changepoint.tab\n"
     ]
    },
    {
     "data": {
      "text/html": [
       "<div>\n",
       "<style scoped>\n",
       "    .dataframe tbody tr th:only-of-type {\n",
       "        vertical-align: middle;\n",
       "    }\n",
       "\n",
       "    .dataframe tbody tr th {\n",
       "        vertical-align: top;\n",
       "    }\n",
       "\n",
       "    .dataframe thead th {\n",
       "        text-align: right;\n",
       "    }\n",
       "</style>\n",
       "<table border=\"1\" class=\"dataframe\">\n",
       "  <thead>\n",
       "    <tr style=\"text-align: right;\">\n",
       "      <th></th>\n",
       "      <th>user_id</th>\n",
       "      <th>file_id</th>\n",
       "      <th>timestamp</th>\n",
       "      <th>impact_scalar</th>\n",
       "      <th>comment</th>\n",
       "    </tr>\n",
       "  </thead>\n",
       "  <tbody>\n",
       "    <tr>\n",
       "      <th>0</th>\n",
       "      <td>212</td>\n",
       "      <td>M01003YN6</td>\n",
       "      <td>38</td>\n",
       "      <td>1</td>\n",
       "      <td>Pre-change: The female served the male fruit t...</td>\n",
       "    </tr>\n",
       "    <tr>\n",
       "      <th>1</th>\n",
       "      <td>212</td>\n",
       "      <td>M01003MTK</td>\n",
       "      <td>64</td>\n",
       "      <td>5</td>\n",
       "      <td>Pre-change: female introduced the male to her ...</td>\n",
       "    </tr>\n",
       "  </tbody>\n",
       "</table>\n",
       "</div>"
      ],
      "text/plain": [
       "   user_id    file_id  timestamp  impact_scalar  \\\n",
       "0      212  M01003YN6         38              1   \n",
       "1      212  M01003MTK         64              5   \n",
       "\n",
       "                                             comment  \n",
       "0  Pre-change: The female served the male fruit t...  \n",
       "1  Pre-change: female introduced the male to her ...  "
      ]
     },
     "metadata": {},
     "output_type": "display_data"
    },
    {
     "name": "stdout",
     "output_type": "stream",
     "text": [
      "\n",
      "norms.tab\n"
     ]
    },
    {
     "data": {
      "text/html": [
       "<div>\n",
       "<style scoped>\n",
       "    .dataframe tbody tr th:only-of-type {\n",
       "        vertical-align: middle;\n",
       "    }\n",
       "\n",
       "    .dataframe tbody tr th {\n",
       "        vertical-align: top;\n",
       "    }\n",
       "\n",
       "    .dataframe thead th {\n",
       "        text-align: right;\n",
       "    }\n",
       "</style>\n",
       "<table border=\"1\" class=\"dataframe\">\n",
       "  <thead>\n",
       "    <tr style=\"text-align: right;\">\n",
       "      <th></th>\n",
       "      <th>user_id</th>\n",
       "      <th>file_id</th>\n",
       "      <th>segment_id</th>\n",
       "      <th>norm</th>\n",
       "      <th>status</th>\n",
       "    </tr>\n",
       "  </thead>\n",
       "  <tbody>\n",
       "    <tr>\n",
       "      <th>0</th>\n",
       "      <td>314</td>\n",
       "      <td>M0100053I</td>\n",
       "      <td>M0100053I_0001</td>\n",
       "      <td>none</td>\n",
       "      <td>EMPTY_NA</td>\n",
       "    </tr>\n",
       "    <tr>\n",
       "      <th>1</th>\n",
       "      <td>314</td>\n",
       "      <td>M0100053I</td>\n",
       "      <td>M0100053I_0002</td>\n",
       "      <td>none</td>\n",
       "      <td>EMPTY_NA</td>\n",
       "    </tr>\n",
       "  </tbody>\n",
       "</table>\n",
       "</div>"
      ],
      "text/plain": [
       "   user_id    file_id      segment_id  norm    status\n",
       "0      314  M0100053I  M0100053I_0001  none  EMPTY_NA\n",
       "1      314  M0100053I  M0100053I_0002  none  EMPTY_NA"
      ]
     },
     "metadata": {},
     "output_type": "display_data"
    },
    {
     "name": "stdout",
     "output_type": "stream",
     "text": [
      "\n",
      "emotions.tab\n"
     ]
    },
    {
     "data": {
      "text/html": [
       "<div>\n",
       "<style scoped>\n",
       "    .dataframe tbody tr th:only-of-type {\n",
       "        vertical-align: middle;\n",
       "    }\n",
       "\n",
       "    .dataframe tbody tr th {\n",
       "        vertical-align: top;\n",
       "    }\n",
       "\n",
       "    .dataframe thead th {\n",
       "        text-align: right;\n",
       "    }\n",
       "</style>\n",
       "<table border=\"1\" class=\"dataframe\">\n",
       "  <thead>\n",
       "    <tr style=\"text-align: right;\">\n",
       "      <th></th>\n",
       "      <th>user_id</th>\n",
       "      <th>file_id</th>\n",
       "      <th>segment_id</th>\n",
       "      <th>emotion</th>\n",
       "      <th>multi_speaker</th>\n",
       "    </tr>\n",
       "  </thead>\n",
       "  <tbody>\n",
       "    <tr>\n",
       "      <th>0</th>\n",
       "      <td>212</td>\n",
       "      <td>M0100053I</td>\n",
       "      <td>M0100053I_0001</td>\n",
       "      <td>sadness</td>\n",
       "      <td>FALSE</td>\n",
       "    </tr>\n",
       "    <tr>\n",
       "      <th>1</th>\n",
       "      <td>212</td>\n",
       "      <td>M0100053I</td>\n",
       "      <td>M0100053I_0002</td>\n",
       "      <td>anticipation,trust</td>\n",
       "      <td>TRUE</td>\n",
       "    </tr>\n",
       "  </tbody>\n",
       "</table>\n",
       "</div>"
      ],
      "text/plain": [
       "   user_id    file_id      segment_id             emotion multi_speaker\n",
       "0      212  M0100053I  M0100053I_0001             sadness         FALSE\n",
       "1      212  M0100053I  M0100053I_0002  anticipation,trust          TRUE"
      ]
     },
     "metadata": {},
     "output_type": "display_data"
    },
    {
     "name": "stdout",
     "output_type": "stream",
     "text": [
      "\n"
     ]
    }
   ],
   "source": [
    "for f in anno_dfs:\n",
    "    print(f)\n",
    "    display(anno_dfs[f].head(2))\n",
    "    print()"
   ]
  },
  {
   "cell_type": "code",
   "execution_count": 7,
   "id": "78d4d554-c0dd-4aff-956a-7a41b6f69b36",
   "metadata": {},
   "outputs": [],
   "source": [
    "# load segment information\n",
    "segment_filepath = os.path.join(home_dir, 'Documents/datasets/charm/raw/LDC2022E18_CCU_TA1_Mandarin_Chinese_Development_Annotation_V1.0/docs/segments.tab')\n",
    "segment_df = pd.read_csv(segment_filepath, delimiter='\\t')"
   ]
  },
  {
   "cell_type": "code",
   "execution_count": 8,
   "id": "eeec592f-a5ea-4f61-ab3e-00904cb336e7",
   "metadata": {},
   "outputs": [],
   "source": [
    "anno_files = {}\n",
    "anno_files_list = set()\n",
    "for f in anno_dfs:\n",
    "    temp_files = anno_dfs[f]['file_id'].unique()\n",
    "    anno_files[f] = temp_files\n",
    "    anno_files_list = anno_files_list.union(set(temp_files))\n",
    "anno_files_list = sorted(list(anno_files_list))"
   ]
  },
  {
   "cell_type": "code",
   "execution_count": 9,
   "id": "92f330e1-9591-4bbb-86dd-ecdd20baf967",
   "metadata": {},
   "outputs": [
    {
     "data": {
      "text/plain": [
       "array(['M01003YN6', 'M01003MTK', 'M01000AJ9', 'M01000AJA', 'M01003M18',\n",
       "       'M01000FN8', 'M01000FO1', 'M01000FT6', 'M01003PKW', 'M01003W6M',\n",
       "       'M01003PLL'], dtype=object)"
      ]
     },
     "execution_count": 9,
     "metadata": {},
     "output_type": "execute_result"
    }
   ],
   "source": [
    "anno_files['changepoint.tab']"
   ]
  },
  {
   "cell_type": "code",
   "execution_count": 10,
   "id": "a4392055-a864-4706-a2ac-45573756db1a",
   "metadata": {},
   "outputs": [
    {
     "data": {
      "text/plain": [
       "['M0100053I', 'M0100053J']"
      ]
     },
     "execution_count": 10,
     "metadata": {},
     "output_type": "execute_result"
    }
   ],
   "source": [
    "anno_files_list[:2]"
   ]
  },
  {
   "cell_type": "markdown",
   "id": "6a3bc1c4-ad57-4009-9062-d65f4e101ca2",
   "metadata": {},
   "source": [
    "## Load annotations from Columbia"
   ]
  },
  {
   "cell_type": "code",
   "execution_count": 11,
   "id": "9f1e9cfc-c891-4944-be9c-223a104433b1",
   "metadata": {},
   "outputs": [],
   "source": [
    "# source: https://docs.google.com/spreadsheets/d/1LhDzrUO2yFKXEWKqC_W-xx7jMmO5EUKgYT-Hb0LVgRk/edit#gid=1013745441\n",
    "columbia_anno_filepath = os.path.join(home_dir, 'Documents/datasets/charm/transformed/annotations/CCU LDC Data Release R2 Annotation - Annotations.csv')"
   ]
  },
  {
   "cell_type": "code",
   "execution_count": 12,
   "id": "aadea1e2-bffb-455a-b624-2ae0805db1e7",
   "metadata": {},
   "outputs": [],
   "source": [
    "cu_anno_df = pd.read_csv(columbia_anno_filepath, skiprows=3)"
   ]
  },
  {
   "cell_type": "code",
   "execution_count": 13,
   "id": "cd5beffd-1256-4ed5-8ef3-6464f54a45cd",
   "metadata": {},
   "outputs": [],
   "source": [
    "rename = {'Unnamed: 0': 'user_id', 'Unnamed: 1': 'file_id', 'Unnamed: 2':'url'}\n",
    "cu_anno_df = cu_anno_df.rename(columns=rename)"
   ]
  },
  {
   "cell_type": "code",
   "execution_count": 14,
   "id": "0b00f4ac-6c94-4236-b63e-7981f7e18c15",
   "metadata": {},
   "outputs": [],
   "source": [
    "cu_anno_df['user_id'] = cu_anno_df['user_id'].ffill()"
   ]
  },
  {
   "cell_type": "code",
   "execution_count": 15,
   "id": "c629489c-6e06-4a87-bb23-ae2a7564723d",
   "metadata": {},
   "outputs": [
    {
     "data": {
      "text/html": [
       "<div>\n",
       "<style scoped>\n",
       "    .dataframe tbody tr th:only-of-type {\n",
       "        vertical-align: middle;\n",
       "    }\n",
       "\n",
       "    .dataframe tbody tr th {\n",
       "        vertical-align: top;\n",
       "    }\n",
       "\n",
       "    .dataframe thead th {\n",
       "        text-align: right;\n",
       "    }\n",
       "</style>\n",
       "<table border=\"1\" class=\"dataframe\">\n",
       "  <thead>\n",
       "    <tr style=\"text-align: right;\">\n",
       "      <th></th>\n",
       "      <th>user_id</th>\n",
       "      <th>file_id</th>\n",
       "      <th>url</th>\n",
       "      <th>Timestamp</th>\n",
       "      <th>Direction</th>\n",
       "      <th>Timestamp.1</th>\n",
       "      <th>Direction.1</th>\n",
       "      <th>Timestamp.2</th>\n",
       "      <th>Direction.2</th>\n",
       "      <th>Timestamp.3</th>\n",
       "      <th>...</th>\n",
       "      <th>Timestamp.16</th>\n",
       "      <th>Emotion Shift .9</th>\n",
       "      <th>Timestamp.17</th>\n",
       "      <th>Emotion Shift .10</th>\n",
       "      <th>Timestamp.18</th>\n",
       "      <th>Emotion Shift .11</th>\n",
       "      <th>Timestamp.19</th>\n",
       "      <th>Emotion Shift .12</th>\n",
       "      <th>Timestamp.20</th>\n",
       "      <th>Emotion Shift .13</th>\n",
       "    </tr>\n",
       "  </thead>\n",
       "  <tbody>\n",
       "    <tr>\n",
       "      <th>0</th>\n",
       "      <td>Jeff</td>\n",
       "      <td>M01004MLF</td>\n",
       "      <td>https://www.bilibili.com/video/BV1Xe4y1X7Q1</td>\n",
       "      <td>No Change - All Success</td>\n",
       "      <td>NaN</td>\n",
       "      <td>NaN</td>\n",
       "      <td>NaN</td>\n",
       "      <td>NaN</td>\n",
       "      <td>NaN</td>\n",
       "      <td>NaN</td>\n",
       "      <td>...</td>\n",
       "      <td>NaN</td>\n",
       "      <td>NaN</td>\n",
       "      <td>NaN</td>\n",
       "      <td>NaN</td>\n",
       "      <td>NaN</td>\n",
       "      <td>NaN</td>\n",
       "      <td>NaN</td>\n",
       "      <td>NaN</td>\n",
       "      <td>NaN</td>\n",
       "      <td>NaN</td>\n",
       "    </tr>\n",
       "    <tr>\n",
       "      <th>1</th>\n",
       "      <td>Jeff</td>\n",
       "      <td>M01004OWY</td>\n",
       "      <td>https://www.bilibili.com/video/BV1mR4y177NS</td>\n",
       "      <td>1:30</td>\n",
       "      <td>Success to Failure</td>\n",
       "      <td>5:35</td>\n",
       "      <td>Success to Failure</td>\n",
       "      <td>6:29</td>\n",
       "      <td>Success to Failure</td>\n",
       "      <td>9:05</td>\n",
       "      <td>...</td>\n",
       "      <td>NaN</td>\n",
       "      <td>NaN</td>\n",
       "      <td>NaN</td>\n",
       "      <td>NaN</td>\n",
       "      <td>NaN</td>\n",
       "      <td>NaN</td>\n",
       "      <td>NaN</td>\n",
       "      <td>NaN</td>\n",
       "      <td>NaN</td>\n",
       "      <td>NaN</td>\n",
       "    </tr>\n",
       "  </tbody>\n",
       "</table>\n",
       "<p>2 rows × 47 columns</p>\n",
       "</div>"
      ],
      "text/plain": [
       "  user_id    file_id                                          url  \\\n",
       "0    Jeff  M01004MLF  https://www.bilibili.com/video/BV1Xe4y1X7Q1   \n",
       "1    Jeff  M01004OWY  https://www.bilibili.com/video/BV1mR4y177NS   \n",
       "\n",
       "                 Timestamp           Direction Timestamp.1  \\\n",
       "0  No Change - All Success                 NaN         NaN   \n",
       "1                     1:30  Success to Failure        5:35   \n",
       "\n",
       "          Direction.1 Timestamp.2         Direction.2 Timestamp.3  ...  \\\n",
       "0                 NaN         NaN                 NaN         NaN  ...   \n",
       "1  Success to Failure        6:29  Success to Failure        9:05  ...   \n",
       "\n",
       "  Timestamp.16  Emotion Shift .9  Timestamp.17  Emotion Shift .10  \\\n",
       "0          NaN               NaN           NaN                NaN   \n",
       "1          NaN               NaN           NaN                NaN   \n",
       "\n",
       "   Timestamp.18  Emotion Shift .11  Timestamp.19  Emotion Shift .12  \\\n",
       "0           NaN                NaN           NaN                NaN   \n",
       "1           NaN                NaN           NaN                NaN   \n",
       "\n",
       "   Timestamp.20 Emotion Shift .13  \n",
       "0           NaN               NaN  \n",
       "1           NaN               NaN  \n",
       "\n",
       "[2 rows x 47 columns]"
      ]
     },
     "execution_count": 15,
     "metadata": {},
     "output_type": "execute_result"
    }
   ],
   "source": [
    "cu_anno_df.head(2)"
   ]
  },
  {
   "cell_type": "code",
   "execution_count": 16,
   "id": "d68e2e59-df60-41f0-b344-9d728b7f718f",
   "metadata": {},
   "outputs": [],
   "source": [
    "core_cols = ['user_id', 'file_id', 'url']"
   ]
  },
  {
   "cell_type": "markdown",
   "id": "b38ed23b-c262-402d-8bff-5f7b04b7d5d0",
   "metadata": {},
   "source": [
    "### Prepare change point annotations"
   ]
  },
  {
   "cell_type": "code",
   "execution_count": 17,
   "id": "37c029a9-c909-47ea-b95d-296d3ce6d712",
   "metadata": {},
   "outputs": [],
   "source": [
    "# change point cols\n",
    "changepoint_cols = []\n",
    "for i in range(7):\n",
    "    if i == 0:\n",
    "        changepoint_cols.append(['Timestamp', 'Direction'])\n",
    "    else:\n",
    "        changepoint_cols.append([f'Timestamp.{i}', f'Direction.{i}'])\n",
    "\n",
    "# slice out cols and then stack the resulting dfs\n",
    "change_point_dfs = []\n",
    "for change in changepoint_cols:\n",
    "    temp_df = cu_anno_df[core_cols + change]\n",
    "    rename_map = {col: col.split('.')[0] for col in change}\n",
    "    temp_df = temp_df.rename(columns=rename_map)\n",
    "    change_point_dfs.append(temp_df)\n",
    "\n",
    "change_point_df = pd.concat(change_point_dfs)"
   ]
  },
  {
   "cell_type": "code",
   "execution_count": 18,
   "id": "e60ccbc3-b594-4e9b-943f-970cf203e2db",
   "metadata": {},
   "outputs": [],
   "source": [
    "# making an assumption here, that our success to failure maps to a 1 and failure to success maps to 5\n",
    "# which may not be accurate. Also treating no annotation as a 0\n",
    "impact_scalar_map = {'Success to Failure':1, 'Failure to Success':5}"
   ]
  },
  {
   "cell_type": "code",
   "execution_count": 19,
   "id": "e1c8df4a-8a39-42ea-9598-16d8d7efa3b7",
   "metadata": {},
   "outputs": [],
   "source": [
    "change_point_df = change_point_df.sort_values(by='user_id')"
   ]
  },
  {
   "cell_type": "code",
   "execution_count": 20,
   "id": "c8d361d9-79bb-4490-b84d-bb6602b17f64",
   "metadata": {},
   "outputs": [],
   "source": [
    "change_point_df['Direction'] = change_point_df['Direction'].apply(lambda x: impact_scalar_map[x] if x in impact_scalar_map else 0)"
   ]
  },
  {
   "cell_type": "code",
   "execution_count": 21,
   "id": "9658d32b-a8ef-4601-9ba0-b3ee6bf350aa",
   "metadata": {},
   "outputs": [],
   "source": [
    "change_point_df = change_point_df.dropna(subset='Timestamp')"
   ]
  },
  {
   "cell_type": "code",
   "execution_count": 22,
   "id": "d6484cb8-9a1f-4c4d-991d-2c479f305d53",
   "metadata": {},
   "outputs": [],
   "source": [
    "# null out timestamps for no change files\n",
    "change_point_df['Timestamp'] = change_point_df['Timestamp'].replace('No Change - All Success', np.nan)"
   ]
  },
  {
   "cell_type": "code",
   "execution_count": 23,
   "id": "b9c5ccd0-495c-4e11-b63d-c929d6685434",
   "metadata": {},
   "outputs": [],
   "source": [
    "assert change_point_df['file_id'].nunique() == 25"
   ]
  },
  {
   "cell_type": "code",
   "execution_count": 24,
   "id": "e454895c-f5dc-421b-9101-214b105eb251",
   "metadata": {},
   "outputs": [],
   "source": [
    "change_point_df = change_point_df.reset_index(drop=True)"
   ]
  },
  {
   "cell_type": "code",
   "execution_count": 25,
   "id": "0b7ef418-119e-41bc-8670-ba851df70218",
   "metadata": {},
   "outputs": [],
   "source": [
    "change_point_df = change_point_df.rename(columns={'Timestamp': 'timestamp', 'Direction': 'impact_scalar'})"
   ]
  },
  {
   "cell_type": "code",
   "execution_count": 26,
   "id": "d0c409b8-b47e-454f-a7d8-dfab1092f50f",
   "metadata": {},
   "outputs": [],
   "source": [
    "def convert_to_seconds(timestamp):\n",
    "    # if not null\n",
    "    if isinstance(timestamp, str):\n",
    "        minutes, seconds = timestamp.split(':')\n",
    "        return int(minutes) * 60 + int(seconds)\n",
    "    return timestamp"
   ]
  },
  {
   "cell_type": "code",
   "execution_count": 27,
   "id": "6e6ceb94-a6b4-478c-b11c-168d4d6cde28",
   "metadata": {},
   "outputs": [],
   "source": [
    "change_point_df['timestamp'] = change_point_df['timestamp'].apply(convert_to_seconds)"
   ]
  },
  {
   "cell_type": "code",
   "execution_count": 28,
   "id": "0c043e84-b6fd-4b3b-b2b4-2950b245a687",
   "metadata": {},
   "outputs": [],
   "source": [
    "# convert to int type\n",
    "change_point_df['timestamp'] = change_point_df['timestamp'].astype('O')\n",
    "change_point_df.loc[change_point_df['timestamp'].notna(), 'timestamp'] = change_point_df[change_point_df['timestamp'].notna()]['timestamp'].apply(lambda x: int(x))"
   ]
  },
  {
   "cell_type": "code",
   "execution_count": 29,
   "id": "b7e64457-93ad-43ca-b202-6d0e43f91299",
   "metadata": {},
   "outputs": [],
   "source": [
    "change_point_df = change_point_df.drop(columns=['url'])"
   ]
  },
  {
   "cell_type": "code",
   "execution_count": 30,
   "id": "d9e036aa-35c8-42fc-828e-e9add006fb1c",
   "metadata": {},
   "outputs": [],
   "source": [
    "change_point_df['comment'] = np.nan"
   ]
  },
  {
   "cell_type": "code",
   "execution_count": 31,
   "id": "e9f849d7-40d5-4db3-af63-3e0da586c585",
   "metadata": {},
   "outputs": [],
   "source": [
    "change_point_df = change_point_df.sort_values(by=['user_id', 'file_id']).reset_index(drop=True)"
   ]
  },
  {
   "cell_type": "code",
   "execution_count": 32,
   "id": "4a519da1-9609-4634-a19f-49507422e04f",
   "metadata": {},
   "outputs": [
    {
     "data": {
      "text/html": [
       "<div>\n",
       "<style scoped>\n",
       "    .dataframe tbody tr th:only-of-type {\n",
       "        vertical-align: middle;\n",
       "    }\n",
       "\n",
       "    .dataframe tbody tr th {\n",
       "        vertical-align: top;\n",
       "    }\n",
       "\n",
       "    .dataframe thead th {\n",
       "        text-align: right;\n",
       "    }\n",
       "</style>\n",
       "<table border=\"1\" class=\"dataframe\">\n",
       "  <thead>\n",
       "    <tr style=\"text-align: right;\">\n",
       "      <th></th>\n",
       "      <th>user_id</th>\n",
       "      <th>file_id</th>\n",
       "      <th>timestamp</th>\n",
       "      <th>impact_scalar</th>\n",
       "      <th>comment</th>\n",
       "    </tr>\n",
       "  </thead>\n",
       "  <tbody>\n",
       "    <tr>\n",
       "      <th>0</th>\n",
       "      <td>Jeff</td>\n",
       "      <td>M01003LPD</td>\n",
       "      <td>NaN</td>\n",
       "      <td>0</td>\n",
       "      <td>NaN</td>\n",
       "    </tr>\n",
       "    <tr>\n",
       "      <th>1</th>\n",
       "      <td>Jeff</td>\n",
       "      <td>M01003N7R</td>\n",
       "      <td>NaN</td>\n",
       "      <td>0</td>\n",
       "      <td>NaN</td>\n",
       "    </tr>\n",
       "    <tr>\n",
       "      <th>2</th>\n",
       "      <td>Jeff</td>\n",
       "      <td>M01004MLF</td>\n",
       "      <td>NaN</td>\n",
       "      <td>0</td>\n",
       "      <td>NaN</td>\n",
       "    </tr>\n",
       "    <tr>\n",
       "      <th>3</th>\n",
       "      <td>Jeff</td>\n",
       "      <td>M01004MXF</td>\n",
       "      <td>NaN</td>\n",
       "      <td>0</td>\n",
       "      <td>NaN</td>\n",
       "    </tr>\n",
       "    <tr>\n",
       "      <th>4</th>\n",
       "      <td>Jeff</td>\n",
       "      <td>M01004OWY</td>\n",
       "      <td>545</td>\n",
       "      <td>1</td>\n",
       "      <td>NaN</td>\n",
       "    </tr>\n",
       "  </tbody>\n",
       "</table>\n",
       "</div>"
      ],
      "text/plain": [
       "  user_id    file_id timestamp  impact_scalar  comment\n",
       "0    Jeff  M01003LPD       NaN              0      NaN\n",
       "1    Jeff  M01003N7R       NaN              0      NaN\n",
       "2    Jeff  M01004MLF       NaN              0      NaN\n",
       "3    Jeff  M01004MXF       NaN              0      NaN\n",
       "4    Jeff  M01004OWY       545              1      NaN"
      ]
     },
     "execution_count": 32,
     "metadata": {},
     "output_type": "execute_result"
    }
   ],
   "source": [
    "change_point_df.head()"
   ]
  },
  {
   "cell_type": "code",
   "execution_count": 33,
   "id": "68db5fd1-31c4-4ca6-873e-124660984634",
   "metadata": {},
   "outputs": [],
   "source": [
    "save_filepath = os.path.join(home_dir, 'Documents/datasets/charm/transformed/annotations/changepoint_columbia.tab')\n",
    "change_point_df[anno_dfs['changepoint.tab'].columns].to_csv(save_filepath, sep='\\t', index=False)"
   ]
  },
  {
   "cell_type": "markdown",
   "id": "eb663ef1-658b-49fb-b358-677906610307",
   "metadata": {},
   "source": [
    "### Prepare emotion annotations"
   ]
  },
  {
   "cell_type": "code",
   "execution_count": 34,
   "id": "0cb516b5-9096-4102-8ea8-324a9324ac8b",
   "metadata": {},
   "outputs": [
    {
     "data": {
      "text/plain": [
       "Index(['user_id', 'file_id', 'url', 'Timestamp', 'Direction', 'Timestamp.1',\n",
       "       'Direction.1', 'Timestamp.2', 'Direction.2', 'Timestamp.3',\n",
       "       'Direction.3', 'Timestamp.4', 'Direction.4', 'Timestamp.5',\n",
       "       'Direction.5', 'Timestamp.6', 'Direction.6', 'Unnamed: 17',\n",
       "       'Unnamed: 18', 'Timestamp.7', 'Emotion Shift ', 'Timestamp.8',\n",
       "       'Emotion Shift .1', 'Timestamp.9', 'Emotion Shift .2', 'Timestamp.10',\n",
       "       'Emotion Shift .3', 'Timestamp.11', 'Emotion Shift .4', 'Timestamp.12',\n",
       "       'Emotion Shift .5', 'Timestamp.13', 'Emotion Shift .6', 'Timestamp.14',\n",
       "       'Emotion Shift .7', 'Timestamp.15', 'Emotion Shift .8', 'Timestamp.16',\n",
       "       'Emotion Shift .9', 'Timestamp.17', 'Emotion Shift .10', 'Timestamp.18',\n",
       "       'Emotion Shift .11', 'Timestamp.19', 'Emotion Shift .12',\n",
       "       'Timestamp.20', 'Emotion Shift .13'],\n",
       "      dtype='object')"
      ]
     },
     "execution_count": 34,
     "metadata": {},
     "output_type": "execute_result"
    }
   ],
   "source": [
    "cu_anno_df.columns"
   ]
  },
  {
   "cell_type": "code",
   "execution_count": 35,
   "id": "074df4fe-9ee6-44a0-ae06-35afb4d6727e",
   "metadata": {},
   "outputs": [],
   "source": [
    "# change point cols\n",
    "emotion_cols = []\n",
    "for i in range(7, 7+14):\n",
    "    if i == 7:\n",
    "        emotion_cols.append(['Timestamp.7', 'Emotion Shift '])\n",
    "    else:\n",
    "        emotion_cols.append([f'Timestamp.{i}', f'Emotion Shift .{i-7}'])"
   ]
  },
  {
   "cell_type": "code",
   "execution_count": 36,
   "id": "2d4f85ab-bcd4-479e-8f71-8bca8c361efd",
   "metadata": {},
   "outputs": [],
   "source": [
    "# slice out cols and then stack the resulting dfs\n",
    "emotion_col_names = ['Timestamp', 'Emotion Shift']\n",
    "emotion_dfs = []\n",
    "for emotion in emotion_cols:\n",
    "    temp_df = cu_anno_df[core_cols + emotion]\n",
    "    rename_map = {col: emotion_col_names[idx] for idx, col in enumerate(emotion)}\n",
    "    temp_df = temp_df.rename(columns=rename_map)\n",
    "    emotion_dfs.append(temp_df)\n",
    "\n",
    "emotion_df = pd.concat(emotion_dfs)"
   ]
  },
  {
   "cell_type": "code",
   "execution_count": 37,
   "id": "2c73af33-5935-442a-9921-0ea023155688",
   "metadata": {},
   "outputs": [],
   "source": [
    "emotion_df = emotion_df.rename(columns={'Timestamp': 'timestamp', 'Emotion Shift': 'emotion'})"
   ]
  },
  {
   "cell_type": "code",
   "execution_count": 38,
   "id": "409e1e35-7169-4fd3-98b7-723bab1790c5",
   "metadata": {},
   "outputs": [],
   "source": [
    "emotion_df['emotion'] = emotion_df['emotion'].apply(lambda x: x.lower() if isinstance(x, str) else 'none')"
   ]
  },
  {
   "cell_type": "code",
   "execution_count": 39,
   "id": "a69ee910-bdd5-41f8-8272-2f1037714e52",
   "metadata": {},
   "outputs": [],
   "source": [
    "typos = {'anticapation': 'anticipation', 'confused': 'surprise', 'non speech': 'noann', 'anticipating': 'anticipation', 'surprise ': 'surprise'}"
   ]
  },
  {
   "cell_type": "code",
   "execution_count": 40,
   "id": "ff0fe56e-2d20-49fc-a036-901ac57579b2",
   "metadata": {},
   "outputs": [],
   "source": [
    "emotion_df['emotion'] = emotion_df['emotion'].apply(lambda x: typos[x] if x in typos else x)"
   ]
  },
  {
   "cell_type": "code",
   "execution_count": 41,
   "id": "1a8b3ce0-1eb5-47b6-a728-002c1e2fba36",
   "metadata": {},
   "outputs": [],
   "source": [
    "valid_emotions = ['fear', 'anger', 'sadness', 'joy', 'disgust', 'surprise', 'trust', 'anticipation', 'none', 'noann']"
   ]
  },
  {
   "cell_type": "code",
   "execution_count": 42,
   "id": "099bbee4-9199-439b-9a66-1b85605ad77a",
   "metadata": {},
   "outputs": [],
   "source": [
    "# make sure all emotion labels are valid\n",
    "assert len(emotion_df[~emotion_df['emotion'].isin(valid_emotions)]) == 0"
   ]
  },
  {
   "cell_type": "code",
   "execution_count": 43,
   "id": "6cf6a1f7-dac7-484f-87c7-529889fa6744",
   "metadata": {},
   "outputs": [],
   "source": [
    "emotion_df = emotion_df.reset_index(drop=True)"
   ]
  },
  {
   "cell_type": "code",
   "execution_count": 44,
   "id": "b155c3d7-4fc6-4fd3-bd93-82617f6444f8",
   "metadata": {},
   "outputs": [],
   "source": [
    "emotion_df['timestamp'] = emotion_df['timestamp'].apply(lambda x: convert_to_seconds(x))"
   ]
  },
  {
   "cell_type": "code",
   "execution_count": 45,
   "id": "9aff75d4-d4c1-4e0c-8a14-d7b14628a025",
   "metadata": {},
   "outputs": [],
   "source": [
    "# convert to int type\n",
    "emotion_df['timestamp'] = emotion_df['timestamp'].astype('O')\n",
    "emotion_df.loc[emotion_df['timestamp'].notna(), 'timestamp'] = emotion_df[emotion_df['timestamp'].notna()]['timestamp'].apply(lambda x: int(x))"
   ]
  },
  {
   "cell_type": "code",
   "execution_count": 46,
   "id": "de9759d0-ede2-43d4-becb-eab77ec34ff2",
   "metadata": {},
   "outputs": [
    {
     "data": {
      "text/plain": [
       "Index(['user_id', 'file_id', 'segment_id', 'emotion', 'multi_speaker'], dtype='object')"
      ]
     },
     "execution_count": 46,
     "metadata": {},
     "output_type": "execute_result"
    }
   ],
   "source": [
    "anno_dfs['emotions.tab'].columns"
   ]
  },
  {
   "cell_type": "code",
   "execution_count": 47,
   "id": "36b47d27-fdc7-40ab-8e1c-75639f141fd6",
   "metadata": {},
   "outputs": [],
   "source": [
    "emotion_df = emotion_df.drop(columns=['url'])"
   ]
  },
  {
   "cell_type": "markdown",
   "id": "d9e6bac4-1d27-4d6a-9745-0a54ced64445",
   "metadata": {},
   "source": [
    "#### Attempt to pull in segment ids"
   ]
  },
  {
   "cell_type": "code",
   "execution_count": 48,
   "id": "475da4f5-b720-4acf-b3f6-21245063139a",
   "metadata": {},
   "outputs": [],
   "source": [
    "# probably a more pythonic way to do this but I'm just going to iterate\n",
    "segment_ids = []\n",
    "for idx, row in emotion_df.iterrows():\n",
    "    # if nan, then skip, we'll process these later\n",
    "    if not isinstance(row['timestamp'], int):\n",
    "        segment_ids.append(np.NaN)\n",
    "        continue\n",
    "    # filter segment_ids\n",
    "    segment_filter = segment_df[segment_df['file_id'] == row['file_id']]\n",
    "    found = False\n",
    "    for idx2, row2 in segment_filter.iterrows():\n",
    "        if (row['timestamp'] >= row2['start']) and (row['timestamp'] < row2['end']):\n",
    "            found = True\n",
    "            segment_ids.append(row2['segment_id'])\n",
    "    if not found:\n",
    "        segment_ids.append(np.NaN)"
   ]
  },
  {
   "cell_type": "code",
   "execution_count": 49,
   "id": "cc35c675-fcf2-4fc2-a49c-2b7e4253e04f",
   "metadata": {},
   "outputs": [],
   "source": [
    "# no segment ids found\n",
    "for seg in segment_ids:\n",
    "    if isinstance(seg, str):\n",
    "        print(seg)"
   ]
  },
  {
   "cell_type": "code",
   "execution_count": 50,
   "id": "658ec8de-6403-4533-bbf2-90338c872386",
   "metadata": {},
   "outputs": [],
   "source": [
    "# manually create segment for the number 15 second intervals we are away from the start\n",
    "emotion_df['segment_id'] = emotion_df.apply(lambda x: f\"{x['file_id']}_{int((x['timestamp'] // 15 + 1)):04d}\" if isinstance(x['timestamp'], int) else x['timestamp'], axis=1)"
   ]
  },
  {
   "cell_type": "code",
   "execution_count": 51,
   "id": "c1443463-f601-47b3-b8c8-852ad3c91727",
   "metadata": {},
   "outputs": [],
   "source": [
    "def comma_separate(sequence):\n",
    "    return ','.join([str(x) for x in list(sequence) if isinstance(x, int) or isinstance(x, str)])"
   ]
  },
  {
   "cell_type": "code",
   "execution_count": 52,
   "id": "2a49be3b-53be-4bb1-8a72-12fc4ea3ed47",
   "metadata": {},
   "outputs": [],
   "source": [
    "no_emotion_df = emotion_df[emotion_df['timestamp'].isna()]"
   ]
  },
  {
   "cell_type": "code",
   "execution_count": 53,
   "id": "30c295e4-eb56-4801-b441-bd9d18a36691",
   "metadata": {},
   "outputs": [],
   "source": [
    "# group the same way that LDC did\n",
    "emotion_df = emotion_df.groupby(['user_id', 'file_id', 'segment_id'], as_index=False, sort=False).agg(**{'emotion':('emotion', comma_separate), 'timestamp':('timestamp', comma_separate)})"
   ]
  },
  {
   "cell_type": "code",
   "execution_count": 54,
   "id": "f1847831-148e-4a9b-b823-f134e743d35b",
   "metadata": {},
   "outputs": [],
   "source": [
    "# didn't annotate this\n",
    "emotion_df['multi_speaker'] = np.nan"
   ]
  },
  {
   "cell_type": "code",
   "execution_count": 55,
   "id": "11172e1c-2c6a-4006-81e7-95f33d782a12",
   "metadata": {},
   "outputs": [],
   "source": [
    "# based on README.txt from LDC\n",
    "emotion_df.loc[emotion_df['emotion'].str.contains('noann'), 'multi_speaker'] = 'noann'"
   ]
  },
  {
   "cell_type": "code",
   "execution_count": 56,
   "id": "944b723c-828e-4df6-b93b-71cc15cba0f9",
   "metadata": {},
   "outputs": [],
   "source": [
    "no_emotion_df = no_emotion_df.drop_duplicates()"
   ]
  },
  {
   "cell_type": "code",
   "execution_count": 57,
   "id": "4cb72102-55fa-49a7-950e-16af9b68e6fe",
   "metadata": {},
   "outputs": [],
   "source": [
    "# based on README.txt from LDC\n",
    "no_emotion_df['multi_speaker'] = 'EMPTY_NA'"
   ]
  },
  {
   "cell_type": "code",
   "execution_count": 58,
   "id": "e91e3556-3353-45f9-9e40-5efbdaf64b2c",
   "metadata": {},
   "outputs": [],
   "source": [
    "no_emotion_df = no_emotion_df.sort_values(by='user_id').reset_index(drop=True)"
   ]
  },
  {
   "cell_type": "code",
   "execution_count": 59,
   "id": "ec099d80-56a8-4ba6-b447-c68e4fa0f4ce",
   "metadata": {},
   "outputs": [],
   "source": [
    "# add timestamp back in\n",
    "no_emotion_df['timestamp'] = np.NaN"
   ]
  },
  {
   "cell_type": "code",
   "execution_count": 60,
   "id": "a80910b6-7eda-47de-8639-a8bdbdefb987",
   "metadata": {},
   "outputs": [],
   "source": [
    "col_order = list(anno_dfs['emotions.tab'].columns) + ['timestamp']\n",
    "full_emotion_df = pd.concat((emotion_df[col_order], no_emotion_df[col_order]))"
   ]
  },
  {
   "cell_type": "code",
   "execution_count": 61,
   "id": "d093b2bb-7e93-426f-b012-198795da1e29",
   "metadata": {},
   "outputs": [],
   "source": [
    "full_emotion_df = full_emotion_df.sort_values(by=['user_id', 'file_id', 'segment_id']).reset_index(drop=True)"
   ]
  },
  {
   "cell_type": "code",
   "execution_count": 62,
   "id": "bdd9dcd1-309c-44b0-9e96-0002201663de",
   "metadata": {},
   "outputs": [
    {
     "data": {
      "text/html": [
       "<div>\n",
       "<style scoped>\n",
       "    .dataframe tbody tr th:only-of-type {\n",
       "        vertical-align: middle;\n",
       "    }\n",
       "\n",
       "    .dataframe tbody tr th {\n",
       "        vertical-align: top;\n",
       "    }\n",
       "\n",
       "    .dataframe thead th {\n",
       "        text-align: right;\n",
       "    }\n",
       "</style>\n",
       "<table border=\"1\" class=\"dataframe\">\n",
       "  <thead>\n",
       "    <tr style=\"text-align: right;\">\n",
       "      <th></th>\n",
       "      <th>user_id</th>\n",
       "      <th>file_id</th>\n",
       "      <th>segment_id</th>\n",
       "      <th>emotion</th>\n",
       "      <th>multi_speaker</th>\n",
       "      <th>timestamp</th>\n",
       "    </tr>\n",
       "  </thead>\n",
       "  <tbody>\n",
       "    <tr>\n",
       "      <th>91</th>\n",
       "      <td>Yanda</td>\n",
       "      <td>M01003JTT</td>\n",
       "      <td>M01003JTT_0002</td>\n",
       "      <td>joy</td>\n",
       "      <td>NaN</td>\n",
       "      <td>28</td>\n",
       "    </tr>\n",
       "    <tr>\n",
       "      <th>92</th>\n",
       "      <td>Yanda</td>\n",
       "      <td>M01003JTT</td>\n",
       "      <td>M01003JTT_0008</td>\n",
       "      <td>anticipation</td>\n",
       "      <td>NaN</td>\n",
       "      <td>113</td>\n",
       "    </tr>\n",
       "    <tr>\n",
       "      <th>93</th>\n",
       "      <td>Yanda</td>\n",
       "      <td>M01003JTT</td>\n",
       "      <td>M01003JTT_0011</td>\n",
       "      <td>joy</td>\n",
       "      <td>NaN</td>\n",
       "      <td>160</td>\n",
       "    </tr>\n",
       "    <tr>\n",
       "      <th>94</th>\n",
       "      <td>Yanda</td>\n",
       "      <td>M01003JTT</td>\n",
       "      <td>M01003JTT_0014</td>\n",
       "      <td>sadness</td>\n",
       "      <td>NaN</td>\n",
       "      <td>202</td>\n",
       "    </tr>\n",
       "    <tr>\n",
       "      <th>95</th>\n",
       "      <td>Yanda</td>\n",
       "      <td>M01003JTT</td>\n",
       "      <td>M01003JTT_0019</td>\n",
       "      <td>joy</td>\n",
       "      <td>NaN</td>\n",
       "      <td>275</td>\n",
       "    </tr>\n",
       "    <tr>\n",
       "      <th>96</th>\n",
       "      <td>Yanda</td>\n",
       "      <td>M01003JTT</td>\n",
       "      <td>M01003JTT_0028</td>\n",
       "      <td>anticipation</td>\n",
       "      <td>NaN</td>\n",
       "      <td>410</td>\n",
       "    </tr>\n",
       "    <tr>\n",
       "      <th>97</th>\n",
       "      <td>Yanda</td>\n",
       "      <td>M01003JTT</td>\n",
       "      <td>M01003JTT_0036</td>\n",
       "      <td>surprise</td>\n",
       "      <td>NaN</td>\n",
       "      <td>525</td>\n",
       "    </tr>\n",
       "    <tr>\n",
       "      <th>98</th>\n",
       "      <td>Yanda</td>\n",
       "      <td>M01003JTT</td>\n",
       "      <td>M01003JTT_0052</td>\n",
       "      <td>joy</td>\n",
       "      <td>NaN</td>\n",
       "      <td>770</td>\n",
       "    </tr>\n",
       "    <tr>\n",
       "      <th>99</th>\n",
       "      <td>Yanda</td>\n",
       "      <td>M01003JTT</td>\n",
       "      <td>NaN</td>\n",
       "      <td>none</td>\n",
       "      <td>EMPTY_NA</td>\n",
       "      <td>NaN</td>\n",
       "    </tr>\n",
       "  </tbody>\n",
       "</table>\n",
       "</div>"
      ],
      "text/plain": [
       "   user_id    file_id      segment_id       emotion multi_speaker timestamp\n",
       "91   Yanda  M01003JTT  M01003JTT_0002           joy           NaN        28\n",
       "92   Yanda  M01003JTT  M01003JTT_0008  anticipation           NaN       113\n",
       "93   Yanda  M01003JTT  M01003JTT_0011           joy           NaN       160\n",
       "94   Yanda  M01003JTT  M01003JTT_0014       sadness           NaN       202\n",
       "95   Yanda  M01003JTT  M01003JTT_0019           joy           NaN       275\n",
       "96   Yanda  M01003JTT  M01003JTT_0028  anticipation           NaN       410\n",
       "97   Yanda  M01003JTT  M01003JTT_0036      surprise           NaN       525\n",
       "98   Yanda  M01003JTT  M01003JTT_0052           joy           NaN       770\n",
       "99   Yanda  M01003JTT             NaN          none      EMPTY_NA       NaN"
      ]
     },
     "execution_count": 62,
     "metadata": {},
     "output_type": "execute_result"
    }
   ],
   "source": [
    "# all videos are in there a second time, remove the extra anno\n",
    "full_emotion_df[full_emotion_df['file_id'] == 'M01003JTT']"
   ]
  },
  {
   "cell_type": "code",
   "execution_count": 63,
   "id": "de184a7f-e594-4a5d-8199-a88c33ccd8c1",
   "metadata": {},
   "outputs": [],
   "source": [
    "# groupby file_id and if it's longer than 1, remove the last row of the group\n",
    "final_groups = []\n",
    "for key, group_df in full_emotion_df.groupby('file_id'):\n",
    "    if len(group_df) > 1:\n",
    "        # remove last row\n",
    "        final_groups.append(group_df.iloc[:-1])\n",
    "    else:\n",
    "        final_groups.append(group_df)"
   ]
  },
  {
   "cell_type": "code",
   "execution_count": 64,
   "id": "fa08a638-8ce2-4073-bafb-36a53966684c",
   "metadata": {},
   "outputs": [],
   "source": [
    "full_emotion_df = pd.concat(final_groups).sort_values(by=['user_id', 'file_id', 'segment_id']).reset_index(drop=True)"
   ]
  },
  {
   "cell_type": "code",
   "execution_count": 65,
   "id": "3d81df22-6bdc-4575-9d5d-0a06f3c93fe7",
   "metadata": {},
   "outputs": [
    {
     "data": {
      "text/html": [
       "<div>\n",
       "<style scoped>\n",
       "    .dataframe tbody tr th:only-of-type {\n",
       "        vertical-align: middle;\n",
       "    }\n",
       "\n",
       "    .dataframe tbody tr th {\n",
       "        vertical-align: top;\n",
       "    }\n",
       "\n",
       "    .dataframe thead th {\n",
       "        text-align: right;\n",
       "    }\n",
       "</style>\n",
       "<table border=\"1\" class=\"dataframe\">\n",
       "  <thead>\n",
       "    <tr style=\"text-align: right;\">\n",
       "      <th></th>\n",
       "      <th>user_id</th>\n",
       "      <th>file_id</th>\n",
       "      <th>segment_id</th>\n",
       "      <th>emotion</th>\n",
       "      <th>multi_speaker</th>\n",
       "      <th>timestamp</th>\n",
       "    </tr>\n",
       "  </thead>\n",
       "  <tbody>\n",
       "    <tr>\n",
       "      <th>57</th>\n",
       "      <td>Todd</td>\n",
       "      <td>M01003XTU</td>\n",
       "      <td>NaN</td>\n",
       "      <td>none</td>\n",
       "      <td>EMPTY_NA</td>\n",
       "      <td>NaN</td>\n",
       "    </tr>\n",
       "    <tr>\n",
       "      <th>113</th>\n",
       "      <td>Yukun</td>\n",
       "      <td>M01003WXG</td>\n",
       "      <td>NaN</td>\n",
       "      <td>none</td>\n",
       "      <td>EMPTY_NA</td>\n",
       "      <td>NaN</td>\n",
       "    </tr>\n",
       "    <tr>\n",
       "      <th>114</th>\n",
       "      <td>Yukun</td>\n",
       "      <td>M01004ECQ</td>\n",
       "      <td>NaN</td>\n",
       "      <td>none</td>\n",
       "      <td>EMPTY_NA</td>\n",
       "      <td>NaN</td>\n",
       "    </tr>\n",
       "  </tbody>\n",
       "</table>\n",
       "</div>"
      ],
      "text/plain": [
       "    user_id    file_id segment_id emotion multi_speaker timestamp\n",
       "57     Todd  M01003XTU        NaN    none      EMPTY_NA       NaN\n",
       "113   Yukun  M01003WXG        NaN    none      EMPTY_NA       NaN\n",
       "114   Yukun  M01004ECQ        NaN    none      EMPTY_NA       NaN"
      ]
     },
     "execution_count": 65,
     "metadata": {},
     "output_type": "execute_result"
    }
   ],
   "source": [
    "# these are the only 3 videos with no emotion tags\n",
    "full_emotion_df[full_emotion_df['segment_id'].isna()]"
   ]
  },
  {
   "cell_type": "code",
   "execution_count": 69,
   "id": "4ee7331b-3468-4460-ab81-c2be89c4e2cc",
   "metadata": {},
   "outputs": [
    {
     "data": {
      "text/html": [
       "<div>\n",
       "<style scoped>\n",
       "    .dataframe tbody tr th:only-of-type {\n",
       "        vertical-align: middle;\n",
       "    }\n",
       "\n",
       "    .dataframe tbody tr th {\n",
       "        vertical-align: top;\n",
       "    }\n",
       "\n",
       "    .dataframe thead th {\n",
       "        text-align: right;\n",
       "    }\n",
       "</style>\n",
       "<table border=\"1\" class=\"dataframe\">\n",
       "  <thead>\n",
       "    <tr style=\"text-align: right;\">\n",
       "      <th></th>\n",
       "      <th>user_id</th>\n",
       "      <th>file_id</th>\n",
       "      <th>segment_id</th>\n",
       "      <th>emotion</th>\n",
       "      <th>multi_speaker</th>\n",
       "      <th>timestamp</th>\n",
       "    </tr>\n",
       "  </thead>\n",
       "  <tbody>\n",
       "    <tr>\n",
       "      <th>57</th>\n",
       "      <td>Todd</td>\n",
       "      <td>M01003XTU</td>\n",
       "      <td>NaN</td>\n",
       "      <td>none</td>\n",
       "      <td>EMPTY_NA</td>\n",
       "      <td>NaN</td>\n",
       "    </tr>\n",
       "    <tr>\n",
       "      <th>113</th>\n",
       "      <td>Yukun</td>\n",
       "      <td>M01003WXG</td>\n",
       "      <td>NaN</td>\n",
       "      <td>none</td>\n",
       "      <td>EMPTY_NA</td>\n",
       "      <td>NaN</td>\n",
       "    </tr>\n",
       "    <tr>\n",
       "      <th>114</th>\n",
       "      <td>Yukun</td>\n",
       "      <td>M01004ECQ</td>\n",
       "      <td>NaN</td>\n",
       "      <td>none</td>\n",
       "      <td>EMPTY_NA</td>\n",
       "      <td>NaN</td>\n",
       "    </tr>\n",
       "  </tbody>\n",
       "</table>\n",
       "</div>"
      ],
      "text/plain": [
       "    user_id    file_id segment_id emotion multi_speaker timestamp\n",
       "57     Todd  M01003XTU        NaN    none      EMPTY_NA       NaN\n",
       "113   Yukun  M01003WXG        NaN    none      EMPTY_NA       NaN\n",
       "114   Yukun  M01004ECQ        NaN    none      EMPTY_NA       NaN"
      ]
     },
     "execution_count": 69,
     "metadata": {},
     "output_type": "execute_result"
    }
   ],
   "source": [
    "full_emotion_df[full_emotion_df['emotion'] == 'none']"
   ]
  },
  {
   "cell_type": "code",
   "execution_count": 66,
   "id": "ae843e6b-b8e3-422c-bedd-ddb4d470b564",
   "metadata": {},
   "outputs": [
    {
     "data": {
      "text/html": [
       "<div>\n",
       "<style scoped>\n",
       "    .dataframe tbody tr th:only-of-type {\n",
       "        vertical-align: middle;\n",
       "    }\n",
       "\n",
       "    .dataframe tbody tr th {\n",
       "        vertical-align: top;\n",
       "    }\n",
       "\n",
       "    .dataframe thead th {\n",
       "        text-align: right;\n",
       "    }\n",
       "</style>\n",
       "<table border=\"1\" class=\"dataframe\">\n",
       "  <thead>\n",
       "    <tr style=\"text-align: right;\">\n",
       "      <th></th>\n",
       "      <th>user_id</th>\n",
       "      <th>file_id</th>\n",
       "      <th>segment_id</th>\n",
       "      <th>emotion</th>\n",
       "      <th>multi_speaker</th>\n",
       "      <th>timestamp</th>\n",
       "    </tr>\n",
       "  </thead>\n",
       "  <tbody>\n",
       "    <tr>\n",
       "      <th>48</th>\n",
       "      <td>Sara</td>\n",
       "      <td>M01004QOU</td>\n",
       "      <td>M01004QOU_0008</td>\n",
       "      <td>anticipation</td>\n",
       "      <td>NaN</td>\n",
       "      <td>109</td>\n",
       "    </tr>\n",
       "    <tr>\n",
       "      <th>70</th>\n",
       "      <td>Todd</td>\n",
       "      <td>M01004R1K</td>\n",
       "      <td>M01004R1K_0068</td>\n",
       "      <td>sadness</td>\n",
       "      <td>NaN</td>\n",
       "      <td>1016</td>\n",
       "    </tr>\n",
       "    <tr>\n",
       "      <th>52</th>\n",
       "      <td>Sara</td>\n",
       "      <td>M01004QOU</td>\n",
       "      <td>M01004QOU_0016</td>\n",
       "      <td>joy,anticipation</td>\n",
       "      <td>NaN</td>\n",
       "      <td>230,238</td>\n",
       "    </tr>\n",
       "    <tr>\n",
       "      <th>111</th>\n",
       "      <td>Yukun</td>\n",
       "      <td>M01003RBS</td>\n",
       "      <td>M01003RBS_0034</td>\n",
       "      <td>joy</td>\n",
       "      <td>NaN</td>\n",
       "      <td>500</td>\n",
       "    </tr>\n",
       "    <tr>\n",
       "      <th>108</th>\n",
       "      <td>Yukun</td>\n",
       "      <td>M01003NA1</td>\n",
       "      <td>M01003NA1_0034</td>\n",
       "      <td>anticipation</td>\n",
       "      <td>NaN</td>\n",
       "      <td>503</td>\n",
       "    </tr>\n",
       "  </tbody>\n",
       "</table>\n",
       "</div>"
      ],
      "text/plain": [
       "    user_id    file_id      segment_id           emotion multi_speaker  \\\n",
       "48     Sara  M01004QOU  M01004QOU_0008      anticipation           NaN   \n",
       "70     Todd  M01004R1K  M01004R1K_0068           sadness           NaN   \n",
       "52     Sara  M01004QOU  M01004QOU_0016  joy,anticipation           NaN   \n",
       "111   Yukun  M01003RBS  M01003RBS_0034               joy           NaN   \n",
       "108   Yukun  M01003NA1  M01003NA1_0034      anticipation           NaN   \n",
       "\n",
       "    timestamp  \n",
       "48        109  \n",
       "70       1016  \n",
       "52    230,238  \n",
       "111       500  \n",
       "108       503  "
      ]
     },
     "execution_count": 66,
     "metadata": {},
     "output_type": "execute_result"
    }
   ],
   "source": [
    "full_emotion_df.sample(5)"
   ]
  },
  {
   "cell_type": "code",
   "execution_count": 67,
   "id": "0c1de782-87e8-40e0-8b82-9e13bcea2449",
   "metadata": {},
   "outputs": [],
   "source": [
    "assert full_emotion_df['file_id'].nunique() == 25"
   ]
  },
  {
   "cell_type": "code",
   "execution_count": 68,
   "id": "68f7b4d3-1970-4a3b-9620-3c8b285348a1",
   "metadata": {},
   "outputs": [],
   "source": [
    "save_filepath = os.path.join(home_dir, 'Documents/datasets/charm/transformed/annotations/emotion_columbia.tab')\n",
    "full_emotion_df.to_csv(save_filepath, sep='\\t', index=False)"
   ]
  },
  {
   "cell_type": "markdown",
   "id": "b9493ef5-26a8-4022-ae49-4bf9b2b60a35",
   "metadata": {},
   "source": [
    "## Load ASR transcriptions"
   ]
  },
  {
   "cell_type": "code",
   "execution_count": 70,
   "id": "b43a6515-27af-4581-8d57-aec4c7f8379b",
   "metadata": {},
   "outputs": [],
   "source": [
    "asr_dirs = [os.path.join(home_dir, 'Documents/datasets/charm/transformed/R2/ldc-r2-batch1-tom-n79'),\n",
    "os.path.join(home_dir, 'Documents/datasets/charm/transformed/R1/audio_processed'),\n",
    "os.path.join(home_dir, 'Documents/datasets/charm/transformed/R1/video_processed')]"
   ]
  },
  {
   "cell_type": "code",
   "execution_count": 75,
   "id": "611215e9-096c-452c-bd13-789e2838e5d2",
   "metadata": {},
   "outputs": [],
   "source": [
    "# create lists of all filepaths and file_ids\n",
    "asr_files = []\n",
    "file_ids = []\n",
    "for dir_ in asr_dirs:\n",
    "    for f in os.listdir(dir_):\n",
    "        if f.endswith('.json'):\n",
    "            asr_files.append(os.path.join(dir_, f))\n",
    "            file_ids.append(f.split('_')[0])"
   ]
  },
  {
   "cell_type": "code",
   "execution_count": 79,
   "id": "69d71267-f4d0-4894-86a2-2f5d25fcde0f",
   "metadata": {},
   "outputs": [
    {
     "data": {
      "text/plain": [
       "245"
      ]
     },
     "execution_count": 79,
     "metadata": {},
     "output_type": "execute_result"
    }
   ],
   "source": [
    "len(file_ids)"
   ]
  },
  {
   "cell_type": "markdown",
   "id": "0be66d85-b760-434a-9dc4-1161ab6ba3b8",
   "metadata": {},
   "source": [
    "## Determine which annotated files are missing transcriptions"
   ]
  },
  {
   "cell_type": "code",
   "execution_count": 88,
   "id": "de48b517-9c39-40fe-810b-c1e4172611fe",
   "metadata": {},
   "outputs": [
    {
     "data": {
      "text/plain": [
       "173"
      ]
     },
     "execution_count": 88,
     "metadata": {},
     "output_type": "execute_result"
    }
   ],
   "source": [
    "len(anno_files_list)"
   ]
  },
  {
   "cell_type": "code",
   "execution_count": 105,
   "id": "6d511c55-7eea-4cce-8f41-0c7f8e2105a5",
   "metadata": {},
   "outputs": [],
   "source": [
    "# which files do we have transcriptions for?\n",
    "ldc_intersection = set(anno_files_list).intersection(set(file_ids))"
   ]
  },
  {
   "cell_type": "code",
   "execution_count": 106,
   "id": "648b1399-f44d-4ca6-aefc-5958cc5b80d0",
   "metadata": {},
   "outputs": [
    {
     "data": {
      "text/plain": [
       "96"
      ]
     },
     "execution_count": 106,
     "metadata": {},
     "output_type": "execute_result"
    }
   ],
   "source": [
    "len(ldc_intersection)"
   ]
  },
  {
   "cell_type": "code",
   "execution_count": 107,
   "id": "7a1fa62d-74ac-486e-a3ff-d0a5a416ccb3",
   "metadata": {},
   "outputs": [],
   "source": [
    "# determine if any of the LDC data needs to be trascribed\n",
    "ldc_missing = set(anno_files_list) - set(file_ids)"
   ]
  },
  {
   "cell_type": "code",
   "execution_count": 108,
   "id": "56026896-2632-4a29-9731-f7df77efc7c0",
   "metadata": {},
   "outputs": [
    {
     "data": {
      "text/plain": [
       "77"
      ]
     },
     "execution_count": 108,
     "metadata": {},
     "output_type": "execute_result"
    }
   ],
   "source": [
    "len(ldc_missing)"
   ]
  },
  {
   "cell_type": "code",
   "execution_count": 98,
   "id": "873abf65-eabb-4c0d-a16e-788c1a6c4748",
   "metadata": {},
   "outputs": [],
   "source": [
    "assert (len(ldc_intersection) + len(ldc_missing)) == len(anno_files_list)"
   ]
  },
  {
   "cell_type": "code",
   "execution_count": 101,
   "id": "8795e3dd-a03e-41d3-81e7-d9edd30f1f42",
   "metadata": {},
   "outputs": [],
   "source": [
    "# determine if we have transcriptions for our labeled data\n",
    "cu_intersection = set(full_emotion_df['file_id'].unique()).intersection(set(file_ids))\n",
    "# and what we're mising\n",
    "cu_missing = set(full_emotion_df['file_id'].unique()) - set(file_ids)"
   ]
  },
  {
   "cell_type": "code",
   "execution_count": 119,
   "id": "3f1a7332-f1b4-4c52-a11b-823ff59a3b8c",
   "metadata": {},
   "outputs": [
    {
     "name": "stdout",
     "output_type": "stream",
     "text": [
      "2\n",
      "23\n"
     ]
    }
   ],
   "source": [
    "print(len(cu_intersection))\n",
    "print(len(cu_missing))"
   ]
  },
  {
   "cell_type": "code",
   "execution_count": 104,
   "id": "8d37326a-3b7b-4584-8695-166721fdfe42",
   "metadata": {},
   "outputs": [],
   "source": [
    "assert (len(cu_intersection) + len(cu_missing)) == len(full_emotion_df['file_id'].unique())"
   ]
  },
  {
   "cell_type": "code",
   "execution_count": 111,
   "id": "ac07257f-a72d-4c64-9bbf-3711486a916b",
   "metadata": {},
   "outputs": [
    {
     "data": {
      "text/plain": [
       "set()"
      ]
     },
     "execution_count": 111,
     "metadata": {},
     "output_type": "execute_result"
    }
   ],
   "source": [
    "# what's the intersection between ldc_missing and cu_missing\n",
    "ldc_missing.intersection(cu_missing)\n",
    "# disjoint"
   ]
  },
  {
   "cell_type": "code",
   "execution_count": 110,
   "id": "5b3d1e78-431b-428b-b1d1-ff71fdd25d6b",
   "metadata": {},
   "outputs": [],
   "source": [
    "# take the union of ldc missing and cu missing to make a list of all files that need to be transcribed\n",
    "missing = ldc_missing.union(cu_missing)"
   ]
  },
  {
   "cell_type": "code",
   "execution_count": 112,
   "id": "ff522d20-3063-4857-b747-7b0a73759fab",
   "metadata": {},
   "outputs": [
    {
     "data": {
      "text/plain": [
       "100"
      ]
     },
     "execution_count": 112,
     "metadata": {},
     "output_type": "execute_result"
    }
   ],
   "source": [
    "len(missing)"
   ]
  },
  {
   "cell_type": "code",
   "execution_count": 114,
   "id": "24973a9b-7b0a-4f8c-b9f7-d8369d7fc614",
   "metadata": {},
   "outputs": [],
   "source": [
    "asr_request_filepath = os.path.join(home_dir, 'Documents/datasets/charm/transformed/asr_request.txt')\n",
    "with open(asr_request_filepath, 'w') as fh:\n",
    "    for f in sorted(list(missing)):\n",
    "        fh.write(f+'\\n')"
   ]
  },
  {
   "cell_type": "markdown",
   "id": "6a022f7f-6d6e-4b36-8d7e-2aa05238ccb3",
   "metadata": {},
   "source": [
    "## Determine which transcribed files are missing translations"
   ]
  },
  {
   "cell_type": "code",
   "execution_count": 115,
   "id": "41843da3-a01e-47ce-ac66-d7e2289067f7",
   "metadata": {},
   "outputs": [],
   "source": [
    "# based on Google drive, no translations exist for the labeled data\n",
    "# https://drive.google.com/drive/folders/1rhRJhBgtBuMSpcWn8nQHWmlMUGqfmAba"
   ]
  },
  {
   "cell_type": "code",
   "execution_count": 117,
   "id": "391acc8d-5f12-421d-917d-fe88ad8ca870",
   "metadata": {},
   "outputs": [
    {
     "data": {
      "text/plain": [
       "96"
      ]
     },
     "execution_count": 117,
     "metadata": {},
     "output_type": "execute_result"
    }
   ],
   "source": [
    "# how many files are ready for transcription\n",
    "len(ldc_intersection.union(cu_intersection))"
   ]
  },
  {
   "cell_type": "markdown",
   "id": "4be54768-503b-4735-a8d9-0a6015f52c9e",
   "metadata": {},
   "source": [
    "## Compare to Tom's requests"
   ]
  },
  {
   "cell_type": "code",
   "execution_count": 134,
   "id": "ca2dcd06-6e0d-4960-aaa2-2ce88803267e",
   "metadata": {},
   "outputs": [],
   "source": [
    "import pickle\n",
    "\n",
    "r2_request = os.path.join(home_dir, 'Documents/datasets/charm/transformed/r2_asr_files.pkl')\n",
    "r3_request = os.path.join(home_dir, 'Documents/datasets/charm/transformed/r3_asr_files.pkl')\n",
    "with open(r2_request, 'rb') as f:\n",
    "    r2_request_files = pickle.load(f)\n",
    "with open(r3_request, 'rb') as f:\n",
    "    r3_request_files = pickle.load(f)"
   ]
  },
  {
   "cell_type": "code",
   "execution_count": 142,
   "id": "db5c9ef4-4a8d-4d80-a4ed-9b5ed3d441b8",
   "metadata": {},
   "outputs": [
    {
     "name": "stdout",
     "output_type": "stream",
     "text": [
      "79\n",
      "66\n",
      "145\n"
     ]
    }
   ],
   "source": [
    "print(len(r2_request_files))\n",
    "print(len(r3_request_files))\n",
    "print(len(r2_request_files) + len(r3_request_files))"
   ]
  },
  {
   "cell_type": "code",
   "execution_count": 143,
   "id": "04742f87-950f-4859-8acc-088853c75a7c",
   "metadata": {},
   "outputs": [],
   "source": [
    "toms_request_files = set(r2_request_files).union(set(r3_request_files))"
   ]
  },
  {
   "cell_type": "code",
   "execution_count": 144,
   "id": "fbf480df-db6b-4b72-a0a3-4038b9257a7e",
   "metadata": {},
   "outputs": [],
   "source": [
    "# out of Tom's request list, what's can't I find in the ASR'd data\n",
    "leftover = toms_request_files - set(file_ids)"
   ]
  },
  {
   "cell_type": "code",
   "execution_count": 145,
   "id": "ffe4ecd1-a34a-4057-93ef-61e693889994",
   "metadata": {},
   "outputs": [
    {
     "data": {
      "text/plain": [
       "67"
      ]
     },
     "execution_count": 145,
     "metadata": {},
     "output_type": "execute_result"
    }
   ],
   "source": [
    "# Tom's request is totally covered?\n",
    "len(leftover)"
   ]
  },
  {
   "cell_type": "code",
   "execution_count": 147,
   "id": "16a3592a-60f1-4323-a307-c33b4a9ef414",
   "metadata": {},
   "outputs": [
    {
     "data": {
      "text/plain": [
       "66"
      ]
     },
     "execution_count": 147,
     "metadata": {},
     "output_type": "execute_result"
    }
   ],
   "source": [
    "# almost all of the missing data is based on the r3 request \n",
    "len(leftover.intersection(set(r3_request_files)))"
   ]
  },
  {
   "cell_type": "code",
   "execution_count": 158,
   "id": "65e0e7c7-d2df-40ad-b02b-04336563c247",
   "metadata": {},
   "outputs": [
    {
     "data": {
      "text/plain": [
       "{'M01003JET'}"
      ]
     },
     "execution_count": 158,
     "metadata": {},
     "output_type": "execute_result"
    }
   ],
   "source": [
    "# what's the extra file? this is the file Sukrit said was corrupted\n",
    "leftover - leftover.intersection(set(r3_request_files))"
   ]
  },
  {
   "cell_type": "code",
   "execution_count": 148,
   "id": "027b80da-5106-4296-9bca-a817fd0f572f",
   "metadata": {},
   "outputs": [],
   "source": [
    "# now look at annotated files - tom's request - what we have\n",
    "missing = (set(anno_files_list) - toms_request_files) - set(file_ids)"
   ]
  },
  {
   "cell_type": "code",
   "execution_count": 150,
   "id": "69250387-ffe5-4974-a51f-c937140c932f",
   "metadata": {},
   "outputs": [
    {
     "data": {
      "text/plain": [
       "10"
      ]
     },
     "execution_count": 150,
     "metadata": {},
     "output_type": "execute_result"
    }
   ],
   "source": [
    "# still have 10 files unnaccounted for\n",
    "len(missing)"
   ]
  },
  {
   "cell_type": "code",
   "execution_count": 168,
   "id": "fd4ab839-a540-4b46-829c-0fe23fa6688b",
   "metadata": {},
   "outputs": [
    {
     "data": {
      "text/plain": [
       "{'M01000G9A',\n",
       " 'M01000G9B',\n",
       " 'M01000G9D',\n",
       " 'M01000G9E',\n",
       " 'M01000G9F',\n",
       " 'M01000G9G',\n",
       " 'M01000G9H',\n",
       " 'M01000G9J',\n",
       " 'M01000G9K',\n",
       " 'M01000G9L'}"
      ]
     },
     "execution_count": 168,
     "metadata": {},
     "output_type": "execute_result"
    }
   ],
   "source": [
    "missing"
   ]
  },
  {
   "cell_type": "code",
   "execution_count": 157,
   "id": "087ee719-96d4-4a04-946e-c700133d5fad",
   "metadata": {},
   "outputs": [
    {
     "data": {
      "text/plain": [
       "0"
      ]
     },
     "execution_count": 157,
     "metadata": {},
     "output_type": "execute_result"
    }
   ],
   "source": [
    "# now account for the cu missing data (cu annotated - files we have transcribed = 23 files), which has no overlap with Tom's request\n",
    "len(cu_missing.intersection(toms_request_files))"
   ]
  },
  {
   "cell_type": "code",
   "execution_count": 159,
   "id": "1647e9b3-36d2-4821-be23-e4aa09138e9e",
   "metadata": {},
   "outputs": [
    {
     "data": {
      "text/plain": [
       "23"
      ]
     },
     "execution_count": 159,
     "metadata": {},
     "output_type": "execute_result"
    }
   ],
   "source": [
    "# cu_missing set is totally disjoint from what we have transcriptions for, Tom's request, and LDC data\n",
    "# totally net new\n",
    "len(cu_missing)"
   ]
  },
  {
   "cell_type": "code",
   "execution_count": 165,
   "id": "e2a5ea1b-7026-4694-aae0-0914753a1bbd",
   "metadata": {},
   "outputs": [
    {
     "data": {
      "text/plain": [
       "100"
      ]
     },
     "execution_count": 165,
     "metadata": {},
     "output_type": "execute_result"
    }
   ],
   "source": [
    "# 10 missing + r3_request + 1 corrupted + 23 cu_missing == 100\n",
    "todds_request = missing.union({'M01003JET'}).union(set(r3_request_files)).union(cu_missing)\n",
    "len(todds_request)"
   ]
  },
  {
   "cell_type": "code",
   "execution_count": 167,
   "id": "f6ad5676-a663-47ec-8c0e-d70a9ef9c03d",
   "metadata": {},
   "outputs": [],
   "source": [
    "# fully accounted for my request\n",
    "assert todds_request == ldc_missing.union(cu_missing)"
   ]
  },
  {
   "cell_type": "code",
   "execution_count": null,
   "id": "da0592d8-7038-4e9a-bf61-c3c6d777789a",
   "metadata": {},
   "outputs": [],
   "source": []
  }
 ],
 "metadata": {
  "kernelspec": {
   "display_name": "Python (CHARM)",
   "language": "python",
   "name": "charm"
  },
  "language_info": {
   "codemirror_mode": {
    "name": "ipython",
    "version": 3
   },
   "file_extension": ".py",
   "mimetype": "text/x-python",
   "name": "python",
   "nbconvert_exporter": "python",
   "pygments_lexer": "ipython3",
   "version": "3.10.6"
  }
 },
 "nbformat": 4,
 "nbformat_minor": 5
}
