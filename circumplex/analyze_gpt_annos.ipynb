{
 "cells": [
  {
   "attachments": {},
   "cell_type": "markdown",
   "metadata": {},
   "source": [
    "# Analyze GPT Annotations"
   ]
  },
  {
   "cell_type": "code",
   "execution_count": 48,
   "metadata": {
    "vscode": {
     "languageId": "python"
    }
   },
   "outputs": [
    {
     "name": "stdout",
     "output_type": "stream",
     "text": [
      "The autoreload extension is already loaded. To reload it, use:\n",
      "  %reload_ext autoreload\n"
     ]
    }
   ],
   "source": [
    "%load_ext autoreload\n",
    "%autoreload 2\n",
    "from collections import defaultdict\n",
    "import json\n",
    "import re\n",
    "\n",
    "import pandas as pd\n",
    "import utils"
   ]
  },
  {
   "cell_type": "code",
   "execution_count": 2,
   "metadata": {
    "vscode": {
     "languageId": "python"
    }
   },
   "outputs": [],
   "source": [
    "anno_filepath = 'data/gpt_requests_results.jsonl'"
   ]
  },
  {
   "cell_type": "code",
   "execution_count": 3,
   "metadata": {
    "vscode": {
     "languageId": "python"
    }
   },
   "outputs": [],
   "source": [
    "with open(anno_filepath, 'r') as f:\n",
    "    annos = [json.loads(line) for line in f]"
   ]
  },
  {
   "cell_type": "code",
   "execution_count": 4,
   "metadata": {
    "vscode": {
     "languageId": "python"
    }
   },
   "outputs": [
    {
     "data": {
      "text/plain": [
       "['M01000EYZ',\n",
       " {'model': 'gpt-3.5-turbo',\n",
       "  'messages': [{'role': 'system', 'content': 'You are a helpful assistant.'},\n",
       "   {'role': 'user',\n",
       "    'content': 'Circumplex theory is a social psychology based theory that characterizes social interactions between speakers. The social orientation tagset includes: {Assured-Dominant, Gregarious-Extraverted, Warm-Agreeable, Unassuming-Ingenuous, Unassured-Submissive, Aloof-Introverted, Cold, Arrogant-Calculating}, which are defined below in more detail.\\n\\nAssured-Dominant - Demands to be the center of interest / Demands attention, Does most of the talking, Speaks loudly, Is firm, Is self-confident, Is forceful, Is ambitious, Is assertive, Is persistent, Is domineering, Not self-conscious\\n\\nGregarious-Extraverted - Feels comfortable around people, Starts conversations, Talks to a lot of different people, Loves large groups, Is friendly, Is enthusiastic, Is warm, Is extraverted, Is good-natured, Is cheerful / happy, Is pleasant, Is outgoing, Is approachable, Is not shy, Is \"lively\"\\n\\nWarm-Agreeable - Is interested in people, Reassures others, Inquires about others\\' well-being, Gets along well with others, Is kind, Is polite and courteous, Is sympathetic, Is respectful, Is tender-hearted, Is cooperative, Is appreciative, Is accommodating, Is gentle, Is charitable\\n\\nUnassuming-Ingenuous - Tolerates a lot from others, Takes things as they come, Tells the truth, Thinks of others first, Does not brag or boast, Seldom stretches the truth, Does not scheme or plot, Is modest, Is trustworthy, Is unassuming, Is honest, Not self-centered, Is sincere, Not demanding, Is straightforward\\n\\nUnassured-Submissive - Speaks softly, Lets others finish what they are saying, Dislikes being the center of attention, Doubts themselves, Not especially thorough, Doesn’t like to work too hard / will give up easily,  Is impractical, Is timid, Is inconsistent, Is weak, Is disorganized, Is not authoritative, Is a bit lazy, Is not forceful\\n\\nAloof-Introverted - Is quiet, especially around strangers, Is a very private person, Doesn\\'t talk a lot / Has little to say, Doesn’t smile much, Doesn’t reveal much about themselves, Is not demonstrative (verbally or non-verbally), Is distant, Is shy, Is impersonal, Is introverted, Is disinterested in others, Is bashful, Is not very social, Is focused inward\\n\\nCold - Believes people should fend for themselves, Doesn\\'t fall for sob-stories, Is not interested in other people\\'s problems, Not warm toward others, Is cruel, Is ruthless, Is cold-hearted, Is hard-hearted, Is unsympathetic, Is uncharitable\\n\\nArrogant-Calculating - Flaunts what they have, Boasts and brags, Will plot and scheme to get ahead, Willing to exploit others for own benefit, Is big-headed, Is tricky, Is boisterous, Is conniving / calculating, Is conceited, Is crafty / cunning, Is cocky, Is manipulative of others\\n---\\n\\nIn the following conversation, each line corresponds to a speaker, an utterance ID, and the text spoken. For each utterance, assign a social orientation tag, identify the utterance by its speaker and ID, and provide a brief explanation.\\n\\nSpeaker 1 (48):  我有一次正好做机翼那里，就看着自己的行李箱从那个传送带上掉下来了\\nSpeaker 1 (49):  然后有个工作人员，捡起来又扔上去了\\nSpeaker 1 (50):  是挺用力的那种扔\\nSpeaker 2 (51):  我看导游都配个很结实的套\\nSpeaker 1 (52):  我买的那个箱子就有套子\\nSpeaker 2 (53):  厚吧 服帖吧\\nSpeaker 1 (54):  比较厚，就是那种绒绒布\\nSpeaker 1 (55):  可以防划\\nSpeaker 1 (56):  但是摔的话，就那么回事了\\nSpeaker 2 (57):  所以我的理论是登机的买好的 托运的买一般般的\\nSpeaker 1 (58):  那得20寸以下的\\nSpeaker 1 (59):  我记得好像是20寸\\nSpeaker 2 (60):  是20\\nSpeaker 1 (61):  其实我一般是都托运\\nSpeaker 1 (62):  随身带个小包和电脑\\nSpeaker 2 (63):  我也是 一家三口 俩大箱子\\nSpeaker 1 (64):  我买only衣服，送了个那种帆布的拉杆箱\\nSpeaker 1 (65):  我觉得那个挺好的\\nSpeaker 1 (66):  不怕划\\nSpeaker 1 (67):  短途不错\\nSpeaker 2 (68):  也不错\\nSpeaker 1 (69):  藕宝现在小，我们没法报团，目前就是省内游，都是自己开车\\nSpeaker 1 (70):  我打算等她两岁以后带她出省试试\\nSpeaker 1 (71):  其实我和大头比较好玩的\\nSpeaker 2 (72):  我也觉得人生苦短 多玩玩吧\\nSpeaker 1 (73):  就是啊\\nSpeaker 1 (74):  我们去年带着藕宝，沿海玩了一个星期\\nSpeaker 1 (75):  效果还不错\\nSpeaker 1 (76):  今年我想苏杭看看\\nSpeaker 2 (77):  现在的孩子就像个玩具 享受那一刻吧\\nSpeaker 1 (78):  是啊，最好玩的时候了\\nSpeaker 1 (79):  再大就会气人了\\nSpeaker 2 (80):  每个时期的孩子都很好玩 据说三岁是最好玩的'}],\n",
       "  'temperature': 0.0,\n",
       "  'top_p': 0.0},\n",
       " {'id': 'chatcmpl-6yx62OwreiUwupw8hwU17KO0rPRTo',\n",
       "  'object': 'chat.completion',\n",
       "  'created': 1679984866,\n",
       "  'model': 'gpt-3.5-turbo-0301',\n",
       "  'usage': {'prompt_tokens': 1490,\n",
       "   'completion_tokens': 117,\n",
       "   'total_tokens': 1607},\n",
       "  'choices': [{'message': {'role': 'assistant',\n",
       "     'content': \"Speaker 1 (48-79) exhibits a Warm-Agreeable social orientation tag. They are interested in others, inquire about others' well-being, and are kind, polite, and courteous. They talk about their luggage and travel experiences, and express their desire to travel with their child.\\n\\nSpeaker 2 (51-80) exhibits a Gregarious-Extraverted social orientation tag. They feel comfortable around people, start conversations, and talk to a lot of different people. They express their opinion on luggage and travel, and agree with Speaker 1's ideas.\"},\n",
       "    'finish_reason': 'stop',\n",
       "    'index': 0}]}]"
      ]
     },
     "execution_count": 4,
     "metadata": {},
     "output_type": "execute_result"
    }
   ],
   "source": [
    "annos[0]"
   ]
  },
  {
   "attachments": {},
   "cell_type": "markdown",
   "metadata": {},
   "source": [
    "## Data preprocessing\n",
    "1. Iterate over annos and for each file ID encountered, add it to a dict mapping file ID to a list of results\n",
    "1. Extract GPT response\n",
    "1. Write a RegEx to extract the speaker, utterance(s) IDs, label, and explanation\n",
    "1. Load the source DF and merge\n",
    "1. Assess how much data we got and how much we're missing\n",
    "\n",
    "Other tasks:\n",
    "1. Assess how often the GPT ran out of tokens vs. finishing all annotations and modify prompt length accordingly\n",
    "1. Prepare next round of data for annotation"
   ]
  },
  {
   "attachments": {},
   "cell_type": "markdown",
   "metadata": {},
   "source": [
    "### Extract GPT responses"
   ]
  },
  {
   "cell_type": "code",
   "execution_count": 184,
   "metadata": {
    "vscode": {
     "languageId": "python"
    }
   },
   "outputs": [],
   "source": [
    "responses = defaultdict(list)\n",
    "input_output = defaultdict(list)\n",
    "for anno in annos:\n",
    "    file_id, prompt, response = anno\n",
    "    generated_content = response['choices'][0]['message']['content']\n",
    "    # split on newlines (with some lookahead) to handle (e.g. M01000GBL)\n",
    "    # Speaker 1 (193): Unassuming-Ingenuous - Takes things as they come, Tells the truth, Not self-centered, Is straightforward\n",
    "    # Explanation: The speaker is stating a fact about themselves.\n",
    "    split_content = generated_content.split('\\n')\n",
    "    lines = []\n",
    "    i = 0\n",
    "    while i < len(split_content):\n",
    "        line = split_content[i]\n",
    "        if line == '':\n",
    "            i += 1\n",
    "            continue\n",
    "        if i < len(split_content) - 1:\n",
    "            lookahead = split_content[i+1]\n",
    "            if lookahead.startswith('Explanation:'):\n",
    "                line += '. ' + lookahead\n",
    "                i += 1\n",
    "            # elif lookahead == '' and i < len(split_content) - 2:\n",
    "            #     lookahead = split_content[i+2]\n",
    "            #     line += '. ' + lookahead\n",
    "            #     i += 2\n",
    "        lines.append(line)\n",
    "        i += 1\n",
    "    \n",
    "    responses[file_id].extend(lines)\n",
    "    input_output[file_id].append((prompt, response))"
   ]
  },
  {
   "cell_type": "code",
   "execution_count": 185,
   "metadata": {
    "vscode": {
     "languageId": "python"
    }
   },
   "outputs": [],
   "source": [
    "labels = []\n",
    "label_obj = defaultdict(list)\n",
    "for file_id in responses:\n",
    "    for line in responses[file_id]:\n",
    "        label = utils.Label(file_id, line)\n",
    "        label_obj[file_id].append(label)\n",
    "        labels.extend(label.data)"
   ]
  },
  {
   "cell_type": "code",
   "execution_count": 186,
   "metadata": {
    "vscode": {
     "languageId": "python"
    }
   },
   "outputs": [],
   "source": [
    "# create dataframe\n",
    "df = pd.DataFrame(labels, columns=['file_id', 'social_orientation', 'utterance_id', 'speaker_id', 'label_str'])"
   ]
  },
  {
   "attachments": {},
   "cell_type": "markdown",
   "metadata": {},
   "source": [
    "## Load source dataframe and merge"
   ]
  },
  {
   "cell_type": "code",
   "execution_count": 227,
   "metadata": {
    "vscode": {
     "languageId": "python"
    }
   },
   "outputs": [],
   "source": [
    "source_filepath = '~/Documents/data/charm/transformed/circumplex/gpt_prompts_r1_mini_eval_text.csv'\n",
    "source_df = pd.read_csv(source_filepath)"
   ]
  },
  {
   "cell_type": "code",
   "execution_count": 228,
   "metadata": {
    "vscode": {
     "languageId": "python"
    }
   },
   "outputs": [
    {
     "data": {
      "text/html": [
       "<div>\n",
       "<style scoped>\n",
       "    .dataframe tbody tr th:only-of-type {\n",
       "        vertical-align: middle;\n",
       "    }\n",
       "\n",
       "    .dataframe tbody tr th {\n",
       "        vertical-align: top;\n",
       "    }\n",
       "\n",
       "    .dataframe thead th {\n",
       "        text-align: right;\n",
       "    }\n",
       "</style>\n",
       "<table border=\"1\" class=\"dataframe\">\n",
       "  <thead>\n",
       "    <tr style=\"text-align: right;\">\n",
       "      <th></th>\n",
       "      <th>filename</th>\n",
       "      <th>@id</th>\n",
       "      <th>@start_char</th>\n",
       "      <th>@end_char</th>\n",
       "      <th>ORIGINAL_TEXT</th>\n",
       "      <th>@type</th>\n",
       "      <th>@begin_offset</th>\n",
       "      <th>@char_length</th>\n",
       "      <th>id</th>\n",
       "      <th>time</th>\n",
       "      <th>...</th>\n",
       "      <th>TOKEN</th>\n",
       "      <th>social_orientation_random</th>\n",
       "      <th>file_id</th>\n",
       "      <th>timestamp</th>\n",
       "      <th>impact_scalar</th>\n",
       "      <th>comment</th>\n",
       "      <th>Utterance ID</th>\n",
       "      <th>Complete Line</th>\n",
       "      <th>Complete Line Length</th>\n",
       "      <th>line_len_cumsum</th>\n",
       "    </tr>\n",
       "  </thead>\n",
       "  <tbody>\n",
       "    <tr>\n",
       "      <th>0</th>\n",
       "      <td>M01000EY0.ltf.xml</td>\n",
       "      <td>segment-0</td>\n",
       "      <td>0</td>\n",
       "      <td>11</td>\n",
       "      <td>你手机充300不够是吧？</td>\n",
       "      <td>message</td>\n",
       "      <td>0</td>\n",
       "      <td>14</td>\n",
       "      <td>m0000</td>\n",
       "      <td>2012-07-09 08:54:39 UTC</td>\n",
       "      <td>...</td>\n",
       "      <td>[{'@id': 'token-0-0', '@pos': 'word', '@morph'...</td>\n",
       "      <td>Cold</td>\n",
       "      <td>M01000EY0</td>\n",
       "      <td>NaN</td>\n",
       "      <td>NaN</td>\n",
       "      <td>NaN</td>\n",
       "      <td>1</td>\n",
       "      <td>Speaker 1 (1):  你手机充300不够是吧？</td>\n",
       "      <td>20</td>\n",
       "      <td>20</td>\n",
       "    </tr>\n",
       "    <tr>\n",
       "      <th>1</th>\n",
       "      <td>M01000EY0.ltf.xml</td>\n",
       "      <td>segment-1</td>\n",
       "      <td>14</td>\n",
       "      <td>20</td>\n",
       "      <td>115.51？</td>\n",
       "      <td>message</td>\n",
       "      <td>14</td>\n",
       "      <td>9</td>\n",
       "      <td>m0001</td>\n",
       "      <td>2012-07-09 08:56:50 UTC</td>\n",
       "      <td>...</td>\n",
       "      <td>[{'@id': 'token-1-0', '@pos': 'word', '@morph'...</td>\n",
       "      <td>Warm-Agreeable</td>\n",
       "      <td>M01000EY0</td>\n",
       "      <td>NaN</td>\n",
       "      <td>NaN</td>\n",
       "      <td>NaN</td>\n",
       "      <td>2</td>\n",
       "      <td>Speaker 2 (2):  115.51？</td>\n",
       "      <td>12</td>\n",
       "      <td>32</td>\n",
       "    </tr>\n",
       "    <tr>\n",
       "      <th>2</th>\n",
       "      <td>M01000EY0.ltf.xml</td>\n",
       "      <td>segment-2</td>\n",
       "      <td>23</td>\n",
       "      <td>27</td>\n",
       "      <td>我都糊涂了</td>\n",
       "      <td>message</td>\n",
       "      <td>23</td>\n",
       "      <td>7</td>\n",
       "      <td>m0002</td>\n",
       "      <td>2012-07-09 08:56:53 UTC</td>\n",
       "      <td>...</td>\n",
       "      <td>[{'@id': 'token-2-0', '@pos': 'word', '@morph'...</td>\n",
       "      <td>Arrogant-Calculating</td>\n",
       "      <td>M01000EY0</td>\n",
       "      <td>NaN</td>\n",
       "      <td>NaN</td>\n",
       "      <td>NaN</td>\n",
       "      <td>3</td>\n",
       "      <td>Speaker 2 (3):  我都糊涂了</td>\n",
       "      <td>16</td>\n",
       "      <td>48</td>\n",
       "    </tr>\n",
       "    <tr>\n",
       "      <th>3</th>\n",
       "      <td>M01000EY0.ltf.xml</td>\n",
       "      <td>segment-3</td>\n",
       "      <td>30</td>\n",
       "      <td>36</td>\n",
       "      <td>我打电话问问吧</td>\n",
       "      <td>message</td>\n",
       "      <td>30</td>\n",
       "      <td>9</td>\n",
       "      <td>m0003</td>\n",
       "      <td>2012-07-09 08:56:59 UTC</td>\n",
       "      <td>...</td>\n",
       "      <td>[{'@id': 'token-3-0', '@pos': 'word', '@morph'...</td>\n",
       "      <td>Cold</td>\n",
       "      <td>M01000EY0</td>\n",
       "      <td>NaN</td>\n",
       "      <td>NaN</td>\n",
       "      <td>NaN</td>\n",
       "      <td>4</td>\n",
       "      <td>Speaker 2 (4):  我打电话问问吧</td>\n",
       "      <td>15</td>\n",
       "      <td>63</td>\n",
       "    </tr>\n",
       "    <tr>\n",
       "      <th>4</th>\n",
       "      <td>M01000EY0.ltf.xml</td>\n",
       "      <td>segment-4</td>\n",
       "      <td>39</td>\n",
       "      <td>39</td>\n",
       "      <td>昂</td>\n",
       "      <td>message</td>\n",
       "      <td>39</td>\n",
       "      <td>3</td>\n",
       "      <td>m0004</td>\n",
       "      <td>2012-07-09 08:57:56 UTC</td>\n",
       "      <td>...</td>\n",
       "      <td>{'@id': 'token-4-0', '@pos': 'word', '@morph':...</td>\n",
       "      <td>Cold</td>\n",
       "      <td>M01000EY0</td>\n",
       "      <td>NaN</td>\n",
       "      <td>NaN</td>\n",
       "      <td>NaN</td>\n",
       "      <td>5</td>\n",
       "      <td>Speaker 1 (5):  昂</td>\n",
       "      <td>9</td>\n",
       "      <td>72</td>\n",
       "    </tr>\n",
       "  </tbody>\n",
       "</table>\n",
       "<p>5 rows × 21 columns</p>\n",
       "</div>"
      ],
      "text/plain": [
       "            filename        @id  @start_char  @end_char ORIGINAL_TEXT  \\\n",
       "0  M01000EY0.ltf.xml  segment-0            0         11  你手机充300不够是吧？   \n",
       "1  M01000EY0.ltf.xml  segment-1           14         20       115.51？   \n",
       "2  M01000EY0.ltf.xml  segment-2           23         27         我都糊涂了   \n",
       "3  M01000EY0.ltf.xml  segment-3           30         36       我打电话问问吧   \n",
       "4  M01000EY0.ltf.xml  segment-4           39         39             昂   \n",
       "\n",
       "     @type  @begin_offset  @char_length     id                     time  ...  \\\n",
       "0  message              0            14  m0000  2012-07-09 08:54:39 UTC  ...   \n",
       "1  message             14             9  m0001  2012-07-09 08:56:50 UTC  ...   \n",
       "2  message             23             7  m0002  2012-07-09 08:56:53 UTC  ...   \n",
       "3  message             30             9  m0003  2012-07-09 08:56:59 UTC  ...   \n",
       "4  message             39             3  m0004  2012-07-09 08:57:56 UTC  ...   \n",
       "\n",
       "                                               TOKEN  \\\n",
       "0  [{'@id': 'token-0-0', '@pos': 'word', '@morph'...   \n",
       "1  [{'@id': 'token-1-0', '@pos': 'word', '@morph'...   \n",
       "2  [{'@id': 'token-2-0', '@pos': 'word', '@morph'...   \n",
       "3  [{'@id': 'token-3-0', '@pos': 'word', '@morph'...   \n",
       "4  {'@id': 'token-4-0', '@pos': 'word', '@morph':...   \n",
       "\n",
       "  social_orientation_random    file_id timestamp  impact_scalar  comment  \\\n",
       "0                      Cold  M01000EY0       NaN            NaN      NaN   \n",
       "1            Warm-Agreeable  M01000EY0       NaN            NaN      NaN   \n",
       "2      Arrogant-Calculating  M01000EY0       NaN            NaN      NaN   \n",
       "3                      Cold  M01000EY0       NaN            NaN      NaN   \n",
       "4                      Cold  M01000EY0       NaN            NaN      NaN   \n",
       "\n",
       "  Utterance ID                 Complete Line Complete Line Length  \\\n",
       "0            1  Speaker 1 (1):  你手机充300不够是吧？                   20   \n",
       "1            2       Speaker 2 (2):  115.51？                   12   \n",
       "2            3         Speaker 2 (3):  我都糊涂了                   16   \n",
       "3            4       Speaker 2 (4):  我打电话问问吧                   15   \n",
       "4            5             Speaker 1 (5):  昂                    9   \n",
       "\n",
       "   line_len_cumsum  \n",
       "0               20  \n",
       "1               32  \n",
       "2               48  \n",
       "3               63  \n",
       "4               72  \n",
       "\n",
       "[5 rows x 21 columns]"
      ]
     },
     "execution_count": 228,
     "metadata": {},
     "output_type": "execute_result"
    }
   ],
   "source": [
    "source_df.head()"
   ]
  },
  {
   "cell_type": "code",
   "execution_count": 229,
   "metadata": {
    "vscode": {
     "languageId": "python"
    }
   },
   "outputs": [],
   "source": [
    "# join with the source_df where file_id == file_id, Utterance ID == utterance_id, participant == speaker_id\n",
    "merge_df = source_df.merge(df, left_on=['file_id', 'Utterance ID', 'participant'], right_on=['file_id', 'utterance_id', 'speaker_id'], how='left')"
   ]
  },
  {
   "cell_type": "code",
   "execution_count": 231,
   "metadata": {
    "vscode": {
     "languageId": "python"
    }
   },
   "outputs": [
    {
     "data": {
      "text/plain": [
       "34570"
      ]
     },
     "execution_count": 231,
     "metadata": {},
     "output_type": "execute_result"
    }
   ],
   "source": [
    "len(merge_df)"
   ]
  },
  {
   "cell_type": "code",
   "execution_count": 230,
   "metadata": {
    "vscode": {
     "languageId": "python"
    }
   },
   "outputs": [
    {
     "data": {
      "text/plain": [
       "34558"
      ]
     },
     "execution_count": 230,
     "metadata": {},
     "output_type": "execute_result"
    }
   ],
   "source": [
    "len(source_df)"
   ]
  },
  {
   "cell_type": "code",
   "execution_count": 234,
   "metadata": {
    "vscode": {
     "languageId": "python"
    }
   },
   "outputs": [],
   "source": [
    "# in some instances, the model is labeling an utterance twice with the same utterance ID and same participant\n",
    "# can probably safely drop duplicates when the social orientation is the same\n",
    "# merge_df[merge_df.duplicated(subset=['file_id', 'Utterance ID', 'participant'], keep=False)]"
   ]
  },
  {
   "cell_type": "code",
   "execution_count": 236,
   "metadata": {
    "vscode": {
     "languageId": "python"
    }
   },
   "outputs": [],
   "source": [
    "merge_df = merge_df.drop_duplicates(subset=['file_id', 'Utterance ID', 'participant', 'social_orientation'], keep='first')"
   ]
  },
  {
   "cell_type": "code",
   "execution_count": 238,
   "metadata": {
    "vscode": {
     "languageId": "python"
    }
   },
   "outputs": [],
   "source": [
    "# simply drop ALL the remaining duplicates to avoid any issues\n",
    "merge_df = merge_df.drop_duplicates(subset=['file_id', 'Utterance ID', 'participant'], keep=False,)"
   ]
  },
  {
   "cell_type": "code",
   "execution_count": 248,
   "metadata": {
    "vscode": {
     "languageId": "python"
    }
   },
   "outputs": [],
   "source": [
    "# drop any rows that are missing data\n",
    "merge_df = merge_df.dropna(subset=['social_orientation', 'utterance_id', 'speaker_id'])"
   ]
  },
  {
   "cell_type": "code",
   "execution_count": 254,
   "metadata": {
    "vscode": {
     "languageId": "python"
    }
   },
   "outputs": [
    {
     "data": {
      "text/plain": [
       "<Axes: >"
      ]
     },
     "execution_count": 254,
     "metadata": {},
     "output_type": "execute_result"
    },
    {
     "data": {
      "image/png": "[encoded data removed]",
      "text/plain": [
       "<Figure size 640x480 with 1 Axes>"
      ]
     },
     "metadata": {},
     "output_type": "display_data"
    }
   ],
   "source": [
    "merge_df['social_orientation'].value_counts().plot(kind='bar')"
   ]
  },
  {
   "cell_type": "code",
   "execution_count": null,
   "metadata": {
    "vscode": {
     "languageId": "python"
    }
   },
   "outputs": [],
   "source": [
    "# save to file\n",
    "dest_filepath = '~/Documents/data/charm/transformed/circumplex/gpt_labels_r1_mini_eval_text.csv'\n",
    "merge_df.to_csv(dest_filepath, index=False)"
   ]
  },
  {
   "cell_type": "code",
   "execution_count": 257,
   "metadata": {
    "vscode": {
     "languageId": "python"
    }
   },
   "outputs": [
    {
     "data": {
      "text/plain": [
       "248.8"
      ]
     },
     "execution_count": 257,
     "metadata": {},
     "output_type": "execute_result"
    }
   ],
   "source": [
    "merge_df['file_id'].nunique() * 0.8"
   ]
  },
  {
   "cell_type": "code",
   "execution_count": null,
   "metadata": {
    "vscode": {
     "languageId": "python"
    }
   },
   "outputs": [],
   "source": []
  },
  {
   "cell_type": "code",
   "execution_count": null,
   "metadata": {
    "vscode": {
     "languageId": "python"
    }
   },
   "outputs": [],
   "source": []
  },
  {
   "cell_type": "code",
   "execution_count": null,
   "metadata": {
    "vscode": {
     "languageId": "python"
    }
   },
   "outputs": [],
   "source": []
  },
  {
   "attachments": {},
   "cell_type": "markdown",
   "metadata": {},
   "source": [
    "## Error Analysis\n",
    "\n",
    "**No utterance ID, speaker identifier, and/or social orientation tag**\n",
    "- M01000F8S, Social orientation tag: Unassuming-Ingenuous\n",
    "- M01000FCG, Overall, the conversation is characterized by a lack of assertiveness and a tendency towards introversion and self-doubt. Both speakers express dissatisfaction with their current situation and a desire for a romantic relationship, but Speaker 2 seems to be more focused on their high standards and reluctance to actively pursue a relationship.\n",
    "M01000FK3, Social orientation tag: Unassured-Submissive\n",
    "- M01000GBL, Speaker 2 (253): N/A. Explanation: The speaker is expressing a non-verbal emotion.\n",
    "\n",
    "**Model attributes overlapping ranges of utterances to different speakers, resulting in multiple social orientation tags**\n",
    "- M01000FCG, Speaker 1 (1-10): Unassured-Submissive. Speaker 1 expresses frustration and dissatisfaction with their job and their inability to take a nap during the day. They also mention being forgetful and not having done much at work. They seem to lack confidence and are not forceful in their speech.\n",
    "- M01000FCG, Speaker 2 (5-35): Aloof-Introverted. Speaker 2 is reserved and not very talkative. They express disinterest in going to a singles party and describe the men there as nerdy and desperate. They also express their high standards for a partner and their reluctance to actively pursue a relationship. They seem to be focused inward and not very social.\n",
    "\n",
    "**Model uses inconsistent formatting**\n",
    "- Uses ranges of utterance ids (e.g. 20-30) (solved)\n",
    "- Uses range of utterance ids (63, 66-83, 86-107) (M01000GND)\n",
    "- Uses periods instead of parentheses (e.g. 42.) (solved)\n",
    "- The model puts the explanation on the following line, follow 2 lines, or even following 3 lines (e.g. M01000GNZ, )\n",
    "    - e.g. M01000GBL\n",
    "    - Speaker 2 (253): N/A\n",
    "    - Explanation: The speaker is expressing a non-verbal emotion.\n",
    "    - e.g. M01000GQ4\n",
    "    - Speaker 3 (54):  我同意，我们需要找到一个解决方案。\n",
    "    - Social orientation tag: Warm-Agreeable\n",
    "    - Explanation: Speaker 3 is agreeing with Speaker 2\n",
    "- General statement about the conversation, unrelated to any single utterance (may not need to be solved) (e.g. M01000GE2)\n",
    "    - Overall, the conversation is characterized by a warm and friendly tone, with both speakers showing concern for each other's well-being and offering support and advice.\n",
    "- Some prompts only contain a single utterance, resulting in a malformed response (this should be solvable)\n",
    "    - e.g. M01000GEL Speaker 1 (47):  好的呢\n",
    "    - e.g. M01000GJ5 Speaker 2 (58):  [图片]\n",
    "\n",
    "TODO: continue analyzing errors from index 40 onwards"
   ]
  },
  {
   "cell_type": "code",
   "execution_count": 213,
   "metadata": {
    "vscode": {
     "languageId": "python"
    }
   },
   "outputs": [
    {
     "data": {
      "text/html": [
       "<div>\n",
       "<style scoped>\n",
       "    .dataframe tbody tr th:only-of-type {\n",
       "        vertical-align: middle;\n",
       "    }\n",
       "\n",
       "    .dataframe tbody tr th {\n",
       "        vertical-align: top;\n",
       "    }\n",
       "\n",
       "    .dataframe thead th {\n",
       "        text-align: right;\n",
       "    }\n",
       "</style>\n",
       "<table border=\"1\" class=\"dataframe\">\n",
       "  <thead>\n",
       "    <tr style=\"text-align: right;\">\n",
       "      <th></th>\n",
       "      <th>file_id</th>\n",
       "      <th>social_orientation</th>\n",
       "      <th>utterance_id</th>\n",
       "      <th>speaker_id</th>\n",
       "      <th>label_str</th>\n",
       "    </tr>\n",
       "  </thead>\n",
       "  <tbody>\n",
       "    <tr>\n",
       "      <th>17858</th>\n",
       "      <td>M01000GNU</td>\n",
       "      <td>Warm-Agreeable</td>\n",
       "      <td>35.0</td>\n",
       "      <td>1.0</td>\n",
       "      <td>Speaker 1 (35): Warm-Agreeable - The speaker e...</td>\n",
       "    </tr>\n",
       "    <tr>\n",
       "      <th>25527</th>\n",
       "      <td>M01000GX3</td>\n",
       "      <td>Unassured-Submissive</td>\n",
       "      <td>30.0</td>\n",
       "      <td>2.0</td>\n",
       "      <td>Speaker 2 (30): Unassured-Submissive - The spe...</td>\n",
       "    </tr>\n",
       "  </tbody>\n",
       "</table>\n",
       "</div>"
      ],
      "text/plain": [
       "         file_id    social_orientation  utterance_id  speaker_id  \\\n",
       "17858  M01000GNU        Warm-Agreeable          35.0         1.0   \n",
       "25527  M01000GX3  Unassured-Submissive          30.0         2.0   \n",
       "\n",
       "                                               label_str  \n",
       "17858  Speaker 1 (35): Warm-Agreeable - The speaker e...  \n",
       "25527  Speaker 2 (30): Unassured-Submissive - The spe...  "
      ]
     },
     "execution_count": 213,
     "metadata": {},
     "output_type": "execute_result"
    }
   ],
   "source": [
    "df.sample(n=2)"
   ]
  },
  {
   "cell_type": "code",
   "execution_count": 219,
   "metadata": {
    "vscode": {
     "languageId": "python"
    }
   },
   "outputs": [],
   "source": [
    "# df[df['utterance_id'].isna()].iloc[35:40]\n",
    "# file_id = 'M01000GNU'\n",
    "# label_obj[file_id][0]\n",
    "\n",
    "# print(input_output[file_id][1][1]['choices'][0]['message']['content'])\n",
    "# print(input_output[file_id][1][0]['messages'][1]['content'])#[1]['choices'][0]['message']['content'])\n",
    "# idx = 0\n",
    "# for prompt, response in input_output[file_id]:\n",
    "#     print(idx)\n",
    "#     print(response['choices'][0]['message']['content'])\n",
    "#     idx+=1"
   ]
  },
  {
   "cell_type": "code",
   "execution_count": null,
   "metadata": {
    "vscode": {
     "languageId": "python"
    }
   },
   "outputs": [],
   "source": []
  }
 ],
 "metadata": {
  "kernelspec": {
   "display_name": "Python (CHARM)",
   "language": "python",
   "name": "charm"
  },
  "orig_nbformat": 4
 },
 "nbformat": 4,
 "nbformat_minor": 2
}
