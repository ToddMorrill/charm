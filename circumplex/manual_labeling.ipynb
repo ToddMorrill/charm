{
 "cells": [
  {
   "cell_type": "markdown",
   "id": "d882b638-6728-4928-ad3d-a78918eb4bfb",
   "metadata": {},
   "source": [
    "# Identify videos for manual labeling and evaluate results"
   ]
  },
  {
   "cell_type": "code",
   "execution_count": 1,
   "id": "2cc558be-a704-489e-9a2a-ab5d04267cf4",
   "metadata": {},
   "outputs": [],
   "source": [
    "import os\n",
    "import json\n",
    "\n",
    "import pandas as pd\n",
    "import numpy as np\n",
    "\n",
    "import utils\n",
    "\n",
    "%load_ext autoreload\n",
    "%autoreload 2"
   ]
  },
  {
   "cell_type": "markdown",
   "id": "f2495abd-e4e5-45c7-a83b-7968ee9a5d30",
   "metadata": {},
   "source": [
    "## Load data"
   ]
  },
  {
   "cell_type": "code",
   "execution_count": 2,
   "id": "c47f9bdd-b6b0-44f9-bd34-be2ade7ed35a",
   "metadata": {},
   "outputs": [],
   "source": [
    "home_dir = os.path.expanduser('~')\n",
    "anno_dir = os.path.join(home_dir, 'Documents/datasets/charm/raw/LDC2022E18_CCU_TA1_Mandarin_Chinese_Development_Annotation_V2.0/data')"
   ]
  },
  {
   "cell_type": "code",
   "execution_count": 3,
   "id": "5dbf9901-30c0-4791-8980-bff5226f4546",
   "metadata": {},
   "outputs": [],
   "source": [
    "anno_dfs, segment_df, versions_df = utils.load_ldc_annotations(os.path.join(home_dir, anno_dir))"
   ]
  },
  {
   "cell_type": "code",
   "execution_count": 4,
   "id": "39669851-4307-49c6-8200-43b5a0f8488d",
   "metadata": {},
   "outputs": [
    {
     "data": {
      "text/plain": [
       "dict_keys(['valence_arousal.tab', 'changepoint.tab', 'norms.tab', 'emotions.tab'])"
      ]
     },
     "execution_count": 4,
     "metadata": {},
     "output_type": "execute_result"
    }
   ],
   "source": [
    "anno_dfs.keys()"
   ]
  },
  {
   "cell_type": "code",
   "execution_count": 5,
   "id": "2d5e096c-e3e7-46f6-91ed-75cd9ea12132",
   "metadata": {},
   "outputs": [],
   "source": [
    "changepoint_df = anno_dfs['changepoint.tab']"
   ]
  },
  {
   "cell_type": "code",
   "execution_count": 6,
   "id": "57857fb3-a9e1-48d9-947e-3bd172f67d29",
   "metadata": {},
   "outputs": [
    {
     "data": {
      "text/plain": [
       "4    22\n",
       "5    19\n",
       "1    15\n",
       "2    13\n",
       "Name: impact_scalar, dtype: int64"
      ]
     },
     "execution_count": 6,
     "metadata": {},
     "output_type": "execute_result"
    }
   ],
   "source": [
    "changepoint_df['impact_scalar'].value_counts()"
   ]
  },
  {
   "cell_type": "code",
   "execution_count": 7,
   "id": "0ef5abb0-e7d2-41da-b3f2-8d6d4ac4c1ea",
   "metadata": {},
   "outputs": [
    {
     "data": {
      "text/html": [
       "<div>\n",
       "<style scoped>\n",
       "    .dataframe tbody tr th:only-of-type {\n",
       "        vertical-align: middle;\n",
       "    }\n",
       "\n",
       "    .dataframe tbody tr th {\n",
       "        vertical-align: top;\n",
       "    }\n",
       "\n",
       "    .dataframe thead th {\n",
       "        text-align: right;\n",
       "    }\n",
       "</style>\n",
       "<table border=\"1\" class=\"dataframe\">\n",
       "  <thead>\n",
       "    <tr style=\"text-align: right;\">\n",
       "      <th></th>\n",
       "      <th>user_id</th>\n",
       "      <th>file_id</th>\n",
       "      <th>timestamp</th>\n",
       "      <th>impact_scalar</th>\n",
       "      <th>comment</th>\n",
       "    </tr>\n",
       "  </thead>\n",
       "  <tbody>\n",
       "    <tr>\n",
       "      <th>0</th>\n",
       "      <td>212</td>\n",
       "      <td>M01000FT6</td>\n",
       "      <td>287</td>\n",
       "      <td>5</td>\n",
       "      <td>Pre-change: Host talked about patterns of dirt...</td>\n",
       "    </tr>\n",
       "    <tr>\n",
       "      <th>1</th>\n",
       "      <td>212</td>\n",
       "      <td>M01000FT6</td>\n",
       "      <td>353</td>\n",
       "      <td>2</td>\n",
       "      <td>Pre-change: Host questioned why the male guest...</td>\n",
       "    </tr>\n",
       "    <tr>\n",
       "      <th>2</th>\n",
       "      <td>212</td>\n",
       "      <td>M01003MTK</td>\n",
       "      <td>64</td>\n",
       "      <td>5</td>\n",
       "      <td>Pre-change: female introduced the male to her ...</td>\n",
       "    </tr>\n",
       "    <tr>\n",
       "      <th>3</th>\n",
       "      <td>212</td>\n",
       "      <td>M01003MTK</td>\n",
       "      <td>239</td>\n",
       "      <td>1</td>\n",
       "      <td>Pre-change: The female and male speakers were ...</td>\n",
       "    </tr>\n",
       "    <tr>\n",
       "      <th>4</th>\n",
       "      <td>212</td>\n",
       "      <td>M01003MTK</td>\n",
       "      <td>267</td>\n",
       "      <td>5</td>\n",
       "      <td>Pre-change: The group chit-chat with the male ...</td>\n",
       "    </tr>\n",
       "  </tbody>\n",
       "</table>\n",
       "</div>"
      ],
      "text/plain": [
       "   user_id    file_id  timestamp  impact_scalar  \\\n",
       "0      212  M01000FT6        287              5   \n",
       "1      212  M01000FT6        353              2   \n",
       "2      212  M01003MTK         64              5   \n",
       "3      212  M01003MTK        239              1   \n",
       "4      212  M01003MTK        267              5   \n",
       "\n",
       "                                             comment  \n",
       "0  Pre-change: Host talked about patterns of dirt...  \n",
       "1  Pre-change: Host questioned why the male guest...  \n",
       "2  Pre-change: female introduced the male to her ...  \n",
       "3  Pre-change: The female and male speakers were ...  \n",
       "4  Pre-change: The group chit-chat with the male ...  "
      ]
     },
     "execution_count": 7,
     "metadata": {},
     "output_type": "execute_result"
    }
   ],
   "source": [
    "changepoint_df.head()"
   ]
  },
  {
   "cell_type": "code",
   "execution_count": 8,
   "id": "363c7955-7b2e-44cf-8a82-a6897ee41474",
   "metadata": {},
   "outputs": [],
   "source": [
    "change_anno_files = set(versions_df[versions_df['changepoint_count'] > 0]['file_id'].unique())\n",
    "change_pos_anno_files = set(changepoint_df['file_id'].unique())\n",
    "change_neg_anno_files = change_anno_files - change_pos_anno_files"
   ]
  },
  {
   "cell_type": "code",
   "execution_count": 9,
   "id": "2266b372-5d50-461b-8207-35703c937aea",
   "metadata": {},
   "outputs": [
    {
     "data": {
      "text/plain": [
       "38"
      ]
     },
     "execution_count": 9,
     "metadata": {},
     "output_type": "execute_result"
    }
   ],
   "source": [
    "len(change_pos_anno_files)"
   ]
  },
  {
   "cell_type": "code",
   "execution_count": 10,
   "id": "0070c3f3-70ba-4339-8e4d-4fd20d2bfef7",
   "metadata": {},
   "outputs": [
    {
     "data": {
      "text/plain": [
       "32"
      ]
     },
     "execution_count": 10,
     "metadata": {},
     "output_type": "execute_result"
    }
   ],
   "source": [
    "len(change_neg_anno_files)"
   ]
  },
  {
   "cell_type": "markdown",
   "id": "040c7f98-127b-4df4-b4e0-e9cd8958d631",
   "metadata": {},
   "source": [
    "## Identify 2 median length videos for annotation"
   ]
  },
  {
   "cell_type": "code",
   "execution_count": 11,
   "id": "b3e751ad-d95e-4abc-92c8-298534e90eb8",
   "metadata": {},
   "outputs": [],
   "source": [
    "output_dir = os.path.join(home_dir, 'Documents/datasets/charm/transformed/translations')"
   ]
  },
  {
   "cell_type": "code",
   "execution_count": 12,
   "id": "b68350ac-b44d-4e1e-b6cf-a13d96036672",
   "metadata": {},
   "outputs": [],
   "source": [
    "# load transcriptions/translations\n",
    "translation_files, data_dfs, data = utils.load_translated_files(translation_dir=output_dir, return_data=True)"
   ]
  },
  {
   "cell_type": "code",
   "execution_count": 13,
   "id": "0ea96560-ef2e-4de8-a965-a77b5b692178",
   "metadata": {},
   "outputs": [],
   "source": [
    "# identify 2 videos that are median length (that we have transcriptions/translations for)\n",
    "# and that we have a high number of changepoint annotations for"
   ]
  },
  {
   "cell_type": "code",
   "execution_count": 14,
   "id": "e68bbf6e-8166-413c-bd95-c72ddf8d48a1",
   "metadata": {},
   "outputs": [],
   "source": [
    "changepoint_files = changepoint_df['file_id'].value_counts().to_frame()"
   ]
  },
  {
   "cell_type": "code",
   "execution_count": 15,
   "id": "6183e8b6-1869-4d08-9849-f56104c54098",
   "metadata": {},
   "outputs": [],
   "source": [
    "changepoint_counts_df = changepoint_files.reset_index().rename(columns={'index':'file_id', 'file_id':'count'})"
   ]
  },
  {
   "cell_type": "code",
   "execution_count": 16,
   "id": "c9efb650-2346-4fdc-8764-b89737b37866",
   "metadata": {},
   "outputs": [],
   "source": [
    "changepoint_lens = []\n",
    "for key in data_dfs:\n",
    "    changepoint_lens.append((key, len(data_dfs[key])))"
   ]
  },
  {
   "cell_type": "code",
   "execution_count": 17,
   "id": "c3c5e4e3-573f-409f-ae10-0ac8bfe933c6",
   "metadata": {},
   "outputs": [],
   "source": [
    "changepoint_lens_df = pd.DataFrame(changepoint_lens, columns=['file_id', 'length'])"
   ]
  },
  {
   "cell_type": "code",
   "execution_count": 18,
   "id": "b3455988-9223-4ece-92c0-ad47f5b297db",
   "metadata": {},
   "outputs": [],
   "source": [
    "merged_df = pd.merge(changepoint_lens_df, changepoint_counts_df, how='inner', on='file_id')"
   ]
  },
  {
   "cell_type": "code",
   "execution_count": 19,
   "id": "385357e3-e4de-4a79-be18-c5debf9e3f74",
   "metadata": {},
   "outputs": [
    {
     "data": {
      "text/plain": [
       "count      96.000000\n",
       "mean      220.885417\n",
       "std       185.040187\n",
       "min        28.000000\n",
       "25%       100.750000\n",
       "50%       162.500000\n",
       "75%       279.250000\n",
       "max      1104.000000\n",
       "Name: length, dtype: float64"
      ]
     },
     "execution_count": 19,
     "metadata": {},
     "output_type": "execute_result"
    }
   ],
   "source": [
    "# identify median length of conversations\n",
    "changepoint_lens_df['length'].describe()"
   ]
  },
  {
   "cell_type": "code",
   "execution_count": 20,
   "id": "370da686-abfe-4cff-94e8-d2bd8460f3b1",
   "metadata": {},
   "outputs": [
    {
     "data": {
      "text/html": [
       "<div>\n",
       "<style scoped>\n",
       "    .dataframe tbody tr th:only-of-type {\n",
       "        vertical-align: middle;\n",
       "    }\n",
       "\n",
       "    .dataframe tbody tr th {\n",
       "        vertical-align: top;\n",
       "    }\n",
       "\n",
       "    .dataframe thead th {\n",
       "        text-align: right;\n",
       "    }\n",
       "</style>\n",
       "<table border=\"1\" class=\"dataframe\">\n",
       "  <thead>\n",
       "    <tr style=\"text-align: right;\">\n",
       "      <th></th>\n",
       "      <th>file_id</th>\n",
       "      <th>length</th>\n",
       "      <th>count</th>\n",
       "    </tr>\n",
       "  </thead>\n",
       "  <tbody>\n",
       "    <tr>\n",
       "      <th>8</th>\n",
       "      <td>M01003M18</td>\n",
       "      <td>107</td>\n",
       "      <td>4</td>\n",
       "    </tr>\n",
       "    <tr>\n",
       "      <th>15</th>\n",
       "      <td>M01003YN6</td>\n",
       "      <td>60</td>\n",
       "      <td>4</td>\n",
       "    </tr>\n",
       "    <tr>\n",
       "      <th>0</th>\n",
       "      <td>M01000AJ9</td>\n",
       "      <td>78</td>\n",
       "      <td>3</td>\n",
       "    </tr>\n",
       "    <tr>\n",
       "      <th>17</th>\n",
       "      <td>M01003M20</td>\n",
       "      <td>65</td>\n",
       "      <td>3</td>\n",
       "    </tr>\n",
       "    <tr>\n",
       "      <th>14</th>\n",
       "      <td>M01003MTK</td>\n",
       "      <td>93</td>\n",
       "      <td>3</td>\n",
       "    </tr>\n",
       "    <tr>\n",
       "      <th>10</th>\n",
       "      <td>M01003JUU</td>\n",
       "      <td>494</td>\n",
       "      <td>3</td>\n",
       "    </tr>\n",
       "    <tr>\n",
       "      <th>18</th>\n",
       "      <td>M01003JQV</td>\n",
       "      <td>73</td>\n",
       "      <td>3</td>\n",
       "    </tr>\n",
       "  </tbody>\n",
       "</table>\n",
       "</div>"
      ],
      "text/plain": [
       "      file_id  length  count\n",
       "8   M01003M18     107      4\n",
       "15  M01003YN6      60      4\n",
       "0   M01000AJ9      78      3\n",
       "17  M01003M20      65      3\n",
       "14  M01003MTK      93      3\n",
       "10  M01003JUU     494      3\n",
       "18  M01003JQV      73      3"
      ]
     },
     "execution_count": 20,
     "metadata": {},
     "output_type": "execute_result"
    }
   ],
   "source": [
    "# these are the 5 videos that we're going to use for manual annotation\n",
    "merged_df.sort_values(by=['count'], ascending=False).iloc[:7]"
   ]
  },
  {
   "cell_type": "code",
   "execution_count": 21,
   "id": "2b61eef2-fa2c-42bf-b640-dc147026df0a",
   "metadata": {},
   "outputs": [],
   "source": [
    "# M01003M18, M01003YN6, M01003M20, M01003JQV\n",
    "# sample annotation: M01003MTK"
   ]
  },
  {
   "cell_type": "code",
   "execution_count": 22,
   "id": "15640587-cf47-48f0-a832-86aeab35841b",
   "metadata": {},
   "outputs": [],
   "source": [
    "label_file_ids = merged_df.sort_values(by=['count'], ascending=False)['file_id'].iloc[:7].values"
   ]
  },
  {
   "cell_type": "code",
   "execution_count": 23,
   "id": "b5a9dcea-223c-4819-bb34-7ccdb4328d79",
   "metadata": {},
   "outputs": [
    {
     "data": {
      "text/plain": [
       "array(['M01003M18', 'M01003YN6', 'M01000AJ9', 'M01003M20', 'M01003MTK',\n",
       "       'M01003JUU', 'M01003JQV'], dtype=object)"
      ]
     },
     "execution_count": 23,
     "metadata": {},
     "output_type": "execute_result"
    }
   ],
   "source": [
    "label_file_ids"
   ]
  },
  {
   "cell_type": "code",
   "execution_count": 24,
   "id": "e8cbd02d-3f94-4cd9-9ff8-5291e180781a",
   "metadata": {},
   "outputs": [],
   "source": [
    "metadata_filepath = os.path.join(home_dir, 'Documents/datasets/charm/transformed/metadata.csv')\n",
    "metadata_df = pd.read_csv(metadata_filepath)"
   ]
  },
  {
   "cell_type": "code",
   "execution_count": 25,
   "id": "084813ad-c4eb-44a7-9665-eb65e8fb520e",
   "metadata": {},
   "outputs": [
    {
     "data": {
      "text/html": [
       "<div>\n",
       "<style scoped>\n",
       "    .dataframe tbody tr th:only-of-type {\n",
       "        vertical-align: middle;\n",
       "    }\n",
       "\n",
       "    .dataframe tbody tr th {\n",
       "        vertical-align: top;\n",
       "    }\n",
       "\n",
       "    .dataframe thead th {\n",
       "        text-align: right;\n",
       "    }\n",
       "</style>\n",
       "<table border=\"1\" class=\"dataframe\">\n",
       "  <thead>\n",
       "    <tr style=\"text-align: right;\">\n",
       "      <th></th>\n",
       "      <th>release</th>\n",
       "      <th>file_uid</th>\n",
       "      <th>modality</th>\n",
       "      <th>url</th>\n",
       "      <th>emotion_count</th>\n",
       "      <th>valence_arousal_count</th>\n",
       "      <th>norms_count</th>\n",
       "      <th>changepoint_count</th>\n",
       "      <th>start</th>\n",
       "      <th>end</th>\n",
       "      <th>...</th>\n",
       "      <th>translated</th>\n",
       "      <th>catalog_id</th>\n",
       "      <th>version</th>\n",
       "      <th>data_type</th>\n",
       "      <th>lang_id_manual</th>\n",
       "      <th>wrapped_md5</th>\n",
       "      <th>unwrapped_md5</th>\n",
       "      <th>download_date</th>\n",
       "      <th>content_date</th>\n",
       "      <th>status_in_corpus</th>\n",
       "    </tr>\n",
       "  </thead>\n",
       "  <tbody>\n",
       "    <tr>\n",
       "      <th>5</th>\n",
       "      <td>R1</td>\n",
       "      <td>M01000AJ9</td>\n",
       "      <td>video</td>\n",
       "      <td>na</td>\n",
       "      <td>3.0</td>\n",
       "      <td>3.0</td>\n",
       "      <td>1.0</td>\n",
       "      <td>1.0</td>\n",
       "      <td>0.0</td>\n",
       "      <td>300.0</td>\n",
       "      <td>...</td>\n",
       "      <td>True</td>\n",
       "      <td>LDC2022E11</td>\n",
       "      <td>V1.0</td>\n",
       "      <td>.mp4.ldcc</td>\n",
       "      <td>cmn</td>\n",
       "      <td>c739b30eaa58ea837433ffdfdd90ab29</td>\n",
       "      <td>3c3664043119cd44cb7b62a000db94c6</td>\n",
       "      <td>na</td>\n",
       "      <td>na</td>\n",
       "      <td>present</td>\n",
       "    </tr>\n",
       "    <tr>\n",
       "      <th>2131</th>\n",
       "      <td>R2</td>\n",
       "      <td>M01003JQV</td>\n",
       "      <td>video</td>\n",
       "      <td>http://vd2.bdstatic.com/mda-nh21qmizd0kf08gt/c...</td>\n",
       "      <td>3.0</td>\n",
       "      <td>3.0</td>\n",
       "      <td>1.0</td>\n",
       "      <td>1.0</td>\n",
       "      <td>29.0</td>\n",
       "      <td>329.0</td>\n",
       "      <td>...</td>\n",
       "      <td>True</td>\n",
       "      <td>LDC2022E19_R2</td>\n",
       "      <td>V1.0</td>\n",
       "      <td>.mp4.ldcc</td>\n",
       "      <td>cmn</td>\n",
       "      <td>tbd</td>\n",
       "      <td>e07a4251d24d7a8f0e65eb00bf191de7</td>\n",
       "      <td>2022-09-13</td>\n",
       "      <td>na</td>\n",
       "      <td>present</td>\n",
       "    </tr>\n",
       "    <tr>\n",
       "      <th>2139</th>\n",
       "      <td>R2</td>\n",
       "      <td>M01003JUU</td>\n",
       "      <td>video</td>\n",
       "      <td>https://www.bilibili.com/video/BV1Ks411r79F</td>\n",
       "      <td>3.0</td>\n",
       "      <td>3.0</td>\n",
       "      <td>1.0</td>\n",
       "      <td>1.0</td>\n",
       "      <td>1008.5</td>\n",
       "      <td>1308.5</td>\n",
       "      <td>...</td>\n",
       "      <td>True</td>\n",
       "      <td>LDC2022E19_R2</td>\n",
       "      <td>V1.0</td>\n",
       "      <td>.mp4.ldcc</td>\n",
       "      <td>cmn</td>\n",
       "      <td>tbd</td>\n",
       "      <td>daef705d7342a0756a18ac74c08a1014</td>\n",
       "      <td>2022-09-13</td>\n",
       "      <td>na</td>\n",
       "      <td>present</td>\n",
       "    </tr>\n",
       "    <tr>\n",
       "      <th>2311</th>\n",
       "      <td>R2</td>\n",
       "      <td>M01003M18</td>\n",
       "      <td>video</td>\n",
       "      <td>http://vd2.bdstatic.com/mda-nh4bibyv4v3ns4s0/c...</td>\n",
       "      <td>3.0</td>\n",
       "      <td>3.0</td>\n",
       "      <td>1.0</td>\n",
       "      <td>1.0</td>\n",
       "      <td>51.5</td>\n",
       "      <td>351.5</td>\n",
       "      <td>...</td>\n",
       "      <td>True</td>\n",
       "      <td>LDC2022E19_R2</td>\n",
       "      <td>V1.0</td>\n",
       "      <td>.mp4.ldcc</td>\n",
       "      <td>cmn</td>\n",
       "      <td>tbd</td>\n",
       "      <td>d0fd0c3a21694c1fb49197f18587a92b</td>\n",
       "      <td>2022-09-14</td>\n",
       "      <td>na</td>\n",
       "      <td>present</td>\n",
       "    </tr>\n",
       "    <tr>\n",
       "      <th>2315</th>\n",
       "      <td>R2</td>\n",
       "      <td>M01003M20</td>\n",
       "      <td>video</td>\n",
       "      <td>http://vd3.bdstatic.com/mda-nh1gbwd5gvki016y/c...</td>\n",
       "      <td>3.0</td>\n",
       "      <td>3.0</td>\n",
       "      <td>1.0</td>\n",
       "      <td>1.0</td>\n",
       "      <td>0.0</td>\n",
       "      <td>300.0</td>\n",
       "      <td>...</td>\n",
       "      <td>True</td>\n",
       "      <td>LDC2022E19_R2</td>\n",
       "      <td>V1.0</td>\n",
       "      <td>.mp4.ldcc</td>\n",
       "      <td>cmn</td>\n",
       "      <td>tbd</td>\n",
       "      <td>19cf5700aeea5e90a6ca3dc42c747dfb</td>\n",
       "      <td>2022-09-14</td>\n",
       "      <td>na</td>\n",
       "      <td>present</td>\n",
       "    </tr>\n",
       "    <tr>\n",
       "      <th>2347</th>\n",
       "      <td>R2</td>\n",
       "      <td>M01003MTK</td>\n",
       "      <td>video</td>\n",
       "      <td>http://vd2.bdstatic.com/mda-ncqdcucf3m6zgjzz/3...</td>\n",
       "      <td>3.0</td>\n",
       "      <td>3.0</td>\n",
       "      <td>1.0</td>\n",
       "      <td>1.0</td>\n",
       "      <td>0.0</td>\n",
       "      <td>300.0</td>\n",
       "      <td>...</td>\n",
       "      <td>True</td>\n",
       "      <td>LDC2022E19_R2</td>\n",
       "      <td>V1.0</td>\n",
       "      <td>.mp4.ldcc</td>\n",
       "      <td>cmn</td>\n",
       "      <td>tbd</td>\n",
       "      <td>bcc5b3f482b28fa9784b3961f9668b89</td>\n",
       "      <td>2022-09-14</td>\n",
       "      <td>na</td>\n",
       "      <td>present</td>\n",
       "    </tr>\n",
       "    <tr>\n",
       "      <th>3026</th>\n",
       "      <td>R2</td>\n",
       "      <td>M01003YN6</td>\n",
       "      <td>video</td>\n",
       "      <td>http://vd2.bdstatic.com/mda-ngf7np46s18zdrv8/3...</td>\n",
       "      <td>3.0</td>\n",
       "      <td>3.0</td>\n",
       "      <td>1.0</td>\n",
       "      <td>1.0</td>\n",
       "      <td>5.0</td>\n",
       "      <td>305.0</td>\n",
       "      <td>...</td>\n",
       "      <td>True</td>\n",
       "      <td>LDC2022E19_R2</td>\n",
       "      <td>V1.0</td>\n",
       "      <td>.mp4.ldcc</td>\n",
       "      <td>cmn</td>\n",
       "      <td>tbd</td>\n",
       "      <td>a121c9a6b04e69106f0025444d154c2e</td>\n",
       "      <td>2022-09-22</td>\n",
       "      <td>na</td>\n",
       "      <td>present</td>\n",
       "    </tr>\n",
       "  </tbody>\n",
       "</table>\n",
       "<p>7 rows × 22 columns</p>\n",
       "</div>"
      ],
      "text/plain": [
       "     release   file_uid modality  \\\n",
       "5         R1  M01000AJ9    video   \n",
       "2131      R2  M01003JQV    video   \n",
       "2139      R2  M01003JUU    video   \n",
       "2311      R2  M01003M18    video   \n",
       "2315      R2  M01003M20    video   \n",
       "2347      R2  M01003MTK    video   \n",
       "3026      R2  M01003YN6    video   \n",
       "\n",
       "                                                    url  emotion_count  \\\n",
       "5                                                    na            3.0   \n",
       "2131  http://vd2.bdstatic.com/mda-nh21qmizd0kf08gt/c...            3.0   \n",
       "2139        https://www.bilibili.com/video/BV1Ks411r79F            3.0   \n",
       "2311  http://vd2.bdstatic.com/mda-nh4bibyv4v3ns4s0/c...            3.0   \n",
       "2315  http://vd3.bdstatic.com/mda-nh1gbwd5gvki016y/c...            3.0   \n",
       "2347  http://vd2.bdstatic.com/mda-ncqdcucf3m6zgjzz/3...            3.0   \n",
       "3026  http://vd2.bdstatic.com/mda-ngf7np46s18zdrv8/3...            3.0   \n",
       "\n",
       "      valence_arousal_count  norms_count  changepoint_count   start     end  \\\n",
       "5                       3.0          1.0                1.0     0.0   300.0   \n",
       "2131                    3.0          1.0                1.0    29.0   329.0   \n",
       "2139                    3.0          1.0                1.0  1008.5  1308.5   \n",
       "2311                    3.0          1.0                1.0    51.5   351.5   \n",
       "2315                    3.0          1.0                1.0     0.0   300.0   \n",
       "2347                    3.0          1.0                1.0     0.0   300.0   \n",
       "3026                    3.0          1.0                1.0     5.0   305.0   \n",
       "\n",
       "      ...  translated     catalog_id version  data_type lang_id_manual  \\\n",
       "5     ...        True     LDC2022E11    V1.0  .mp4.ldcc            cmn   \n",
       "2131  ...        True  LDC2022E19_R2    V1.0  .mp4.ldcc            cmn   \n",
       "2139  ...        True  LDC2022E19_R2    V1.0  .mp4.ldcc            cmn   \n",
       "2311  ...        True  LDC2022E19_R2    V1.0  .mp4.ldcc            cmn   \n",
       "2315  ...        True  LDC2022E19_R2    V1.0  .mp4.ldcc            cmn   \n",
       "2347  ...        True  LDC2022E19_R2    V1.0  .mp4.ldcc            cmn   \n",
       "3026  ...        True  LDC2022E19_R2    V1.0  .mp4.ldcc            cmn   \n",
       "\n",
       "                           wrapped_md5                     unwrapped_md5  \\\n",
       "5     c739b30eaa58ea837433ffdfdd90ab29  3c3664043119cd44cb7b62a000db94c6   \n",
       "2131                               tbd  e07a4251d24d7a8f0e65eb00bf191de7   \n",
       "2139                               tbd  daef705d7342a0756a18ac74c08a1014   \n",
       "2311                               tbd  d0fd0c3a21694c1fb49197f18587a92b   \n",
       "2315                               tbd  19cf5700aeea5e90a6ca3dc42c747dfb   \n",
       "2347                               tbd  bcc5b3f482b28fa9784b3961f9668b89   \n",
       "3026                               tbd  a121c9a6b04e69106f0025444d154c2e   \n",
       "\n",
       "     download_date content_date status_in_corpus  \n",
       "5               na           na          present  \n",
       "2131    2022-09-13           na          present  \n",
       "2139    2022-09-13           na          present  \n",
       "2311    2022-09-14           na          present  \n",
       "2315    2022-09-14           na          present  \n",
       "2347    2022-09-14           na          present  \n",
       "3026    2022-09-22           na          present  \n",
       "\n",
       "[7 rows x 22 columns]"
      ]
     },
     "execution_count": 25,
     "metadata": {},
     "output_type": "execute_result"
    }
   ],
   "source": [
    "metadata_df[metadata_df['file_uid'].isin(label_file_ids)]"
   ]
  },
  {
   "cell_type": "code",
   "execution_count": 26,
   "id": "163bbc3d-ad4b-46ea-99f7-384a72433bf7",
   "metadata": {},
   "outputs": [
    {
     "data": {
      "text/plain": [
       "array([['R1', 'M01000AJ9', 'na'],\n",
       "       ['R2', 'M01003JQV',\n",
       "        'http://vd2.bdstatic.com/mda-nh21qmizd0kf08gt/cae_h264/1659489487157368122/mda-nh21qmizd0kf08gt.mp4'],\n",
       "       ['R2', 'M01003JUU', 'https://www.bilibili.com/video/BV1Ks411r79F'],\n",
       "       ['R2', 'M01003M18',\n",
       "        'http://vd2.bdstatic.com/mda-nh4bibyv4v3ns4s0/cae_h264/1659758632534327528/mda-nh4bibyv4v3ns4s0.mp4'],\n",
       "       ['R2', 'M01003M20',\n",
       "        'http://vd3.bdstatic.com/mda-nh1gbwd5gvki016y/cae_h264/1659441381156335870/mda-nh1gbwd5gvki016y.mp4'],\n",
       "       ['R2', 'M01003MTK',\n",
       "        'http://vd2.bdstatic.com/mda-ncqdcucf3m6zgjzz/360p/h264_delogo/1648202114325469972/mda-ncqdcucf3m6zgjzz.mp4'],\n",
       "       ['R2', 'M01003YN6',\n",
       "        'http://vd2.bdstatic.com/mda-ngf7np46s18zdrv8/360p/h264/1657949089719494346/mda-ngf7np46s18zdrv8.mp4']],\n",
       "      dtype=object)"
      ]
     },
     "execution_count": 26,
     "metadata": {},
     "output_type": "execute_result"
    }
   ],
   "source": [
    "metadata_df[metadata_df['file_uid'].isin(label_file_ids)][['release', 'file_uid', 'url']].values"
   ]
  },
  {
   "cell_type": "markdown",
   "id": "b058a5e4-499c-482d-b7fc-f5e0fa48b727",
   "metadata": {},
   "source": [
    "## Evaluation"
   ]
  },
  {
   "cell_type": "code",
   "execution_count": 33,
   "id": "ec601437-4654-462f-8885-20a35b660d33",
   "metadata": {},
   "outputs": [
    {
     "data": {
      "text/html": [
       "<div>\n",
       "<style scoped>\n",
       "    .dataframe tbody tr th:only-of-type {\n",
       "        vertical-align: middle;\n",
       "    }\n",
       "\n",
       "    .dataframe tbody tr th {\n",
       "        vertical-align: top;\n",
       "    }\n",
       "\n",
       "    .dataframe thead th {\n",
       "        text-align: right;\n",
       "    }\n",
       "</style>\n",
       "<table border=\"1\" class=\"dataframe\">\n",
       "  <thead>\n",
       "    <tr style=\"text-align: right;\">\n",
       "      <th></th>\n",
       "      <th>user_id</th>\n",
       "      <th>file_id</th>\n",
       "      <th>timestamp</th>\n",
       "      <th>impact_scalar</th>\n",
       "      <th>comment</th>\n",
       "      <th>binary_impact_scalar</th>\n",
       "      <th>changepoint_occurred</th>\n",
       "    </tr>\n",
       "  </thead>\n",
       "  <tbody>\n",
       "    <tr>\n",
       "      <th>2</th>\n",
       "      <td>212</td>\n",
       "      <td>M01003MTK</td>\n",
       "      <td>64</td>\n",
       "      <td>5</td>\n",
       "      <td>Pre-change: female introduced the male to her ...</td>\n",
       "      <td>1</td>\n",
       "      <td>True</td>\n",
       "    </tr>\n",
       "    <tr>\n",
       "      <th>3</th>\n",
       "      <td>212</td>\n",
       "      <td>M01003MTK</td>\n",
       "      <td>239</td>\n",
       "      <td>1</td>\n",
       "      <td>Pre-change: The female and male speakers were ...</td>\n",
       "      <td>0</td>\n",
       "      <td>True</td>\n",
       "    </tr>\n",
       "    <tr>\n",
       "      <th>4</th>\n",
       "      <td>212</td>\n",
       "      <td>M01003MTK</td>\n",
       "      <td>267</td>\n",
       "      <td>5</td>\n",
       "      <td>Pre-change: The group chit-chat with the male ...</td>\n",
       "      <td>1</td>\n",
       "      <td>True</td>\n",
       "    </tr>\n",
       "  </tbody>\n",
       "</table>\n",
       "</div>"
      ],
      "text/plain": [
       "   user_id    file_id  timestamp  impact_scalar  \\\n",
       "2      212  M01003MTK         64              5   \n",
       "3      212  M01003MTK        239              1   \n",
       "4      212  M01003MTK        267              5   \n",
       "\n",
       "                                             comment  binary_impact_scalar  \\\n",
       "2  Pre-change: female introduced the male to her ...                     1   \n",
       "3  Pre-change: The female and male speakers were ...                     0   \n",
       "4  Pre-change: The group chit-chat with the male ...                     1   \n",
       "\n",
       "   changepoint_occurred  \n",
       "2                  True  \n",
       "3                  True  \n",
       "4                  True  "
      ]
     },
     "execution_count": 33,
     "metadata": {},
     "output_type": "execute_result"
    }
   ],
   "source": [
    "changepoint_df[changepoint_df['file_id'] == 'M01003MTK']"
   ]
  },
  {
   "cell_type": "code",
   "execution_count": 28,
   "id": "4e67a0c1-adcd-4bf2-864e-770cad75f721",
   "metadata": {},
   "outputs": [],
   "source": [
    "# 0: good to bad, 1: bad to good\n",
    "binary_map = {1: 0, 2: 0, 3: 0, 4: 1, 5: 1}"
   ]
  },
  {
   "cell_type": "code",
   "execution_count": 29,
   "id": "31f7d825-b21d-4d47-8f54-c7f26d477911",
   "metadata": {},
   "outputs": [],
   "source": [
    "changepoint_df['binary_impact_scalar'] = changepoint_df['impact_scalar'].apply(lambda x: binary_map[x])"
   ]
  },
  {
   "cell_type": "code",
   "execution_count": 30,
   "id": "46949491-d927-462f-9b86-4c5d79e24744",
   "metadata": {},
   "outputs": [],
   "source": [
    "# binary changepoint flag\n",
    "changepoint_df['changepoint_occurred'] = True"
   ]
  },
  {
   "cell_type": "code",
   "execution_count": 31,
   "id": "f47ccdcf-25bc-4560-82b7-9a1b9d0d1da5",
   "metadata": {},
   "outputs": [],
   "source": [
    "yanda_anno_file_df = changepoint_df[changepoint_df['file_id'] == 'M01003MTK'].copy()\n",
    "yukun_anno_file_df = changepoint_df[changepoint_df['file_id'] == 'M01003MTK'].copy()"
   ]
  },
  {
   "cell_type": "code",
   "execution_count": 32,
   "id": "50f86f47-345b-4e72-8714-0fbe61dac280",
   "metadata": {},
   "outputs": [],
   "source": [
    "# load manual annotations\n",
    "yanda_filepath = os.path.join(home_dir, 'Documents/datasets/charm/transformed/annotations/Circumplex Theory Annotations - Yanda - Sheet1.csv')\n",
    "yukun_filepath = os.path.join(home_dir, 'Documents/datasets/charm/transformed/annotations/Circumplex Theory Annotations - Yukun - Sheet1.csv')"
   ]
  },
  {
   "cell_type": "code",
   "execution_count": 34,
   "id": "72ae3720-6d74-429a-82e8-9545138b8f60",
   "metadata": {},
   "outputs": [],
   "source": [
    "def convert_to_seconds(timestamp):\n",
    "    mins, secs = timestamp.split(':')\n",
    "    return int(mins)*60 + int(secs)"
   ]
  },
  {
   "cell_type": "code",
   "execution_count": 35,
   "id": "208eecf0-f503-4400-a0b1-17a9cdfead23",
   "metadata": {},
   "outputs": [],
   "source": [
    "def load_manual_annotation(filepath):\n",
    "    df = pd.read_csv(filepath, skiprows=1)\n",
    "    # drop first col\n",
    "    df = df[df.columns[1:]]\n",
    "\n",
    "    # binary impact scalar (are these correct? - especially aloof-introverted, unassured-submissive, assured-dominant)\n",
    "    tag_mapping = {'Gregarious-Extraverted': 1, 'Warm-Agreeable': 1, 'Arrogant-Calculating': 0, \n",
    "                   'Unassured-Submissive': 1, 'Cold': 0, 'Unassuming-Ingenuous': 1, \n",
    "                   'Aloof-Introverted': 0, 'Assured-Dominant': 0}\n",
    "\n",
    "    df['timestamp_seconds'] = df['Timestamp'].apply(convert_to_seconds)\n",
    "    df['binary_impact_scalar'] = df['Tag'].apply(lambda x: tag_mapping[x]).astype(float)\n",
    "    df['matched'] = False\n",
    "    return df"
   ]
  },
  {
   "cell_type": "code",
   "execution_count": 36,
   "id": "ab4621df-5bb8-43f2-bd0c-84665015fc81",
   "metadata": {},
   "outputs": [],
   "source": [
    "yanda_df = load_manual_annotation(yanda_filepath)\n",
    "yukun_df = load_manual_annotation(yukun_filepath)"
   ]
  },
  {
   "cell_type": "code",
   "execution_count": 37,
   "id": "8d0a542b-cb51-423a-97ff-f1dc3bee42f4",
   "metadata": {},
   "outputs": [],
   "source": [
    "# TODO: generalize this\n",
    "# filter Yukun's preds\n",
    "yukun_df = yukun_df[yukun_df['File ID'] == 'M01003MTK']"
   ]
  },
  {
   "cell_type": "code",
   "execution_count": 38,
   "id": "d9024eb0-27ec-43c8-aaf5-52cf66bb334d",
   "metadata": {},
   "outputs": [],
   "source": [
    "def find_matches(anno_df, label_df, window_size=10):\n",
    "    # for each ground-truth search +/- 10 seconds for a label\n",
    "    # pull in any unmatched\n",
    "    match_indicator = [] # true/false\n",
    "    binary_pred = []\n",
    "    for idx, row in anno_df.iterrows():\n",
    "        start = row['timestamp'] - window_size\n",
    "        end = row['timestamp'] + window_size\n",
    "        filt_df = label_df[(label_df['timestamp_seconds'] >= start) & (label_df['timestamp_seconds'] <= end)]\n",
    "        if len(filt_df) > 0:\n",
    "            match_indicator.append(True)\n",
    "            binary_pred.append(filt_df.iloc[0]['binary_impact_scalar'])\n",
    "            # mark which ones we matched\n",
    "            label_df.loc[filt_df.index, 'matched'] = [True] + [False]*(len(filt_df) - 1)\n",
    "        else:\n",
    "            match_indicator.append(False)\n",
    "            binary_pred.append(-1)\n",
    "    \n",
    "    anno_df['matched'] = match_indicator\n",
    "    anno_df['binary_pred'] = binary_pred\n",
    "    return anno_df, label_df"
   ]
  },
  {
   "cell_type": "code",
   "execution_count": 39,
   "id": "49ee1f8f-e273-4083-b611-bd8b70cc4206",
   "metadata": {},
   "outputs": [],
   "source": [
    "yanda_anno_file_df, yanda_df = find_matches(yanda_anno_file_df, yanda_df)\n",
    "yukun_anno_file_df, yukun_df = find_matches(yukun_anno_file_df, yukun_df)"
   ]
  },
  {
   "cell_type": "code",
   "execution_count": 40,
   "id": "d8dea356-1598-40d1-a1f3-446df07ac188",
   "metadata": {},
   "outputs": [],
   "source": [
    "def complete_predictions(anno_df, label_df):\n",
    "    # extra preds\n",
    "    extra_impact_scalar = label_df[~label_df['matched']]['binary_impact_scalar'].astype(float).values.tolist()\n",
    "    changepoint_occurred = [True]*len(extra_impact_scalar)\n",
    "\n",
    "    # complete preds\n",
    "    changepoint_preds = anno_df['matched'].values.tolist() + changepoint_occurred\n",
    "    binary_preds = anno_df['binary_pred'].values.tolist() + extra_impact_scalar\n",
    "\n",
    "    # complete ground truth\n",
    "    changepoint_ground_truth = anno_df['changepoint_occurred'].values.tolist() + [False]*len(changepoint_occurred)\n",
    "    binary_ground_truth = anno_df['binary_impact_scalar'].values.tolist() + [-1]*len(changepoint_occurred)\n",
    "    \n",
    "    return {'changepoint_ground_truth': changepoint_ground_truth, 'changepoint_preds':changepoint_preds, \n",
    "            'binary_ground_truth': binary_ground_truth, 'binary_preds': binary_preds}"
   ]
  },
  {
   "cell_type": "code",
   "execution_count": 41,
   "id": "e0542d39-2bf9-4995-a9cb-3c1d0e7aa388",
   "metadata": {},
   "outputs": [],
   "source": [
    "yanda_results = complete_predictions(yanda_anno_file_df, yanda_df)\n",
    "yukun_results = complete_predictions(yukun_anno_file_df, yukun_df)"
   ]
  },
  {
   "cell_type": "code",
   "execution_count": 42,
   "id": "d275d328-4cf1-4467-9b2c-5210d72818b4",
   "metadata": {},
   "outputs": [
    {
     "data": {
      "text/plain": [
       "{'changepoint_ground_truth': [True,\n",
       "  True,\n",
       "  True,\n",
       "  False,\n",
       "  False,\n",
       "  False,\n",
       "  False,\n",
       "  False],\n",
       " 'changepoint_preds': [False, True, False, True, True, True, True, True],\n",
       " 'binary_ground_truth': [1, 0, 1, -1, -1, -1, -1, -1],\n",
       " 'binary_preds': [-1.0, 1.0, -1.0, 1.0, 1.0, 1.0, 1.0, 1.0]}"
      ]
     },
     "execution_count": 42,
     "metadata": {},
     "output_type": "execute_result"
    }
   ],
   "source": [
    "yanda_results"
   ]
  },
  {
   "cell_type": "code",
   "execution_count": 43,
   "id": "874170b2-93f3-4684-ba76-2302b1af23c4",
   "metadata": {},
   "outputs": [
    {
     "data": {
      "text/plain": [
       "{'changepoint_ground_truth': [True, True, True, False, False, False],\n",
       " 'changepoint_preds': [True, True, True, True, True, True],\n",
       " 'binary_ground_truth': [1, 0, 1, -1, -1, -1],\n",
       " 'binary_preds': [1.0, 0.0, 1.0, 0.0, 0.0, 1.0]}"
      ]
     },
     "execution_count": 43,
     "metadata": {},
     "output_type": "execute_result"
    }
   ],
   "source": [
    "yukun_results"
   ]
  },
  {
   "cell_type": "code",
   "execution_count": 44,
   "id": "3b1773c6-5806-4811-9bb8-5eaee89e8a6f",
   "metadata": {},
   "outputs": [],
   "source": [
    "from sklearn.metrics import classification_report"
   ]
  },
  {
   "cell_type": "code",
   "execution_count": 45,
   "id": "204735d2-8afc-4e13-96b1-231c7544bad6",
   "metadata": {},
   "outputs": [
    {
     "name": "stdout",
     "output_type": "stream",
     "text": [
      "              precision    recall  f1-score   support\n",
      "\n",
      "       False       0.00      0.00      0.00         5\n",
      "        True       0.17      0.33      0.22         3\n",
      "\n",
      "    accuracy                           0.12         8\n",
      "   macro avg       0.08      0.17      0.11         8\n",
      "weighted avg       0.06      0.12      0.08         8\n",
      "\n"
     ]
    }
   ],
   "source": [
    "# Yanda changepoint preds\n",
    "print(classification_report(y_true=yanda_results['changepoint_ground_truth'], y_pred=yanda_results['changepoint_preds']))"
   ]
  },
  {
   "cell_type": "code",
   "execution_count": 53,
   "id": "c5d8241c-3dcc-43a7-a236-0b72868241da",
   "metadata": {},
   "outputs": [
    {
     "name": "stdout",
     "output_type": "stream",
     "text": [
      "              precision    recall  f1-score   support\n",
      "\n",
      "          -1       0.00      0.00      0.00       5.0\n",
      "           0       0.00      0.00      0.00       1.0\n",
      "           1       0.00      0.00      0.00       2.0\n",
      "\n",
      "    accuracy                           0.00       8.0\n",
      "   macro avg       0.00      0.00      0.00       8.0\n",
      "weighted avg       0.00      0.00      0.00       8.0\n",
      "\n"
     ]
    }
   ],
   "source": [
    "# Yanda binary preds\n",
    "print(classification_report(y_true=yanda_results['binary_ground_truth'], y_pred=yanda_results['binary_preds'], zero_division=0))"
   ]
  },
  {
   "cell_type": "code",
   "execution_count": 54,
   "id": "e485b8f3-8d80-4ee2-8d28-2edbcc1dbf1d",
   "metadata": {},
   "outputs": [
    {
     "name": "stdout",
     "output_type": "stream",
     "text": [
      "              precision    recall  f1-score   support\n",
      "\n",
      "       False       0.00      0.00      0.00         3\n",
      "        True       0.50      1.00      0.67         3\n",
      "\n",
      "    accuracy                           0.50         6\n",
      "   macro avg       0.25      0.50      0.33         6\n",
      "weighted avg       0.25      0.50      0.33         6\n",
      "\n"
     ]
    }
   ],
   "source": [
    "# Yukun changepoint preds\n",
    "print(classification_report(y_true=yukun_results['changepoint_ground_truth'], y_pred=yukun_results['changepoint_preds'], zero_division=0))"
   ]
  },
  {
   "cell_type": "code",
   "execution_count": 55,
   "id": "47994320-5354-4fee-a004-8af73d81eeea",
   "metadata": {},
   "outputs": [
    {
     "name": "stdout",
     "output_type": "stream",
     "text": [
      "              precision    recall  f1-score   support\n",
      "\n",
      "          -1       0.00      0.00      0.00         3\n",
      "           0       0.33      1.00      0.50         1\n",
      "           1       0.67      1.00      0.80         2\n",
      "\n",
      "    accuracy                           0.50         6\n",
      "   macro avg       0.33      0.67      0.43         6\n",
      "weighted avg       0.28      0.50      0.35         6\n",
      "\n"
     ]
    }
   ],
   "source": [
    "# Yukun binary preds\n",
    "print(classification_report(y_true=yukun_results['binary_ground_truth'], y_pred=yukun_results['binary_preds'], zero_division=0))"
   ]
  },
  {
   "cell_type": "code",
   "execution_count": null,
   "id": "ab7438ba-4e38-4f19-82d3-ed76303cde67",
   "metadata": {},
   "outputs": [],
   "source": []
  }
 ],
 "metadata": {
  "kernelspec": {
   "display_name": "Python (CHARM)",
   "language": "python",
   "name": "charm"
  },
  "language_info": {
   "codemirror_mode": {
    "name": "ipython",
    "version": 3
   },
   "file_extension": ".py",
   "mimetype": "text/x-python",
   "name": "python",
   "nbconvert_exporter": "python",
   "pygments_lexer": "ipython3",
   "version": "3.10.6"
  }
 },
 "nbformat": 4,
 "nbformat_minor": 5
}
