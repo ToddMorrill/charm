{
 "cells": [
  {
   "cell_type": "markdown",
   "id": "d882b638-6728-4928-ad3d-a78918eb4bfb",
   "metadata": {},
   "source": [
    "# Identify 2 videos to manually label for changepoint"
   ]
  },
  {
   "cell_type": "code",
   "execution_count": 41,
   "id": "2cc558be-a704-489e-9a2a-ab5d04267cf4",
   "metadata": {},
   "outputs": [
    {
     "name": "stdout",
     "output_type": "stream",
     "text": [
      "The autoreload extension is already loaded. To reload it, use:\n",
      "  %reload_ext autoreload\n"
     ]
    }
   ],
   "source": [
    "import os\n",
    "import json\n",
    "\n",
    "import pandas as pd\n",
    "\n",
    "import utils\n",
    "\n",
    "%load_ext autoreload\n",
    "%autoreload 2"
   ]
  },
  {
   "cell_type": "markdown",
   "id": "f2495abd-e4e5-45c7-a83b-7968ee9a5d30",
   "metadata": {},
   "source": [
    "## Load data"
   ]
  },
  {
   "cell_type": "code",
   "execution_count": 14,
   "id": "c47f9bdd-b6b0-44f9-bd34-be2ade7ed35a",
   "metadata": {},
   "outputs": [],
   "source": [
    "home_dir = os.path.expanduser('~')\n",
    "anno_dir = os.path.join(home_dir, 'Documents/datasets/charm/raw/LDC2022E18_CCU_TA1_Mandarin_Chinese_Development_Annotation_V2.0/data')"
   ]
  },
  {
   "cell_type": "code",
   "execution_count": 21,
   "id": "5dbf9901-30c0-4791-8980-bff5226f4546",
   "metadata": {},
   "outputs": [],
   "source": [
    "anno_dfs, segment_df, versions_df = utils.load_ldc_annotations(os.path.join(home_dir, anno_dir))"
   ]
  },
  {
   "cell_type": "code",
   "execution_count": 16,
   "id": "39669851-4307-49c6-8200-43b5a0f8488d",
   "metadata": {},
   "outputs": [
    {
     "data": {
      "text/plain": [
       "dict_keys(['valence_arousal.tab', 'changepoint.tab', 'norms.tab', 'emotions.tab'])"
      ]
     },
     "execution_count": 16,
     "metadata": {},
     "output_type": "execute_result"
    }
   ],
   "source": [
    "anno_dfs.keys()"
   ]
  },
  {
   "cell_type": "code",
   "execution_count": 18,
   "id": "2d5e096c-e3e7-46f6-91ed-75cd9ea12132",
   "metadata": {},
   "outputs": [],
   "source": [
    "changepoint_df = anno_dfs['changepoint.tab']"
   ]
  },
  {
   "cell_type": "code",
   "execution_count": 20,
   "id": "57857fb3-a9e1-48d9-947e-3bd172f67d29",
   "metadata": {},
   "outputs": [
    {
     "data": {
      "text/plain": [
       "4    22\n",
       "5    19\n",
       "1    15\n",
       "2    13\n",
       "Name: impact_scalar, dtype: int64"
      ]
     },
     "execution_count": 20,
     "metadata": {},
     "output_type": "execute_result"
    }
   ],
   "source": [
    "changepoint_df['impact_scalar'].value_counts()"
   ]
  },
  {
   "cell_type": "code",
   "execution_count": 30,
   "id": "363c7955-7b2e-44cf-8a82-a6897ee41474",
   "metadata": {},
   "outputs": [],
   "source": [
    "change_anno_files = set(versions_df[versions_df['changepoint_count'] > 0]['file_id'].unique())\n",
    "change_pos_anno_files = set(changepoint_df['file_id'].unique())\n",
    "change_neg_anno_files = change_anno_files - change_pos_anno_files"
   ]
  },
  {
   "cell_type": "code",
   "execution_count": 33,
   "id": "2266b372-5d50-461b-8207-35703c937aea",
   "metadata": {},
   "outputs": [
    {
     "data": {
      "text/plain": [
       "38"
      ]
     },
     "execution_count": 33,
     "metadata": {},
     "output_type": "execute_result"
    }
   ],
   "source": [
    "len(change_pos_anno_files)"
   ]
  },
  {
   "cell_type": "code",
   "execution_count": 32,
   "id": "0070c3f3-70ba-4339-8e4d-4fd20d2bfef7",
   "metadata": {},
   "outputs": [
    {
     "data": {
      "text/plain": [
       "32"
      ]
     },
     "execution_count": 32,
     "metadata": {},
     "output_type": "execute_result"
    }
   ],
   "source": [
    "len(change_neg_anno_files)"
   ]
  },
  {
   "cell_type": "markdown",
   "id": "040c7f98-127b-4df4-b4e0-e9cd8958d631",
   "metadata": {},
   "source": [
    "## Identify 2 median length videos for annotation"
   ]
  },
  {
   "cell_type": "code",
   "execution_count": 37,
   "id": "b3e751ad-d95e-4abc-92c8-298534e90eb8",
   "metadata": {},
   "outputs": [],
   "source": [
    "output_dir = os.path.join(home_dir, 'Documents/datasets/charm/transformed/translations')"
   ]
  },
  {
   "cell_type": "code",
   "execution_count": 83,
   "id": "b68350ac-b44d-4e1e-b6cf-a13d96036672",
   "metadata": {},
   "outputs": [],
   "source": [
    "# load transcriptions/translations\n",
    "translation_files, data_dfs, data = utils.load_translated_files(translation_dir=output_dir, return_translations=True)"
   ]
  },
  {
   "cell_type": "code",
   "execution_count": 57,
   "id": "0ea96560-ef2e-4de8-a965-a77b5b692178",
   "metadata": {},
   "outputs": [],
   "source": [
    "# identify 2 videos that are median length (that we have transcriptions/translations for)\n",
    "# and that we have a high number of changepoint annotations for"
   ]
  },
  {
   "cell_type": "code",
   "execution_count": 61,
   "id": "e68bbf6e-8166-413c-bd95-c72ddf8d48a1",
   "metadata": {},
   "outputs": [],
   "source": [
    "changepoint_files = changepoint_df['file_id'].value_counts().to_frame()"
   ]
  },
  {
   "cell_type": "code",
   "execution_count": 64,
   "id": "6183e8b6-1869-4d08-9849-f56104c54098",
   "metadata": {},
   "outputs": [],
   "source": [
    "changepoint_counts_df = changepoint_files.reset_index().rename(columns={'index':'file_id', 'file_id':'count'})"
   ]
  },
  {
   "cell_type": "code",
   "execution_count": 59,
   "id": "c9efb650-2346-4fdc-8764-b89737b37866",
   "metadata": {},
   "outputs": [],
   "source": [
    "changepoint_lens = []\n",
    "for key in data_dfs:\n",
    "    changepoint_lens.append((key, len(data_dfs[key])))"
   ]
  },
  {
   "cell_type": "code",
   "execution_count": 66,
   "id": "c3c5e4e3-573f-409f-ae10-0ac8bfe933c6",
   "metadata": {},
   "outputs": [],
   "source": [
    "changepoint_lens_df = pd.DataFrame(changepoint_lens, columns=['file_id', 'length'])"
   ]
  },
  {
   "cell_type": "code",
   "execution_count": 71,
   "id": "b3455988-9223-4ece-92c0-ad47f5b297db",
   "metadata": {},
   "outputs": [],
   "source": [
    "merged_df = pd.merge(changepoint_lens_df, changepoint_counts_df, how='inner', on='file_id')"
   ]
  },
  {
   "cell_type": "code",
   "execution_count": 70,
   "id": "385357e3-e4de-4a79-be18-c5debf9e3f74",
   "metadata": {},
   "outputs": [
    {
     "data": {
      "text/plain": [
       "count      96.000000\n",
       "mean      220.885417\n",
       "std       185.040187\n",
       "min        28.000000\n",
       "25%       100.750000\n",
       "50%       162.500000\n",
       "75%       279.250000\n",
       "max      1104.000000\n",
       "Name: length, dtype: float64"
      ]
     },
     "execution_count": 70,
     "metadata": {},
     "output_type": "execute_result"
    }
   ],
   "source": [
    "# identify median length of conversations\n",
    "changepoint_lens_df['length'].describe()"
   ]
  },
  {
   "cell_type": "code",
   "execution_count": 131,
   "id": "370da686-abfe-4cff-94e8-d2bd8460f3b1",
   "metadata": {},
   "outputs": [
    {
     "data": {
      "text/html": [
       "<div>\n",
       "<style scoped>\n",
       "    .dataframe tbody tr th:only-of-type {\n",
       "        vertical-align: middle;\n",
       "    }\n",
       "\n",
       "    .dataframe tbody tr th {\n",
       "        vertical-align: top;\n",
       "    }\n",
       "\n",
       "    .dataframe thead th {\n",
       "        text-align: right;\n",
       "    }\n",
       "</style>\n",
       "<table border=\"1\" class=\"dataframe\">\n",
       "  <thead>\n",
       "    <tr style=\"text-align: right;\">\n",
       "      <th></th>\n",
       "      <th>file_id</th>\n",
       "      <th>length</th>\n",
       "      <th>count</th>\n",
       "    </tr>\n",
       "  </thead>\n",
       "  <tbody>\n",
       "    <tr>\n",
       "      <th>8</th>\n",
       "      <td>M01003M18</td>\n",
       "      <td>107</td>\n",
       "      <td>4</td>\n",
       "    </tr>\n",
       "    <tr>\n",
       "      <th>15</th>\n",
       "      <td>M01003YN6</td>\n",
       "      <td>60</td>\n",
       "      <td>4</td>\n",
       "    </tr>\n",
       "    <tr>\n",
       "      <th>0</th>\n",
       "      <td>M01000AJ9</td>\n",
       "      <td>78</td>\n",
       "      <td>3</td>\n",
       "    </tr>\n",
       "    <tr>\n",
       "      <th>17</th>\n",
       "      <td>M01003M20</td>\n",
       "      <td>65</td>\n",
       "      <td>3</td>\n",
       "    </tr>\n",
       "    <tr>\n",
       "      <th>14</th>\n",
       "      <td>M01003MTK</td>\n",
       "      <td>93</td>\n",
       "      <td>3</td>\n",
       "    </tr>\n",
       "    <tr>\n",
       "      <th>10</th>\n",
       "      <td>M01003JUU</td>\n",
       "      <td>494</td>\n",
       "      <td>3</td>\n",
       "    </tr>\n",
       "    <tr>\n",
       "      <th>18</th>\n",
       "      <td>M01003JQV</td>\n",
       "      <td>73</td>\n",
       "      <td>3</td>\n",
       "    </tr>\n",
       "  </tbody>\n",
       "</table>\n",
       "</div>"
      ],
      "text/plain": [
       "      file_id  length  count\n",
       "8   M01003M18     107      4\n",
       "15  M01003YN6      60      4\n",
       "0   M01000AJ9      78      3\n",
       "17  M01003M20      65      3\n",
       "14  M01003MTK      93      3\n",
       "10  M01003JUU     494      3\n",
       "18  M01003JQV      73      3"
      ]
     },
     "execution_count": 131,
     "metadata": {},
     "output_type": "execute_result"
    }
   ],
   "source": [
    "# these are the 5 videos that we're going to use for manual annotation\n",
    "merged_df.sort_values(by=['count'], ascending=False).iloc[:7]"
   ]
  },
  {
   "cell_type": "code",
   "execution_count": null,
   "id": "2b61eef2-fa2c-42bf-b640-dc147026df0a",
   "metadata": {},
   "outputs": [],
   "source": [
    "# M01003M18, M01003YN6, M01003M20, M01003JQV\n",
    "# sample annotation: M01003MTK"
   ]
  },
  {
   "cell_type": "code",
   "execution_count": 132,
   "id": "15640587-cf47-48f0-a832-86aeab35841b",
   "metadata": {},
   "outputs": [],
   "source": [
    "label_file_ids = merged_df.sort_values(by=['count'], ascending=False)['file_id'].iloc[:7].values"
   ]
  },
  {
   "cell_type": "code",
   "execution_count": 133,
   "id": "b5a9dcea-223c-4819-bb34-7ccdb4328d79",
   "metadata": {},
   "outputs": [
    {
     "data": {
      "text/plain": [
       "array(['M01003M18', 'M01003YN6', 'M01000AJ9', 'M01003M20', 'M01003MTK',\n",
       "       'M01003JUU', 'M01003JQV'], dtype=object)"
      ]
     },
     "execution_count": 133,
     "metadata": {},
     "output_type": "execute_result"
    }
   ],
   "source": [
    "label_file_ids"
   ]
  },
  {
   "cell_type": "code",
   "execution_count": 134,
   "id": "e8cbd02d-3f94-4cd9-9ff8-5291e180781a",
   "metadata": {},
   "outputs": [],
   "source": [
    "metadata_filepath = os.path.join(home_dir, '/Users/tmorrill002/Documents/datasets/charm/transformed/metadata.csv')\n",
    "metadata_df = pd.read_csv(metadata_filepath)"
   ]
  },
  {
   "cell_type": "code",
   "execution_count": 135,
   "id": "084813ad-c4eb-44a7-9665-eb65e8fb520e",
   "metadata": {},
   "outputs": [
    {
     "data": {
      "text/html": [
       "<div>\n",
       "<style scoped>\n",
       "    .dataframe tbody tr th:only-of-type {\n",
       "        vertical-align: middle;\n",
       "    }\n",
       "\n",
       "    .dataframe tbody tr th {\n",
       "        vertical-align: top;\n",
       "    }\n",
       "\n",
       "    .dataframe thead th {\n",
       "        text-align: right;\n",
       "    }\n",
       "</style>\n",
       "<table border=\"1\" class=\"dataframe\">\n",
       "  <thead>\n",
       "    <tr style=\"text-align: right;\">\n",
       "      <th></th>\n",
       "      <th>release</th>\n",
       "      <th>file_uid</th>\n",
       "      <th>modality</th>\n",
       "      <th>url</th>\n",
       "      <th>emotion_count</th>\n",
       "      <th>valence_arousal_count</th>\n",
       "      <th>norms_count</th>\n",
       "      <th>changepoint_count</th>\n",
       "      <th>transcribed</th>\n",
       "      <th>translated</th>\n",
       "      <th>catalog_id</th>\n",
       "      <th>version</th>\n",
       "      <th>data_type</th>\n",
       "      <th>lang_id_manual</th>\n",
       "      <th>wrapped_md5</th>\n",
       "      <th>unwrapped_md5</th>\n",
       "      <th>download_date</th>\n",
       "      <th>content_date</th>\n",
       "      <th>status_in_corpus</th>\n",
       "    </tr>\n",
       "  </thead>\n",
       "  <tbody>\n",
       "    <tr>\n",
       "      <th>5</th>\n",
       "      <td>R1</td>\n",
       "      <td>M01000AJ9</td>\n",
       "      <td>video</td>\n",
       "      <td>na</td>\n",
       "      <td>3.0</td>\n",
       "      <td>3.0</td>\n",
       "      <td>1.0</td>\n",
       "      <td>1.0</td>\n",
       "      <td>True</td>\n",
       "      <td>True</td>\n",
       "      <td>LDC2022E11</td>\n",
       "      <td>V1.0</td>\n",
       "      <td>.mp4.ldcc</td>\n",
       "      <td>cmn</td>\n",
       "      <td>c739b30eaa58ea837433ffdfdd90ab29</td>\n",
       "      <td>3c3664043119cd44cb7b62a000db94c6</td>\n",
       "      <td>na</td>\n",
       "      <td>na</td>\n",
       "      <td>present</td>\n",
       "    </tr>\n",
       "    <tr>\n",
       "      <th>2131</th>\n",
       "      <td>R2</td>\n",
       "      <td>M01003JQV</td>\n",
       "      <td>video</td>\n",
       "      <td>http://vd2.bdstatic.com/mda-nh21qmizd0kf08gt/c...</td>\n",
       "      <td>3.0</td>\n",
       "      <td>3.0</td>\n",
       "      <td>1.0</td>\n",
       "      <td>1.0</td>\n",
       "      <td>True</td>\n",
       "      <td>True</td>\n",
       "      <td>LDC2022E19_R2</td>\n",
       "      <td>V1.0</td>\n",
       "      <td>.mp4.ldcc</td>\n",
       "      <td>cmn</td>\n",
       "      <td>tbd</td>\n",
       "      <td>e07a4251d24d7a8f0e65eb00bf191de7</td>\n",
       "      <td>2022-09-13</td>\n",
       "      <td>na</td>\n",
       "      <td>present</td>\n",
       "    </tr>\n",
       "    <tr>\n",
       "      <th>2139</th>\n",
       "      <td>R2</td>\n",
       "      <td>M01003JUU</td>\n",
       "      <td>video</td>\n",
       "      <td>https://www.bilibili.com/video/BV1Ks411r79F</td>\n",
       "      <td>3.0</td>\n",
       "      <td>3.0</td>\n",
       "      <td>1.0</td>\n",
       "      <td>1.0</td>\n",
       "      <td>True</td>\n",
       "      <td>True</td>\n",
       "      <td>LDC2022E19_R2</td>\n",
       "      <td>V1.0</td>\n",
       "      <td>.mp4.ldcc</td>\n",
       "      <td>cmn</td>\n",
       "      <td>tbd</td>\n",
       "      <td>daef705d7342a0756a18ac74c08a1014</td>\n",
       "      <td>2022-09-13</td>\n",
       "      <td>na</td>\n",
       "      <td>present</td>\n",
       "    </tr>\n",
       "    <tr>\n",
       "      <th>2311</th>\n",
       "      <td>R2</td>\n",
       "      <td>M01003M18</td>\n",
       "      <td>video</td>\n",
       "      <td>http://vd2.bdstatic.com/mda-nh4bibyv4v3ns4s0/c...</td>\n",
       "      <td>3.0</td>\n",
       "      <td>3.0</td>\n",
       "      <td>1.0</td>\n",
       "      <td>1.0</td>\n",
       "      <td>True</td>\n",
       "      <td>True</td>\n",
       "      <td>LDC2022E19_R2</td>\n",
       "      <td>V1.0</td>\n",
       "      <td>.mp4.ldcc</td>\n",
       "      <td>cmn</td>\n",
       "      <td>tbd</td>\n",
       "      <td>d0fd0c3a21694c1fb49197f18587a92b</td>\n",
       "      <td>2022-09-14</td>\n",
       "      <td>na</td>\n",
       "      <td>present</td>\n",
       "    </tr>\n",
       "    <tr>\n",
       "      <th>2315</th>\n",
       "      <td>R2</td>\n",
       "      <td>M01003M20</td>\n",
       "      <td>video</td>\n",
       "      <td>http://vd3.bdstatic.com/mda-nh1gbwd5gvki016y/c...</td>\n",
       "      <td>3.0</td>\n",
       "      <td>3.0</td>\n",
       "      <td>1.0</td>\n",
       "      <td>1.0</td>\n",
       "      <td>True</td>\n",
       "      <td>True</td>\n",
       "      <td>LDC2022E19_R2</td>\n",
       "      <td>V1.0</td>\n",
       "      <td>.mp4.ldcc</td>\n",
       "      <td>cmn</td>\n",
       "      <td>tbd</td>\n",
       "      <td>19cf5700aeea5e90a6ca3dc42c747dfb</td>\n",
       "      <td>2022-09-14</td>\n",
       "      <td>na</td>\n",
       "      <td>present</td>\n",
       "    </tr>\n",
       "    <tr>\n",
       "      <th>2347</th>\n",
       "      <td>R2</td>\n",
       "      <td>M01003MTK</td>\n",
       "      <td>video</td>\n",
       "      <td>http://vd2.bdstatic.com/mda-ncqdcucf3m6zgjzz/3...</td>\n",
       "      <td>3.0</td>\n",
       "      <td>3.0</td>\n",
       "      <td>1.0</td>\n",
       "      <td>1.0</td>\n",
       "      <td>True</td>\n",
       "      <td>True</td>\n",
       "      <td>LDC2022E19_R2</td>\n",
       "      <td>V1.0</td>\n",
       "      <td>.mp4.ldcc</td>\n",
       "      <td>cmn</td>\n",
       "      <td>tbd</td>\n",
       "      <td>bcc5b3f482b28fa9784b3961f9668b89</td>\n",
       "      <td>2022-09-14</td>\n",
       "      <td>na</td>\n",
       "      <td>present</td>\n",
       "    </tr>\n",
       "    <tr>\n",
       "      <th>3026</th>\n",
       "      <td>R2</td>\n",
       "      <td>M01003YN6</td>\n",
       "      <td>video</td>\n",
       "      <td>http://vd2.bdstatic.com/mda-ngf7np46s18zdrv8/3...</td>\n",
       "      <td>3.0</td>\n",
       "      <td>3.0</td>\n",
       "      <td>1.0</td>\n",
       "      <td>1.0</td>\n",
       "      <td>True</td>\n",
       "      <td>True</td>\n",
       "      <td>LDC2022E19_R2</td>\n",
       "      <td>V1.0</td>\n",
       "      <td>.mp4.ldcc</td>\n",
       "      <td>cmn</td>\n",
       "      <td>tbd</td>\n",
       "      <td>a121c9a6b04e69106f0025444d154c2e</td>\n",
       "      <td>2022-09-22</td>\n",
       "      <td>na</td>\n",
       "      <td>present</td>\n",
       "    </tr>\n",
       "  </tbody>\n",
       "</table>\n",
       "</div>"
      ],
      "text/plain": [
       "     release   file_uid modality  ... download_date  content_date  status_in_corpus\n",
       "5         R1  M01000AJ9    video  ...            na            na           present\n",
       "2131      R2  M01003JQV    video  ...    2022-09-13            na           present\n",
       "2139      R2  M01003JUU    video  ...    2022-09-13            na           present\n",
       "2311      R2  M01003M18    video  ...    2022-09-14            na           present\n",
       "2315      R2  M01003M20    video  ...    2022-09-14            na           present\n",
       "2347      R2  M01003MTK    video  ...    2022-09-14            na           present\n",
       "3026      R2  M01003YN6    video  ...    2022-09-22            na           present\n",
       "\n",
       "[7 rows x 19 columns]"
      ]
     },
     "execution_count": 135,
     "metadata": {},
     "output_type": "execute_result"
    }
   ],
   "source": [
    "metadata_df[metadata_df['file_uid'].isin(label_file_ids)]"
   ]
  },
  {
   "cell_type": "code",
   "execution_count": 136,
   "id": "163bbc3d-ad4b-46ea-99f7-384a72433bf7",
   "metadata": {},
   "outputs": [
    {
     "data": {
      "text/plain": [
       "array([['R1', 'M01000AJ9', 'na'],\n",
       "       ['R2', 'M01003JQV',\n",
       "        'http://vd2.bdstatic.com/mda-nh21qmizd0kf08gt/cae_h264/1659489487157368122/mda-nh21qmizd0kf08gt.mp4'],\n",
       "       ['R2', 'M01003JUU', 'https://www.bilibili.com/video/BV1Ks411r79F'],\n",
       "       ['R2', 'M01003M18',\n",
       "        'http://vd2.bdstatic.com/mda-nh4bibyv4v3ns4s0/cae_h264/1659758632534327528/mda-nh4bibyv4v3ns4s0.mp4'],\n",
       "       ['R2', 'M01003M20',\n",
       "        'http://vd3.bdstatic.com/mda-nh1gbwd5gvki016y/cae_h264/1659441381156335870/mda-nh1gbwd5gvki016y.mp4'],\n",
       "       ['R2', 'M01003MTK',\n",
       "        'http://vd2.bdstatic.com/mda-ncqdcucf3m6zgjzz/360p/h264_delogo/1648202114325469972/mda-ncqdcucf3m6zgjzz.mp4'],\n",
       "       ['R2', 'M01003YN6',\n",
       "        'http://vd2.bdstatic.com/mda-ngf7np46s18zdrv8/360p/h264/1657949089719494346/mda-ngf7np46s18zdrv8.mp4']],\n",
       "      dtype=object)"
      ]
     },
     "execution_count": 136,
     "metadata": {},
     "output_type": "execute_result"
    }
   ],
   "source": [
    "metadata_df[metadata_df['file_uid'].isin(label_file_ids)][['release', 'file_uid', 'url']].values"
   ]
  },
  {
   "cell_type": "code",
   "execution_count": null,
   "id": "6c7cb51d-bdfb-4980-bfb1-54bb8c255f9d",
   "metadata": {},
   "outputs": [],
   "source": []
  }
 ],
 "metadata": {
  "kernelspec": {
   "display_name": "Python (CHARM)",
   "language": "python",
   "name": "charm"
  },
  "language_info": {
   "codemirror_mode": {
    "name": "ipython",
    "version": 3
   },
   "file_extension": ".py",
   "mimetype": "text/x-python",
   "name": "python",
   "nbconvert_exporter": "python",
   "pygments_lexer": "ipython3",
   "version": "3.10.6"
  }
 },
 "nbformat": 4,
 "nbformat_minor": 5
}
