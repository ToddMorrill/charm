{
 "cells": [
  {
   "cell_type": "markdown",
   "id": "1014e41f-1d89-462c-a94b-41751877688e",
   "metadata": {},
   "source": [
    "# Circumplex Theory Distant Supervision"
   ]
  },
  {
   "cell_type": "code",
   "execution_count": null,
   "id": "4766c7aa-f6b6-4041-9452-0bb3e407d060",
   "metadata": {},
   "outputs": [],
   "source": []
  }
 ],
 "metadata": {
  "kernelspec": {
   "display_name": "Python (CHARM)",
   "language": "python",
   "name": "charm"
  },
  "language_info": {
   "codemirror_mode": {
    "name": "ipython",
    "version": 3
   },
   "file_extension": ".py",
   "mimetype": "text/x-python",
   "name": "python",
   "nbconvert_exporter": "python",
   "pygments_lexer": "ipython3",
   "version": "3.10.6"
  }
 },
 "nbformat": 4,
 "nbformat_minor": 5
}
