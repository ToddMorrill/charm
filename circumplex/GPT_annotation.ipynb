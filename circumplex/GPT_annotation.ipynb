{
 "cells": [
  {
   "attachments": {},
   "cell_type": "markdown",
   "id": "ec7a8059-4f70-4adf-a860-437e39c985b9",
   "metadata": {},
   "source": [
    "# Use GPT models for annotating social orientation tags\n",
    "**Notebook outline:**\n",
    "1. Load a sample text message conversation (M01000G9A_social_orientation.csv)\n",
    "1. Pass this message to several OpenAI models and compare predictions"
   ]
  },
  {
   "cell_type": "code",
   "execution_count": 94,
   "id": "869b10bd-2f69-487f-afb9-a5161db31029",
   "metadata": {
    "vscode": {
     "languageId": "python"
    }
   },
   "outputs": [
    {
     "name": "stdout",
     "output_type": "stream",
     "text": [
      "The autoreload extension is already loaded. To reload it, use:\n",
      "  %reload_ext autoreload\n"
     ]
    }
   ],
   "source": [
    "%load_ext autoreload\n",
    "%autoreload 2\n",
    "import math\n",
    "import os\n",
    "import openai\n",
    "import pandas as pd\n",
    "import tiktoken\n",
    "\n",
    "import utils"
   ]
  },
  {
   "cell_type": "code",
   "execution_count": 95,
   "id": "0e4b6691-6a27-456d-bd1c-b10769d55594",
   "metadata": {
    "vscode": {
     "languageId": "python"
    }
   },
   "outputs": [],
   "source": [
    "utils.set_api_key(user='yanda')"
   ]
  },
  {
   "cell_type": "code",
   "execution_count": 96,
   "id": "b53f5de7",
   "metadata": {
    "vscode": {
     "languageId": "python"
    }
   },
   "outputs": [],
   "source": [
    "openai.organization = os.getenv(\"OPENAI_ORG_ID\")\n",
    "openai.api_key = os.getenv(\"OPENAI_API_KEY\")"
   ]
  },
  {
   "cell_type": "code",
   "execution_count": 97,
   "id": "6594b4e3-c9f2-4412-94bc-6ff96ecf4b62",
   "metadata": {
    "vscode": {
     "languageId": "python"
    }
   },
   "outputs": [],
   "source": [
    "models = openai.Model.list()\n",
    "\n",
    "gpt_models = [x for x in models['data'] if 'gpt' in x['id']]"
   ]
  },
  {
   "cell_type": "code",
   "execution_count": 98,
   "id": "01063413",
   "metadata": {
    "vscode": {
     "languageId": "python"
    }
   },
   "outputs": [
    {
     "data": {
      "text/plain": [
       "[<Model model id=gpt-3.5-turbo at 0x7f5f53571850> JSON: {\n",
       "   \"created\": 1677610602,\n",
       "   \"id\": \"gpt-3.5-turbo\",\n",
       "   \"object\": \"model\",\n",
       "   \"owned_by\": \"openai\",\n",
       "   \"parent\": null,\n",
       "   \"permission\": [\n",
       "     {\n",
       "       \"allow_create_engine\": false,\n",
       "       \"allow_fine_tuning\": false,\n",
       "       \"allow_logprobs\": true,\n",
       "       \"allow_sampling\": true,\n",
       "       \"allow_search_indices\": false,\n",
       "       \"allow_view\": true,\n",
       "       \"created\": 1683329687,\n",
       "       \"group\": null,\n",
       "       \"id\": \"modelperm-t1KTzS4psIS6bJ1GTGGkPzDi\",\n",
       "       \"is_blocking\": false,\n",
       "       \"object\": \"model_permission\",\n",
       "       \"organization\": \"*\"\n",
       "     }\n",
       "   ],\n",
       "   \"root\": \"gpt-3.5-turbo\"\n",
       " }]"
      ]
     },
     "execution_count": 98,
     "metadata": {},
     "output_type": "execute_result"
    }
   ],
   "source": [
    "gpt_models[:1]"
   ]
  },
  {
   "cell_type": "code",
   "execution_count": 228,
   "id": "f60e2810-8c59-4bc6-b83e-e218b45b1e03",
   "metadata": {
    "vscode": {
     "languageId": "python"
    }
   },
   "outputs": [],
   "source": [
    "# prices\n",
    "gpt_4_model = 'gpt-4'\n",
    "gpt_4_prompt_price = 0.03 # / 1K tokens\n",
    "gpt_4_completion_price = 0.06 # / 1K tokens\n",
    "gpt_3_model = 'gpt-3.5-turbo'\n",
    "gpt_3_price = 0.002 # / 1K tokens\n",
    "davinci_model = 'davinci'\n",
    "davinci_price = 0.0200 # / 1K tokens"
   ]
  },
  {
   "attachments": {},
   "cell_type": "markdown",
   "id": "3bf4e0fb",
   "metadata": {},
   "source": [
    "## Load data"
   ]
  },
  {
   "cell_type": "code",
   "execution_count": 100,
   "id": "a58ed531-42c6-4d33-9f15-083a193381ff",
   "metadata": {
    "vscode": {
     "languageId": "python"
    }
   },
   "outputs": [],
   "source": [
    "sample_df = pd.read_csv('M01000G9A_social_orientation.csv')"
   ]
  },
  {
   "cell_type": "code",
   "execution_count": 134,
   "id": "a8d678b8",
   "metadata": {
    "vscode": {
     "languageId": "python"
    }
   },
   "outputs": [],
   "source": [
    "sample_df['Utterance ID'] = range(len(sample_df))\n",
    "sample_df['Utterance ID'] = sample_df['Utterance ID'] + 1"
   ]
  },
  {
   "cell_type": "code",
   "execution_count": 135,
   "id": "741719fa",
   "metadata": {
    "vscode": {
     "languageId": "python"
    }
   },
   "outputs": [
    {
     "data": {
      "text/html": [
       "<div>\n",
       "<style scoped>\n",
       "    .dataframe tbody tr th:only-of-type {\n",
       "        vertical-align: middle;\n",
       "    }\n",
       "\n",
       "    .dataframe tbody tr th {\n",
       "        vertical-align: top;\n",
       "    }\n",
       "\n",
       "    .dataframe thead th {\n",
       "        text-align: right;\n",
       "    }\n",
       "</style>\n",
       "<table border=\"1\" class=\"dataframe\">\n",
       "  <thead>\n",
       "    <tr style=\"text-align: right;\">\n",
       "      <th></th>\n",
       "      <th>Unnamed: 0</th>\n",
       "      <th>Utterance ID</th>\n",
       "      <th>Participant</th>\n",
       "      <th>Time</th>\n",
       "      <th>Original Text</th>\n",
       "      <th>chat_gpt_labels</th>\n",
       "      <th>chat_gpt_explanations</th>\n",
       "      <th>gpt_3.5_labels</th>\n",
       "      <th>gpt_3.5_explanations</th>\n",
       "      <th>gpt_4_labels</th>\n",
       "      <th>gpt_4_explanations</th>\n",
       "      <th>timestamp</th>\n",
       "      <th>impact_scalar</th>\n",
       "      <th>comment</th>\n",
       "      <th>Complete Line</th>\n",
       "      <th>Complete Line (Unknown Speaker)</th>\n",
       "    </tr>\n",
       "  </thead>\n",
       "  <tbody>\n",
       "    <tr>\n",
       "      <th>0</th>\n",
       "      <td>0</td>\n",
       "      <td>1</td>\n",
       "      <td>A</td>\n",
       "      <td>2014-09-25 15:13:04 UTC</td>\n",
       "      <td>起床了吗</td>\n",
       "      <td>Unassuming-Ingenuous</td>\n",
       "      <td>This utterance does not provide enough informa...</td>\n",
       "      <td>Unassuming-Ingenuous</td>\n",
       "      <td>The speaker is asking a simple question in a s...</td>\n",
       "      <td>Aloof-Introverted</td>\n",
       "      <td>Speaker A asks if Speaker B is awake, which is...</td>\n",
       "      <td>NaN</td>\n",
       "      <td>NaN</td>\n",
       "      <td>NaN</td>\n",
       "      <td>Speaker 1 (1):  起床了吗</td>\n",
       "      <td>Speaker unknown (1):  起床了吗</td>\n",
       "    </tr>\n",
       "    <tr>\n",
       "      <th>1</th>\n",
       "      <td>1</td>\n",
       "      <td>2</td>\n",
       "      <td>B</td>\n",
       "      <td>2014-09-25 15:14:19 UTC</td>\n",
       "      <td>在干活呢 咋了</td>\n",
       "      <td>Unassuming-Ingenuous</td>\n",
       "      <td>The speaker is casual and does not exhibit any...</td>\n",
       "      <td>Unassuming-Ingenuous</td>\n",
       "      <td>The speaker is responding to the question in a...</td>\n",
       "      <td>Warm-Agreeable</td>\n",
       "      <td>Speaker B responds that they are working and a...</td>\n",
       "      <td>NaN</td>\n",
       "      <td>NaN</td>\n",
       "      <td>NaN</td>\n",
       "      <td>Speaker 2 (2):  在干活呢 咋了</td>\n",
       "      <td>Speaker unknown (2):  在干活呢 咋了</td>\n",
       "    </tr>\n",
       "    <tr>\n",
       "      <th>2</th>\n",
       "      <td>2</td>\n",
       "      <td>3</td>\n",
       "      <td>A</td>\n",
       "      <td>2014-09-25 15:36:32 UTC</td>\n",
       "      <td>没啥jiuwenwen</td>\n",
       "      <td>Unassuming-Ingenuous</td>\n",
       "      <td>The speaker is casual and does not exhibit any...</td>\n",
       "      <td>Unassuming-Ingenuous</td>\n",
       "      <td>The speaker is responding to the previous stat...</td>\n",
       "      <td>Unassuming-Ingenuous</td>\n",
       "      <td>Speaker A says there's nothing much going on.</td>\n",
       "      <td>NaN</td>\n",
       "      <td>NaN</td>\n",
       "      <td>NaN</td>\n",
       "      <td>Speaker 1 (3):  没啥jiuwenwen</td>\n",
       "      <td>Speaker unknown (3):  没啥jiuwenwen</td>\n",
       "    </tr>\n",
       "    <tr>\n",
       "      <th>3</th>\n",
       "      <td>3</td>\n",
       "      <td>4</td>\n",
       "      <td>A</td>\n",
       "      <td>2014-09-25 15:36:32 UTC</td>\n",
       "      <td>喔喔对哦</td>\n",
       "      <td>Unassuming-Ingenuous</td>\n",
       "      <td>The speaker is casual and does not exhibit any...</td>\n",
       "      <td>Unassuming-Ingenuous</td>\n",
       "      <td>The speaker is acknowledging the previous stat...</td>\n",
       "      <td>Warm-Agreeable</td>\n",
       "      <td>Speaker A acknowledges Speaker B's response.</td>\n",
       "      <td>NaN</td>\n",
       "      <td>NaN</td>\n",
       "      <td>NaN</td>\n",
       "      <td>Speaker 1 (4):  喔喔对哦</td>\n",
       "      <td>Speaker unknown (4):  喔喔对哦</td>\n",
       "    </tr>\n",
       "    <tr>\n",
       "      <th>4</th>\n",
       "      <td>4</td>\n",
       "      <td>5</td>\n",
       "      <td>B</td>\n",
       "      <td>2014-09-25 15:36:52 UTC</td>\n",
       "      <td>好</td>\n",
       "      <td>Unassuming-Ingenuous</td>\n",
       "      <td>The speaker is casual and does not exhibit any...</td>\n",
       "      <td>Unassuming-Ingenuous</td>\n",
       "      <td>The speaker is responding to the previous stat...</td>\n",
       "      <td>Unassuming-Ingenuous</td>\n",
       "      <td>Speaker B simply responds with \"好\" (okay).</td>\n",
       "      <td>NaN</td>\n",
       "      <td>NaN</td>\n",
       "      <td>NaN</td>\n",
       "      <td>Speaker 2 (5):  好</td>\n",
       "      <td>Speaker unknown (5):  好</td>\n",
       "    </tr>\n",
       "  </tbody>\n",
       "</table>\n",
       "</div>"
      ],
      "text/plain": [
       "   Unnamed: 0  Utterance ID Participant                     Time  \\\n",
       "0           0             1           A  2014-09-25 15:13:04 UTC   \n",
       "1           1             2           B  2014-09-25 15:14:19 UTC   \n",
       "2           2             3           A  2014-09-25 15:36:32 UTC   \n",
       "3           3             4           A  2014-09-25 15:36:32 UTC   \n",
       "4           4             5           B  2014-09-25 15:36:52 UTC   \n",
       "\n",
       "  Original Text       chat_gpt_labels  \\\n",
       "0          起床了吗  Unassuming-Ingenuous   \n",
       "1       在干活呢 咋了  Unassuming-Ingenuous   \n",
       "2   没啥jiuwenwen  Unassuming-Ingenuous   \n",
       "3          喔喔对哦  Unassuming-Ingenuous   \n",
       "4             好  Unassuming-Ingenuous   \n",
       "\n",
       "                               chat_gpt_explanations        gpt_3.5_labels  \\\n",
       "0  This utterance does not provide enough informa...  Unassuming-Ingenuous   \n",
       "1  The speaker is casual and does not exhibit any...  Unassuming-Ingenuous   \n",
       "2  The speaker is casual and does not exhibit any...  Unassuming-Ingenuous   \n",
       "3  The speaker is casual and does not exhibit any...  Unassuming-Ingenuous   \n",
       "4  The speaker is casual and does not exhibit any...  Unassuming-Ingenuous   \n",
       "\n",
       "                                gpt_3.5_explanations          gpt_4_labels  \\\n",
       "0  The speaker is asking a simple question in a s...     Aloof-Introverted   \n",
       "1  The speaker is responding to the question in a...        Warm-Agreeable   \n",
       "2  The speaker is responding to the previous stat...  Unassuming-Ingenuous   \n",
       "3  The speaker is acknowledging the previous stat...        Warm-Agreeable   \n",
       "4  The speaker is responding to the previous stat...  Unassuming-Ingenuous   \n",
       "\n",
       "                                  gpt_4_explanations  timestamp  \\\n",
       "0  Speaker A asks if Speaker B is awake, which is...        NaN   \n",
       "1  Speaker B responds that they are working and a...        NaN   \n",
       "2      Speaker A says there's nothing much going on.        NaN   \n",
       "3       Speaker A acknowledges Speaker B's response.        NaN   \n",
       "4         Speaker B simply responds with \"好\" (okay).        NaN   \n",
       "\n",
       "   impact_scalar comment                Complete Line  \\\n",
       "0            NaN     NaN         Speaker 1 (1):  起床了吗   \n",
       "1            NaN     NaN      Speaker 2 (2):  在干活呢 咋了   \n",
       "2            NaN     NaN  Speaker 1 (3):  没啥jiuwenwen   \n",
       "3            NaN     NaN         Speaker 1 (4):  喔喔对哦   \n",
       "4            NaN     NaN            Speaker 2 (5):  好   \n",
       "\n",
       "     Complete Line (Unknown Speaker)  \n",
       "0         Speaker unknown (1):  起床了吗  \n",
       "1      Speaker unknown (2):  在干活呢 咋了  \n",
       "2  Speaker unknown (3):  没啥jiuwenwen  \n",
       "3         Speaker unknown (4):  喔喔对哦  \n",
       "4            Speaker unknown (5):  好  "
      ]
     },
     "execution_count": 135,
     "metadata": {},
     "output_type": "execute_result"
    }
   ],
   "source": [
    "sample_df.head()"
   ]
  },
  {
   "cell_type": "code",
   "execution_count": 136,
   "id": "1a785b8b-6a3f-404e-a827-c6ecf90e0321",
   "metadata": {
    "vscode": {
     "languageId": "python"
    }
   },
   "outputs": [],
   "source": [
    "def create_line(row, include_speaker=True):\n",
    "    # TODO: generalize this more speakers\n",
    "    speaker_map = {'A': '1', 'B': '2'}\n",
    "    if include_speaker:\n",
    "        # TODO: could optionally include the time\n",
    "        return f\"Speaker {speaker_map[row['Participant']]} ({row['Utterance ID']}):  {row['Original Text']}\"\n",
    "    else:\n",
    "        return f\"Speaker unknown ({row['Utterance ID']}):  {row['Original Text']}\""
   ]
  },
  {
   "cell_type": "code",
   "execution_count": 137,
   "id": "7e6d7817-ed48-4e7e-a7bd-8edf96152018",
   "metadata": {
    "vscode": {
     "languageId": "python"
    }
   },
   "outputs": [],
   "source": [
    "sample_df['Complete Line'] = sample_df.apply(create_line, axis=1)\n",
    "# create another column where the speaker is unknown\n",
    "sample_df['Complete Line (Unknown Speaker)'] = sample_df.apply(lambda x: create_line(x, include_speaker=False), axis=1)"
   ]
  },
  {
   "cell_type": "code",
   "execution_count": 138,
   "id": "03981095",
   "metadata": {
    "vscode": {
     "languageId": "python"
    }
   },
   "outputs": [
    {
     "data": {
      "text/html": [
       "<div>\n",
       "<style scoped>\n",
       "    .dataframe tbody tr th:only-of-type {\n",
       "        vertical-align: middle;\n",
       "    }\n",
       "\n",
       "    .dataframe tbody tr th {\n",
       "        vertical-align: top;\n",
       "    }\n",
       "\n",
       "    .dataframe thead th {\n",
       "        text-align: right;\n",
       "    }\n",
       "</style>\n",
       "<table border=\"1\" class=\"dataframe\">\n",
       "  <thead>\n",
       "    <tr style=\"text-align: right;\">\n",
       "      <th></th>\n",
       "      <th>Unnamed: 0</th>\n",
       "      <th>Utterance ID</th>\n",
       "      <th>Participant</th>\n",
       "      <th>Time</th>\n",
       "      <th>Original Text</th>\n",
       "      <th>chat_gpt_labels</th>\n",
       "      <th>chat_gpt_explanations</th>\n",
       "      <th>gpt_3.5_labels</th>\n",
       "      <th>gpt_3.5_explanations</th>\n",
       "      <th>gpt_4_labels</th>\n",
       "      <th>gpt_4_explanations</th>\n",
       "      <th>timestamp</th>\n",
       "      <th>impact_scalar</th>\n",
       "      <th>comment</th>\n",
       "      <th>Complete Line</th>\n",
       "      <th>Complete Line (Unknown Speaker)</th>\n",
       "    </tr>\n",
       "  </thead>\n",
       "  <tbody>\n",
       "    <tr>\n",
       "      <th>0</th>\n",
       "      <td>0</td>\n",
       "      <td>1</td>\n",
       "      <td>A</td>\n",
       "      <td>2014-09-25 15:13:04 UTC</td>\n",
       "      <td>起床了吗</td>\n",
       "      <td>Unassuming-Ingenuous</td>\n",
       "      <td>This utterance does not provide enough informa...</td>\n",
       "      <td>Unassuming-Ingenuous</td>\n",
       "      <td>The speaker is asking a simple question in a s...</td>\n",
       "      <td>Aloof-Introverted</td>\n",
       "      <td>Speaker A asks if Speaker B is awake, which is...</td>\n",
       "      <td>NaN</td>\n",
       "      <td>NaN</td>\n",
       "      <td>NaN</td>\n",
       "      <td>Speaker 1 (1):  起床了吗</td>\n",
       "      <td>Speaker unknown (1):  起床了吗</td>\n",
       "    </tr>\n",
       "    <tr>\n",
       "      <th>1</th>\n",
       "      <td>1</td>\n",
       "      <td>2</td>\n",
       "      <td>B</td>\n",
       "      <td>2014-09-25 15:14:19 UTC</td>\n",
       "      <td>在干活呢 咋了</td>\n",
       "      <td>Unassuming-Ingenuous</td>\n",
       "      <td>The speaker is casual and does not exhibit any...</td>\n",
       "      <td>Unassuming-Ingenuous</td>\n",
       "      <td>The speaker is responding to the question in a...</td>\n",
       "      <td>Warm-Agreeable</td>\n",
       "      <td>Speaker B responds that they are working and a...</td>\n",
       "      <td>NaN</td>\n",
       "      <td>NaN</td>\n",
       "      <td>NaN</td>\n",
       "      <td>Speaker 2 (2):  在干活呢 咋了</td>\n",
       "      <td>Speaker unknown (2):  在干活呢 咋了</td>\n",
       "    </tr>\n",
       "    <tr>\n",
       "      <th>2</th>\n",
       "      <td>2</td>\n",
       "      <td>3</td>\n",
       "      <td>A</td>\n",
       "      <td>2014-09-25 15:36:32 UTC</td>\n",
       "      <td>没啥jiuwenwen</td>\n",
       "      <td>Unassuming-Ingenuous</td>\n",
       "      <td>The speaker is casual and does not exhibit any...</td>\n",
       "      <td>Unassuming-Ingenuous</td>\n",
       "      <td>The speaker is responding to the previous stat...</td>\n",
       "      <td>Unassuming-Ingenuous</td>\n",
       "      <td>Speaker A says there's nothing much going on.</td>\n",
       "      <td>NaN</td>\n",
       "      <td>NaN</td>\n",
       "      <td>NaN</td>\n",
       "      <td>Speaker 1 (3):  没啥jiuwenwen</td>\n",
       "      <td>Speaker unknown (3):  没啥jiuwenwen</td>\n",
       "    </tr>\n",
       "    <tr>\n",
       "      <th>3</th>\n",
       "      <td>3</td>\n",
       "      <td>4</td>\n",
       "      <td>A</td>\n",
       "      <td>2014-09-25 15:36:32 UTC</td>\n",
       "      <td>喔喔对哦</td>\n",
       "      <td>Unassuming-Ingenuous</td>\n",
       "      <td>The speaker is casual and does not exhibit any...</td>\n",
       "      <td>Unassuming-Ingenuous</td>\n",
       "      <td>The speaker is acknowledging the previous stat...</td>\n",
       "      <td>Warm-Agreeable</td>\n",
       "      <td>Speaker A acknowledges Speaker B's response.</td>\n",
       "      <td>NaN</td>\n",
       "      <td>NaN</td>\n",
       "      <td>NaN</td>\n",
       "      <td>Speaker 1 (4):  喔喔对哦</td>\n",
       "      <td>Speaker unknown (4):  喔喔对哦</td>\n",
       "    </tr>\n",
       "    <tr>\n",
       "      <th>4</th>\n",
       "      <td>4</td>\n",
       "      <td>5</td>\n",
       "      <td>B</td>\n",
       "      <td>2014-09-25 15:36:52 UTC</td>\n",
       "      <td>好</td>\n",
       "      <td>Unassuming-Ingenuous</td>\n",
       "      <td>The speaker is casual and does not exhibit any...</td>\n",
       "      <td>Unassuming-Ingenuous</td>\n",
       "      <td>The speaker is responding to the previous stat...</td>\n",
       "      <td>Unassuming-Ingenuous</td>\n",
       "      <td>Speaker B simply responds with \"好\" (okay).</td>\n",
       "      <td>NaN</td>\n",
       "      <td>NaN</td>\n",
       "      <td>NaN</td>\n",
       "      <td>Speaker 2 (5):  好</td>\n",
       "      <td>Speaker unknown (5):  好</td>\n",
       "    </tr>\n",
       "  </tbody>\n",
       "</table>\n",
       "</div>"
      ],
      "text/plain": [
       "   Unnamed: 0  Utterance ID Participant                     Time  \\\n",
       "0           0             1           A  2014-09-25 15:13:04 UTC   \n",
       "1           1             2           B  2014-09-25 15:14:19 UTC   \n",
       "2           2             3           A  2014-09-25 15:36:32 UTC   \n",
       "3           3             4           A  2014-09-25 15:36:32 UTC   \n",
       "4           4             5           B  2014-09-25 15:36:52 UTC   \n",
       "\n",
       "  Original Text       chat_gpt_labels  \\\n",
       "0          起床了吗  Unassuming-Ingenuous   \n",
       "1       在干活呢 咋了  Unassuming-Ingenuous   \n",
       "2   没啥jiuwenwen  Unassuming-Ingenuous   \n",
       "3          喔喔对哦  Unassuming-Ingenuous   \n",
       "4             好  Unassuming-Ingenuous   \n",
       "\n",
       "                               chat_gpt_explanations        gpt_3.5_labels  \\\n",
       "0  This utterance does not provide enough informa...  Unassuming-Ingenuous   \n",
       "1  The speaker is casual and does not exhibit any...  Unassuming-Ingenuous   \n",
       "2  The speaker is casual and does not exhibit any...  Unassuming-Ingenuous   \n",
       "3  The speaker is casual and does not exhibit any...  Unassuming-Ingenuous   \n",
       "4  The speaker is casual and does not exhibit any...  Unassuming-Ingenuous   \n",
       "\n",
       "                                gpt_3.5_explanations          gpt_4_labels  \\\n",
       "0  The speaker is asking a simple question in a s...     Aloof-Introverted   \n",
       "1  The speaker is responding to the question in a...        Warm-Agreeable   \n",
       "2  The speaker is responding to the previous stat...  Unassuming-Ingenuous   \n",
       "3  The speaker is acknowledging the previous stat...        Warm-Agreeable   \n",
       "4  The speaker is responding to the previous stat...  Unassuming-Ingenuous   \n",
       "\n",
       "                                  gpt_4_explanations  timestamp  \\\n",
       "0  Speaker A asks if Speaker B is awake, which is...        NaN   \n",
       "1  Speaker B responds that they are working and a...        NaN   \n",
       "2      Speaker A says there's nothing much going on.        NaN   \n",
       "3       Speaker A acknowledges Speaker B's response.        NaN   \n",
       "4         Speaker B simply responds with \"好\" (okay).        NaN   \n",
       "\n",
       "   impact_scalar comment                Complete Line  \\\n",
       "0            NaN     NaN         Speaker 1 (1):  起床了吗   \n",
       "1            NaN     NaN      Speaker 2 (2):  在干活呢 咋了   \n",
       "2            NaN     NaN  Speaker 1 (3):  没啥jiuwenwen   \n",
       "3            NaN     NaN         Speaker 1 (4):  喔喔对哦   \n",
       "4            NaN     NaN            Speaker 2 (5):  好   \n",
       "\n",
       "     Complete Line (Unknown Speaker)  \n",
       "0         Speaker unknown (1):  起床了吗  \n",
       "1      Speaker unknown (2):  在干活呢 咋了  \n",
       "2  Speaker unknown (3):  没啥jiuwenwen  \n",
       "3         Speaker unknown (4):  喔喔对哦  \n",
       "4            Speaker unknown (5):  好  "
      ]
     },
     "execution_count": 138,
     "metadata": {},
     "output_type": "execute_result"
    }
   ],
   "source": [
    "sample_df.head()"
   ]
  },
  {
   "attachments": {},
   "cell_type": "markdown",
   "id": "5c5beb09",
   "metadata": {},
   "source": [
    "## Prepare prompt for OpenAI API"
   ]
  },
  {
   "cell_type": "code",
   "execution_count": 139,
   "id": "27ec5255-f54a-481d-8e0e-83b1b5aef248",
   "metadata": {
    "vscode": {
     "languageId": "python"
    }
   },
   "outputs": [],
   "source": [
    "# load prompt to prepend:\n",
    "with open('prompt.txt', 'r') as f:\n",
    "    prompt = f.read()\n",
    "\n",
    "# load addendum\n",
    "with open('prompt_speaker_unknown.txt', 'r') as f:\n",
    "    prompt_speaker_unknown = f.read()"
   ]
  },
  {
   "cell_type": "code",
   "execution_count": 140,
   "id": "793ed050",
   "metadata": {
    "vscode": {
     "languageId": "python"
    }
   },
   "outputs": [],
   "source": [
    "# remove the last two lines of the prompt and add the speaker unknown prompt\n",
    "prompt_speaker_unknown = '\\n'.join(prompt.split('\\n')[:-2]) + '\\n' + prompt_speaker_unknown"
   ]
  },
  {
   "cell_type": "code",
   "execution_count": 155,
   "id": "5fcfa0f9",
   "metadata": {
    "vscode": {
     "languageId": "python"
    }
   },
   "outputs": [],
   "source": [
    "model_input = prompt + '\\n'.join(sample_df['Complete Line'].tolist()) + '\\n\\nOutput:\\n'\n",
    "model_input_speaker_unknown = prompt_speaker_unknown + '\\n'.join(sample_df['Complete Line (Unknown Speaker)'].tolist()) + '\\n\\nOutput:\\n'"
   ]
  },
  {
   "cell_type": "code",
   "execution_count": 156,
   "id": "9aa77c49",
   "metadata": {
    "vscode": {
     "languageId": "python"
    }
   },
   "outputs": [],
   "source": [
    "# create messages for chatbot conversation\n",
    "messages = [\n",
    "  {\"role\": \"system\", \"content\": f\"You are a helpful assistant.\"},\n",
    "  {\"role\": \"user\", \"content\": model_input},\n",
    "]\n",
    "# create messages for chatbot conversation\n",
    "messages_speaker_unknown = [\n",
    "  {\"role\": \"system\", \"content\": f\"You are a helpful assistant.\"},\n",
    "  {\"role\": \"user\", \"content\": model_input_speaker_unknown},\n",
    "]"
   ]
  },
  {
   "cell_type": "code",
   "execution_count": 163,
   "id": "e7c4de46",
   "metadata": {
    "vscode": {
     "languageId": "python"
    }
   },
   "outputs": [
    {
     "name": "stdout",
     "output_type": "stream",
     "text": [
      "Warning: gpt-4 may change over time. Returning num tokens assuming gpt-4-0314.\n",
      "2488\n"
     ]
    }
   ],
   "source": [
    "token_count = utils.num_tokens_from_messages(messages, model=gpt_4_model)\n",
    "print(token_count)"
   ]
  },
  {
   "cell_type": "code",
   "execution_count": 164,
   "id": "04aec7af",
   "metadata": {
    "vscode": {
     "languageId": "python"
    }
   },
   "outputs": [
    {
     "name": "stdout",
     "output_type": "stream",
     "text": [
      "Warning: gpt-4 may change over time. Returning num tokens assuming gpt-4-0314.\n",
      "3173\n"
     ]
    }
   ],
   "source": [
    "token_count_speaker_unknown = utils.num_tokens_from_messages(messages_speaker_unknown, model=gpt_4_model)\n",
    "print(token_count_speaker_unknown)"
   ]
  },
  {
   "cell_type": "code",
   "execution_count": 165,
   "id": "d529192f-1867-4f01-b899-f0a11d6e5b1d",
   "metadata": {
    "vscode": {
     "languageId": "python"
    }
   },
   "outputs": [
    {
     "name": "stdout",
     "output_type": "stream",
     "text": [
      "5704\n"
     ]
    }
   ],
   "source": [
    "gpt4_model_limit = 8_192\n",
    "generation_capacity = gpt4_model_limit - token_count\n",
    "# should be plenty\n",
    "print(generation_capacity)"
   ]
  },
  {
   "attachments": {},
   "cell_type": "markdown",
   "id": "c32f08e7",
   "metadata": {},
   "source": [
    "## Send requests to GPT models\n",
    "- temperature = 0.2 for all models\n",
    "- leave top_p at default (1.0)"
   ]
  },
  {
   "cell_type": "code",
   "execution_count": 166,
   "id": "1b7d5d00",
   "metadata": {
    "vscode": {
     "languageId": "python"
    }
   },
   "outputs": [],
   "source": [
    "temperature = 0.2\n",
    "top_p = 1.0"
   ]
  },
  {
   "attachments": {},
   "cell_type": "markdown",
   "id": "f19a6405",
   "metadata": {},
   "source": [
    "### Try sending request to GPT-3 API"
   ]
  },
  {
   "cell_type": "code",
   "execution_count": 167,
   "id": "acfc9f9e-149f-43b7-beaf-4a37c7d23e3b",
   "metadata": {
    "vscode": {
     "languageId": "python"
    }
   },
   "outputs": [],
   "source": [
    "result = openai.ChatCompletion.create(\n",
    "  model=gpt_3_model,\n",
    "  messages=messages,\n",
    "  temperature=temperature,\n",
    "  top_p=top_p,\n",
    ")"
   ]
  },
  {
   "cell_type": "code",
   "execution_count": 168,
   "id": "1f291586-d036-47b1-97e6-0172fda5ff79",
   "metadata": {
    "vscode": {
     "languageId": "python"
    }
   },
   "outputs": [
    {
     "name": "stdout",
     "output_type": "stream",
     "text": [
      "{\n",
      "  \"completion_tokens\": 1447,\n",
      "  \"prompt_tokens\": 2490,\n",
      "  \"total_tokens\": 3937\n",
      "}\n"
     ]
    }
   ],
   "source": [
    "print(result['usage'])"
   ]
  },
  {
   "cell_type": "code",
   "execution_count": 170,
   "id": "2189bc08-578b-448e-a3b7-84adde331d53",
   "metadata": {
    "vscode": {
     "languageId": "python"
    }
   },
   "outputs": [],
   "source": [
    "# add this into sample_df\n",
    "anno_string = result['choices'][0]['message']['content']\n",
    "gpt_3_annotations = anno_string.split('\\n')"
   ]
  },
  {
   "cell_type": "code",
   "execution_count": 171,
   "id": "8fcef587-01c8-402f-ace6-8321e34dff9a",
   "metadata": {
    "vscode": {
     "languageId": "python"
    }
   },
   "outputs": [],
   "source": [
    "labels_explanations = [x.split(': ')[1].split(' - ') for x in gpt_3_annotations]\n",
    "labels, explanations = zip(*labels_explanations)"
   ]
  },
  {
   "cell_type": "code",
   "execution_count": 174,
   "id": "17dc751c-4b49-4d4f-9b84-6b8f49c8c8a2",
   "metadata": {
    "vscode": {
     "languageId": "python"
    }
   },
   "outputs": [],
   "source": [
    "sample_df['gpt_3.5_labels'] = labels\n",
    "sample_df['gpt_3.5_explanations'] = explanations"
   ]
  },
  {
   "attachments": {},
   "cell_type": "markdown",
   "id": "46a2f980-9f49-47e8-92d8-67c4e1464ce2",
   "metadata": {},
   "source": [
    "### GPT-4"
   ]
  },
  {
   "cell_type": "code",
   "execution_count": 175,
   "id": "c5defb48-38d1-4305-bb49-945f948c54f6",
   "metadata": {
    "vscode": {
     "languageId": "python"
    }
   },
   "outputs": [],
   "source": [
    "result = openai.ChatCompletion.create(\n",
    "  model=gpt_4_model,\n",
    "  messages=messages,\n",
    "  temperature=temperature,\n",
    "  top_p=top_p,\n",
    ")"
   ]
  },
  {
   "cell_type": "code",
   "execution_count": 176,
   "id": "c19b999c-7e86-4ba0-8ac5-5dee928bdac6",
   "metadata": {
    "vscode": {
     "languageId": "python"
    }
   },
   "outputs": [
    {
     "name": "stdout",
     "output_type": "stream",
     "text": [
      "{\n",
      "  \"completion_tokens\": 1563,\n",
      "  \"prompt_tokens\": 2488,\n",
      "  \"total_tokens\": 4051\n",
      "}\n"
     ]
    }
   ],
   "source": [
    "print(result['usage'])"
   ]
  },
  {
   "cell_type": "code",
   "execution_count": 177,
   "id": "6dcb2bed",
   "metadata": {
    "vscode": {
     "languageId": "python"
    }
   },
   "outputs": [
    {
     "name": "stdout",
     "output_type": "stream",
     "text": [
      "Speaker 1 (1): Warm-Agreeable - The speaker is asking if the other person is awake, showing concern for their well-being.\n",
      "Speaker 2 (2): Unassured-Submissive - The speaker responds with a simple statement about what they are doing and asks what's up.\n",
      "Speaker 1 (3): Unassuming-Ingenuous - The speaker says there's nothing important to discuss.\n",
      "Speaker 1 (4): Unassured-Submissive - The speaker acknowledges the other person's situation.\n",
      "Speaker 2 (5): Unassuming-Ingenuous - The speaker responds with a simple \"好\" (okay).\n",
      "Speaker 2 (6): Warm-Agreeable - The speaker mentions they will ask about the afternoon plans after finishing their work.\n",
      "Speaker 1 (7): Warm-Agreeable - The speaker shares a personal experience about playing squash and their own attitude.\n",
      "Speaker 2 (8): Warm-Agreeable - The speaker asks what the other person said about the situation.\n",
      "Speaker 1 (9): Warm-Agreeable - The speaker shares the other person's opinion about their attitude towards mistakes.\n",
      "Speaker 1 (10): Warm-Agreeable - The speaker reflects on their father's influence on their thinking.\n",
      "Speaker 2 (11): Unassuming-Ingenuous - The speaker responds with a simple \"嗯\" (yeah).\n",
      "Speaker 2 (12): Warm-Agreeable - The speaker acknowledges the influence on the other person.\n",
      "Speaker 1 (13): Warm-Agreeable - The speaker shares an interesting fact about a type of vegetable.\n",
      "Speaker 2 (14): Gregarious-Extraverted - The speaker responds with laughter.\n",
      "Speaker 1 (15): Warm-Agreeable - The speaker shares a personal experience about their work and the need for self-confidence.\n",
      "Speaker 2 (16): Warm-Agreeable - The speaker agrees and offers a comforting gesture.\n",
      "Speaker 1 (17): Unassured-Submissive - The speaker expresses their unhappiness.\n",
      "Speaker 2 (18): Warm-Agreeable - The speaker advises the other person to be modest but not self-deprecating.\n",
      "Speaker 2 (19): Warm-Agreeable - The speaker offers a different perspective and encourages the other person not to worry.\n",
      "Speaker 2 (20): Warm-Agreeable - The speaker offers a comforting gesture again.\n",
      "Speaker 1 (21): Warm-Agreeable - The speaker acknowledges their habit of self-deprecation.\n",
      "Speaker 1 (22): Unassured-Submissive - The speaker admits that their habit is not good.\n",
      "Speaker 2 (23): Warm-Agreeable - The speaker points out cultural differences in communication.\n",
      "Speaker 2 (24): Warm-Agreeable - The speaker explains that foreigners may not understand the other person's communication style.\n",
      "Speaker 1 (25): Unassured-Submissive - The speaker agrees and thinks that being modest may not be enough.\n",
      "Speaker 2 (26): Warm-Agreeable - The speaker advises the other person to find a balance between humility and confidence.\n",
      "Speaker 1 (27): Unassured-Submissive - The speaker expresses their unhappiness again.\n",
      "Speaker 2 (28): Warm-Agreeable - The speaker offers advice on finding the balance between self-confidence and arrogance.\n",
      "Speaker 2 (29): Warm-Agreeable - The speaker encourages the other person not to take the situation to heart and learn from it.\n",
      "Speaker 2 (30): Warm-Agreeable - The speaker reminds the other person of their own advice.\n",
      "Speaker 1 (31): Unassured-Submissive - The speaker agrees to change their behavior.\n",
      "Speaker 2 (32): Warm-Agreeable - The speaker suggests mutual encouragement.\n",
      "Speaker 2 (33): Unassuming-Ingenuous - The speaker shares information about a task they completed.\n",
      "Speaker 2 (34): Warm-Agreeable - The speaker suggests discussing evening plans.\n",
      "Speaker 1 (35): Unassured-Submissive - The speaker suggests postponing their activity until the next day.\n",
      "Speaker 1 (36): Warm-Agreeable - The speaker expresses concern for the other person's convenience.\n",
      "Speaker 1 (37): Unassuming-Ingenuous - The speaker agrees with the other person's suggestion.\n",
      "Speaker 2 (38): Unassuming-Ingenuous - The speaker agrees with the other person's suggestion.\n",
      "Speaker 2 (39): Warm-Agreeable - The speaker suggests watching a movie together.\n",
      "Speaker 1 (40): Warm-Agreeable - The speaker asks if the other person has eaten and if there's food at home.\n",
      "Speaker 1 (41): Unassured-Submissive - The speaker admits confusion about their own identity.\n",
      "Speaker 2 (42): Unassuming-Ingenuous - The speaker informs that there's no food at home.\n",
      "Speaker 2 (43): Unassured-Submissive - The speaker admits they didn't eat enough.\n",
      "Speaker 1 (44): Unassured-Submissive - The speaker regrets not eating a certain dish earlier.\n",
      "Speaker 1 (45): Warm-Agreeable - The speaker suggests going out to eat after the other person finishes class.\n",
      "Speaker 1 (46): Warm-Agreeable - The speaker offers to order a pizza.\n",
      "Speaker 2 (47): Unassuming-Ingenuous - The speaker agrees with the suggestion.\n",
      "Speaker 1 (48): Unassured-Submissive - The speaker has trouble finding a specific pizza topping.\n",
      "Speaker 1 (49): Unassured-Submissive - The speaker is confused about registration information.\n",
      "Speaker 2 (50): Unassuming-Ingenuous - The speaker provides the requested information.\n",
      "Speaker 2 (51): Warm-Agreeable - The speaker helps the other person identify the mushroom topping.\n",
      "Speaker 2 (52): Warm-Agreeable - The speaker explains that the topping is not called \"mushroom\" on the menu.\n",
      "Speaker 1 (53): Unassured-Submissive - The speaker acknowledges the other person's help.\n",
      "Speaker 1 (54): Unassured-Submissive - The speaker informs that they found the topping.\n",
      "Speaker 1 (55): Unassured-Submissive - The speaker asks about a discount coupon.\n",
      "Speaker 1 (56): Unassured-Submissive - The speaker calculates the discounted price.\n",
      "Speaker 1 (57): Warm-Agreeable - The speaker suggests the other person pick up the pizza on their way home.\n",
      "Speaker 1 (58): Unassured-Submissive - The speaker regrets not ordering a larger pizza with more toppings.\n",
      "Speaker 1 (59): Unassured-Submissive - The speaker wishes they had known about the better deal earlier.\n",
      "Speaker 2 (60): Unassuming-Ingenuous - The speaker asks if the order can be canceled.\n",
      "Speaker 1 (61): Unassured-Submissive - The speaker thinks the order cannot be canceled.\n",
      "Speaker 1 (62): Unassured-Submissive - The speaker expresses disappointment.\n",
      "Speaker 1 (63): Unassured-Submissive - The speaker admits they didn't want to eat too much.\n",
      "Speaker 1 (64): Unassured-Submissive - The speaker didn't want to eat the same dish for two meals.\n",
      "Speaker 2 (65): Unassuming-Ingenuous - The speaker agrees with the other person's decision.\n",
      "Speaker 1 (66): Warm-Agreeable - The speaker shares a discovery about their building.\n",
      "Speaker 1 (67): Warm-Agreeable - The speaker mentions various advertisements in their building.\n",
      "Speaker 2 (68): Unassuming-Ingenuous - The speaker responds with a simple \"好\" (okay).\n"
     ]
    }
   ],
   "source": [
    "print(result['choices'][0]['message']['content'])"
   ]
  },
  {
   "cell_type": "code",
   "execution_count": 178,
   "id": "7bb5c3a7-210c-4f80-afc7-65a5a075c2c4",
   "metadata": {
    "vscode": {
     "languageId": "python"
    }
   },
   "outputs": [],
   "source": [
    "# add this into sample_df\n",
    "anno_string = result['choices'][0]['message']['content']\n",
    "gpt_4_annotations = anno_string.split('\\n')\n",
    "labels_explanations = [x.split(': ')[1].split(' - ') for x in gpt_4_annotations]\n",
    "labels, explanations = zip(*labels_explanations)"
   ]
  },
  {
   "cell_type": "code",
   "execution_count": 180,
   "id": "83c507bb-5f94-4638-bd08-a996cdcf2f52",
   "metadata": {
    "vscode": {
     "languageId": "python"
    }
   },
   "outputs": [],
   "source": [
    "sample_df['gpt_4_labels'] = labels\n",
    "sample_df['gpt_4_explanations'] = explanations"
   ]
  },
  {
   "cell_type": "code",
   "execution_count": 181,
   "id": "03330159-4775-4e8a-bdc4-9293885e2f93",
   "metadata": {
    "vscode": {
     "languageId": "python"
    }
   },
   "outputs": [
    {
     "data": {
      "text/plain": [
       "0.2647058823529412"
      ]
     },
     "execution_count": 181,
     "metadata": {},
     "output_type": "execute_result"
    }
   ],
   "source": [
    "# model agreement rate\n",
    "(sample_df['gpt_3.5_labels'] == sample_df['gpt_4_labels']).sum() / len(sample_df)"
   ]
  },
  {
   "cell_type": "code",
   "execution_count": 188,
   "id": "95bd1555",
   "metadata": {
    "vscode": {
     "languageId": "python"
    }
   },
   "outputs": [
    {
     "data": {
      "text/html": [
       "<div>\n",
       "<style scoped>\n",
       "    .dataframe tbody tr th:only-of-type {\n",
       "        vertical-align: middle;\n",
       "    }\n",
       "\n",
       "    .dataframe tbody tr th {\n",
       "        vertical-align: top;\n",
       "    }\n",
       "\n",
       "    .dataframe thead th {\n",
       "        text-align: right;\n",
       "    }\n",
       "</style>\n",
       "<table border=\"1\" class=\"dataframe\">\n",
       "  <thead>\n",
       "    <tr style=\"text-align: right;\">\n",
       "      <th></th>\n",
       "      <th>Original Text</th>\n",
       "      <th>gpt_3.5_labels</th>\n",
       "      <th>gpt_4_labels</th>\n",
       "    </tr>\n",
       "  </thead>\n",
       "  <tbody>\n",
       "    <tr>\n",
       "      <th>0</th>\n",
       "      <td>起床了吗</td>\n",
       "      <td>Aloof-Introverted</td>\n",
       "      <td>Warm-Agreeable</td>\n",
       "    </tr>\n",
       "    <tr>\n",
       "      <th>1</th>\n",
       "      <td>在干活呢 咋了</td>\n",
       "      <td>Unassuming-Ingenuous</td>\n",
       "      <td>Unassured-Submissive</td>\n",
       "    </tr>\n",
       "    <tr>\n",
       "      <th>2</th>\n",
       "      <td>没啥jiuwenwen</td>\n",
       "      <td>Unassured-Submissive</td>\n",
       "      <td>Unassuming-Ingenuous</td>\n",
       "    </tr>\n",
       "    <tr>\n",
       "      <th>3</th>\n",
       "      <td>喔喔对哦</td>\n",
       "      <td>Aloof-Introverted</td>\n",
       "      <td>Unassured-Submissive</td>\n",
       "    </tr>\n",
       "    <tr>\n",
       "      <th>4</th>\n",
       "      <td>好</td>\n",
       "      <td>Unassuming-Ingenuous</td>\n",
       "      <td>Unassuming-Ingenuous</td>\n",
       "    </tr>\n",
       "  </tbody>\n",
       "</table>\n",
       "</div>"
      ],
      "text/plain": [
       "  Original Text        gpt_3.5_labels          gpt_4_labels\n",
       "0          起床了吗     Aloof-Introverted        Warm-Agreeable\n",
       "1       在干活呢 咋了  Unassuming-Ingenuous  Unassured-Submissive\n",
       "2   没啥jiuwenwen  Unassured-Submissive  Unassuming-Ingenuous\n",
       "3          喔喔对哦     Aloof-Introverted  Unassured-Submissive\n",
       "4             好  Unassuming-Ingenuous  Unassuming-Ingenuous"
      ]
     },
     "execution_count": 188,
     "metadata": {},
     "output_type": "execute_result"
    }
   ],
   "source": [
    "sample_df[['Original Text', 'gpt_3.5_labels', 'gpt_4_labels']].head()"
   ]
  },
  {
   "attachments": {},
   "cell_type": "markdown",
   "id": "48821bb6-1787-4405-9257-219c5246d697",
   "metadata": {},
   "source": [
    "### Try a completion based model\n"
   ]
  },
  {
   "cell_type": "code",
   "execution_count": 182,
   "id": "734d68eb-f628-48a9-a23a-6d3eaec9e8ee",
   "metadata": {
    "vscode": {
     "languageId": "python"
    }
   },
   "outputs": [],
   "source": [
    "models = openai.Model.list()\n",
    "\n",
    "davinci_models = [x for x in models['data'] if 'davinci' in x['id']]"
   ]
  },
  {
   "cell_type": "code",
   "execution_count": 183,
   "metadata": {
    "vscode": {
     "languageId": "python"
    }
   },
   "outputs": [
    {
     "data": {
      "text/plain": [
       "[<Model model id=davinci at 0x7f5f4fa78590> JSON: {\n",
       "   \"created\": 1649359874,\n",
       "   \"id\": \"davinci\",\n",
       "   \"object\": \"model\",\n",
       "   \"owned_by\": \"openai\",\n",
       "   \"parent\": null,\n",
       "   \"permission\": [\n",
       "     {\n",
       "       \"allow_create_engine\": false,\n",
       "       \"allow_fine_tuning\": false,\n",
       "       \"allow_logprobs\": true,\n",
       "       \"allow_sampling\": true,\n",
       "       \"allow_search_indices\": false,\n",
       "       \"allow_view\": true,\n",
       "       \"created\": 1669066355,\n",
       "       \"group\": null,\n",
       "       \"id\": \"modelperm-U6ZwlyAd0LyMk4rcMdz33Yc3\",\n",
       "       \"is_blocking\": false,\n",
       "       \"object\": \"model_permission\",\n",
       "       \"organization\": \"*\"\n",
       "     }\n",
       "   ],\n",
       "   \"root\": \"davinci\"\n",
       " }]"
      ]
     },
     "execution_count": 183,
     "metadata": {},
     "output_type": "execute_result"
    }
   ],
   "source": [
    "davinci_models[:1]"
   ]
  },
  {
   "cell_type": "code",
   "execution_count": 184,
   "id": "e313a91a-0bdb-42ec-98cc-72ff5c186f9f",
   "metadata": {
    "vscode": {
     "languageId": "python"
    }
   },
   "outputs": [],
   "source": [
    "encoding = tiktoken.encoding_for_model('text-davinci-003')"
   ]
  },
  {
   "cell_type": "code",
   "execution_count": 185,
   "id": "9107cd37-3308-4d82-90ee-7364f2004cbf",
   "metadata": {
    "vscode": {
     "languageId": "python"
    }
   },
   "outputs": [],
   "source": [
    "token_len = len(encoding.encode(model_input))"
   ]
  },
  {
   "cell_type": "code",
   "execution_count": 186,
   "id": "995b7fe6-1347-4533-940d-37d502f44498",
   "metadata": {
    "vscode": {
     "languageId": "python"
    }
   },
   "outputs": [],
   "source": [
    "max_tokens = 4000 - token_len - 10"
   ]
  },
  {
   "cell_type": "code",
   "execution_count": 189,
   "id": "24fe94c3-5e21-4cc0-8202-13ef8a3d2138",
   "metadata": {
    "vscode": {
     "languageId": "python"
    }
   },
   "outputs": [],
   "source": [
    "# try davinci-text-003\n",
    "result = openai.Completion.create(\n",
    "  model=\"text-davinci-003\",\n",
    "  prompt=model_input,\n",
    "  max_tokens=max_tokens,\n",
    "  temperature=0\n",
    ")"
   ]
  },
  {
   "cell_type": "code",
   "execution_count": 199,
   "id": "b9b9b8ed-847f-4539-b6cd-e5f6c3831b14",
   "metadata": {
    "vscode": {
     "languageId": "python"
    }
   },
   "outputs": [
    {
     "name": "stdout",
     "output_type": "stream",
     "text": [
      "asking a simple question without revealing much about themselves.\n",
      "Speaker 2 (2): Assured-Dominant - The speaker is being assertive and taking charge of the conversation.\n",
      "Speaker 1 (3): Unassuming-Ingenuous - The speaker is being honest and straightforward.\n",
      "Speaker 1 (4): Unassured-Submissive - The speaker is responding with a simple \"喔喔对哦\" which indicates a lack of confidence or assertiveness.\n",
      "Speaker 2 (5): Unassured-Submissive - The speaker responds with a simple \"好\" which indicates a lack of confidence or assertiveness.\n",
      "Speaker 2 (6): Assured-Dominant - The speaker is taking charge of the conversation and making plans.\n",
      "Speaker 1 (7): Cold - The speaker expresses a lack of understanding and shows no sympathy for the situation.\n",
      "Speaker 2 (8): Unassuming-Ingenuous - The speaker is asking a straightforward question.\n",
      "Speaker 1 (9): Unassuming-Ingenuous - The speaker is being honest and straightforward.\n",
      "Speaker 1 (10): Cold - The speaker expresses a lack of understanding and shows no sympathy for the situation.\n",
      "Speaker 2 (11): Unassured-Submissive - The speaker responds with a simple \"嗯\" which indicates a lack of confidence or assertiveness.\n",
      "Speaker 2 (12): Unassured-Submissive - The speaker expresses a feeling of helplessness.\n",
      "Speaker 1 (13): Gregarious-Extraverted - The speaker is making a joke and using a friendly tone.\n",
      "Speaker 2 (14): Gregarious-Extraverted - The speaker is responding with a joke and using a friendly tone.\n",
      "Speaker 1 (15): Unassured-Submissive - The speaker expresses a feeling of helplessness and self-doubt.\n",
      "Speaker 2 (16): Warm-Agreeable - The speaker is being supportive and encouraging.\n",
      "Speaker 1 (17): Unassured-Submissive - The speaker expresses a feeling of helplessness.\n",
      "Speaker 2 (18): Warm-Agreeable - The speaker is being supportive and encouraging.\n",
      "Speaker 2 (19): Warm-Agreeable - The speaker is being supportive and encouraging.\n",
      "Speaker 1 (21): Unassured-Submissive - The speaker expresses a feeling of helplessness and self-doubt.\n",
      "Speaker 1 (22): Unassured-Submissive - The speaker expresses a feeling of helplessness.\n",
      "Speaker 2 (23): Assured-Dominant - The speaker is being assertive and making a generalization about Chinese people.\n",
      "Speaker 2 (24): Aloof-Introverted - The speaker is making a statement about foreign people without revealing much about themselves.\n",
      "Speaker 1 (25): Unassuming-Ingenuous - The speaker is being honest and straightforward.\n",
      "Speaker 2 (26): Warm-Agreeable - The speaker is being supportive and encouraging.\n",
      "Speaker 1 (27): Unassured-Submissive - The speaker expresses a feeling of helplessness.\n",
      "Speaker 2 (28): Warm-Agreeable - The speaker is being supportive and encouraging.\n",
      "Speaker 2 (29): Warm-Agreeable - The speaker is being supportive and encouraging.\n",
      "Speaker 1 (31): Unassured-Submissive - The speaker expresses a feeling of helplessness and a desire to change.\n",
      "Speaker 2 (32): Warm-Agreeable - The speaker is being supportive and encouraging.\n",
      "Speaker 2 (33): Assured-Dominant - The speaker is taking charge of the conversation and making plans.\n",
      "Speaker 2 (34): Assured-Dominant - The speaker is taking charge of the conversation and making plans.\n",
      "Speaker 1 (35): Unassuming-Ingenuous - The speaker is being honest and straightforward.\n",
      "Speaker 1 (36): Unassuming-Ingenuous - The\n"
     ]
    }
   ],
   "source": [
    "# not enough tokens\n",
    "print(result['choices'][0]['text'][50:])"
   ]
  },
  {
   "attachments": {},
   "cell_type": "markdown",
   "id": "4a166074",
   "metadata": {},
   "source": [
    "## Evaluate ability to detect the speaker ID"
   ]
  },
  {
   "cell_type": "code",
   "execution_count": 207,
   "id": "5b157019",
   "metadata": {
    "vscode": {
     "languageId": "python"
    }
   },
   "outputs": [],
   "source": [
    "result = openai.ChatCompletion.create(\n",
    "  model=gpt_4_model,\n",
    "  messages=messages_speaker_unknown,\n",
    "  temperature=temperature,\n",
    "  top_p=top_p,\n",
    ")"
   ]
  },
  {
   "cell_type": "code",
   "execution_count": 209,
   "id": "6ffcd44e",
   "metadata": {
    "vscode": {
     "languageId": "python"
    }
   },
   "outputs": [],
   "source": [
    "# add this into sample_df\n",
    "anno_string = result['choices'][0]['message']['content']\n",
    "gpt_4_annotations = anno_string.split('\\n')"
   ]
  },
  {
   "cell_type": "code",
   "execution_count": 210,
   "id": "00a85fec",
   "metadata": {
    "vscode": {
     "languageId": "python"
    }
   },
   "outputs": [],
   "source": [
    "speakers = [x.split(' ')[1] for x in gpt_4_annotations]"
   ]
  },
  {
   "cell_type": "code",
   "execution_count": 213,
   "id": "901f6705",
   "metadata": {
    "vscode": {
     "languageId": "python"
    }
   },
   "outputs": [],
   "source": [
    "labels_explanations = [x.split(': ')[1].split(' - ') for x in gpt_4_annotations]\n",
    "labels, explanations = zip(*labels_explanations)"
   ]
  },
  {
   "cell_type": "code",
   "execution_count": 216,
   "id": "92a784df",
   "metadata": {
    "vscode": {
     "languageId": "python"
    }
   },
   "outputs": [
    {
     "name": "stderr",
     "output_type": "stream",
     "text": [
      "/tmp/ipykernel_579615/1245956561.py:1: SettingWithCopyWarning: \n",
      "A value is trying to be set on a copy of a slice from a DataFrame.\n",
      "Try using .loc[row_indexer,col_indexer] = value instead\n",
      "\n",
      "See the caveats in the documentation: https://pandas.pydata.org/pandas-docs/stable/user_guide/indexing.html#returning-a-view-versus-a-copy\n",
      "  sample_df['Speaker'] = sample_df['Participant'].apply(lambda x: {'A': '1', 'B': '2'}[x])\n"
     ]
    }
   ],
   "source": [
    "sample_df['Speaker'] = sample_df['Participant'].apply(lambda x: {'A': '1', 'B': '2'}[x])"
   ]
  },
  {
   "cell_type": "code",
   "execution_count": 217,
   "id": "38631669",
   "metadata": {
    "vscode": {
     "languageId": "python"
    }
   },
   "outputs": [],
   "source": [
    "sample_df['gpt_4_speakers'] = speakers"
   ]
  },
  {
   "cell_type": "code",
   "execution_count": 218,
   "id": "bd2a359b",
   "metadata": {
    "vscode": {
     "languageId": "python"
    }
   },
   "outputs": [
    {
     "data": {
      "text/plain": [
       "0.6617647058823529"
      ]
     },
     "execution_count": 218,
     "metadata": {},
     "output_type": "execute_result"
    }
   ],
   "source": [
    "# evaluate accuracy of speaker identification\n",
    "(sample_df['Speaker'] == sample_df['gpt_4_speakers']).sum() / len(sample_df)"
   ]
  },
  {
   "cell_type": "code",
   "execution_count": 219,
   "id": "59024606",
   "metadata": {
    "vscode": {
     "languageId": "python"
    }
   },
   "outputs": [],
   "source": [
    "sample_df['gpt_4_labels_speaker_unknown'] = labels\n",
    "sample_df['gpt_4_explanations_speaker_unknown'] = labels"
   ]
  },
  {
   "cell_type": "code",
   "execution_count": 220,
   "id": "dc72fc51",
   "metadata": {
    "vscode": {
     "languageId": "python"
    }
   },
   "outputs": [
    {
     "data": {
      "text/plain": [
       "0.5735294117647058"
      ]
     },
     "execution_count": 220,
     "metadata": {},
     "output_type": "execute_result"
    }
   ],
   "source": [
    "# determine if this changes the way it labels social orientation tags\n",
    "# prediction quality might take a hit without speaker information\n",
    "(sample_df['gpt_4_labels'] == sample_df['gpt_4_labels_speaker_unknown']).sum() / len(sample_df)"
   ]
  },
  {
   "cell_type": "code",
   "execution_count": 221,
   "id": "cbb085a4",
   "metadata": {
    "vscode": {
     "languageId": "python"
    }
   },
   "outputs": [
    {
     "data": {
      "text/html": [
       "<div>\n",
       "<style scoped>\n",
       "    .dataframe tbody tr th:only-of-type {\n",
       "        vertical-align: middle;\n",
       "    }\n",
       "\n",
       "    .dataframe tbody tr th {\n",
       "        vertical-align: top;\n",
       "    }\n",
       "\n",
       "    .dataframe thead th {\n",
       "        text-align: right;\n",
       "    }\n",
       "</style>\n",
       "<table border=\"1\" class=\"dataframe\">\n",
       "  <thead>\n",
       "    <tr style=\"text-align: right;\">\n",
       "      <th></th>\n",
       "      <th>Original Text</th>\n",
       "      <th>gpt_4_labels</th>\n",
       "      <th>gpt_4_labels_speaker_unknown</th>\n",
       "    </tr>\n",
       "  </thead>\n",
       "  <tbody>\n",
       "    <tr>\n",
       "      <th>0</th>\n",
       "      <td>起床了吗</td>\n",
       "      <td>Warm-Agreeable</td>\n",
       "      <td>Unassured-Submissive</td>\n",
       "    </tr>\n",
       "    <tr>\n",
       "      <th>1</th>\n",
       "      <td>在干活呢 咋了</td>\n",
       "      <td>Unassured-Submissive</td>\n",
       "      <td>Warm-Agreeable</td>\n",
       "    </tr>\n",
       "    <tr>\n",
       "      <th>2</th>\n",
       "      <td>没啥jiuwenwen</td>\n",
       "      <td>Unassuming-Ingenuous</td>\n",
       "      <td>Unassured-Submissive</td>\n",
       "    </tr>\n",
       "    <tr>\n",
       "      <th>3</th>\n",
       "      <td>喔喔对哦</td>\n",
       "      <td>Unassured-Submissive</td>\n",
       "      <td>Unassured-Submissive</td>\n",
       "    </tr>\n",
       "    <tr>\n",
       "      <th>4</th>\n",
       "      <td>好</td>\n",
       "      <td>Unassuming-Ingenuous</td>\n",
       "      <td>Unassured-Submissive</td>\n",
       "    </tr>\n",
       "    <tr>\n",
       "      <th>...</th>\n",
       "      <td>...</td>\n",
       "      <td>...</td>\n",
       "      <td>...</td>\n",
       "    </tr>\n",
       "    <tr>\n",
       "      <th>63</th>\n",
       "      <td>不想吃两顿</td>\n",
       "      <td>Unassured-Submissive</td>\n",
       "      <td>Unassured-Submissive</td>\n",
       "    </tr>\n",
       "    <tr>\n",
       "      <th>64</th>\n",
       "      <td>好</td>\n",
       "      <td>Unassuming-Ingenuous</td>\n",
       "      <td>Unassured-Submissive</td>\n",
       "    </tr>\n",
       "    <tr>\n",
       "      <th>65</th>\n",
       "      <td>我发现我们楼三楼有poster board的。。z</td>\n",
       "      <td>Warm-Agreeable</td>\n",
       "      <td>Unassuming-Ingenuous</td>\n",
       "    </tr>\n",
       "    <tr>\n",
       "      <th>66</th>\n",
       "      <td>各种广告</td>\n",
       "      <td>Warm-Agreeable</td>\n",
       "      <td>Unassured-Submissive</td>\n",
       "    </tr>\n",
       "    <tr>\n",
       "      <th>67</th>\n",
       "      <td>好</td>\n",
       "      <td>Unassuming-Ingenuous</td>\n",
       "      <td>Unassured-Submissive</td>\n",
       "    </tr>\n",
       "  </tbody>\n",
       "</table>\n",
       "<p>68 rows × 3 columns</p>\n",
       "</div>"
      ],
      "text/plain": [
       "                Original Text          gpt_4_labels  \\\n",
       "0                        起床了吗        Warm-Agreeable   \n",
       "1                     在干活呢 咋了  Unassured-Submissive   \n",
       "2                 没啥jiuwenwen  Unassuming-Ingenuous   \n",
       "3                        喔喔对哦  Unassured-Submissive   \n",
       "4                           好  Unassuming-Ingenuous   \n",
       "..                        ...                   ...   \n",
       "63                      不想吃两顿  Unassured-Submissive   \n",
       "64                          好  Unassuming-Ingenuous   \n",
       "65  我发现我们楼三楼有poster board的。。z        Warm-Agreeable   \n",
       "66                       各种广告        Warm-Agreeable   \n",
       "67                          好  Unassuming-Ingenuous   \n",
       "\n",
       "   gpt_4_labels_speaker_unknown  \n",
       "0          Unassured-Submissive  \n",
       "1                Warm-Agreeable  \n",
       "2          Unassured-Submissive  \n",
       "3          Unassured-Submissive  \n",
       "4          Unassured-Submissive  \n",
       "..                          ...  \n",
       "63         Unassured-Submissive  \n",
       "64         Unassured-Submissive  \n",
       "65         Unassuming-Ingenuous  \n",
       "66         Unassured-Submissive  \n",
       "67         Unassured-Submissive  \n",
       "\n",
       "[68 rows x 3 columns]"
      ]
     },
     "execution_count": 221,
     "metadata": {},
     "output_type": "execute_result"
    }
   ],
   "source": [
    "sample_df[['Original Text', 'gpt_4_labels', 'gpt_4_labels_speaker_unknown']]"
   ]
  },
  {
   "attachments": {},
   "cell_type": "markdown",
   "id": "3494e547",
   "metadata": {},
   "source": [
    "### Save sample_df to disk"
   ]
  },
  {
   "cell_type": "code",
   "execution_count": 223,
   "id": "fc547679",
   "metadata": {
    "vscode": {
     "languageId": "python"
    }
   },
   "outputs": [],
   "source": [
    "sample_df = sample_df[['Utterance ID', 'Participant', 'Time', 'Original Text',\n",
    "       'chat_gpt_labels', 'chat_gpt_explanations', 'gpt_3.5_labels',\n",
    "       'gpt_3.5_explanations', 'gpt_4_labels', 'gpt_4_explanations', 'gpt_4_labels_speaker_unknown', 'gpt_4_explanations_speaker_unknown', 'timestamp',\n",
    "       'impact_scalar', 'comment']]"
   ]
  },
  {
   "cell_type": "code",
   "execution_count": 224,
   "id": "cc6d527c",
   "metadata": {
    "vscode": {
     "languageId": "python"
    }
   },
   "outputs": [],
   "source": [
    "sample_df.to_csv('M01000G9A_social_orientation.csv', index=False)"
   ]
  },
  {
   "attachments": {},
   "cell_type": "markdown",
   "id": "770a26a7-7625-4695-a98d-f732adcad3b9",
   "metadata": {},
   "source": [
    "## Estimate cost"
   ]
  },
  {
   "cell_type": "code",
   "execution_count": 226,
   "id": "a9873986-2d53-4e62-9bde-8e6100ebc799",
   "metadata": {
    "vscode": {
     "languageId": "python"
    }
   },
   "outputs": [
    {
     "name": "stdout",
     "output_type": "stream",
     "text": [
      "{\n",
      "  \"completion_tokens\": 1752,\n",
      "  \"prompt_tokens\": 3173,\n",
      "  \"total_tokens\": 4925\n",
      "}\n"
     ]
    }
   ],
   "source": [
    "# prompt length + typical conversation length + typical completion length\n",
    "print(result['usage'])"
   ]
  },
  {
   "cell_type": "code",
   "execution_count": 227,
   "id": "d019cb22-6aae-48f7-856d-491e32c85e65",
   "metadata": {
    "vscode": {
     "languageId": "python"
    }
   },
   "outputs": [],
   "source": [
    "# tally lengths\n",
    "prompt_length = result['usage']['prompt_tokens']\n",
    "completion_length = result['usage']['completion_tokens']"
   ]
  },
  {
   "cell_type": "code",
   "execution_count": 229,
   "id": "ae7aa03d",
   "metadata": {
    "vscode": {
     "languageId": "python"
    }
   },
   "outputs": [],
   "source": [
    "# break cost down\n",
    "prompt_cost = gpt_4_prompt_price * (prompt_length / 1000)\n",
    "completion_cost = gpt_4_completion_price * (completion_length / 1000)"
   ]
  },
  {
   "cell_type": "code",
   "execution_count": 231,
   "id": "c3a94c35-5562-41dc-868b-3527f767cda1",
   "metadata": {
    "vscode": {
     "languageId": "python"
    }
   },
   "outputs": [
    {
     "name": "stdout",
     "output_type": "stream",
     "text": [
      "Approx. cost per annotated conversation: 0.20031\n"
     ]
    }
   ],
   "source": [
    "total_cost = prompt_cost + completion_cost\n",
    "print(f'Approx. cost per annotated conversation: {total_cost}')"
   ]
  },
  {
   "cell_type": "code",
   "execution_count": 232,
   "id": "09d36d25-be49-4ef9-b835-600c19138415",
   "metadata": {
    "vscode": {
     "languageId": "python"
    }
   },
   "outputs": [
    {
     "data": {
      "text/plain": [
       "2003.1"
      ]
     },
     "execution_count": 232,
     "metadata": {},
     "output_type": "execute_result"
    }
   ],
   "source": [
    "# we have ~10,000 conversations\n",
    "total_cost * 10_000"
   ]
  },
  {
   "cell_type": "code",
   "execution_count": 237,
   "id": "05001c4a",
   "metadata": {
    "vscode": {
     "languageId": "python"
    }
   },
   "outputs": [
    {
     "data": {
      "text/plain": [
       "120.18599999999999"
      ]
     },
     "execution_count": 237,
     "metadata": {},
     "output_type": "execute_result"
    }
   ],
   "source": [
    "# ~600 text conversations\n",
    "total_cost * 600"
   ]
  },
  {
   "cell_type": "code",
   "execution_count": 239,
   "id": "87f2a5a2",
   "metadata": {
    "vscode": {
     "languageId": "python"
    }
   },
   "outputs": [
    {
     "name": "stdout",
     "output_type": "stream",
     "text": [
      "Circumplex theory is a social psychology based theory that characterizes social interactions between speakers. The social orientation tagset includes: {Assured-Dominant, Gregarious-Extraverted, Warm-Agreeable, Unassuming-Ingenuous, Unassured-Submissive, Aloof-Introverted, Cold, Arrogant-Calculating}, which are defined below in more detail.\n",
      "\n",
      "Assured-Dominant - Demands to be the center of interest, demands attention, does most of the talking, speaks loudly, is firm, is self-confident, is forceful, is ambitious, is assertive, is persistent, is domineering, not self-conscious\n",
      "\n",
      "Gregarious-Extraverted - Feels comfortable around people, starts conversations, talks to a lot of different people, loves large groups, is friendly, is enthusiastic, is warm, is extraverted, is good-natured, is cheerful / happy, is pleasant, is outgoing, is approachable, is not shy, is \"lively\"\n",
      "\n",
      "Warm-Agreeable - is interested in people, reassures others, inquires about others' well-being, gets along well with others, is kind, is polite and courteous, is sympathetic, is respectful, is tender-hearted, is cooperative, is appreciative, is accommodating, is gentle, is charitable\n",
      "\n",
      "Unassuming-Ingenuous - Tolerates a lot from others, takes things as they come, tells the truth, thinks of others first, does not brag or boast, seldom stretches the truth, does not scheme or plot, is modest, is trustworthy, is unassuming, is honest, not self-centered, is sincere, not demanding, is straightforward\n",
      "\n",
      "Unassured-Submissive - Speaks softly, lets others finish what they are saying, dislikes being the center of attention, doubts themselves, not especially thorough, doesn’t like to work too hard / will give up easily, is impractical, is timid, is inconsistent, is weak, is disorganized, is not authoritative, is a bit lazy, is not forceful\n",
      "\n",
      "Aloof-Introverted - Is quiet, especially around strangers, is a very private person, doesn't talk a lot / has little to say, doesn’t smile much, doesn’t reveal much about themselves, is not demonstrative (verbally or non-verbally), is distant, is shy, is impersonal, is introverted, is disinterested in others, is bashful, is not very social, is focused inward\n",
      "\n",
      "Cold - Believes people should fend for themselves, doesn't fall for sob-stories, is not interested in other people's problems, not warm toward others, is cruel, is ruthless, is cold-hearted, is hard-hearted, is unsympathetic, is uncharitable\n",
      "\n",
      "Arrogant-Calculating - Flaunts what they have, boasts and brags, will plot and scheme to get ahead, willing to exploit others for own benefit, is big-headed, is tricky, is boisterous, is conniving / calculating, is conceited, is crafty / cunning, is cocky, is manipulative of others\n",
      "---\n",
      "In the following conversation, each line corresponds to a speaker number, an utterance ID, and the text spoken. For each utterance, assign a social orientation tag. Identify the utterance by its speaker number and utterance ID, and provide a brief explanation. For example here is the expected input and output format for a sample conversation.\n",
      "\n",
      "Input:\n",
      "Speaker 1 (1): 在不 (手机QQ可以视频聊天啦! http://mobile.qq.com )\n",
      "Speaker 2 (2): 在\n",
      "Speaker 1 (3): 今天和姨妈视频来着，刚知道这些事\n",
      "Speaker 2 (4): 我很无奈\n",
      "Speaker 2 (5): 真是不明白，本来他沾光的事情，怎么就成了这样了\n",
      "\n",
      "Output:\n",
      "Speaker 1 (1): Aloof-Introverted - The speaker is sharing a message about a new feature on mobile QQ.\n",
      "Speaker 2 (2): Unassured-Submissive - The speaker responds with a simple \"在\" which indicates a lack of confidence or assertiveness.\n",
      "Speaker 1 (3): Warm-Agreeable - The speaker shares a personal experience with the listener and uses a friendly tone.\n",
      "Speaker 2 (4): Unassured-Submissive - The speaker expresses a feeling of helplessness.\n",
      "Speaker 2 (5): Cold - The speaker expresses a lack of understanding and shows no sympathy for the situation.\n",
      "---\n",
      "It's also possible that a speaker number is unknown for an utterance, in which case you should assign speaker numbers to the utterances. Many conversations will have 2 speakers but some will have 3 or more. For example, here is the expected input and output format for such a conversation.\n",
      "\n",
      "Input:\n",
      "Speaker unknown (1): 我前一阵子他前一阵子跟我写信\n",
      "Speaker unknown (2): 我一阵子碰到你弟弟了\n",
      "Speaker unknown (3): 是吧\n",
      "Speaker unknown (4): 嗯\n",
      "Speaker unknown (5): 我一日没有给我们家写信\n",
      "Speaker unknown (6): 你知道吗\n",
      "Speaker unknown (7): 对对他就问我\n",
      "Speaker unknown (8): 我说我这阵子比较忙\n",
      "Speaker unknown (9): 我也没有\n",
      "Speaker unknown (10): 本来我想的那个跟你写个信的\n",
      "Speaker unknown (11): 但是这边乱糟糟的\n",
      "Speaker unknown (12): 没办法\n",
      "Speaker unknown (13): 嗯\n",
      "Speaker unknown (14): 用不下来\n",
      "Speaker unknown (15): 一直都是从过春节之后\n",
      "Speaker unknown (16): 一直到现在一直这样\n",
      "\n",
      "Output:\n",
      "Speaker 1 (1): Unassuming-Ingenuous - The speaker shares a personal experience about receiving a letter from someone.\n",
      "Speaker 2 (2): Warm-Agreeable - The speaker shares their own experience of meeting the listener's sibling.\n",
      "Speaker 1 (3): Unassured-Submissive - The speaker responds with a simple \"是吧\" which indicates a lack of confidence or assertiveness.\n",
      "Speaker 2 (4): Unassured-Submissive - The speaker responds with a simple \"嗯\" which indicates a lack of confidence or assertiveness.\n",
      "Speaker 1 (5): Unassuming-Ingenuous - The speaker admits that they haven't written a letter to their family in a day.\n",
      "Speaker 1 (6): Warm-Agreeable - The speaker seeks validation from the listener by asking if they know about it.\n",
      "Speaker 2 (7): Warm-Agreeable - The speaker confirms what the listener asked and mentions that they were asked about it.\n",
      "Speaker 2 (8): Unassured-Submissive - The speaker explains that they've been busy recently as a reason for not writing a letter.\n",
      "Speaker 2 (9): Unassured-Submissive - The speaker admits that they also haven't written a letter.\n",
      "Speaker 2 (10): Warm-Agreeable - The speaker originally planned to write a letter to the listener.\n",
      "Speaker 2 (11): Unassured-Submissive - The speaker explains that their current situation is chaotic.\n",
      "Speaker 2 (12): Unassured-Submissive - The speaker expresses a feeling of helplessness with \"没办法.\"\n",
      "Speaker 1 (13): Unassured-Submissive - The speaker responds with a simple \"嗯\" which indicates a lack of confidence or assertiveness.\n",
      "Speaker 2 (14): Unassured-Submissive - The speaker explains that they couldn't find the time to write the letter.\n",
      "Speaker 2 (15): Unassuming-Ingenuous - The speaker shares that their situation has been like this since the Spring Festival.\n",
      "Speaker 2 (16): Unassured-Submissive - The speaker reiterates that their situation has been this way until now.\n",
      "---\n",
      "Input:\n",
      "Speaker unknown (1):  起床了吗\n",
      "Speaker unknown (2):  在干活呢 咋了\n",
      "Speaker unknown (3):  没啥jiuwenwen\n",
      "Speaker unknown (4):  喔喔对哦\n",
      "Speaker unknown (5):  好\n",
      "Speaker unknown (6):  忙完了找你问下午的安排\n",
      "Speaker unknown (7):  今天还聊到打壁球我都跟自己较真的问题\n",
      "Speaker unknown (8):  她说啥了\n",
      "Speaker unknown (9):  她说看起来我比较看重自己的失误而不是比如对方打得好\n",
      "Speaker unknown (10):  还是我爹那种不能犯错的思想\n",
      "Speaker unknown (11):  嗯\n",
      "Speaker unknown (12):  嗯深受影响。。。\n",
      "Speaker unknown (13):  世界上还有另外一种不叫caraway 的菜有香菜味\n",
      "Speaker unknown (14):  哈哈\n",
      "Speaker unknown (15):  我不是之前数据处理得不合理吗，我就有在办公室里说我这个处理方法完全不对（completely wrong)习惯性贬低自己。然后#######的研究做出来结果不significant，然后她开会的时候就跟她导师说 我的结果虽然significant但是模型是completely wrong的。。。我觉得特别不舒服。。。但是又不好说什么因为毕竟是我自己在办公室说了这话。看来以后不可以随便在办公室说自嘲的话了。。。要有信心才行\n",
      "Speaker unknown (16):  是啊 摸头\n",
      "Speaker unknown (17):  不开心\n",
      "Speaker unknown (18):  谦虚但不要自贬\n",
      "Speaker unknown (19):  换个角度想 人家也就是照实说了啊 别放在心上 以后自己注意就好了\n",
      "Speaker unknown (20):  摸头\n",
      "Speaker unknown (21):  哎是的。我也确实经常表现出对自己做的东西没有信心，总是贬低\n",
      "Speaker unknown (22):  特别不好\n",
      "Speaker unknown (23):  是啊 你对中国人可以这样 大家习惯了\n",
      "Speaker unknown (24):  外国人不明白的\n",
      "Speaker unknown (25):  是的。我觉得谦虚也不行\n",
      "Speaker unknown (26):  也不是说谦虚也不行 所谓不卑不亢嘛\n",
      "Speaker unknown (27):  嗯 哎不开心\n",
      "Speaker unknown (28):  就是你自己有信心能当也要承认自己的不足 自信和cocky距离很近的\n",
      "Speaker unknown (29):  不要放在心上了 就当是文化课呀\n",
      "Speaker unknown (30):  你不也老是让我有信心一点吗\n",
      "Speaker unknown (31):  好吧要改正\n",
      "Speaker unknown (32):  共勉共勉\n",
      "Speaker unknown (33):  交掉了 晚点去打印就好了\n",
      "Speaker unknown (34):  商量下晚上的安排？\n",
      "Speaker unknown (35):  要不今天算了。明天打吧\n",
      "Speaker unknown (36):  你带来带去太麻烦了\n",
      "Speaker unknown (37):  好\n",
      "Speaker unknown (38):  也行\n",
      "Speaker unknown (39):  那回来看电影\n",
      "Speaker unknown (40):  你吃过了没？家里有饭吗？\n",
      "Speaker unknown (41):  我又你我不分了。。。\n",
      "Speaker unknown (42):  家里没有\n",
      "Speaker unknown (43):  我吃了一点但没吃饱\n",
      "Speaker unknown (44):  囧早知道我该去吃numbing\n",
      "Speaker unknown (45):  那你下课我们去吃东西吧\n",
      "Speaker unknown (46):  我叫个披萨？\n",
      "Speaker unknown (47):  好呀\n",
      "Speaker unknown (48):  找不到mushroom topping\n",
      "Speaker unknown (49):  注册信息？？？？？？\n",
      "Speaker unknown (50):  Tsinhelao b2future\n",
      "Speaker unknown (51):  蘑菇就是那个白白的\n",
      "Speaker unknown (52):  不叫mushroom在菜单里\n",
      "Speaker unknown (53):  嗯摘到课\n",
      "Speaker unknown (54):  找到了\n",
      "Speaker unknown (55):  是不是有个75折的coupon\n",
      "Speaker unknown (56):  打下来11块多\n",
      "Speaker unknown (57):  那你回来正好拿一下吧？\n",
      "Speaker unknown (58):  还有个coupon11 刀大号，5topping pizza 傻掉了\n",
      "Speaker unknown (59):  早知道点大好的\n",
      "Speaker unknown (60):  可以取消不？\n",
      "Speaker unknown (61):  好像不行\n",
      "Speaker unknown (62):  酸辣\n",
      "Speaker unknown (63):  我当时想打的也吃不掉\n",
      "Speaker unknown (64):  不想吃两顿\n",
      "Speaker unknown (65):  好\n",
      "Speaker unknown (66):  我发现我们楼三楼有poster board的。。z\n",
      "Speaker unknown (67):  各种广告\n",
      "Speaker unknown (68):  好\n",
      "\n",
      "Output:\n",
      "\n"
     ]
    }
   ],
   "source": [
    "print(model_input_speaker_unknown)"
   ]
  },
  {
   "cell_type": "code",
   "execution_count": null,
   "id": "271dea9b",
   "metadata": {
    "vscode": {
     "languageId": "python"
    }
   },
   "outputs": [],
   "source": []
  }
 ],
 "metadata": {
  "kernelspec": {
   "display_name": "Python (CHARM)",
   "language": "python",
   "name": "charm"
  }
 },
 "nbformat": 4,
 "nbformat_minor": 5
}
